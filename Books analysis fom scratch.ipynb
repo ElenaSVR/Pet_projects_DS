{
 "cells": [
  {
   "cell_type": "markdown",
   "metadata": {},
   "source": [
    "##### I want to scrape and analyze the data from fictional online book store: http://books.toscrape.com/\n",
    "##### I need to gather the following information about all the products of the website: book name, price, availability, category, rating"
   ]
  },
  {
   "cell_type": "code",
   "execution_count": 1,
   "metadata": {},
   "outputs": [],
   "source": [
    "import requests#allows to send access requests to website easily\n",
    "import re #a Python’s standard library, can be used to check if a string contains the specified search pattern\n",
    "import pandas as pd#handles extracted data\n",
    "import seaborn as sns\n",
    "import numpy as np\n",
    "import matplotlib.pyplot as plt\n",
    "from matplotlib import pyplot as plt \n",
    "import plotly.express as ex\n",
    "import plotly.express as px\n",
    "import plotly.graph_objs as go\n",
    "import matplotlib.patches as mpatches\n",
    "from warnings import filterwarnings\n",
    "sns.set_style('whitegrid')"
   ]
  },
  {
   "cell_type": "code",
   "execution_count": 2,
   "metadata": {},
   "outputs": [],
   "source": [
    "from bs4 import BeautifulSoup#pulls data out of HTML files"
   ]
  },
  {
   "cell_type": "code",
   "execution_count": 3,
   "metadata": {},
   "outputs": [
    {
     "name": "stdout",
     "output_type": "stream",
     "text": [
      "<!DOCTYPE html>\n",
      "<!--[if lt IE 7]>      <html lang=\"en-us\" class=\"no-js lt-ie9 lt-ie8 lt-ie7\"> <![endif]-->\n",
      "<!--[if IE 7]>         <html lang=\"en-us\" class=\"no-js lt-ie9 lt-ie8\"> <![endif]-->\n",
      "<!--[if IE 8]>         <html lang=\"en-us\" class=\"no-js lt-ie9\"> <![endif]-->\n",
      "<!--[if gt IE 8]><!-->\n",
      "<html class=\"no-js\" lang=\"en-us\">\n",
      " <!--<![endif]-->\n",
      " <head>\n",
      "  <title>\n",
      "   All products | Books to Scrape - Sandbox\n",
      "  </title>\n",
      "  <meta content=\"text/html; charset=utf-8\" http-equiv=\"content-type\"/>\n",
      "  <meta content=\"24th Jun 2016 09:29\" name=\"created\"/>\n",
      "  <meta content=\"\" name=\"description\"/>\n",
      "  <meta content=\"width=device-width\" name=\"viewport\"/>\n",
      "  <meta content=\"NOARCHIVE,NOCACHE\" name=\"robots\"/>\n",
      "  <!-- Le HTML5 shim, for IE6-8 support of HTML elements -->\n",
      "  <!--[if lt IE 9]>\n",
      "        <script src=\"//html5shim.googlecode.com/svn/trunk/html5.js\"></script>\n",
      "        <![endif]-->\n",
      "  <link href=\"static/oscar/favicon.ico\" rel=\"shortcut icon\"/>\n",
      "  <link href=\"static/oscar/css/styles.css\" rel=\"stylesheet\" type=\"tex\n"
     ]
    }
   ],
   "source": [
    "main_url = \"http://books.toscrape.com/index.html\"#Let's identify the target website's address (URL)\n",
    "result = requests.get(main_url)#creating a response object to get the web page's HTML content\n",
    "soup = BeautifulSoup(result.text, 'html.parser')#creating a beautiful soup object to parse HTML text with the help of the html.parser\n",
    "print(soup.prettify()[:1000])#function prettify() makes HTML more readable"
   ]
  },
  {
   "cell_type": "code",
   "execution_count": 4,
   "metadata": {},
   "outputs": [],
   "source": [
    "#Let’s define a function to request and parse HTML web page because we will need this later\n",
    "def getAndParseURL(url):\n",
    "    result = requests.get(url)\n",
    "    soup = BeautifulSoup(result.text, 'html.parser')\n",
    "    return(soup)"
   ]
  },
  {
   "cell_type": "code",
   "execution_count": 5,
   "metadata": {},
   "outputs": [
    {
     "data": {
      "text/plain": [
       "'catalogue/a-light-in-the-attic_1000/index.html'"
      ]
     },
     "execution_count": 5,
     "metadata": {},
     "output_type": "execute_result"
    }
   ],
   "source": [
    "#Let`s take a look on our first product URL with BeautifulSoup\n",
    "soup.find(\"article\", class_ = \"product_pod\").div.a.get('href')"
   ]
  },
  {
   "cell_type": "code",
   "execution_count": 6,
   "metadata": {},
   "outputs": [
    {
     "name": "stdout",
     "output_type": "stream",
     "text": [
      "20 products URLs\n",
      "One example:\n"
     ]
    },
    {
     "data": {
      "text/plain": [
       "'catalogue/a-light-in-the-attic_1000/index.html'"
      ]
     },
     "execution_count": 6,
     "metadata": {},
     "output_type": "execute_result"
    }
   ],
   "source": [
    "#With findAll() function we may get all the products URLs on the main page\n",
    "main_page_products_urls = [x.div.a.get('href') for x in soup.findAll(\"article\", class_ = \"product_pod\")]\n",
    "\n",
    "print(str(len(main_page_products_urls)) + \" products URLs\")\n",
    "print(\"One example:\")\n",
    "main_page_products_urls[0]"
   ]
  },
  {
   "cell_type": "code",
   "execution_count": 7,
   "metadata": {},
   "outputs": [],
   "source": [
    "def getBooksURLs(url):\n",
    "    soup = getAndParseURL(url)\n",
    "    # remove the index.html part of the base url before returning the results\n",
    "    return([\"/\".join(url.split(\"/\")[:-1]) + \"/\" + x.div.a.get('href') for x in soup.findAll(\"article\", class_ = \"product_pod\")])\n"
   ]
  },
  {
   "cell_type": "code",
   "execution_count": 8,
   "metadata": {},
   "outputs": [
    {
     "name": "stdout",
     "output_type": "stream",
     "text": [
      "50 URLs\n",
      "Examples:\n"
     ]
    },
    {
     "data": {
      "text/plain": [
       "['http://books.toscrape.com/index.html',\n",
       " 'http://books.toscrape.com/catalogue/page-2.html',\n",
       " 'http://books.toscrape.com/catalogue/page-3.html',\n",
       " 'http://books.toscrape.com/catalogue/page-4.html',\n",
       " 'http://books.toscrape.com/catalogue/page-5.html']"
      ]
     },
     "execution_count": 8,
     "metadata": {},
     "output_type": "execute_result"
    }
   ],
   "source": [
    "# store all the results into a list\n",
    "pages_urls = [main_url]\n",
    "\n",
    "soup = getAndParseURL(pages_urls[0])\n",
    "\n",
    "# while we get two matches, this means that the webpage contains a 'previous' and a 'next' button\n",
    "# if there is only one button, this means that we are either on the first page or on the last page\n",
    "# we stop when we get to the last page\n",
    "\n",
    "while len(soup.findAll(\"a\", href=re.compile(\"page\"))) == 2 or len(pages_urls) == 1:\n",
    "    \n",
    "    # get the new complete url by adding the fetched URL to the base URL (and removing the .html part of the base URL)\n",
    "    new_url = \"/\".join(pages_urls[-1].split(\"/\")[:-1]) + \"/\" + soup.findAll(\"a\", href=re.compile(\"page\"))[-1].get(\"href\")\n",
    "    \n",
    "    # add the URL to the list\n",
    "    pages_urls.append(new_url)\n",
    "    \n",
    "    # parse the next page\n",
    "    soup = getAndParseURL(new_url)\n",
    "    \n",
    "\n",
    "print(str(len(pages_urls)) + \" URLs\")\n",
    "print(\"Examples:\")\n",
    "pages_urls[:5]"
   ]
  },
  {
   "cell_type": "markdown",
   "metadata": {},
   "source": [
    "Let's fetch all the products URLs for every page and iterate through the pages and apply our function:"
   ]
  },
  {
   "cell_type": "code",
   "execution_count": 9,
   "metadata": {},
   "outputs": [
    {
     "name": "stdout",
     "output_type": "stream",
     "text": [
      "1000 fetched URLs\n",
      "Some examples:\n"
     ]
    },
    {
     "data": {
      "text/plain": [
       "['http://books.toscrape.com/catalogue/a-light-in-the-attic_1000/index.html',\n",
       " 'http://books.toscrape.com/catalogue/tipping-the-velvet_999/index.html',\n",
       " 'http://books.toscrape.com/catalogue/soumission_998/index.html',\n",
       " 'http://books.toscrape.com/catalogue/sharp-objects_997/index.html',\n",
       " 'http://books.toscrape.com/catalogue/sapiens-a-brief-history-of-humankind_996/index.html']"
      ]
     },
     "execution_count": 9,
     "metadata": {},
     "output_type": "execute_result"
    }
   ],
   "source": [
    "booksURLs = []\n",
    "for page in pages_urls:\n",
    "    booksURLs.extend(getBooksURLs(page))\n",
    "    \n",
    "print(str(len(booksURLs)) + \" fetched URLs\")\n",
    "print(\"Some examples:\")\n",
    "booksURLs[:5]"
   ]
  },
  {
   "cell_type": "markdown",
   "metadata": {},
   "source": [
    "We got the 1000 book URLs. As much as it said on the website!\n",
    "The last step is to scrap the data for each product."
   ]
  },
  {
   "cell_type": "code",
   "execution_count": 10,
   "metadata": {},
   "outputs": [],
   "source": [
    "names = []\n",
    "prices = []\n",
    "amount_in_stock = []\n",
    "categories = []\n",
    "ratings = []\n",
    "\n",
    "# scrape data for every book URL: this may take some time\n",
    "for url in booksURLs:\n",
    "    soup = getAndParseURL(url)\n",
    "    # product name\n",
    "    names.append(soup.find(\"div\", class_ = re.compile(\"product_main\")).h1.text)\n",
    "    # product price\n",
    "    prices.append(soup.find(\"p\", class_ = \"price_color\").text[2:]) # get rid of the pound sign\n",
    "    # number of available products\n",
    "    amount_in_stock.append(re.sub(\"[^0-9]\", \"\", soup.find(\"p\", class_ = \"instock availability\").text)) # get rid of non numerical characters\n",
    "    # product category\n",
    "    categories.append(soup.find(\"a\", href = re.compile(\"../category/books/\")).get(\"href\").split(\"/\")[3])\n",
    "    # ratings\n",
    "    ratings.append(soup.find(\"p\", class_ = re.compile(\"star-rating\")).get(\"class\")[1])"
   ]
  },
  {
   "cell_type": "code",
   "execution_count": 11,
   "metadata": {},
   "outputs": [
    {
     "data": {
      "text/html": [
       "<div>\n",
       "<style scoped>\n",
       "    .dataframe tbody tr th:only-of-type {\n",
       "        vertical-align: middle;\n",
       "    }\n",
       "\n",
       "    .dataframe tbody tr th {\n",
       "        vertical-align: top;\n",
       "    }\n",
       "\n",
       "    .dataframe thead th {\n",
       "        text-align: right;\n",
       "    }\n",
       "</style>\n",
       "<table border=\"1\" class=\"dataframe\">\n",
       "  <thead>\n",
       "    <tr style=\"text-align: right;\">\n",
       "      <th></th>\n",
       "      <th>name</th>\n",
       "      <th>price</th>\n",
       "      <th>amount_in_stock</th>\n",
       "      <th>product_category</th>\n",
       "      <th>rating</th>\n",
       "    </tr>\n",
       "  </thead>\n",
       "  <tbody>\n",
       "    <tr>\n",
       "      <th>0</th>\n",
       "      <td>A Light in the Attic</td>\n",
       "      <td>51.77</td>\n",
       "      <td>22</td>\n",
       "      <td>poetry_23</td>\n",
       "      <td>Three</td>\n",
       "    </tr>\n",
       "    <tr>\n",
       "      <th>1</th>\n",
       "      <td>Tipping the Velvet</td>\n",
       "      <td>53.74</td>\n",
       "      <td>20</td>\n",
       "      <td>historical-fiction_4</td>\n",
       "      <td>One</td>\n",
       "    </tr>\n",
       "    <tr>\n",
       "      <th>2</th>\n",
       "      <td>Soumission</td>\n",
       "      <td>50.10</td>\n",
       "      <td>20</td>\n",
       "      <td>fiction_10</td>\n",
       "      <td>One</td>\n",
       "    </tr>\n",
       "    <tr>\n",
       "      <th>3</th>\n",
       "      <td>Sharp Objects</td>\n",
       "      <td>47.82</td>\n",
       "      <td>20</td>\n",
       "      <td>mystery_3</td>\n",
       "      <td>Four</td>\n",
       "    </tr>\n",
       "    <tr>\n",
       "      <th>4</th>\n",
       "      <td>Sapiens: A Brief History of Humankind</td>\n",
       "      <td>54.23</td>\n",
       "      <td>20</td>\n",
       "      <td>history_32</td>\n",
       "      <td>Five</td>\n",
       "    </tr>\n",
       "    <tr>\n",
       "      <th>5</th>\n",
       "      <td>The Requiem Red</td>\n",
       "      <td>22.65</td>\n",
       "      <td>19</td>\n",
       "      <td>young-adult_21</td>\n",
       "      <td>One</td>\n",
       "    </tr>\n",
       "    <tr>\n",
       "      <th>6</th>\n",
       "      <td>The Dirty Little Secrets of Getting Your Dream...</td>\n",
       "      <td>33.34</td>\n",
       "      <td>19</td>\n",
       "      <td>business_35</td>\n",
       "      <td>Four</td>\n",
       "    </tr>\n",
       "    <tr>\n",
       "      <th>7</th>\n",
       "      <td>The Coming Woman: A Novel Based on the Life of...</td>\n",
       "      <td>17.93</td>\n",
       "      <td>19</td>\n",
       "      <td>default_15</td>\n",
       "      <td>Three</td>\n",
       "    </tr>\n",
       "    <tr>\n",
       "      <th>8</th>\n",
       "      <td>The Boys in the Boat: Nine Americans and Their...</td>\n",
       "      <td>22.60</td>\n",
       "      <td>19</td>\n",
       "      <td>default_15</td>\n",
       "      <td>Four</td>\n",
       "    </tr>\n",
       "    <tr>\n",
       "      <th>9</th>\n",
       "      <td>The Black Maria</td>\n",
       "      <td>52.15</td>\n",
       "      <td>19</td>\n",
       "      <td>poetry_23</td>\n",
       "      <td>One</td>\n",
       "    </tr>\n",
       "  </tbody>\n",
       "</table>\n",
       "</div>"
      ],
      "text/plain": [
       "                                                name  price amount_in_stock  \\\n",
       "0                               A Light in the Attic  51.77              22   \n",
       "1                                 Tipping the Velvet  53.74              20   \n",
       "2                                         Soumission  50.10              20   \n",
       "3                                      Sharp Objects  47.82              20   \n",
       "4              Sapiens: A Brief History of Humankind  54.23              20   \n",
       "5                                    The Requiem Red  22.65              19   \n",
       "6  The Dirty Little Secrets of Getting Your Dream...  33.34              19   \n",
       "7  The Coming Woman: A Novel Based on the Life of...  17.93              19   \n",
       "8  The Boys in the Boat: Nine Americans and Their...  22.60              19   \n",
       "9                                    The Black Maria  52.15              19   \n",
       "\n",
       "       product_category rating  \n",
       "0             poetry_23  Three  \n",
       "1  historical-fiction_4    One  \n",
       "2            fiction_10    One  \n",
       "3             mystery_3   Four  \n",
       "4            history_32   Five  \n",
       "5        young-adult_21    One  \n",
       "6           business_35   Four  \n",
       "7            default_15  Three  \n",
       "8            default_15   Four  \n",
       "9             poetry_23    One  "
      ]
     },
     "execution_count": 11,
     "metadata": {},
     "output_type": "execute_result"
    }
   ],
   "source": [
    "# add data into pandas df\n",
    "import pandas as pd\n",
    "\n",
    "data = pd.DataFrame({'name': names, 'price': prices, 'amount_in_stock': amount_in_stock, \"product_category\": categories, \"rating\": ratings})\n",
    "data.head(10)"
   ]
  },
  {
   "cell_type": "markdown",
   "metadata": {},
   "source": [
    "Now we got our dataframe! Let's explore it!"
   ]
  },
  {
   "cell_type": "code",
   "execution_count": 12,
   "metadata": {},
   "outputs": [
    {
     "data": {
      "text/plain": [
       "(1000, 5)"
      ]
     },
     "execution_count": 12,
     "metadata": {},
     "output_type": "execute_result"
    }
   ],
   "source": [
    "data.shape"
   ]
  },
  {
   "cell_type": "code",
   "execution_count": 13,
   "metadata": {},
   "outputs": [
    {
     "data": {
      "text/html": [
       "<div>\n",
       "<style scoped>\n",
       "    .dataframe tbody tr th:only-of-type {\n",
       "        vertical-align: middle;\n",
       "    }\n",
       "\n",
       "    .dataframe tbody tr th {\n",
       "        vertical-align: top;\n",
       "    }\n",
       "\n",
       "    .dataframe thead th {\n",
       "        text-align: right;\n",
       "    }\n",
       "</style>\n",
       "<table border=\"1\" class=\"dataframe\">\n",
       "  <thead>\n",
       "    <tr style=\"text-align: right;\">\n",
       "      <th></th>\n",
       "      <th>name</th>\n",
       "      <th>price</th>\n",
       "      <th>amount_in_stock</th>\n",
       "      <th>product_category</th>\n",
       "      <th>rating</th>\n",
       "    </tr>\n",
       "  </thead>\n",
       "  <tbody>\n",
       "    <tr>\n",
       "      <th>count</th>\n",
       "      <td>1000</td>\n",
       "      <td>1000</td>\n",
       "      <td>1000</td>\n",
       "      <td>1000</td>\n",
       "      <td>1000</td>\n",
       "    </tr>\n",
       "    <tr>\n",
       "      <th>unique</th>\n",
       "      <td>999</td>\n",
       "      <td>903</td>\n",
       "      <td>21</td>\n",
       "      <td>50</td>\n",
       "      <td>5</td>\n",
       "    </tr>\n",
       "    <tr>\n",
       "      <th>top</th>\n",
       "      <td>The Star-Touched Queen</td>\n",
       "      <td>27.88</td>\n",
       "      <td>3</td>\n",
       "      <td>default_15</td>\n",
       "      <td>One</td>\n",
       "    </tr>\n",
       "    <tr>\n",
       "      <th>freq</th>\n",
       "      <td>2</td>\n",
       "      <td>3</td>\n",
       "      <td>196</td>\n",
       "      <td>152</td>\n",
       "      <td>226</td>\n",
       "    </tr>\n",
       "  </tbody>\n",
       "</table>\n",
       "</div>"
      ],
      "text/plain": [
       "                          name  price amount_in_stock product_category rating\n",
       "count                     1000   1000            1000             1000   1000\n",
       "unique                     999    903              21               50      5\n",
       "top     The Star-Touched Queen  27.88               3       default_15    One\n",
       "freq                         2      3             196              152    226"
      ]
     },
     "execution_count": 13,
     "metadata": {},
     "output_type": "execute_result"
    }
   ],
   "source": [
    "data.describe()"
   ]
  },
  {
   "cell_type": "code",
   "execution_count": 14,
   "metadata": {},
   "outputs": [
    {
     "name": "stdout",
     "output_type": "stream",
     "text": [
      "<class 'pandas.core.frame.DataFrame'>\n",
      "RangeIndex: 1000 entries, 0 to 999\n",
      "Data columns (total 5 columns):\n",
      " #   Column            Non-Null Count  Dtype \n",
      "---  ------            --------------  ----- \n",
      " 0   name              1000 non-null   object\n",
      " 1   price             1000 non-null   object\n",
      " 2   amount_in_stock   1000 non-null   object\n",
      " 3   product_category  1000 non-null   object\n",
      " 4   rating            1000 non-null   object\n",
      "dtypes: object(5)\n",
      "memory usage: 39.2+ KB\n"
     ]
    }
   ],
   "source": [
    "data.info()"
   ]
  },
  {
   "cell_type": "code",
   "execution_count": 15,
   "metadata": {},
   "outputs": [],
   "source": [
    "data['price'] = pd.to_numeric(data['price'])#turn catecorial data to numerical"
   ]
  },
  {
   "cell_type": "code",
   "execution_count": 16,
   "metadata": {},
   "outputs": [
    {
     "name": "stdout",
     "output_type": "stream",
     "text": [
      "<class 'pandas.core.frame.DataFrame'>\n",
      "RangeIndex: 1000 entries, 0 to 999\n",
      "Data columns (total 5 columns):\n",
      " #   Column            Non-Null Count  Dtype  \n",
      "---  ------            --------------  -----  \n",
      " 0   name              1000 non-null   object \n",
      " 1   price             1000 non-null   float64\n",
      " 2   amount_in_stock   1000 non-null   object \n",
      " 3   product_category  1000 non-null   object \n",
      " 4   rating            1000 non-null   object \n",
      "dtypes: float64(1), object(4)\n",
      "memory usage: 39.2+ KB\n"
     ]
    }
   ],
   "source": [
    "data.info()"
   ]
  },
  {
   "cell_type": "code",
   "execution_count": 17,
   "metadata": {},
   "outputs": [
    {
     "data": {
      "text/plain": [
       "array(['poetry_23', 'historical-fiction_4', 'fiction_10', 'mystery_3',\n",
       "       'history_32', 'young-adult_21', 'business_35', 'default_15',\n",
       "       'sequential-art_5', 'music_14', 'science-fiction_16',\n",
       "       'politics_48', 'travel_2', 'thriller_37', 'food-and-drink_33',\n",
       "       'romance_8', 'childrens_11', 'nonfiction_13', 'art_25',\n",
       "       'spirituality_39', 'philosophy_7', 'new-adult_20',\n",
       "       'contemporary_38', 'fantasy_19', 'add-a-comment_18', 'science_22',\n",
       "       'health_47', 'horror_31', 'self-help_41', 'religion_12',\n",
       "       'christian_43', 'crime_51', 'autobiography_27',\n",
       "       'christian-fiction_34', 'biography_36', 'womens-fiction_9',\n",
       "       'erotica_50', 'cultural_49', 'psychology_26', 'humor_30',\n",
       "       'historical_42', 'novels_46', 'short-stories_45', 'suspense_44',\n",
       "       'classics_6', 'academic_40', 'sports-and-games_17',\n",
       "       'adult-fiction_29', 'parenting_28', 'paranormal_24'], dtype=object)"
      ]
     },
     "execution_count": 17,
     "metadata": {},
     "output_type": "execute_result"
    }
   ],
   "source": [
    "data['product_category'].unique()"
   ]
  },
  {
   "cell_type": "code",
   "execution_count": 18,
   "metadata": {},
   "outputs": [
    {
     "data": {
      "text/plain": [
       "default_15              152\n",
       "nonfiction_13           110\n",
       "sequential-art_5         75\n",
       "add-a-comment_18         67\n",
       "fiction_10               65\n",
       "young-adult_21           54\n",
       "fantasy_19               48\n",
       "romance_8                35\n",
       "mystery_3                32\n",
       "food-and-drink_33        30\n",
       "childrens_11             29\n",
       "historical-fiction_4     26\n",
       "classics_6               19\n",
       "poetry_23                19\n",
       "history_32               18\n",
       "horror_31                17\n",
       "womens-fiction_9         17\n",
       "science-fiction_16       16\n",
       "science_22               14\n",
       "music_14                 13\n",
       "business_35              12\n",
       "thriller_37              11\n",
       "philosophy_7             11\n",
       "travel_2                 11\n",
       "humor_30                 10\n",
       "autobiography_27          9\n",
       "art_25                    8\n",
       "psychology_26             7\n",
       "religion_12               7\n",
       "christian-fiction_34      6\n",
       "spirituality_39           6\n",
       "new-adult_20              6\n",
       "self-help_41              5\n",
       "biography_36              5\n",
       "sports-and-games_17       5\n",
       "health_47                 4\n",
       "politics_48               3\n",
       "contemporary_38           3\n",
       "christian_43              3\n",
       "historical_42             2\n",
       "adult-fiction_29          1\n",
       "cultural_49               1\n",
       "short-stories_45          1\n",
       "parenting_28              1\n",
       "suspense_44               1\n",
       "erotica_50                1\n",
       "crime_51                  1\n",
       "novels_46                 1\n",
       "paranormal_24             1\n",
       "academic_40               1\n",
       "Name: product_category, dtype: int64"
      ]
     },
     "execution_count": 18,
     "metadata": {},
     "output_type": "execute_result"
    }
   ],
   "source": [
    "data.product_category.value_counts()"
   ]
  },
  {
   "cell_type": "code",
   "execution_count": 19,
   "metadata": {
    "scrolled": true
   },
   "outputs": [
    {
     "data": {
      "text/html": [
       "<div>\n",
       "<style scoped>\n",
       "    .dataframe tbody tr th:only-of-type {\n",
       "        vertical-align: middle;\n",
       "    }\n",
       "\n",
       "    .dataframe tbody tr th {\n",
       "        vertical-align: top;\n",
       "    }\n",
       "\n",
       "    .dataframe thead th {\n",
       "        text-align: right;\n",
       "    }\n",
       "</style>\n",
       "<table border=\"1\" class=\"dataframe\">\n",
       "  <thead>\n",
       "    <tr style=\"text-align: right;\">\n",
       "      <th></th>\n",
       "      <th>name</th>\n",
       "      <th>price</th>\n",
       "      <th>amount_in_stock</th>\n",
       "      <th>product_category</th>\n",
       "    </tr>\n",
       "    <tr>\n",
       "      <th>rating</th>\n",
       "      <th></th>\n",
       "      <th></th>\n",
       "      <th></th>\n",
       "      <th></th>\n",
       "    </tr>\n",
       "  </thead>\n",
       "  <tbody>\n",
       "    <tr>\n",
       "      <th>Five</th>\n",
       "      <td>196</td>\n",
       "      <td>196</td>\n",
       "      <td>196</td>\n",
       "      <td>196</td>\n",
       "    </tr>\n",
       "    <tr>\n",
       "      <th>Four</th>\n",
       "      <td>179</td>\n",
       "      <td>179</td>\n",
       "      <td>179</td>\n",
       "      <td>179</td>\n",
       "    </tr>\n",
       "    <tr>\n",
       "      <th>One</th>\n",
       "      <td>226</td>\n",
       "      <td>226</td>\n",
       "      <td>226</td>\n",
       "      <td>226</td>\n",
       "    </tr>\n",
       "    <tr>\n",
       "      <th>Three</th>\n",
       "      <td>203</td>\n",
       "      <td>203</td>\n",
       "      <td>203</td>\n",
       "      <td>203</td>\n",
       "    </tr>\n",
       "    <tr>\n",
       "      <th>Two</th>\n",
       "      <td>196</td>\n",
       "      <td>196</td>\n",
       "      <td>196</td>\n",
       "      <td>196</td>\n",
       "    </tr>\n",
       "  </tbody>\n",
       "</table>\n",
       "</div>"
      ],
      "text/plain": [
       "        name  price  amount_in_stock  product_category\n",
       "rating                                                \n",
       "Five     196    196              196               196\n",
       "Four     179    179              179               179\n",
       "One      226    226              226               226\n",
       "Three    203    203              203               203\n",
       "Two      196    196              196               196"
      ]
     },
     "execution_count": 19,
     "metadata": {},
     "output_type": "execute_result"
    }
   ],
   "source": [
    "data.groupby('rating').count()"
   ]
  },
  {
   "cell_type": "code",
   "execution_count": 20,
   "metadata": {},
   "outputs": [],
   "source": [
    "cleanup_nums = {\"rating\": {\"One\": 1, \"Two\": 2, \"Three\": 3, \"Four\": 4, \"Five\": 5}}#Let`s replace categorial data in rating"
   ]
  },
  {
   "cell_type": "code",
   "execution_count": 21,
   "metadata": {},
   "outputs": [],
   "source": [
    "data = data.replace(cleanup_nums)"
   ]
  },
  {
   "cell_type": "code",
   "execution_count": 22,
   "metadata": {},
   "outputs": [
    {
     "data": {
      "text/html": [
       "<div>\n",
       "<style scoped>\n",
       "    .dataframe tbody tr th:only-of-type {\n",
       "        vertical-align: middle;\n",
       "    }\n",
       "\n",
       "    .dataframe tbody tr th {\n",
       "        vertical-align: top;\n",
       "    }\n",
       "\n",
       "    .dataframe thead th {\n",
       "        text-align: right;\n",
       "    }\n",
       "</style>\n",
       "<table border=\"1\" class=\"dataframe\">\n",
       "  <thead>\n",
       "    <tr style=\"text-align: right;\">\n",
       "      <th></th>\n",
       "      <th>name</th>\n",
       "      <th>price</th>\n",
       "      <th>amount_in_stock</th>\n",
       "      <th>product_category</th>\n",
       "      <th>rating</th>\n",
       "    </tr>\n",
       "  </thead>\n",
       "  <tbody>\n",
       "    <tr>\n",
       "      <th>0</th>\n",
       "      <td>A Light in the Attic</td>\n",
       "      <td>51.77</td>\n",
       "      <td>22</td>\n",
       "      <td>poetry_23</td>\n",
       "      <td>3</td>\n",
       "    </tr>\n",
       "    <tr>\n",
       "      <th>1</th>\n",
       "      <td>Tipping the Velvet</td>\n",
       "      <td>53.74</td>\n",
       "      <td>20</td>\n",
       "      <td>historical-fiction_4</td>\n",
       "      <td>1</td>\n",
       "    </tr>\n",
       "    <tr>\n",
       "      <th>2</th>\n",
       "      <td>Soumission</td>\n",
       "      <td>50.10</td>\n",
       "      <td>20</td>\n",
       "      <td>fiction_10</td>\n",
       "      <td>1</td>\n",
       "    </tr>\n",
       "    <tr>\n",
       "      <th>3</th>\n",
       "      <td>Sharp Objects</td>\n",
       "      <td>47.82</td>\n",
       "      <td>20</td>\n",
       "      <td>mystery_3</td>\n",
       "      <td>4</td>\n",
       "    </tr>\n",
       "    <tr>\n",
       "      <th>4</th>\n",
       "      <td>Sapiens: A Brief History of Humankind</td>\n",
       "      <td>54.23</td>\n",
       "      <td>20</td>\n",
       "      <td>history_32</td>\n",
       "      <td>5</td>\n",
       "    </tr>\n",
       "  </tbody>\n",
       "</table>\n",
       "</div>"
      ],
      "text/plain": [
       "                                    name  price amount_in_stock  \\\n",
       "0                   A Light in the Attic  51.77              22   \n",
       "1                     Tipping the Velvet  53.74              20   \n",
       "2                             Soumission  50.10              20   \n",
       "3                          Sharp Objects  47.82              20   \n",
       "4  Sapiens: A Brief History of Humankind  54.23              20   \n",
       "\n",
       "       product_category  rating  \n",
       "0             poetry_23       3  \n",
       "1  historical-fiction_4       1  \n",
       "2            fiction_10       1  \n",
       "3             mystery_3       4  \n",
       "4            history_32       5  "
      ]
     },
     "execution_count": 22,
     "metadata": {},
     "output_type": "execute_result"
    }
   ],
   "source": [
    "data.head()"
   ]
  },
  {
   "cell_type": "code",
   "execution_count": 23,
   "metadata": {},
   "outputs": [
    {
     "data": {
      "image/png": "[encoded data removed]",
      "text/plain": [
       "<Figure size 720x360 with 1 Axes>"
      ]
     },
     "metadata": {},
     "output_type": "display_data"
    }
   ],
   "source": [
    "#let's analize rating distrbution\n",
    "plt.figure(figsize=(10,5))\n",
    "sns.countplot(x=data['rating'],palette='magma')\n",
    "plt.title('Rating Distribution Plot',fontsize=16)\n",
    "plt.show()"
   ]
  },
  {
   "cell_type": "code",
   "execution_count": 24,
   "metadata": {},
   "outputs": [
    {
     "name": "stderr",
     "output_type": "stream",
     "text": [
      "C:\\Users\\Acer\\AppData\\Roaming\\Python\\Python38\\site-packages\\seaborn\\distributions.py:2619: FutureWarning: `distplot` is a deprecated function and will be removed in a future version. Please adapt your code to use either `displot` (a figure-level function with similar flexibility) or `histplot` (an axes-level function for histograms).\n",
      "  warnings.warn(msg, FutureWarning)\n"
     ]
    },
    {
     "data": {
      "image/png": "[encoded data removed]",
      "text/plain": [
       "<Figure size 864x432 with 1 Axes>"
      ]
     },
     "metadata": {},
     "output_type": "display_data"
    }
   ],
   "source": [
    "#let's analize price distrbution\n",
    "plt.figure(figsize=(12,6))\n",
    "sns.distplot(data['price'],color='purple')\n",
    "plt.title('Price Distribution Plot',fontsize=16)\n",
    "plt.show()\n",
    "filterwarnings('ignore')"
   ]
  },
  {
   "cell_type": "markdown",
   "metadata": {},
   "source": [
    "Data is not distributed normally due to artificially created dataset/"
   ]
  },
  {
   "cell_type": "code",
   "execution_count": 38,
   "metadata": {
    "scrolled": true
   },
   "outputs": [
    {
     "data": {
      "application/vnd.plotly.v1+json": {
       "config": {
        "plotlyServerURL": "https://plot.ly"
       },
       "data": [
        {
         "customdata": [
          [
           "poetry_23"
          ],
          [
           "historical-fiction_4"
          ],
          [
           "fiction_10"
          ],
          [
           "mystery_3"
          ],
          [
           "history_32"
          ],
          [
           "young-adult_21"
          ],
          [
           "business_35"
          ],
          [
           "default_15"
          ],
          [
           "default_15"
          ],
          [
           "poetry_23"
          ],
          [
           "default_15"
          ],
          [
           "poetry_23"
          ],
          [
           "young-adult_21"
          ],
          [
           "sequential-art_5"
          ],
          [
           "music_14"
          ],
          [
           "music_14"
          ],
          [
           "poetry_23"
          ],
          [
           "science-fiction_16"
          ],
          [
           "politics_48"
          ],
          [
           "travel_2"
          ],
          [
           "thriller_37"
          ],
          [
           "music_14"
          ],
          [
           "food-and-drink_33"
          ],
          [
           "romance_8"
          ],
          [
           "romance_8"
          ],
          [
           "childrens_11"
          ],
          [
           "default_15"
          ],
          [
           "default_15"
          ],
          [
           "nonfiction_13"
          ],
          [
           "art_25"
          ],
          [
           "spirituality_39"
          ],
          [
           "nonfiction_13"
          ],
          [
           "thriller_37"
          ],
          [
           "childrens_11"
          ],
          [
           "philosophy_7"
          ],
          [
           "default_15"
          ],
          [
           "default_15"
          ],
          [
           "mystery_3"
          ],
          [
           "thriller_37"
          ],
          [
           "poetry_23"
          ],
          [
           "poetry_23"
          ],
          [
           "nonfiction_13"
          ],
          [
           "fiction_10"
          ],
          [
           "nonfiction_13"
          ],
          [
           "new-adult_20"
          ],
          [
           "contemporary_38"
          ],
          [
           "fiction_10"
          ],
          [
           "poetry_23"
          ],
          [
           "nonfiction_13"
          ],
          [
           "fantasy_19"
          ],
          [
           "history_32"
          ],
          [
           "sequential-art_5"
          ],
          [
           "nonfiction_13"
          ],
          [
           "sequential-art_5"
          ],
          [
           "fiction_10"
          ],
          [
           "add-a-comment_18"
          ],
          [
           "childrens_11"
          ],
          [
           "food-and-drink_33"
          ],
          [
           "mystery_3"
          ],
          [
           "young-adult_21"
          ],
          [
           "sequential-art_5"
          ],
          [
           "fiction_10"
          ],
          [
           "science_22"
          ],
          [
           "add-a-comment_18"
          ],
          [
           "nonfiction_13"
          ],
          [
           "default_15"
          ],
          [
           "nonfiction_13"
          ],
          [
           "nonfiction_13"
          ],
          [
           "philosophy_7"
          ],
          [
           "health_47"
          ],
          [
           "add-a-comment_18"
          ],
          [
           "history_32"
          ],
          [
           "spirituality_39"
          ],
          [
           "nonfiction_13"
          ],
          [
           "default_15"
          ],
          [
           "horror_31"
          ],
          [
           "fantasy_19"
          ],
          [
           "sequential-art_5"
          ],
          [
           "nonfiction_13"
          ],
          [
           "sequential-art_5"
          ],
          [
           "sequential-art_5"
          ],
          [
           "fantasy_19"
          ],
          [
           "sequential-art_5"
          ],
          [
           "history_32"
          ],
          [
           "sequential-art_5"
          ],
          [
           "sequential-art_5"
          ],
          [
           "sequential-art_5"
          ],
          [
           "self-help_41"
          ],
          [
           "add-a-comment_18"
          ],
          [
           "young-adult_21"
          ],
          [
           "food-and-drink_33"
          ],
          [
           "fantasy_19"
          ],
          [
           "food-and-drink_33"
          ],
          [
           "sequential-art_5"
          ],
          [
           "sequential-art_5"
          ],
          [
           "sequential-art_5"
          ],
          [
           "food-and-drink_33"
          ],
          [
           "add-a-comment_18"
          ],
          [
           "science-fiction_16"
          ],
          [
           "nonfiction_13"
          ],
          [
           "science_22"
          ],
          [
           "sequential-art_5"
          ],
          [
           "sequential-art_5"
          ],
          [
           "self-help_41"
          ],
          [
           "romance_8"
          ],
          [
           "sequential-art_5"
          ],
          [
           "historical-fiction_4"
          ],
          [
           "romance_8"
          ],
          [
           "romance_8"
          ],
          [
           "nonfiction_13"
          ],
          [
           "religion_12"
          ],
          [
           "sequential-art_5"
          ],
          [
           "fantasy_19"
          ],
          [
           "sequential-art_5"
          ],
          [
           "sequential-art_5"
          ],
          [
           "nonfiction_13"
          ],
          [
           "young-adult_21"
          ],
          [
           "default_15"
          ],
          [
           "sequential-art_5"
          ],
          [
           "fantasy_19"
          ],
          [
           "nonfiction_13"
          ],
          [
           "default_15"
          ],
          [
           "default_15"
          ],
          [
           "mystery_3"
          ],
          [
           "historical-fiction_4"
          ],
          [
           "young-adult_21"
          ],
          [
           "fantasy_19"
          ],
          [
           "christian_43"
          ],
          [
           "religion_12"
          ],
          [
           "science-fiction_16"
          ],
          [
           "fiction_10"
          ],
          [
           "default_15"
          ],
          [
           "fantasy_19"
          ],
          [
           "history_32"
          ],
          [
           "default_15"
          ],
          [
           "childrens_11"
          ],
          [
           "romance_8"
          ],
          [
           "fiction_10"
          ],
          [
           "business_35"
          ],
          [
           "philosophy_7"
          ],
          [
           "sequential-art_5"
          ],
          [
           "default_15"
          ],
          [
           "fiction_10"
          ],
          [
           "default_15"
          ],
          [
           "science-fiction_16"
          ],
          [
           "nonfiction_13"
          ],
          [
           "nonfiction_13"
          ],
          [
           "food-and-drink_33"
          ],
          [
           "mystery_3"
          ],
          [
           "new-adult_20"
          ],
          [
           "new-adult_20"
          ],
          [
           "food-and-drink_33"
          ],
          [
           "crime_51"
          ],
          [
           "default_15"
          ],
          [
           "historical-fiction_4"
          ],
          [
           "fantasy_19"
          ],
          [
           "default_15"
          ],
          [
           "nonfiction_13"
          ],
          [
           "default_15"
          ],
          [
           "food-and-drink_33"
          ],
          [
           "default_15"
          ],
          [
           "nonfiction_13"
          ],
          [
           "default_15"
          ],
          [
           "autobiography_27"
          ],
          [
           "business_35"
          ],
          [
           "romance_8"
          ],
          [
           "romance_8"
          ],
          [
           "science-fiction_16"
          ],
          [
           "nonfiction_13"
          ],
          [
           "business_35"
          ],
          [
           "add-a-comment_18"
          ],
          [
           "default_15"
          ],
          [
           "young-adult_21"
          ],
          [
           "default_15"
          ],
          [
           "christian-fiction_34"
          ],
          [
           "default_15"
          ],
          [
           "poetry_23"
          ],
          [
           "young-adult_21"
          ],
          [
           "poetry_23"
          ],
          [
           "historical-fiction_4"
          ],
          [
           "add-a-comment_18"
          ],
          [
           "default_15"
          ],
          [
           "biography_36"
          ],
          [
           "childrens_11"
          ],
          [
           "young-adult_21"
          ],
          [
           "default_15"
          ],
          [
           "womens-fiction_9"
          ],
          [
           "fantasy_19"
          ],
          [
           "default_15"
          ],
          [
           "travel_2"
          ],
          [
           "young-adult_21"
          ],
          [
           "horror_31"
          ],
          [
           "default_15"
          ],
          [
           "fiction_10"
          ],
          [
           "sequential-art_5"
          ],
          [
           "default_15"
          ],
          [
           "default_15"
          ],
          [
           "default_15"
          ],
          [
           "romance_8"
          ],
          [
           "food-and-drink_33"
          ],
          [
           "erotica_50"
          ],
          [
           "nonfiction_13"
          ],
          [
           "christian-fiction_34"
          ],
          [
           "spirituality_39"
          ],
          [
           "nonfiction_13"
          ],
          [
           "nonfiction_13"
          ],
          [
           "default_15"
          ],
          [
           "sequential-art_5"
          ],
          [
           "sequential-art_5"
          ],
          [
           "default_15"
          ],
          [
           "default_15"
          ],
          [
           "default_15"
          ],
          [
           "cultural_49"
          ],
          [
           "default_15"
          ],
          [
           "nonfiction_13"
          ],
          [
           "history_32"
          ],
          [
           "thriller_37"
          ],
          [
           "sequential-art_5"
          ],
          [
           "young-adult_21"
          ],
          [
           "politics_48"
          ],
          [
           "nonfiction_13"
          ],
          [
           "nonfiction_13"
          ],
          [
           "sequential-art_5"
          ],
          [
           "childrens_11"
          ],
          [
           "default_15"
          ],
          [
           "young-adult_21"
          ],
          [
           "default_15"
          ],
          [
           "childrens_11"
          ],
          [
           "sequential-art_5"
          ],
          [
           "young-adult_21"
          ],
          [
           "nonfiction_13"
          ],
          [
           "default_15"
          ],
          [
           "add-a-comment_18"
          ],
          [
           "romance_8"
          ],
          [
           "fiction_10"
          ],
          [
           "fiction_10"
          ],
          [
           "fantasy_19"
          ],
          [
           "default_15"
          ],
          [
           "add-a-comment_18"
          ],
          [
           "default_15"
          ],
          [
           "default_15"
          ],
          [
           "historical-fiction_4"
          ],
          [
           "psychology_26"
          ],
          [
           "humor_30"
          ],
          [
           "horror_31"
          ],
          [
           "nonfiction_13"
          ],
          [
           "mystery_3"
          ],
          [
           "add-a-comment_18"
          ],
          [
           "fantasy_19"
          ],
          [
           "food-and-drink_33"
          ],
          [
           "thriller_37"
          ],
          [
           "fiction_10"
          ],
          [
           "add-a-comment_18"
          ],
          [
           "young-adult_21"
          ],
          [
           "fantasy_19"
          ],
          [
           "nonfiction_13"
          ],
          [
           "thriller_37"
          ],
          [
           "mystery_3"
          ],
          [
           "mystery_3"
          ],
          [
           "fiction_10"
          ],
          [
           "nonfiction_13"
          ],
          [
           "sequential-art_5"
          ],
          [
           "fiction_10"
          ],
          [
           "default_15"
          ],
          [
           "science_22"
          ],
          [
           "contemporary_38"
          ],
          [
           "sequential-art_5"
          ],
          [
           "fiction_10"
          ],
          [
           "travel_2"
          ],
          [
           "poetry_23"
          ],
          [
           "sequential-art_5"
          ],
          [
           "sequential-art_5"
          ],
          [
           "childrens_11"
          ],
          [
           "poetry_23"
          ],
          [
           "horror_31"
          ],
          [
           "self-help_41"
          ],
          [
           "childrens_11"
          ],
          [
           "humor_30"
          ],
          [
           "nonfiction_13"
          ],
          [
           "sequential-art_5"
          ],
          [
           "fiction_10"
          ],
          [
           "fiction_10"
          ],
          [
           "young-adult_21"
          ],
          [
           "fiction_10"
          ],
          [
           "add-a-comment_18"
          ],
          [
           "business_35"
          ],
          [
           "childrens_11"
          ],
          [
           "default_15"
          ],
          [
           "sequential-art_5"
          ],
          [
           "music_14"
          ],
          [
           "nonfiction_13"
          ],
          [
           "default_15"
          ],
          [
           "nonfiction_13"
          ],
          [
           "default_15"
          ],
          [
           "food-and-drink_33"
          ],
          [
           "fantasy_19"
          ],
          [
           "humor_30"
          ],
          [
           "fiction_10"
          ],
          [
           "humor_30"
          ],
          [
           "default_15"
          ],
          [
           "romance_8"
          ],
          [
           "nonfiction_13"
          ],
          [
           "default_15"
          ],
          [
           "religion_12"
          ],
          [
           "historical-fiction_4"
          ],
          [
           "art_25"
          ],
          [
           "nonfiction_13"
          ],
          [
           "default_15"
          ],
          [
           "fiction_10"
          ],
          [
           "sequential-art_5"
          ],
          [
           "fiction_10"
          ],
          [
           "nonfiction_13"
          ],
          [
           "health_47"
          ],
          [
           "young-adult_21"
          ],
          [
           "horror_31"
          ],
          [
           "fantasy_19"
          ],
          [
           "fiction_10"
          ],
          [
           "default_15"
          ],
          [
           "christian_43"
          ],
          [
           "fiction_10"
          ],
          [
           "add-a-comment_18"
          ],
          [
           "default_15"
          ],
          [
           "fantasy_19"
          ],
          [
           "default_15"
          ],
          [
           "default_15"
          ],
          [
           "default_15"
          ],
          [
           "add-a-comment_18"
          ],
          [
           "young-adult_21"
          ],
          [
           "default_15"
          ],
          [
           "default_15"
          ],
          [
           "nonfiction_13"
          ],
          [
           "nonfiction_13"
          ],
          [
           "sequential-art_5"
          ],
          [
           "food-and-drink_33"
          ],
          [
           "food-and-drink_33"
          ],
          [
           "fiction_10"
          ],
          [
           "sequential-art_5"
          ],
          [
           "young-adult_21"
          ],
          [
           "add-a-comment_18"
          ],
          [
           "default_15"
          ],
          [
           "historical_42"
          ],
          [
           "sequential-art_5"
          ],
          [
           "nonfiction_13"
          ],
          [
           "mystery_3"
          ],
          [
           "mystery_3"
          ],
          [
           "add-a-comment_18"
          ],
          [
           "add-a-comment_18"
          ],
          [
           "fiction_10"
          ],
          [
           "history_32"
          ],
          [
           "add-a-comment_18"
          ],
          [
           "history_32"
          ],
          [
           "default_15"
          ],
          [
           "fantasy_19"
          ],
          [
           "add-a-comment_18"
          ],
          [
           "food-and-drink_33"
          ],
          [
           "nonfiction_13"
          ],
          [
           "womens-fiction_9"
          ],
          [
           "science_22"
          ],
          [
           "fantasy_19"
          ],
          [
           "fiction_10"
          ],
          [
           "add-a-comment_18"
          ],
          [
           "nonfiction_13"
          ],
          [
           "add-a-comment_18"
          ],
          [
           "psychology_26"
          ],
          [
           "young-adult_21"
          ],
          [
           "fiction_10"
          ],
          [
           "nonfiction_13"
          ],
          [
           "add-a-comment_18"
          ],
          [
           "young-adult_21"
          ],
          [
           "nonfiction_13"
          ],
          [
           "default_15"
          ],
          [
           "business_35"
          ],
          [
           "horror_31"
          ],
          [
           "mystery_3"
          ],
          [
           "add-a-comment_18"
          ],
          [
           "young-adult_21"
          ],
          [
           "mystery_3"
          ],
          [
           "mystery_3"
          ],
          [
           "historical-fiction_4"
          ],
          [
           "default_15"
          ],
          [
           "mystery_3"
          ],
          [
           "nonfiction_13"
          ],
          [
           "food-and-drink_33"
          ],
          [
           "politics_48"
          ],
          [
           "default_15"
          ],
          [
           "romance_8"
          ],
          [
           "horror_31"
          ],
          [
           "mystery_3"
          ],
          [
           "historical-fiction_4"
          ],
          [
           "food-and-drink_33"
          ],
          [
           "default_15"
          ],
          [
           "mystery_3"
          ],
          [
           "nonfiction_13"
          ],
          [
           "fiction_10"
          ],
          [
           "business_35"
          ],
          [
           "romance_8"
          ],
          [
           "science-fiction_16"
          ],
          [
           "biography_36"
          ],
          [
           "mystery_3"
          ],
          [
           "romance_8"
          ],
          [
           "fiction_10"
          ],
          [
           "nonfiction_13"
          ],
          [
           "autobiography_27"
          ],
          [
           "historical-fiction_4"
          ],
          [
           "fiction_10"
          ],
          [
           "autobiography_27"
          ],
          [
           "womens-fiction_9"
          ],
          [
           "psychology_26"
          ],
          [
           "womens-fiction_9"
          ],
          [
           "young-adult_21"
          ],
          [
           "fiction_10"
          ],
          [
           "food-and-drink_33"
          ],
          [
           "business_35"
          ],
          [
           "science-fiction_16"
          ],
          [
           "default_15"
          ],
          [
           "nonfiction_13"
          ],
          [
           "romance_8"
          ],
          [
           "fiction_10"
          ],
          [
           "nonfiction_13"
          ],
          [
           "health_47"
          ],
          [
           "add-a-comment_18"
          ],
          [
           "add-a-comment_18"
          ],
          [
           "default_15"
          ],
          [
           "default_15"
          ],
          [
           "fiction_10"
          ],
          [
           "default_15"
          ],
          [
           "food-and-drink_33"
          ],
          [
           "default_15"
          ],
          [
           "science_22"
          ],
          [
           "religion_12"
          ],
          [
           "health_47"
          ],
          [
           "young-adult_21"
          ],
          [
           "novels_46"
          ],
          [
           "childrens_11"
          ],
          [
           "default_15"
          ],
          [
           "default_15"
          ],
          [
           "spirituality_39"
          ],
          [
           "sequential-art_5"
          ],
          [
           "humor_30"
          ],
          [
           "young-adult_21"
          ],
          [
           "nonfiction_13"
          ],
          [
           "art_25"
          ],
          [
           "fantasy_19"
          ],
          [
           "add-a-comment_18"
          ],
          [
           "add-a-comment_18"
          ],
          [
           "nonfiction_13"
          ],
          [
           "nonfiction_13"
          ],
          [
           "nonfiction_13"
          ],
          [
           "travel_2"
          ],
          [
           "default_15"
          ],
          [
           "art_25"
          ],
          [
           "nonfiction_13"
          ],
          [
           "default_15"
          ],
          [
           "fiction_10"
          ],
          [
           "short-stories_45"
          ],
          [
           "business_35"
          ],
          [
           "young-adult_21"
          ],
          [
           "nonfiction_13"
          ],
          [
           "suspense_44"
          ],
          [
           "christian-fiction_34"
          ],
          [
           "sequential-art_5"
          ],
          [
           "nonfiction_13"
          ],
          [
           "philosophy_7"
          ],
          [
           "music_14"
          ],
          [
           "poetry_23"
          ],
          [
           "young-adult_21"
          ],
          [
           "fiction_10"
          ],
          [
           "nonfiction_13"
          ],
          [
           "nonfiction_13"
          ],
          [
           "nonfiction_13"
          ],
          [
           "poetry_23"
          ],
          [
           "default_15"
          ],
          [
           "music_14"
          ],
          [
           "philosophy_7"
          ],
          [
           "default_15"
          ],
          [
           "default_15"
          ],
          [
           "nonfiction_13"
          ],
          [
           "fiction_10"
          ],
          [
           "poetry_23"
          ],
          [
           "art_25"
          ],
          [
           "default_15"
          ],
          [
           "young-adult_21"
          ],
          [
           "default_15"
          ],
          [
           "science_22"
          ],
          [
           "default_15"
          ],
          [
           "history_32"
          ],
          [
           "nonfiction_13"
          ],
          [
           "nonfiction_13"
          ],
          [
           "nonfiction_13"
          ],
          [
           "nonfiction_13"
          ],
          [
           "food-and-drink_33"
          ],
          [
           "history_32"
          ],
          [
           "self-help_41"
          ],
          [
           "default_15"
          ],
          [
           "mystery_3"
          ],
          [
           "spirituality_39"
          ],
          [
           "travel_2"
          ],
          [
           "humor_30"
          ],
          [
           "default_15"
          ],
          [
           "childrens_11"
          ],
          [
           "art_25"
          ],
          [
           "science_22"
          ],
          [
           "default_15"
          ],
          [
           "default_15"
          ],
          [
           "add-a-comment_18"
          ],
          [
           "biography_36"
          ],
          [
           "add-a-comment_18"
          ],
          [
           "historical-fiction_4"
          ],
          [
           "fiction_10"
          ],
          [
           "mystery_3"
          ],
          [
           "art_25"
          ],
          [
           "default_15"
          ],
          [
           "add-a-comment_18"
          ],
          [
           "default_15"
          ],
          [
           "romance_8"
          ],
          [
           "fiction_10"
          ],
          [
           "childrens_11"
          ],
          [
           "business_35"
          ],
          [
           "childrens_11"
          ],
          [
           "childrens_11"
          ],
          [
           "young-adult_21"
          ],
          [
           "food-and-drink_33"
          ],
          [
           "womens-fiction_9"
          ],
          [
           "fiction_10"
          ],
          [
           "christian-fiction_34"
          ],
          [
           "default_15"
          ],
          [
           "poetry_23"
          ],
          [
           "fantasy_19"
          ],
          [
           "add-a-comment_18"
          ],
          [
           "food-and-drink_33"
          ],
          [
           "food-and-drink_33"
          ],
          [
           "add-a-comment_18"
          ],
          [
           "sequential-art_5"
          ],
          [
           "nonfiction_13"
          ],
          [
           "nonfiction_13"
          ],
          [
           "fantasy_19"
          ],
          [
           "mystery_3"
          ],
          [
           "christian-fiction_34"
          ],
          [
           "music_14"
          ],
          [
           "christian_43"
          ],
          [
           "biography_36"
          ],
          [
           "philosophy_7"
          ],
          [
           "travel_2"
          ],
          [
           "history_32"
          ],
          [
           "fantasy_19"
          ],
          [
           "default_15"
          ],
          [
           "history_32"
          ],
          [
           "default_15"
          ],
          [
           "mystery_3"
          ],
          [
           "nonfiction_13"
          ],
          [
           "default_15"
          ],
          [
           "add-a-comment_18"
          ],
          [
           "historical-fiction_4"
          ],
          [
           "default_15"
          ],
          [
           "travel_2"
          ],
          [
           "add-a-comment_18"
          ],
          [
           "add-a-comment_18"
          ],
          [
           "historical_42"
          ],
          [
           "default_15"
          ],
          [
           "poetry_23"
          ],
          [
           "food-and-drink_33"
          ],
          [
           "young-adult_21"
          ],
          [
           "default_15"
          ],
          [
           "add-a-comment_18"
          ],
          [
           "default_15"
          ],
          [
           "add-a-comment_18"
          ],
          [
           "fiction_10"
          ],
          [
           "mystery_3"
          ],
          [
           "nonfiction_13"
          ],
          [
           "self-help_41"
          ],
          [
           "thriller_37"
          ],
          [
           "nonfiction_13"
          ],
          [
           "add-a-comment_18"
          ],
          [
           "sequential-art_5"
          ],
          [
           "fiction_10"
          ],
          [
           "sequential-art_5"
          ],
          [
           "history_32"
          ],
          [
           "food-and-drink_33"
          ],
          [
           "psychology_26"
          ],
          [
           "travel_2"
          ],
          [
           "historical-fiction_4"
          ],
          [
           "young-adult_21"
          ],
          [
           "nonfiction_13"
          ],
          [
           "young-adult_21"
          ],
          [
           "default_15"
          ],
          [
           "young-adult_21"
          ],
          [
           "music_14"
          ],
          [
           "classics_6"
          ],
          [
           "add-a-comment_18"
          ],
          [
           "fantasy_19"
          ],
          [
           "food-and-drink_33"
          ],
          [
           "classics_6"
          ],
          [
           "history_32"
          ],
          [
           "fiction_10"
          ],
          [
           "history_32"
          ],
          [
           "science_22"
          ],
          [
           "fiction_10"
          ],
          [
           "default_15"
          ],
          [
           "fantasy_19"
          ],
          [
           "fiction_10"
          ],
          [
           "default_15"
          ],
          [
           "young-adult_21"
          ],
          [
           "poetry_23"
          ],
          [
           "default_15"
          ],
          [
           "fantasy_19"
          ],
          [
           "young-adult_21"
          ],
          [
           "nonfiction_13"
          ],
          [
           "fiction_10"
          ],
          [
           "default_15"
          ],
          [
           "default_15"
          ],
          [
           "horror_31"
          ],
          [
           "science_22"
          ],
          [
           "nonfiction_13"
          ],
          [
           "food-and-drink_33"
          ],
          [
           "childrens_11"
          ],
          [
           "young-adult_21"
          ],
          [
           "academic_40"
          ],
          [
           "fiction_10"
          ],
          [
           "thriller_37"
          ],
          [
           "young-adult_21"
          ],
          [
           "young-adult_21"
          ],
          [
           "default_15"
          ],
          [
           "default_15"
          ],
          [
           "default_15"
          ],
          [
           "sequential-art_5"
          ],
          [
           "science-fiction_16"
          ],
          [
           "default_15"
          ],
          [
           "add-a-comment_18"
          ],
          [
           "add-a-comment_18"
          ],
          [
           "default_15"
          ],
          [
           "horror_31"
          ],
          [
           "fiction_10"
          ],
          [
           "sequential-art_5"
          ],
          [
           "nonfiction_13"
          ],
          [
           "philosophy_7"
          ],
          [
           "poetry_23"
          ],
          [
           "default_15"
          ],
          [
           "autobiography_27"
          ],
          [
           "young-adult_21"
          ],
          [
           "history_32"
          ],
          [
           "default_15"
          ],
          [
           "romance_8"
          ],
          [
           "add-a-comment_18"
          ],
          [
           "fantasy_19"
          ],
          [
           "add-a-comment_18"
          ],
          [
           "default_15"
          ],
          [
           "default_15"
          ],
          [
           "classics_6"
          ],
          [
           "romance_8"
          ],
          [
           "historical-fiction_4"
          ],
          [
           "nonfiction_13"
          ],
          [
           "default_15"
          ],
          [
           "classics_6"
          ],
          [
           "nonfiction_13"
          ],
          [
           "nonfiction_13"
          ],
          [
           "fantasy_19"
          ],
          [
           "sequential-art_5"
          ],
          [
           "thriller_37"
          ],
          [
           "fantasy_19"
          ],
          [
           "womens-fiction_9"
          ],
          [
           "womens-fiction_9"
          ],
          [
           "fantasy_19"
          ],
          [
           "default_15"
          ],
          [
           "music_14"
          ],
          [
           "music_14"
          ],
          [
           "horror_31"
          ],
          [
           "horror_31"
          ],
          [
           "default_15"
          ],
          [
           "horror_31"
          ],
          [
           "classics_6"
          ],
          [
           "horror_31"
          ],
          [
           "default_15"
          ],
          [
           "young-adult_21"
          ],
          [
           "fantasy_19"
          ],
          [
           "fantasy_19"
          ],
          [
           "fantasy_19"
          ],
          [
           "classics_6"
          ],
          [
           "nonfiction_13"
          ],
          [
           "historical-fiction_4"
          ],
          [
           "sequential-art_5"
          ],
          [
           "thriller_37"
          ],
          [
           "romance_8"
          ],
          [
           "default_15"
          ],
          [
           "romance_8"
          ],
          [
           "classics_6"
          ],
          [
           "womens-fiction_9"
          ],
          [
           "fiction_10"
          ],
          [
           "classics_6"
          ],
          [
           "romance_8"
          ],
          [
           "spirituality_39"
          ],
          [
           "religion_12"
          ],
          [
           "horror_31"
          ],
          [
           "default_15"
          ],
          [
           "classics_6"
          ],
          [
           "default_15"
          ],
          [
           "default_15"
          ],
          [
           "default_15"
          ],
          [
           "humor_30"
          ],
          [
           "nonfiction_13"
          ],
          [
           "contemporary_38"
          ],
          [
           "young-adult_21"
          ],
          [
           "historical-fiction_4"
          ],
          [
           "nonfiction_13"
          ],
          [
           "food-and-drink_33"
          ],
          [
           "nonfiction_13"
          ],
          [
           "nonfiction_13"
          ],
          [
           "young-adult_21"
          ],
          [
           "default_15"
          ],
          [
           "womens-fiction_9"
          ],
          [
           "nonfiction_13"
          ],
          [
           "fiction_10"
          ],
          [
           "psychology_26"
          ],
          [
           "childrens_11"
          ],
          [
           "sequential-art_5"
          ],
          [
           "womens-fiction_9"
          ],
          [
           "thriller_37"
          ],
          [
           "add-a-comment_18"
          ],
          [
           "childrens_11"
          ],
          [
           "horror_31"
          ],
          [
           "food-and-drink_33"
          ],
          [
           "mystery_3"
          ],
          [
           "sequential-art_5"
          ],
          [
           "fantasy_19"
          ],
          [
           "travel_2"
          ],
          [
           "biography_36"
          ],
          [
           "science-fiction_16"
          ],
          [
           "add-a-comment_18"
          ],
          [
           "historical-fiction_4"
          ],
          [
           "add-a-comment_18"
          ],
          [
           "romance_8"
          ],
          [
           "classics_6"
          ],
          [
           "default_15"
          ],
          [
           "romance_8"
          ],
          [
           "fiction_10"
          ],
          [
           "young-adult_21"
          ],
          [
           "womens-fiction_9"
          ],
          [
           "nonfiction_13"
          ],
          [
           "default_15"
          ],
          [
           "default_15"
          ],
          [
           "childrens_11"
          ],
          [
           "business_35"
          ],
          [
           "historical-fiction_4"
          ],
          [
           "young-adult_21"
          ],
          [
           "fiction_10"
          ],
          [
           "fiction_10"
          ],
          [
           "add-a-comment_18"
          ],
          [
           "history_32"
          ],
          [
           "historical-fiction_4"
          ],
          [
           "default_15"
          ],
          [
           "default_15"
          ],
          [
           "horror_31"
          ],
          [
           "default_15"
          ],
          [
           "add-a-comment_18"
          ],
          [
           "mystery_3"
          ],
          [
           "add-a-comment_18"
          ],
          [
           "science_22"
          ],
          [
           "science_22"
          ],
          [
           "womens-fiction_9"
          ],
          [
           "default_15"
          ],
          [
           "childrens_11"
          ],
          [
           "fiction_10"
          ],
          [
           "mystery_3"
          ],
          [
           "classics_6"
          ],
          [
           "add-a-comment_18"
          ],
          [
           "add-a-comment_18"
          ],
          [
           "childrens_11"
          ],
          [
           "add-a-comment_18"
          ],
          [
           "default_15"
          ],
          [
           "sports-and-games_17"
          ],
          [
           "add-a-comment_18"
          ],
          [
           "default_15"
          ],
          [
           "food-and-drink_33"
          ],
          [
           "fiction_10"
          ],
          [
           "science_22"
          ],
          [
           "nonfiction_13"
          ],
          [
           "nonfiction_13"
          ],
          [
           "womens-fiction_9"
          ],
          [
           "womens-fiction_9"
          ],
          [
           "fantasy_19"
          ],
          [
           "default_15"
          ],
          [
           "add-a-comment_18"
          ],
          [
           "science_22"
          ],
          [
           "young-adult_21"
          ],
          [
           "add-a-comment_18"
          ],
          [
           "sequential-art_5"
          ],
          [
           "autobiography_27"
          ],
          [
           "add-a-comment_18"
          ],
          [
           "nonfiction_13"
          ],
          [
           "business_35"
          ],
          [
           "romance_8"
          ],
          [
           "childrens_11"
          ],
          [
           "science-fiction_16"
          ],
          [
           "default_15"
          ],
          [
           "sequential-art_5"
          ],
          [
           "sequential-art_5"
          ],
          [
           "default_15"
          ],
          [
           "nonfiction_13"
          ],
          [
           "sequential-art_5"
          ],
          [
           "default_15"
          ],
          [
           "default_15"
          ],
          [
           "nonfiction_13"
          ],
          [
           "nonfiction_13"
          ],
          [
           "travel_2"
          ],
          [
           "humor_30"
          ],
          [
           "default_15"
          ],
          [
           "nonfiction_13"
          ],
          [
           "fantasy_19"
          ],
          [
           "autobiography_27"
          ],
          [
           "add-a-comment_18"
          ],
          [
           "autobiography_27"
          ],
          [
           "fiction_10"
          ],
          [
           "science-fiction_16"
          ],
          [
           "autobiography_27"
          ],
          [
           "default_15"
          ],
          [
           "nonfiction_13"
          ],
          [
           "nonfiction_13"
          ],
          [
           "young-adult_21"
          ],
          [
           "default_15"
          ],
          [
           "humor_30"
          ],
          [
           "young-adult_21"
          ],
          [
           "fiction_10"
          ],
          [
           "nonfiction_13"
          ],
          [
           "default_15"
          ],
          [
           "nonfiction_13"
          ],
          [
           "fiction_10"
          ],
          [
           "nonfiction_13"
          ],
          [
           "christian-fiction_34"
          ],
          [
           "womens-fiction_9"
          ],
          [
           "nonfiction_13"
          ],
          [
           "food-and-drink_33"
          ],
          [
           "history_32"
          ],
          [
           "horror_31"
          ],
          [
           "childrens_11"
          ],
          [
           "humor_30"
          ],
          [
           "fantasy_19"
          ],
          [
           "childrens_11"
          ],
          [
           "sequential-art_5"
          ],
          [
           "nonfiction_13"
          ],
          [
           "default_15"
          ],
          [
           "young-adult_21"
          ],
          [
           "historical-fiction_4"
          ],
          [
           "sequential-art_5"
          ],
          [
           "sports-and-games_17"
          ],
          [
           "add-a-comment_18"
          ],
          [
           "adult-fiction_29"
          ],
          [
           "default_15"
          ],
          [
           "mystery_3"
          ],
          [
           "fantasy_19"
          ],
          [
           "default_15"
          ],
          [
           "science-fiction_16"
          ],
          [
           "default_15"
          ],
          [
           "science-fiction_16"
          ],
          [
           "nonfiction_13"
          ],
          [
           "default_15"
          ],
          [
           "default_15"
          ],
          [
           "fantasy_19"
          ],
          [
           "default_15"
          ],
          [
           "fiction_10"
          ],
          [
           "childrens_11"
          ],
          [
           "add-a-comment_18"
          ],
          [
           "psychology_26"
          ],
          [
           "young-adult_21"
          ],
          [
           "parenting_28"
          ],
          [
           "mystery_3"
          ],
          [
           "default_15"
          ],
          [
           "nonfiction_13"
          ],
          [
           "young-adult_21"
          ],
          [
           "nonfiction_13"
          ],
          [
           "nonfiction_13"
          ],
          [
           "nonfiction_13"
          ],
          [
           "sequential-art_5"
          ],
          [
           "fiction_10"
          ],
          [
           "historical-fiction_4"
          ],
          [
           "romance_8"
          ],
          [
           "classics_6"
          ],
          [
           "default_15"
          ],
          [
           "sequential-art_5"
          ],
          [
           "fantasy_19"
          ],
          [
           "childrens_11"
          ],
          [
           "nonfiction_13"
          ],
          [
           "young-adult_21"
          ],
          [
           "classics_6"
          ],
          [
           "nonfiction_13"
          ],
          [
           "default_15"
          ],
          [
           "fantasy_19"
          ],
          [
           "autobiography_27"
          ],
          [
           "psychology_26"
          ],
          [
           "add-a-comment_18"
          ],
          [
           "nonfiction_13"
          ],
          [
           "add-a-comment_18"
          ],
          [
           "sequential-art_5"
          ],
          [
           "fiction_10"
          ],
          [
           "sports-and-games_17"
          ],
          [
           "sequential-art_5"
          ],
          [
           "philosophy_7"
          ],
          [
           "young-adult_21"
          ],
          [
           "music_14"
          ],
          [
           "nonfiction_13"
          ],
          [
           "nonfiction_13"
          ],
          [
           "young-adult_21"
          ],
          [
           "sequential-art_5"
          ],
          [
           "childrens_11"
          ],
          [
           "sequential-art_5"
          ],
          [
           "historical-fiction_4"
          ],
          [
           "romance_8"
          ],
          [
           "fiction_10"
          ],
          [
           "art_25"
          ],
          [
           "paranormal_24"
          ],
          [
           "fantasy_19"
          ],
          [
           "poetry_23"
          ],
          [
           "nonfiction_13"
          ],
          [
           "science-fiction_16"
          ],
          [
           "romance_8"
          ],
          [
           "default_15"
          ],
          [
           "sequential-art_5"
          ],
          [
           "nonfiction_13"
          ],
          [
           "classics_6"
          ],
          [
           "fiction_10"
          ],
          [
           "fantasy_19"
          ],
          [
           "science_22"
          ],
          [
           "historical-fiction_4"
          ],
          [
           "sequential-art_5"
          ],
          [
           "add-a-comment_18"
          ],
          [
           "add-a-comment_18"
          ],
          [
           "mystery_3"
          ],
          [
           "philosophy_7"
          ],
          [
           "default_15"
          ],
          [
           "fantasy_19"
          ],
          [
           "classics_6"
          ],
          [
           "add-a-comment_18"
          ],
          [
           "science-fiction_16"
          ],
          [
           "add-a-comment_18"
          ],
          [
           "new-adult_20"
          ],
          [
           "young-adult_21"
          ],
          [
           "mystery_3"
          ],
          [
           "mystery_3"
          ],
          [
           "nonfiction_13"
          ],
          [
           "womens-fiction_9"
          ],
          [
           "sequential-art_5"
          ],
          [
           "add-a-comment_18"
          ],
          [
           "religion_12"
          ],
          [
           "fiction_10"
          ],
          [
           "young-adult_21"
          ],
          [
           "default_15"
          ],
          [
           "historical-fiction_4"
          ],
          [
           "sequential-art_5"
          ],
          [
           "fantasy_19"
          ],
          [
           "default_15"
          ],
          [
           "new-adult_20"
          ],
          [
           "fantasy_19"
          ],
          [
           "sports-and-games_17"
          ],
          [
           "classics_6"
          ],
          [
           "sequential-art_5"
          ],
          [
           "romance_8"
          ],
          [
           "sequential-art_5"
          ],
          [
           "default_15"
          ],
          [
           "sequential-art_5"
          ],
          [
           "sequential-art_5"
          ],
          [
           "fantasy_19"
          ],
          [
           "fantasy_19"
          ],
          [
           "default_15"
          ],
          [
           "music_14"
          ],
          [
           "new-adult_20"
          ],
          [
           "classics_6"
          ],
          [
           "fantasy_19"
          ],
          [
           "romance_8"
          ],
          [
           "sequential-art_5"
          ],
          [
           "philosophy_7"
          ],
          [
           "childrens_11"
          ],
          [
           "historical-fiction_4"
          ],
          [
           "add-a-comment_18"
          ],
          [
           "romance_8"
          ],
          [
           "fiction_10"
          ],
          [
           "default_15"
          ],
          [
           "romance_8"
          ],
          [
           "sports-and-games_17"
          ],
          [
           "sequential-art_5"
          ],
          [
           "science-fiction_16"
          ],
          [
           "sequential-art_5"
          ],
          [
           "sequential-art_5"
          ],
          [
           "default_15"
          ],
          [
           "music_14"
          ],
          [
           "romance_8"
          ],
          [
           "classics_6"
          ],
          [
           "nonfiction_13"
          ],
          [
           "romance_8"
          ],
          [
           "religion_12"
          ],
          [
           "childrens_11"
          ],
          [
           "romance_8"
          ],
          [
           "fiction_10"
          ],
          [
           "womens-fiction_9"
          ],
          [
           "romance_8"
          ],
          [
           "mystery_3"
          ],
          [
           "sequential-art_5"
          ],
          [
           "philosophy_7"
          ],
          [
           "classics_6"
          ],
          [
           "sequential-art_5"
          ],
          [
           "historical-fiction_4"
          ],
          [
           "mystery_3"
          ],
          [
           "travel_2"
          ]
         ],
         "domain": {
          "x": [
           0,
           1
          ],
          "y": [
           0,
           1
          ]
         },
         "hovertemplate": "product_category=%{customdata[0]}<extra></extra>",
         "labels": [
          "poetry_23",
          "historical-fiction_4",
          "fiction_10",
          "mystery_3",
          "history_32",
          "young-adult_21",
          "business_35",
          "default_15",
          "default_15",
          "poetry_23",
          "default_15",
          "poetry_23",
          "young-adult_21",
          "sequential-art_5",
          "music_14",
          "music_14",
          "poetry_23",
          "science-fiction_16",
          "politics_48",
          "travel_2",
          "thriller_37",
          "music_14",
          "food-and-drink_33",
          "romance_8",
          "romance_8",
          "childrens_11",
          "default_15",
          "default_15",
          "nonfiction_13",
          "art_25",
          "spirituality_39",
          "nonfiction_13",
          "thriller_37",
          "childrens_11",
          "philosophy_7",
          "default_15",
          "default_15",
          "mystery_3",
          "thriller_37",
          "poetry_23",
          "poetry_23",
          "nonfiction_13",
          "fiction_10",
          "nonfiction_13",
          "new-adult_20",
          "contemporary_38",
          "fiction_10",
          "poetry_23",
          "nonfiction_13",
          "fantasy_19",
          "history_32",
          "sequential-art_5",
          "nonfiction_13",
          "sequential-art_5",
          "fiction_10",
          "add-a-comment_18",
          "childrens_11",
          "food-and-drink_33",
          "mystery_3",
          "young-adult_21",
          "sequential-art_5",
          "fiction_10",
          "science_22",
          "add-a-comment_18",
          "nonfiction_13",
          "default_15",
          "nonfiction_13",
          "nonfiction_13",
          "philosophy_7",
          "health_47",
          "add-a-comment_18",
          "history_32",
          "spirituality_39",
          "nonfiction_13",
          "default_15",
          "horror_31",
          "fantasy_19",
          "sequential-art_5",
          "nonfiction_13",
          "sequential-art_5",
          "sequential-art_5",
          "fantasy_19",
          "sequential-art_5",
          "history_32",
          "sequential-art_5",
          "sequential-art_5",
          "sequential-art_5",
          "self-help_41",
          "add-a-comment_18",
          "young-adult_21",
          "food-and-drink_33",
          "fantasy_19",
          "food-and-drink_33",
          "sequential-art_5",
          "sequential-art_5",
          "sequential-art_5",
          "food-and-drink_33",
          "add-a-comment_18",
          "science-fiction_16",
          "nonfiction_13",
          "science_22",
          "sequential-art_5",
          "sequential-art_5",
          "self-help_41",
          "romance_8",
          "sequential-art_5",
          "historical-fiction_4",
          "romance_8",
          "romance_8",
          "nonfiction_13",
          "religion_12",
          "sequential-art_5",
          "fantasy_19",
          "sequential-art_5",
          "sequential-art_5",
          "nonfiction_13",
          "young-adult_21",
          "default_15",
          "sequential-art_5",
          "fantasy_19",
          "nonfiction_13",
          "default_15",
          "default_15",
          "mystery_3",
          "historical-fiction_4",
          "young-adult_21",
          "fantasy_19",
          "christian_43",
          "religion_12",
          "science-fiction_16",
          "fiction_10",
          "default_15",
          "fantasy_19",
          "history_32",
          "default_15",
          "childrens_11",
          "romance_8",
          "fiction_10",
          "business_35",
          "philosophy_7",
          "sequential-art_5",
          "default_15",
          "fiction_10",
          "default_15",
          "science-fiction_16",
          "nonfiction_13",
          "nonfiction_13",
          "food-and-drink_33",
          "mystery_3",
          "new-adult_20",
          "new-adult_20",
          "food-and-drink_33",
          "crime_51",
          "default_15",
          "historical-fiction_4",
          "fantasy_19",
          "default_15",
          "nonfiction_13",
          "default_15",
          "food-and-drink_33",
          "default_15",
          "nonfiction_13",
          "default_15",
          "autobiography_27",
          "business_35",
          "romance_8",
          "romance_8",
          "science-fiction_16",
          "nonfiction_13",
          "business_35",
          "add-a-comment_18",
          "default_15",
          "young-adult_21",
          "default_15",
          "christian-fiction_34",
          "default_15",
          "poetry_23",
          "young-adult_21",
          "poetry_23",
          "historical-fiction_4",
          "add-a-comment_18",
          "default_15",
          "biography_36",
          "childrens_11",
          "young-adult_21",
          "default_15",
          "womens-fiction_9",
          "fantasy_19",
          "default_15",
          "travel_2",
          "young-adult_21",
          "horror_31",
          "default_15",
          "fiction_10",
          "sequential-art_5",
          "default_15",
          "default_15",
          "default_15",
          "romance_8",
          "food-and-drink_33",
          "erotica_50",
          "nonfiction_13",
          "christian-fiction_34",
          "spirituality_39",
          "nonfiction_13",
          "nonfiction_13",
          "default_15",
          "sequential-art_5",
          "sequential-art_5",
          "default_15",
          "default_15",
          "default_15",
          "cultural_49",
          "default_15",
          "nonfiction_13",
          "history_32",
          "thriller_37",
          "sequential-art_5",
          "young-adult_21",
          "politics_48",
          "nonfiction_13",
          "nonfiction_13",
          "sequential-art_5",
          "childrens_11",
          "default_15",
          "young-adult_21",
          "default_15",
          "childrens_11",
          "sequential-art_5",
          "young-adult_21",
          "nonfiction_13",
          "default_15",
          "add-a-comment_18",
          "romance_8",
          "fiction_10",
          "fiction_10",
          "fantasy_19",
          "default_15",
          "add-a-comment_18",
          "default_15",
          "default_15",
          "historical-fiction_4",
          "psychology_26",
          "humor_30",
          "horror_31",
          "nonfiction_13",
          "mystery_3",
          "add-a-comment_18",
          "fantasy_19",
          "food-and-drink_33",
          "thriller_37",
          "fiction_10",
          "add-a-comment_18",
          "young-adult_21",
          "fantasy_19",
          "nonfiction_13",
          "thriller_37",
          "mystery_3",
          "mystery_3",
          "fiction_10",
          "nonfiction_13",
          "sequential-art_5",
          "fiction_10",
          "default_15",
          "science_22",
          "contemporary_38",
          "sequential-art_5",
          "fiction_10",
          "travel_2",
          "poetry_23",
          "sequential-art_5",
          "sequential-art_5",
          "childrens_11",
          "poetry_23",
          "horror_31",
          "self-help_41",
          "childrens_11",
          "humor_30",
          "nonfiction_13",
          "sequential-art_5",
          "fiction_10",
          "fiction_10",
          "young-adult_21",
          "fiction_10",
          "add-a-comment_18",
          "business_35",
          "childrens_11",
          "default_15",
          "sequential-art_5",
          "music_14",
          "nonfiction_13",
          "default_15",
          "nonfiction_13",
          "default_15",
          "food-and-drink_33",
          "fantasy_19",
          "humor_30",
          "fiction_10",
          "humor_30",
          "default_15",
          "romance_8",
          "nonfiction_13",
          "default_15",
          "religion_12",
          "historical-fiction_4",
          "art_25",
          "nonfiction_13",
          "default_15",
          "fiction_10",
          "sequential-art_5",
          "fiction_10",
          "nonfiction_13",
          "health_47",
          "young-adult_21",
          "horror_31",
          "fantasy_19",
          "fiction_10",
          "default_15",
          "christian_43",
          "fiction_10",
          "add-a-comment_18",
          "default_15",
          "fantasy_19",
          "default_15",
          "default_15",
          "default_15",
          "add-a-comment_18",
          "young-adult_21",
          "default_15",
          "default_15",
          "nonfiction_13",
          "nonfiction_13",
          "sequential-art_5",
          "food-and-drink_33",
          "food-and-drink_33",
          "fiction_10",
          "sequential-art_5",
          "young-adult_21",
          "add-a-comment_18",
          "default_15",
          "historical_42",
          "sequential-art_5",
          "nonfiction_13",
          "mystery_3",
          "mystery_3",
          "add-a-comment_18",
          "add-a-comment_18",
          "fiction_10",
          "history_32",
          "add-a-comment_18",
          "history_32",
          "default_15",
          "fantasy_19",
          "add-a-comment_18",
          "food-and-drink_33",
          "nonfiction_13",
          "womens-fiction_9",
          "science_22",
          "fantasy_19",
          "fiction_10",
          "add-a-comment_18",
          "nonfiction_13",
          "add-a-comment_18",
          "psychology_26",
          "young-adult_21",
          "fiction_10",
          "nonfiction_13",
          "add-a-comment_18",
          "young-adult_21",
          "nonfiction_13",
          "default_15",
          "business_35",
          "horror_31",
          "mystery_3",
          "add-a-comment_18",
          "young-adult_21",
          "mystery_3",
          "mystery_3",
          "historical-fiction_4",
          "default_15",
          "mystery_3",
          "nonfiction_13",
          "food-and-drink_33",
          "politics_48",
          "default_15",
          "romance_8",
          "horror_31",
          "mystery_3",
          "historical-fiction_4",
          "food-and-drink_33",
          "default_15",
          "mystery_3",
          "nonfiction_13",
          "fiction_10",
          "business_35",
          "romance_8",
          "science-fiction_16",
          "biography_36",
          "mystery_3",
          "romance_8",
          "fiction_10",
          "nonfiction_13",
          "autobiography_27",
          "historical-fiction_4",
          "fiction_10",
          "autobiography_27",
          "womens-fiction_9",
          "psychology_26",
          "womens-fiction_9",
          "young-adult_21",
          "fiction_10",
          "food-and-drink_33",
          "business_35",
          "science-fiction_16",
          "default_15",
          "nonfiction_13",
          "romance_8",
          "fiction_10",
          "nonfiction_13",
          "health_47",
          "add-a-comment_18",
          "add-a-comment_18",
          "default_15",
          "default_15",
          "fiction_10",
          "default_15",
          "food-and-drink_33",
          "default_15",
          "science_22",
          "religion_12",
          "health_47",
          "young-adult_21",
          "novels_46",
          "childrens_11",
          "default_15",
          "default_15",
          "spirituality_39",
          "sequential-art_5",
          "humor_30",
          "young-adult_21",
          "nonfiction_13",
          "art_25",
          "fantasy_19",
          "add-a-comment_18",
          "add-a-comment_18",
          "nonfiction_13",
          "nonfiction_13",
          "nonfiction_13",
          "travel_2",
          "default_15",
          "art_25",
          "nonfiction_13",
          "default_15",
          "fiction_10",
          "short-stories_45",
          "business_35",
          "young-adult_21",
          "nonfiction_13",
          "suspense_44",
          "christian-fiction_34",
          "sequential-art_5",
          "nonfiction_13",
          "philosophy_7",
          "music_14",
          "poetry_23",
          "young-adult_21",
          "fiction_10",
          "nonfiction_13",
          "nonfiction_13",
          "nonfiction_13",
          "poetry_23",
          "default_15",
          "music_14",
          "philosophy_7",
          "default_15",
          "default_15",
          "nonfiction_13",
          "fiction_10",
          "poetry_23",
          "art_25",
          "default_15",
          "young-adult_21",
          "default_15",
          "science_22",
          "default_15",
          "history_32",
          "nonfiction_13",
          "nonfiction_13",
          "nonfiction_13",
          "nonfiction_13",
          "food-and-drink_33",
          "history_32",
          "self-help_41",
          "default_15",
          "mystery_3",
          "spirituality_39",
          "travel_2",
          "humor_30",
          "default_15",
          "childrens_11",
          "art_25",
          "science_22",
          "default_15",
          "default_15",
          "add-a-comment_18",
          "biography_36",
          "add-a-comment_18",
          "historical-fiction_4",
          "fiction_10",
          "mystery_3",
          "art_25",
          "default_15",
          "add-a-comment_18",
          "default_15",
          "romance_8",
          "fiction_10",
          "childrens_11",
          "business_35",
          "childrens_11",
          "childrens_11",
          "young-adult_21",
          "food-and-drink_33",
          "womens-fiction_9",
          "fiction_10",
          "christian-fiction_34",
          "default_15",
          "poetry_23",
          "fantasy_19",
          "add-a-comment_18",
          "food-and-drink_33",
          "food-and-drink_33",
          "add-a-comment_18",
          "sequential-art_5",
          "nonfiction_13",
          "nonfiction_13",
          "fantasy_19",
          "mystery_3",
          "christian-fiction_34",
          "music_14",
          "christian_43",
          "biography_36",
          "philosophy_7",
          "travel_2",
          "history_32",
          "fantasy_19",
          "default_15",
          "history_32",
          "default_15",
          "mystery_3",
          "nonfiction_13",
          "default_15",
          "add-a-comment_18",
          "historical-fiction_4",
          "default_15",
          "travel_2",
          "add-a-comment_18",
          "add-a-comment_18",
          "historical_42",
          "default_15",
          "poetry_23",
          "food-and-drink_33",
          "young-adult_21",
          "default_15",
          "add-a-comment_18",
          "default_15",
          "add-a-comment_18",
          "fiction_10",
          "mystery_3",
          "nonfiction_13",
          "self-help_41",
          "thriller_37",
          "nonfiction_13",
          "add-a-comment_18",
          "sequential-art_5",
          "fiction_10",
          "sequential-art_5",
          "history_32",
          "food-and-drink_33",
          "psychology_26",
          "travel_2",
          "historical-fiction_4",
          "young-adult_21",
          "nonfiction_13",
          "young-adult_21",
          "default_15",
          "young-adult_21",
          "music_14",
          "classics_6",
          "add-a-comment_18",
          "fantasy_19",
          "food-and-drink_33",
          "classics_6",
          "history_32",
          "fiction_10",
          "history_32",
          "science_22",
          "fiction_10",
          "default_15",
          "fantasy_19",
          "fiction_10",
          "default_15",
          "young-adult_21",
          "poetry_23",
          "default_15",
          "fantasy_19",
          "young-adult_21",
          "nonfiction_13",
          "fiction_10",
          "default_15",
          "default_15",
          "horror_31",
          "science_22",
          "nonfiction_13",
          "food-and-drink_33",
          "childrens_11",
          "young-adult_21",
          "academic_40",
          "fiction_10",
          "thriller_37",
          "young-adult_21",
          "young-adult_21",
          "default_15",
          "default_15",
          "default_15",
          "sequential-art_5",
          "science-fiction_16",
          "default_15",
          "add-a-comment_18",
          "add-a-comment_18",
          "default_15",
          "horror_31",
          "fiction_10",
          "sequential-art_5",
          "nonfiction_13",
          "philosophy_7",
          "poetry_23",
          "default_15",
          "autobiography_27",
          "young-adult_21",
          "history_32",
          "default_15",
          "romance_8",
          "add-a-comment_18",
          "fantasy_19",
          "add-a-comment_18",
          "default_15",
          "default_15",
          "classics_6",
          "romance_8",
          "historical-fiction_4",
          "nonfiction_13",
          "default_15",
          "classics_6",
          "nonfiction_13",
          "nonfiction_13",
          "fantasy_19",
          "sequential-art_5",
          "thriller_37",
          "fantasy_19",
          "womens-fiction_9",
          "womens-fiction_9",
          "fantasy_19",
          "default_15",
          "music_14",
          "music_14",
          "horror_31",
          "horror_31",
          "default_15",
          "horror_31",
          "classics_6",
          "horror_31",
          "default_15",
          "young-adult_21",
          "fantasy_19",
          "fantasy_19",
          "fantasy_19",
          "classics_6",
          "nonfiction_13",
          "historical-fiction_4",
          "sequential-art_5",
          "thriller_37",
          "romance_8",
          "default_15",
          "romance_8",
          "classics_6",
          "womens-fiction_9",
          "fiction_10",
          "classics_6",
          "romance_8",
          "spirituality_39",
          "religion_12",
          "horror_31",
          "default_15",
          "classics_6",
          "default_15",
          "default_15",
          "default_15",
          "humor_30",
          "nonfiction_13",
          "contemporary_38",
          "young-adult_21",
          "historical-fiction_4",
          "nonfiction_13",
          "food-and-drink_33",
          "nonfiction_13",
          "nonfiction_13",
          "young-adult_21",
          "default_15",
          "womens-fiction_9",
          "nonfiction_13",
          "fiction_10",
          "psychology_26",
          "childrens_11",
          "sequential-art_5",
          "womens-fiction_9",
          "thriller_37",
          "add-a-comment_18",
          "childrens_11",
          "horror_31",
          "food-and-drink_33",
          "mystery_3",
          "sequential-art_5",
          "fantasy_19",
          "travel_2",
          "biography_36",
          "science-fiction_16",
          "add-a-comment_18",
          "historical-fiction_4",
          "add-a-comment_18",
          "romance_8",
          "classics_6",
          "default_15",
          "romance_8",
          "fiction_10",
          "young-adult_21",
          "womens-fiction_9",
          "nonfiction_13",
          "default_15",
          "default_15",
          "childrens_11",
          "business_35",
          "historical-fiction_4",
          "young-adult_21",
          "fiction_10",
          "fiction_10",
          "add-a-comment_18",
          "history_32",
          "historical-fiction_4",
          "default_15",
          "default_15",
          "horror_31",
          "default_15",
          "add-a-comment_18",
          "mystery_3",
          "add-a-comment_18",
          "science_22",
          "science_22",
          "womens-fiction_9",
          "default_15",
          "childrens_11",
          "fiction_10",
          "mystery_3",
          "classics_6",
          "add-a-comment_18",
          "add-a-comment_18",
          "childrens_11",
          "add-a-comment_18",
          "default_15",
          "sports-and-games_17",
          "add-a-comment_18",
          "default_15",
          "food-and-drink_33",
          "fiction_10",
          "science_22",
          "nonfiction_13",
          "nonfiction_13",
          "womens-fiction_9",
          "womens-fiction_9",
          "fantasy_19",
          "default_15",
          "add-a-comment_18",
          "science_22",
          "young-adult_21",
          "add-a-comment_18",
          "sequential-art_5",
          "autobiography_27",
          "add-a-comment_18",
          "nonfiction_13",
          "business_35",
          "romance_8",
          "childrens_11",
          "science-fiction_16",
          "default_15",
          "sequential-art_5",
          "sequential-art_5",
          "default_15",
          "nonfiction_13",
          "sequential-art_5",
          "default_15",
          "default_15",
          "nonfiction_13",
          "nonfiction_13",
          "travel_2",
          "humor_30",
          "default_15",
          "nonfiction_13",
          "fantasy_19",
          "autobiography_27",
          "add-a-comment_18",
          "autobiography_27",
          "fiction_10",
          "science-fiction_16",
          "autobiography_27",
          "default_15",
          "nonfiction_13",
          "nonfiction_13",
          "young-adult_21",
          "default_15",
          "humor_30",
          "young-adult_21",
          "fiction_10",
          "nonfiction_13",
          "default_15",
          "nonfiction_13",
          "fiction_10",
          "nonfiction_13",
          "christian-fiction_34",
          "womens-fiction_9",
          "nonfiction_13",
          "food-and-drink_33",
          "history_32",
          "horror_31",
          "childrens_11",
          "humor_30",
          "fantasy_19",
          "childrens_11",
          "sequential-art_5",
          "nonfiction_13",
          "default_15",
          "young-adult_21",
          "historical-fiction_4",
          "sequential-art_5",
          "sports-and-games_17",
          "add-a-comment_18",
          "adult-fiction_29",
          "default_15",
          "mystery_3",
          "fantasy_19",
          "default_15",
          "science-fiction_16",
          "default_15",
          "science-fiction_16",
          "nonfiction_13",
          "default_15",
          "default_15",
          "fantasy_19",
          "default_15",
          "fiction_10",
          "childrens_11",
          "add-a-comment_18",
          "psychology_26",
          "young-adult_21",
          "parenting_28",
          "mystery_3",
          "default_15",
          "nonfiction_13",
          "young-adult_21",
          "nonfiction_13",
          "nonfiction_13",
          "nonfiction_13",
          "sequential-art_5",
          "fiction_10",
          "historical-fiction_4",
          "romance_8",
          "classics_6",
          "default_15",
          "sequential-art_5",
          "fantasy_19",
          "childrens_11",
          "nonfiction_13",
          "young-adult_21",
          "classics_6",
          "nonfiction_13",
          "default_15",
          "fantasy_19",
          "autobiography_27",
          "psychology_26",
          "add-a-comment_18",
          "nonfiction_13",
          "add-a-comment_18",
          "sequential-art_5",
          "fiction_10",
          "sports-and-games_17",
          "sequential-art_5",
          "philosophy_7",
          "young-adult_21",
          "music_14",
          "nonfiction_13",
          "nonfiction_13",
          "young-adult_21",
          "sequential-art_5",
          "childrens_11",
          "sequential-art_5",
          "historical-fiction_4",
          "romance_8",
          "fiction_10",
          "art_25",
          "paranormal_24",
          "fantasy_19",
          "poetry_23",
          "nonfiction_13",
          "science-fiction_16",
          "romance_8",
          "default_15",
          "sequential-art_5",
          "nonfiction_13",
          "classics_6",
          "fiction_10",
          "fantasy_19",
          "science_22",
          "historical-fiction_4",
          "sequential-art_5",
          "add-a-comment_18",
          "add-a-comment_18",
          "mystery_3",
          "philosophy_7",
          "default_15",
          "fantasy_19",
          "classics_6",
          "add-a-comment_18",
          "science-fiction_16",
          "add-a-comment_18",
          "new-adult_20",
          "young-adult_21",
          "mystery_3",
          "mystery_3",
          "nonfiction_13",
          "womens-fiction_9",
          "sequential-art_5",
          "add-a-comment_18",
          "religion_12",
          "fiction_10",
          "young-adult_21",
          "default_15",
          "historical-fiction_4",
          "sequential-art_5",
          "fantasy_19",
          "default_15",
          "new-adult_20",
          "fantasy_19",
          "sports-and-games_17",
          "classics_6",
          "sequential-art_5",
          "romance_8",
          "sequential-art_5",
          "default_15",
          "sequential-art_5",
          "sequential-art_5",
          "fantasy_19",
          "fantasy_19",
          "default_15",
          "music_14",
          "new-adult_20",
          "classics_6",
          "fantasy_19",
          "romance_8",
          "sequential-art_5",
          "philosophy_7",
          "childrens_11",
          "historical-fiction_4",
          "add-a-comment_18",
          "romance_8",
          "fiction_10",
          "default_15",
          "romance_8",
          "sports-and-games_17",
          "sequential-art_5",
          "science-fiction_16",
          "sequential-art_5",
          "sequential-art_5",
          "default_15",
          "music_14",
          "romance_8",
          "classics_6",
          "nonfiction_13",
          "romance_8",
          "religion_12",
          "childrens_11",
          "romance_8",
          "fiction_10",
          "womens-fiction_9",
          "romance_8",
          "mystery_3",
          "sequential-art_5",
          "philosophy_7",
          "classics_6",
          "sequential-art_5",
          "historical-fiction_4",
          "mystery_3",
          "travel_2"
         ],
         "legendgroup": "",
         "name": "",
         "showlegend": true,
         "textinfo": "percent+label",
         "textposition": "inside",
         "type": "pie"
        }
       ],
       "layout": {
        "legend": {
         "tracegroupgap": 0
        },
        "template": {
         "data": {
          "bar": [
           {
            "error_x": {
             "color": "#2a3f5f"
            },
            "error_y": {
             "color": "#2a3f5f"
            },
            "marker": {
             "line": {
              "color": "#E5ECF6",
              "width": 0.5
             },
             "pattern": {
              "fillmode": "overlay",
              "size": 10,
              "solidity": 0.2
             }
            },
            "type": "bar"
           }
          ],
          "barpolar": [
           {
            "marker": {
             "line": {
              "color": "#E5ECF6",
              "width": 0.5
             },
             "pattern": {
              "fillmode": "overlay",
              "size": 10,
              "solidity": 0.2
             }
            },
            "type": "barpolar"
           }
          ],
          "carpet": [
           {
            "aaxis": {
             "endlinecolor": "#2a3f5f",
             "gridcolor": "white",
             "linecolor": "white",
             "minorgridcolor": "white",
             "startlinecolor": "#2a3f5f"
            },
            "baxis": {
             "endlinecolor": "#2a3f5f",
             "gridcolor": "white",
             "linecolor": "white",
             "minorgridcolor": "white",
             "startlinecolor": "#2a3f5f"
            },
            "type": "carpet"
           }
          ],
          "choropleth": [
           {
            "colorbar": {
             "outlinewidth": 0,
             "ticks": ""
            },
            "type": "choropleth"
           }
          ],
          "contour": [
           {
            "colorbar": {
             "outlinewidth": 0,
             "ticks": ""
            },
            "colorscale": [
             [
              0,
              "#0d0887"
             ],
             [
              0.1111111111111111,
              "#46039f"
             ],
             [
              0.2222222222222222,
              "#7201a8"
             ],
             [
              0.3333333333333333,
              "#9c179e"
             ],
             [
              0.4444444444444444,
              "#bd3786"
             ],
             [
              0.5555555555555556,
              "#d8576b"
             ],
             [
              0.6666666666666666,
              "#ed7953"
             ],
             [
              0.7777777777777778,
              "#fb9f3a"
             ],
             [
              0.8888888888888888,
              "#fdca26"
             ],
             [
              1,
              "#f0f921"
             ]
            ],
            "type": "contour"
           }
          ],
          "contourcarpet": [
           {
            "colorbar": {
             "outlinewidth": 0,
             "ticks": ""
            },
            "type": "contourcarpet"
           }
          ],
          "heatmap": [
           {
            "colorbar": {
             "outlinewidth": 0,
             "ticks": ""
            },
            "colorscale": [
             [
              0,
              "#0d0887"
             ],
             [
              0.1111111111111111,
              "#46039f"
             ],
             [
              0.2222222222222222,
              "#7201a8"
             ],
             [
              0.3333333333333333,
              "#9c179e"
             ],
             [
              0.4444444444444444,
              "#bd3786"
             ],
             [
              0.5555555555555556,
              "#d8576b"
             ],
             [
              0.6666666666666666,
              "#ed7953"
             ],
             [
              0.7777777777777778,
              "#fb9f3a"
             ],
             [
              0.8888888888888888,
              "#fdca26"
             ],
             [
              1,
              "#f0f921"
             ]
            ],
            "type": "heatmap"
           }
          ],
          "heatmapgl": [
           {
            "colorbar": {
             "outlinewidth": 0,
             "ticks": ""
            },
            "colorscale": [
             [
              0,
              "#0d0887"
             ],
             [
              0.1111111111111111,
              "#46039f"
             ],
             [
              0.2222222222222222,
              "#7201a8"
             ],
             [
              0.3333333333333333,
              "#9c179e"
             ],
             [
              0.4444444444444444,
              "#bd3786"
             ],
             [
              0.5555555555555556,
              "#d8576b"
             ],
             [
              0.6666666666666666,
              "#ed7953"
             ],
             [
              0.7777777777777778,
              "#fb9f3a"
             ],
             [
              0.8888888888888888,
              "#fdca26"
             ],
             [
              1,
              "#f0f921"
             ]
            ],
            "type": "heatmapgl"
           }
          ],
          "histogram": [
           {
            "marker": {
             "pattern": {
              "fillmode": "overlay",
              "size": 10,
              "solidity": 0.2
             }
            },
            "type": "histogram"
           }
          ],
          "histogram2d": [
           {
            "colorbar": {
             "outlinewidth": 0,
             "ticks": ""
            },
            "colorscale": [
             [
              0,
              "#0d0887"
             ],
             [
              0.1111111111111111,
              "#46039f"
             ],
             [
              0.2222222222222222,
              "#7201a8"
             ],
             [
              0.3333333333333333,
              "#9c179e"
             ],
             [
              0.4444444444444444,
              "#bd3786"
             ],
             [
              0.5555555555555556,
              "#d8576b"
             ],
             [
              0.6666666666666666,
              "#ed7953"
             ],
             [
              0.7777777777777778,
              "#fb9f3a"
             ],
             [
              0.8888888888888888,
              "#fdca26"
             ],
             [
              1,
              "#f0f921"
             ]
            ],
            "type": "histogram2d"
           }
          ],
          "histogram2dcontour": [
           {
            "colorbar": {
             "outlinewidth": 0,
             "ticks": ""
            },
            "colorscale": [
             [
              0,
              "#0d0887"
             ],
             [
              0.1111111111111111,
              "#46039f"
             ],
             [
              0.2222222222222222,
              "#7201a8"
             ],
             [
              0.3333333333333333,
              "#9c179e"
             ],
             [
              0.4444444444444444,
              "#bd3786"
             ],
             [
              0.5555555555555556,
              "#d8576b"
             ],
             [
              0.6666666666666666,
              "#ed7953"
             ],
             [
              0.7777777777777778,
              "#fb9f3a"
             ],
             [
              0.8888888888888888,
              "#fdca26"
             ],
             [
              1,
              "#f0f921"
             ]
            ],
            "type": "histogram2dcontour"
           }
          ],
          "mesh3d": [
           {
            "colorbar": {
             "outlinewidth": 0,
             "ticks": ""
            },
            "type": "mesh3d"
           }
          ],
          "parcoords": [
           {
            "line": {
             "colorbar": {
              "outlinewidth": 0,
              "ticks": ""
             }
            },
            "type": "parcoords"
           }
          ],
          "pie": [
           {
            "automargin": true,
            "type": "pie"
           }
          ],
          "scatter": [
           {
            "marker": {
             "colorbar": {
              "outlinewidth": 0,
              "ticks": ""
             }
            },
            "type": "scatter"
           }
          ],
          "scatter3d": [
           {
            "line": {
             "colorbar": {
              "outlinewidth": 0,
              "ticks": ""
             }
            },
            "marker": {
             "colorbar": {
              "outlinewidth": 0,
              "ticks": ""
             }
            },
            "type": "scatter3d"
           }
          ],
          "scattercarpet": [
           {
            "marker": {
             "colorbar": {
              "outlinewidth": 0,
              "ticks": ""
             }
            },
            "type": "scattercarpet"
           }
          ],
          "scattergeo": [
           {
            "marker": {
             "colorbar": {
              "outlinewidth": 0,
              "ticks": ""
             }
            },
            "type": "scattergeo"
           }
          ],
          "scattergl": [
           {
            "marker": {
             "colorbar": {
              "outlinewidth": 0,
              "ticks": ""
             }
            },
            "type": "scattergl"
           }
          ],
          "scattermapbox": [
           {
            "marker": {
             "colorbar": {
              "outlinewidth": 0,
              "ticks": ""
             }
            },
            "type": "scattermapbox"
           }
          ],
          "scatterpolar": [
           {
            "marker": {
             "colorbar": {
              "outlinewidth": 0,
              "ticks": ""
             }
            },
            "type": "scatterpolar"
           }
          ],
          "scatterpolargl": [
           {
            "marker": {
             "colorbar": {
              "outlinewidth": 0,
              "ticks": ""
             }
            },
            "type": "scatterpolargl"
           }
          ],
          "scatterternary": [
           {
            "marker": {
             "colorbar": {
              "outlinewidth": 0,
              "ticks": ""
             }
            },
            "type": "scatterternary"
           }
          ],
          "surface": [
           {
            "colorbar": {
             "outlinewidth": 0,
             "ticks": ""
            },
            "colorscale": [
             [
              0,
              "#0d0887"
             ],
             [
              0.1111111111111111,
              "#46039f"
             ],
             [
              0.2222222222222222,
              "#7201a8"
             ],
             [
              0.3333333333333333,
              "#9c179e"
             ],
             [
              0.4444444444444444,
              "#bd3786"
             ],
             [
              0.5555555555555556,
              "#d8576b"
             ],
             [
              0.6666666666666666,
              "#ed7953"
             ],
             [
              0.7777777777777778,
              "#fb9f3a"
             ],
             [
              0.8888888888888888,
              "#fdca26"
             ],
             [
              1,
              "#f0f921"
             ]
            ],
            "type": "surface"
           }
          ],
          "table": [
           {
            "cells": {
             "fill": {
              "color": "#EBF0F8"
             },
             "line": {
              "color": "white"
             }
            },
            "header": {
             "fill": {
              "color": "#C8D4E3"
             },
             "line": {
              "color": "white"
             }
            },
            "type": "table"
           }
          ]
         },
         "layout": {
          "annotationdefaults": {
           "arrowcolor": "#2a3f5f",
           "arrowhead": 0,
           "arrowwidth": 1
          },
          "autotypenumbers": "strict",
          "coloraxis": {
           "colorbar": {
            "outlinewidth": 0,
            "ticks": ""
           }
          },
          "colorscale": {
           "diverging": [
            [
             0,
             "#8e0152"
            ],
            [
             0.1,
             "#c51b7d"
            ],
            [
             0.2,
             "#de77ae"
            ],
            [
             0.3,
             "#f1b6da"
            ],
            [
             0.4,
             "#fde0ef"
            ],
            [
             0.5,
             "#f7f7f7"
            ],
            [
             0.6,
             "#e6f5d0"
            ],
            [
             0.7,
             "#b8e186"
            ],
            [
             0.8,
             "#7fbc41"
            ],
            [
             0.9,
             "#4d9221"
            ],
            [
             1,
             "#276419"
            ]
           ],
           "sequential": [
            [
             0,
             "#0d0887"
            ],
            [
             0.1111111111111111,
             "#46039f"
            ],
            [
             0.2222222222222222,
             "#7201a8"
            ],
            [
             0.3333333333333333,
             "#9c179e"
            ],
            [
             0.4444444444444444,
             "#bd3786"
            ],
            [
             0.5555555555555556,
             "#d8576b"
            ],
            [
             0.6666666666666666,
             "#ed7953"
            ],
            [
             0.7777777777777778,
             "#fb9f3a"
            ],
            [
             0.8888888888888888,
             "#fdca26"
            ],
            [
             1,
             "#f0f921"
            ]
           ],
           "sequentialminus": [
            [
             0,
             "#0d0887"
            ],
            [
             0.1111111111111111,
             "#46039f"
            ],
            [
             0.2222222222222222,
             "#7201a8"
            ],
            [
             0.3333333333333333,
             "#9c179e"
            ],
            [
             0.4444444444444444,
             "#bd3786"
            ],
            [
             0.5555555555555556,
             "#d8576b"
            ],
            [
             0.6666666666666666,
             "#ed7953"
            ],
            [
             0.7777777777777778,
             "#fb9f3a"
            ],
            [
             0.8888888888888888,
             "#fdca26"
            ],
            [
             1,
             "#f0f921"
            ]
           ]
          },
          "colorway": [
           "#636efa",
           "#EF553B",
           "#00cc96",
           "#ab63fa",
           "#FFA15A",
           "#19d3f3",
           "#FF6692",
           "#B6E880",
           "#FF97FF",
           "#FECB52"
          ],
          "font": {
           "color": "#2a3f5f"
          },
          "geo": {
           "bgcolor": "white",
           "lakecolor": "white",
           "landcolor": "#E5ECF6",
           "showlakes": true,
           "showland": true,
           "subunitcolor": "white"
          },
          "hoverlabel": {
           "align": "left"
          },
          "hovermode": "closest",
          "mapbox": {
           "style": "light"
          },
          "paper_bgcolor": "white",
          "plot_bgcolor": "#E5ECF6",
          "polar": {
           "angularaxis": {
            "gridcolor": "white",
            "linecolor": "white",
            "ticks": ""
           },
           "bgcolor": "#E5ECF6",
           "radialaxis": {
            "gridcolor": "white",
            "linecolor": "white",
            "ticks": ""
           }
          },
          "scene": {
           "xaxis": {
            "backgroundcolor": "#E5ECF6",
            "gridcolor": "white",
            "gridwidth": 2,
            "linecolor": "white",
            "showbackground": true,
            "ticks": "",
            "zerolinecolor": "white"
           },
           "yaxis": {
            "backgroundcolor": "#E5ECF6",
            "gridcolor": "white",
            "gridwidth": 2,
            "linecolor": "white",
            "showbackground": true,
            "ticks": "",
            "zerolinecolor": "white"
           },
           "zaxis": {
            "backgroundcolor": "#E5ECF6",
            "gridcolor": "white",
            "gridwidth": 2,
            "linecolor": "white",
            "showbackground": true,
            "ticks": "",
            "zerolinecolor": "white"
           }
          },
          "shapedefaults": {
           "line": {
            "color": "#2a3f5f"
           }
          },
          "ternary": {
           "aaxis": {
            "gridcolor": "white",
            "linecolor": "white",
            "ticks": ""
           },
           "baxis": {
            "gridcolor": "white",
            "linecolor": "white",
            "ticks": ""
           },
           "bgcolor": "#E5ECF6",
           "caxis": {
            "gridcolor": "white",
            "linecolor": "white",
            "ticks": ""
           }
          },
          "title": {
           "x": 0.05
          },
          "xaxis": {
           "automargin": true,
           "gridcolor": "white",
           "linecolor": "white",
           "ticks": "",
           "title": {
            "standoff": 15
           },
           "zerolinecolor": "white",
           "zerolinewidth": 2
          },
          "yaxis": {
           "automargin": true,
           "gridcolor": "white",
           "linecolor": "white",
           "ticks": "",
           "title": {
            "standoff": 15
           },
           "zerolinecolor": "white",
           "zerolinewidth": 2
          }
         }
        },
        "title": {
         "text": "Proportion Of Different Categories in the Dataset"
        }
       }
      },
      "text/html": [
       "<div>                            <div id=\"f2275a02-ea2d-487f-99be-78b28177ee1b\" class=\"plotly-graph-div\" style=\"height:525px; width:100%;\"></div>            <script type=\"text/javascript\">                require([\"plotly\"], function(Plotly) {                    window.PLOTLYENV=window.PLOTLYENV || {};                                    if (document.getElementById(\"f2275a02-ea2d-487f-99be-78b28177ee1b\")) {                    Plotly.newPlot(                        \"f2275a02-ea2d-487f-99be-78b28177ee1b\",                        [{\"customdata\":[[\"poetry_23\"],[\"historical-fiction_4\"],[\"fiction_10\"],[\"mystery_3\"],[\"history_32\"],[\"young-adult_21\"],[\"business_35\"],[\"default_15\"],[\"default_15\"],[\"poetry_23\"],[\"default_15\"],[\"poetry_23\"],[\"young-adult_21\"],[\"sequential-art_5\"],[\"music_14\"],[\"music_14\"],[\"poetry_23\"],[\"science-fiction_16\"],[\"politics_48\"],[\"travel_2\"],[\"thriller_37\"],[\"music_14\"],[\"food-and-drink_33\"],[\"romance_8\"],[\"romance_8\"],[\"childrens_11\"],[\"default_15\"],[\"default_15\"],[\"nonfiction_13\"],[\"art_25\"],[\"spirituality_39\"],[\"nonfiction_13\"],[\"thriller_37\"],[\"childrens_11\"],[\"philosophy_7\"],[\"default_15\"],[\"default_15\"],[\"mystery_3\"],[\"thriller_37\"],[\"poetry_23\"],[\"poetry_23\"],[\"nonfiction_13\"],[\"fiction_10\"],[\"nonfiction_13\"],[\"new-adult_20\"],[\"contemporary_38\"],[\"fiction_10\"],[\"poetry_23\"],[\"nonfiction_13\"],[\"fantasy_19\"],[\"history_32\"],[\"sequential-art_5\"],[\"nonfiction_13\"],[\"sequential-art_5\"],[\"fiction_10\"],[\"add-a-comment_18\"],[\"childrens_11\"],[\"food-and-drink_33\"],[\"mystery_3\"],[\"young-adult_21\"],[\"sequential-art_5\"],[\"fiction_10\"],[\"science_22\"],[\"add-a-comment_18\"],[\"nonfiction_13\"],[\"default_15\"],[\"nonfiction_13\"],[\"nonfiction_13\"],[\"philosophy_7\"],[\"health_47\"],[\"add-a-comment_18\"],[\"history_32\"],[\"spirituality_39\"],[\"nonfiction_13\"],[\"default_15\"],[\"horror_31\"],[\"fantasy_19\"],[\"sequential-art_5\"],[\"nonfiction_13\"],[\"sequential-art_5\"],[\"sequential-art_5\"],[\"fantasy_19\"],[\"sequential-art_5\"],[\"history_32\"],[\"sequential-art_5\"],[\"sequential-art_5\"],[\"sequential-art_5\"],[\"self-help_41\"],[\"add-a-comment_18\"],[\"young-adult_21\"],[\"food-and-drink_33\"],[\"fantasy_19\"],[\"food-and-drink_33\"],[\"sequential-art_5\"],[\"sequential-art_5\"],[\"sequential-art_5\"],[\"food-and-drink_33\"],[\"add-a-comment_18\"],[\"science-fiction_16\"],[\"nonfiction_13\"],[\"science_22\"],[\"sequential-art_5\"],[\"sequential-art_5\"],[\"self-help_41\"],[\"romance_8\"],[\"sequential-art_5\"],[\"historical-fiction_4\"],[\"romance_8\"],[\"romance_8\"],[\"nonfiction_13\"],[\"religion_12\"],[\"sequential-art_5\"],[\"fantasy_19\"],[\"sequential-art_5\"],[\"sequential-art_5\"],[\"nonfiction_13\"],[\"young-adult_21\"],[\"default_15\"],[\"sequential-art_5\"],[\"fantasy_19\"],[\"nonfiction_13\"],[\"default_15\"],[\"default_15\"],[\"mystery_3\"],[\"historical-fiction_4\"],[\"young-adult_21\"],[\"fantasy_19\"],[\"christian_43\"],[\"religion_12\"],[\"science-fiction_16\"],[\"fiction_10\"],[\"default_15\"],[\"fantasy_19\"],[\"history_32\"],[\"default_15\"],[\"childrens_11\"],[\"romance_8\"],[\"fiction_10\"],[\"business_35\"],[\"philosophy_7\"],[\"sequential-art_5\"],[\"default_15\"],[\"fiction_10\"],[\"default_15\"],[\"science-fiction_16\"],[\"nonfiction_13\"],[\"nonfiction_13\"],[\"food-and-drink_33\"],[\"mystery_3\"],[\"new-adult_20\"],[\"new-adult_20\"],[\"food-and-drink_33\"],[\"crime_51\"],[\"default_15\"],[\"historical-fiction_4\"],[\"fantasy_19\"],[\"default_15\"],[\"nonfiction_13\"],[\"default_15\"],[\"food-and-drink_33\"],[\"default_15\"],[\"nonfiction_13\"],[\"default_15\"],[\"autobiography_27\"],[\"business_35\"],[\"romance_8\"],[\"romance_8\"],[\"science-fiction_16\"],[\"nonfiction_13\"],[\"business_35\"],[\"add-a-comment_18\"],[\"default_15\"],[\"young-adult_21\"],[\"default_15\"],[\"christian-fiction_34\"],[\"default_15\"],[\"poetry_23\"],[\"young-adult_21\"],[\"poetry_23\"],[\"historical-fiction_4\"],[\"add-a-comment_18\"],[\"default_15\"],[\"biography_36\"],[\"childrens_11\"],[\"young-adult_21\"],[\"default_15\"],[\"womens-fiction_9\"],[\"fantasy_19\"],[\"default_15\"],[\"travel_2\"],[\"young-adult_21\"],[\"horror_31\"],[\"default_15\"],[\"fiction_10\"],[\"sequential-art_5\"],[\"default_15\"],[\"default_15\"],[\"default_15\"],[\"romance_8\"],[\"food-and-drink_33\"],[\"erotica_50\"],[\"nonfiction_13\"],[\"christian-fiction_34\"],[\"spirituality_39\"],[\"nonfiction_13\"],[\"nonfiction_13\"],[\"default_15\"],[\"sequential-art_5\"],[\"sequential-art_5\"],[\"default_15\"],[\"default_15\"],[\"default_15\"],[\"cultural_49\"],[\"default_15\"],[\"nonfiction_13\"],[\"history_32\"],[\"thriller_37\"],[\"sequential-art_5\"],[\"young-adult_21\"],[\"politics_48\"],[\"nonfiction_13\"],[\"nonfiction_13\"],[\"sequential-art_5\"],[\"childrens_11\"],[\"default_15\"],[\"young-adult_21\"],[\"default_15\"],[\"childrens_11\"],[\"sequential-art_5\"],[\"young-adult_21\"],[\"nonfiction_13\"],[\"default_15\"],[\"add-a-comment_18\"],[\"romance_8\"],[\"fiction_10\"],[\"fiction_10\"],[\"fantasy_19\"],[\"default_15\"],[\"add-a-comment_18\"],[\"default_15\"],[\"default_15\"],[\"historical-fiction_4\"],[\"psychology_26\"],[\"humor_30\"],[\"horror_31\"],[\"nonfiction_13\"],[\"mystery_3\"],[\"add-a-comment_18\"],[\"fantasy_19\"],[\"food-and-drink_33\"],[\"thriller_37\"],[\"fiction_10\"],[\"add-a-comment_18\"],[\"young-adult_21\"],[\"fantasy_19\"],[\"nonfiction_13\"],[\"thriller_37\"],[\"mystery_3\"],[\"mystery_3\"],[\"fiction_10\"],[\"nonfiction_13\"],[\"sequential-art_5\"],[\"fiction_10\"],[\"default_15\"],[\"science_22\"],[\"contemporary_38\"],[\"sequential-art_5\"],[\"fiction_10\"],[\"travel_2\"],[\"poetry_23\"],[\"sequential-art_5\"],[\"sequential-art_5\"],[\"childrens_11\"],[\"poetry_23\"],[\"horror_31\"],[\"self-help_41\"],[\"childrens_11\"],[\"humor_30\"],[\"nonfiction_13\"],[\"sequential-art_5\"],[\"fiction_10\"],[\"fiction_10\"],[\"young-adult_21\"],[\"fiction_10\"],[\"add-a-comment_18\"],[\"business_35\"],[\"childrens_11\"],[\"default_15\"],[\"sequential-art_5\"],[\"music_14\"],[\"nonfiction_13\"],[\"default_15\"],[\"nonfiction_13\"],[\"default_15\"],[\"food-and-drink_33\"],[\"fantasy_19\"],[\"humor_30\"],[\"fiction_10\"],[\"humor_30\"],[\"default_15\"],[\"romance_8\"],[\"nonfiction_13\"],[\"default_15\"],[\"religion_12\"],[\"historical-fiction_4\"],[\"art_25\"],[\"nonfiction_13\"],[\"default_15\"],[\"fiction_10\"],[\"sequential-art_5\"],[\"fiction_10\"],[\"nonfiction_13\"],[\"health_47\"],[\"young-adult_21\"],[\"horror_31\"],[\"fantasy_19\"],[\"fiction_10\"],[\"default_15\"],[\"christian_43\"],[\"fiction_10\"],[\"add-a-comment_18\"],[\"default_15\"],[\"fantasy_19\"],[\"default_15\"],[\"default_15\"],[\"default_15\"],[\"add-a-comment_18\"],[\"young-adult_21\"],[\"default_15\"],[\"default_15\"],[\"nonfiction_13\"],[\"nonfiction_13\"],[\"sequential-art_5\"],[\"food-and-drink_33\"],[\"food-and-drink_33\"],[\"fiction_10\"],[\"sequential-art_5\"],[\"young-adult_21\"],[\"add-a-comment_18\"],[\"default_15\"],[\"historical_42\"],[\"sequential-art_5\"],[\"nonfiction_13\"],[\"mystery_3\"],[\"mystery_3\"],[\"add-a-comment_18\"],[\"add-a-comment_18\"],[\"fiction_10\"],[\"history_32\"],[\"add-a-comment_18\"],[\"history_32\"],[\"default_15\"],[\"fantasy_19\"],[\"add-a-comment_18\"],[\"food-and-drink_33\"],[\"nonfiction_13\"],[\"womens-fiction_9\"],[\"science_22\"],[\"fantasy_19\"],[\"fiction_10\"],[\"add-a-comment_18\"],[\"nonfiction_13\"],[\"add-a-comment_18\"],[\"psychology_26\"],[\"young-adult_21\"],[\"fiction_10\"],[\"nonfiction_13\"],[\"add-a-comment_18\"],[\"young-adult_21\"],[\"nonfiction_13\"],[\"default_15\"],[\"business_35\"],[\"horror_31\"],[\"mystery_3\"],[\"add-a-comment_18\"],[\"young-adult_21\"],[\"mystery_3\"],[\"mystery_3\"],[\"historical-fiction_4\"],[\"default_15\"],[\"mystery_3\"],[\"nonfiction_13\"],[\"food-and-drink_33\"],[\"politics_48\"],[\"default_15\"],[\"romance_8\"],[\"horror_31\"],[\"mystery_3\"],[\"historical-fiction_4\"],[\"food-and-drink_33\"],[\"default_15\"],[\"mystery_3\"],[\"nonfiction_13\"],[\"fiction_10\"],[\"business_35\"],[\"romance_8\"],[\"science-fiction_16\"],[\"biography_36\"],[\"mystery_3\"],[\"romance_8\"],[\"fiction_10\"],[\"nonfiction_13\"],[\"autobiography_27\"],[\"historical-fiction_4\"],[\"fiction_10\"],[\"autobiography_27\"],[\"womens-fiction_9\"],[\"psychology_26\"],[\"womens-fiction_9\"],[\"young-adult_21\"],[\"fiction_10\"],[\"food-and-drink_33\"],[\"business_35\"],[\"science-fiction_16\"],[\"default_15\"],[\"nonfiction_13\"],[\"romance_8\"],[\"fiction_10\"],[\"nonfiction_13\"],[\"health_47\"],[\"add-a-comment_18\"],[\"add-a-comment_18\"],[\"default_15\"],[\"default_15\"],[\"fiction_10\"],[\"default_15\"],[\"food-and-drink_33\"],[\"default_15\"],[\"science_22\"],[\"religion_12\"],[\"health_47\"],[\"young-adult_21\"],[\"novels_46\"],[\"childrens_11\"],[\"default_15\"],[\"default_15\"],[\"spirituality_39\"],[\"sequential-art_5\"],[\"humor_30\"],[\"young-adult_21\"],[\"nonfiction_13\"],[\"art_25\"],[\"fantasy_19\"],[\"add-a-comment_18\"],[\"add-a-comment_18\"],[\"nonfiction_13\"],[\"nonfiction_13\"],[\"nonfiction_13\"],[\"travel_2\"],[\"default_15\"],[\"art_25\"],[\"nonfiction_13\"],[\"default_15\"],[\"fiction_10\"],[\"short-stories_45\"],[\"business_35\"],[\"young-adult_21\"],[\"nonfiction_13\"],[\"suspense_44\"],[\"christian-fiction_34\"],[\"sequential-art_5\"],[\"nonfiction_13\"],[\"philosophy_7\"],[\"music_14\"],[\"poetry_23\"],[\"young-adult_21\"],[\"fiction_10\"],[\"nonfiction_13\"],[\"nonfiction_13\"],[\"nonfiction_13\"],[\"poetry_23\"],[\"default_15\"],[\"music_14\"],[\"philosophy_7\"],[\"default_15\"],[\"default_15\"],[\"nonfiction_13\"],[\"fiction_10\"],[\"poetry_23\"],[\"art_25\"],[\"default_15\"],[\"young-adult_21\"],[\"default_15\"],[\"science_22\"],[\"default_15\"],[\"history_32\"],[\"nonfiction_13\"],[\"nonfiction_13\"],[\"nonfiction_13\"],[\"nonfiction_13\"],[\"food-and-drink_33\"],[\"history_32\"],[\"self-help_41\"],[\"default_15\"],[\"mystery_3\"],[\"spirituality_39\"],[\"travel_2\"],[\"humor_30\"],[\"default_15\"],[\"childrens_11\"],[\"art_25\"],[\"science_22\"],[\"default_15\"],[\"default_15\"],[\"add-a-comment_18\"],[\"biography_36\"],[\"add-a-comment_18\"],[\"historical-fiction_4\"],[\"fiction_10\"],[\"mystery_3\"],[\"art_25\"],[\"default_15\"],[\"add-a-comment_18\"],[\"default_15\"],[\"romance_8\"],[\"fiction_10\"],[\"childrens_11\"],[\"business_35\"],[\"childrens_11\"],[\"childrens_11\"],[\"young-adult_21\"],[\"food-and-drink_33\"],[\"womens-fiction_9\"],[\"fiction_10\"],[\"christian-fiction_34\"],[\"default_15\"],[\"poetry_23\"],[\"fantasy_19\"],[\"add-a-comment_18\"],[\"food-and-drink_33\"],[\"food-and-drink_33\"],[\"add-a-comment_18\"],[\"sequential-art_5\"],[\"nonfiction_13\"],[\"nonfiction_13\"],[\"fantasy_19\"],[\"mystery_3\"],[\"christian-fiction_34\"],[\"music_14\"],[\"christian_43\"],[\"biography_36\"],[\"philosophy_7\"],[\"travel_2\"],[\"history_32\"],[\"fantasy_19\"],[\"default_15\"],[\"history_32\"],[\"default_15\"],[\"mystery_3\"],[\"nonfiction_13\"],[\"default_15\"],[\"add-a-comment_18\"],[\"historical-fiction_4\"],[\"default_15\"],[\"travel_2\"],[\"add-a-comment_18\"],[\"add-a-comment_18\"],[\"historical_42\"],[\"default_15\"],[\"poetry_23\"],[\"food-and-drink_33\"],[\"young-adult_21\"],[\"default_15\"],[\"add-a-comment_18\"],[\"default_15\"],[\"add-a-comment_18\"],[\"fiction_10\"],[\"mystery_3\"],[\"nonfiction_13\"],[\"self-help_41\"],[\"thriller_37\"],[\"nonfiction_13\"],[\"add-a-comment_18\"],[\"sequential-art_5\"],[\"fiction_10\"],[\"sequential-art_5\"],[\"history_32\"],[\"food-and-drink_33\"],[\"psychology_26\"],[\"travel_2\"],[\"historical-fiction_4\"],[\"young-adult_21\"],[\"nonfiction_13\"],[\"young-adult_21\"],[\"default_15\"],[\"young-adult_21\"],[\"music_14\"],[\"classics_6\"],[\"add-a-comment_18\"],[\"fantasy_19\"],[\"food-and-drink_33\"],[\"classics_6\"],[\"history_32\"],[\"fiction_10\"],[\"history_32\"],[\"science_22\"],[\"fiction_10\"],[\"default_15\"],[\"fantasy_19\"],[\"fiction_10\"],[\"default_15\"],[\"young-adult_21\"],[\"poetry_23\"],[\"default_15\"],[\"fantasy_19\"],[\"young-adult_21\"],[\"nonfiction_13\"],[\"fiction_10\"],[\"default_15\"],[\"default_15\"],[\"horror_31\"],[\"science_22\"],[\"nonfiction_13\"],[\"food-and-drink_33\"],[\"childrens_11\"],[\"young-adult_21\"],[\"academic_40\"],[\"fiction_10\"],[\"thriller_37\"],[\"young-adult_21\"],[\"young-adult_21\"],[\"default_15\"],[\"default_15\"],[\"default_15\"],[\"sequential-art_5\"],[\"science-fiction_16\"],[\"default_15\"],[\"add-a-comment_18\"],[\"add-a-comment_18\"],[\"default_15\"],[\"horror_31\"],[\"fiction_10\"],[\"sequential-art_5\"],[\"nonfiction_13\"],[\"philosophy_7\"],[\"poetry_23\"],[\"default_15\"],[\"autobiography_27\"],[\"young-adult_21\"],[\"history_32\"],[\"default_15\"],[\"romance_8\"],[\"add-a-comment_18\"],[\"fantasy_19\"],[\"add-a-comment_18\"],[\"default_15\"],[\"default_15\"],[\"classics_6\"],[\"romance_8\"],[\"historical-fiction_4\"],[\"nonfiction_13\"],[\"default_15\"],[\"classics_6\"],[\"nonfiction_13\"],[\"nonfiction_13\"],[\"fantasy_19\"],[\"sequential-art_5\"],[\"thriller_37\"],[\"fantasy_19\"],[\"womens-fiction_9\"],[\"womens-fiction_9\"],[\"fantasy_19\"],[\"default_15\"],[\"music_14\"],[\"music_14\"],[\"horror_31\"],[\"horror_31\"],[\"default_15\"],[\"horror_31\"],[\"classics_6\"],[\"horror_31\"],[\"default_15\"],[\"young-adult_21\"],[\"fantasy_19\"],[\"fantasy_19\"],[\"fantasy_19\"],[\"classics_6\"],[\"nonfiction_13\"],[\"historical-fiction_4\"],[\"sequential-art_5\"],[\"thriller_37\"],[\"romance_8\"],[\"default_15\"],[\"romance_8\"],[\"classics_6\"],[\"womens-fiction_9\"],[\"fiction_10\"],[\"classics_6\"],[\"romance_8\"],[\"spirituality_39\"],[\"religion_12\"],[\"horror_31\"],[\"default_15\"],[\"classics_6\"],[\"default_15\"],[\"default_15\"],[\"default_15\"],[\"humor_30\"],[\"nonfiction_13\"],[\"contemporary_38\"],[\"young-adult_21\"],[\"historical-fiction_4\"],[\"nonfiction_13\"],[\"food-and-drink_33\"],[\"nonfiction_13\"],[\"nonfiction_13\"],[\"young-adult_21\"],[\"default_15\"],[\"womens-fiction_9\"],[\"nonfiction_13\"],[\"fiction_10\"],[\"psychology_26\"],[\"childrens_11\"],[\"sequential-art_5\"],[\"womens-fiction_9\"],[\"thriller_37\"],[\"add-a-comment_18\"],[\"childrens_11\"],[\"horror_31\"],[\"food-and-drink_33\"],[\"mystery_3\"],[\"sequential-art_5\"],[\"fantasy_19\"],[\"travel_2\"],[\"biography_36\"],[\"science-fiction_16\"],[\"add-a-comment_18\"],[\"historical-fiction_4\"],[\"add-a-comment_18\"],[\"romance_8\"],[\"classics_6\"],[\"default_15\"],[\"romance_8\"],[\"fiction_10\"],[\"young-adult_21\"],[\"womens-fiction_9\"],[\"nonfiction_13\"],[\"default_15\"],[\"default_15\"],[\"childrens_11\"],[\"business_35\"],[\"historical-fiction_4\"],[\"young-adult_21\"],[\"fiction_10\"],[\"fiction_10\"],[\"add-a-comment_18\"],[\"history_32\"],[\"historical-fiction_4\"],[\"default_15\"],[\"default_15\"],[\"horror_31\"],[\"default_15\"],[\"add-a-comment_18\"],[\"mystery_3\"],[\"add-a-comment_18\"],[\"science_22\"],[\"science_22\"],[\"womens-fiction_9\"],[\"default_15\"],[\"childrens_11\"],[\"fiction_10\"],[\"mystery_3\"],[\"classics_6\"],[\"add-a-comment_18\"],[\"add-a-comment_18\"],[\"childrens_11\"],[\"add-a-comment_18\"],[\"default_15\"],[\"sports-and-games_17\"],[\"add-a-comment_18\"],[\"default_15\"],[\"food-and-drink_33\"],[\"fiction_10\"],[\"science_22\"],[\"nonfiction_13\"],[\"nonfiction_13\"],[\"womens-fiction_9\"],[\"womens-fiction_9\"],[\"fantasy_19\"],[\"default_15\"],[\"add-a-comment_18\"],[\"science_22\"],[\"young-adult_21\"],[\"add-a-comment_18\"],[\"sequential-art_5\"],[\"autobiography_27\"],[\"add-a-comment_18\"],[\"nonfiction_13\"],[\"business_35\"],[\"romance_8\"],[\"childrens_11\"],[\"science-fiction_16\"],[\"default_15\"],[\"sequential-art_5\"],[\"sequential-art_5\"],[\"default_15\"],[\"nonfiction_13\"],[\"sequential-art_5\"],[\"default_15\"],[\"default_15\"],[\"nonfiction_13\"],[\"nonfiction_13\"],[\"travel_2\"],[\"humor_30\"],[\"default_15\"],[\"nonfiction_13\"],[\"fantasy_19\"],[\"autobiography_27\"],[\"add-a-comment_18\"],[\"autobiography_27\"],[\"fiction_10\"],[\"science-fiction_16\"],[\"autobiography_27\"],[\"default_15\"],[\"nonfiction_13\"],[\"nonfiction_13\"],[\"young-adult_21\"],[\"default_15\"],[\"humor_30\"],[\"young-adult_21\"],[\"fiction_10\"],[\"nonfiction_13\"],[\"default_15\"],[\"nonfiction_13\"],[\"fiction_10\"],[\"nonfiction_13\"],[\"christian-fiction_34\"],[\"womens-fiction_9\"],[\"nonfiction_13\"],[\"food-and-drink_33\"],[\"history_32\"],[\"horror_31\"],[\"childrens_11\"],[\"humor_30\"],[\"fantasy_19\"],[\"childrens_11\"],[\"sequential-art_5\"],[\"nonfiction_13\"],[\"default_15\"],[\"young-adult_21\"],[\"historical-fiction_4\"],[\"sequential-art_5\"],[\"sports-and-games_17\"],[\"add-a-comment_18\"],[\"adult-fiction_29\"],[\"default_15\"],[\"mystery_3\"],[\"fantasy_19\"],[\"default_15\"],[\"science-fiction_16\"],[\"default_15\"],[\"science-fiction_16\"],[\"nonfiction_13\"],[\"default_15\"],[\"default_15\"],[\"fantasy_19\"],[\"default_15\"],[\"fiction_10\"],[\"childrens_11\"],[\"add-a-comment_18\"],[\"psychology_26\"],[\"young-adult_21\"],[\"parenting_28\"],[\"mystery_3\"],[\"default_15\"],[\"nonfiction_13\"],[\"young-adult_21\"],[\"nonfiction_13\"],[\"nonfiction_13\"],[\"nonfiction_13\"],[\"sequential-art_5\"],[\"fiction_10\"],[\"historical-fiction_4\"],[\"romance_8\"],[\"classics_6\"],[\"default_15\"],[\"sequential-art_5\"],[\"fantasy_19\"],[\"childrens_11\"],[\"nonfiction_13\"],[\"young-adult_21\"],[\"classics_6\"],[\"nonfiction_13\"],[\"default_15\"],[\"fantasy_19\"],[\"autobiography_27\"],[\"psychology_26\"],[\"add-a-comment_18\"],[\"nonfiction_13\"],[\"add-a-comment_18\"],[\"sequential-art_5\"],[\"fiction_10\"],[\"sports-and-games_17\"],[\"sequential-art_5\"],[\"philosophy_7\"],[\"young-adult_21\"],[\"music_14\"],[\"nonfiction_13\"],[\"nonfiction_13\"],[\"young-adult_21\"],[\"sequential-art_5\"],[\"childrens_11\"],[\"sequential-art_5\"],[\"historical-fiction_4\"],[\"romance_8\"],[\"fiction_10\"],[\"art_25\"],[\"paranormal_24\"],[\"fantasy_19\"],[\"poetry_23\"],[\"nonfiction_13\"],[\"science-fiction_16\"],[\"romance_8\"],[\"default_15\"],[\"sequential-art_5\"],[\"nonfiction_13\"],[\"classics_6\"],[\"fiction_10\"],[\"fantasy_19\"],[\"science_22\"],[\"historical-fiction_4\"],[\"sequential-art_5\"],[\"add-a-comment_18\"],[\"add-a-comment_18\"],[\"mystery_3\"],[\"philosophy_7\"],[\"default_15\"],[\"fantasy_19\"],[\"classics_6\"],[\"add-a-comment_18\"],[\"science-fiction_16\"],[\"add-a-comment_18\"],[\"new-adult_20\"],[\"young-adult_21\"],[\"mystery_3\"],[\"mystery_3\"],[\"nonfiction_13\"],[\"womens-fiction_9\"],[\"sequential-art_5\"],[\"add-a-comment_18\"],[\"religion_12\"],[\"fiction_10\"],[\"young-adult_21\"],[\"default_15\"],[\"historical-fiction_4\"],[\"sequential-art_5\"],[\"fantasy_19\"],[\"default_15\"],[\"new-adult_20\"],[\"fantasy_19\"],[\"sports-and-games_17\"],[\"classics_6\"],[\"sequential-art_5\"],[\"romance_8\"],[\"sequential-art_5\"],[\"default_15\"],[\"sequential-art_5\"],[\"sequential-art_5\"],[\"fantasy_19\"],[\"fantasy_19\"],[\"default_15\"],[\"music_14\"],[\"new-adult_20\"],[\"classics_6\"],[\"fantasy_19\"],[\"romance_8\"],[\"sequential-art_5\"],[\"philosophy_7\"],[\"childrens_11\"],[\"historical-fiction_4\"],[\"add-a-comment_18\"],[\"romance_8\"],[\"fiction_10\"],[\"default_15\"],[\"romance_8\"],[\"sports-and-games_17\"],[\"sequential-art_5\"],[\"science-fiction_16\"],[\"sequential-art_5\"],[\"sequential-art_5\"],[\"default_15\"],[\"music_14\"],[\"romance_8\"],[\"classics_6\"],[\"nonfiction_13\"],[\"romance_8\"],[\"religion_12\"],[\"childrens_11\"],[\"romance_8\"],[\"fiction_10\"],[\"womens-fiction_9\"],[\"romance_8\"],[\"mystery_3\"],[\"sequential-art_5\"],[\"philosophy_7\"],[\"classics_6\"],[\"sequential-art_5\"],[\"historical-fiction_4\"],[\"mystery_3\"],[\"travel_2\"]],\"domain\":{\"x\":[0.0,1.0],\"y\":[0.0,1.0]},\"hovertemplate\":\"product_category=%{customdata[0]}<extra></extra>\",\"labels\":[\"poetry_23\",\"historical-fiction_4\",\"fiction_10\",\"mystery_3\",\"history_32\",\"young-adult_21\",\"business_35\",\"default_15\",\"default_15\",\"poetry_23\",\"default_15\",\"poetry_23\",\"young-adult_21\",\"sequential-art_5\",\"music_14\",\"music_14\",\"poetry_23\",\"science-fiction_16\",\"politics_48\",\"travel_2\",\"thriller_37\",\"music_14\",\"food-and-drink_33\",\"romance_8\",\"romance_8\",\"childrens_11\",\"default_15\",\"default_15\",\"nonfiction_13\",\"art_25\",\"spirituality_39\",\"nonfiction_13\",\"thriller_37\",\"childrens_11\",\"philosophy_7\",\"default_15\",\"default_15\",\"mystery_3\",\"thriller_37\",\"poetry_23\",\"poetry_23\",\"nonfiction_13\",\"fiction_10\",\"nonfiction_13\",\"new-adult_20\",\"contemporary_38\",\"fiction_10\",\"poetry_23\",\"nonfiction_13\",\"fantasy_19\",\"history_32\",\"sequential-art_5\",\"nonfiction_13\",\"sequential-art_5\",\"fiction_10\",\"add-a-comment_18\",\"childrens_11\",\"food-and-drink_33\",\"mystery_3\",\"young-adult_21\",\"sequential-art_5\",\"fiction_10\",\"science_22\",\"add-a-comment_18\",\"nonfiction_13\",\"default_15\",\"nonfiction_13\",\"nonfiction_13\",\"philosophy_7\",\"health_47\",\"add-a-comment_18\",\"history_32\",\"spirituality_39\",\"nonfiction_13\",\"default_15\",\"horror_31\",\"fantasy_19\",\"sequential-art_5\",\"nonfiction_13\",\"sequential-art_5\",\"sequential-art_5\",\"fantasy_19\",\"sequential-art_5\",\"history_32\",\"sequential-art_5\",\"sequential-art_5\",\"sequential-art_5\",\"self-help_41\",\"add-a-comment_18\",\"young-adult_21\",\"food-and-drink_33\",\"fantasy_19\",\"food-and-drink_33\",\"sequential-art_5\",\"sequential-art_5\",\"sequential-art_5\",\"food-and-drink_33\",\"add-a-comment_18\",\"science-fiction_16\",\"nonfiction_13\",\"science_22\",\"sequential-art_5\",\"sequential-art_5\",\"self-help_41\",\"romance_8\",\"sequential-art_5\",\"historical-fiction_4\",\"romance_8\",\"romance_8\",\"nonfiction_13\",\"religion_12\",\"sequential-art_5\",\"fantasy_19\",\"sequential-art_5\",\"sequential-art_5\",\"nonfiction_13\",\"young-adult_21\",\"default_15\",\"sequential-art_5\",\"fantasy_19\",\"nonfiction_13\",\"default_15\",\"default_15\",\"mystery_3\",\"historical-fiction_4\",\"young-adult_21\",\"fantasy_19\",\"christian_43\",\"religion_12\",\"science-fiction_16\",\"fiction_10\",\"default_15\",\"fantasy_19\",\"history_32\",\"default_15\",\"childrens_11\",\"romance_8\",\"fiction_10\",\"business_35\",\"philosophy_7\",\"sequential-art_5\",\"default_15\",\"fiction_10\",\"default_15\",\"science-fiction_16\",\"nonfiction_13\",\"nonfiction_13\",\"food-and-drink_33\",\"mystery_3\",\"new-adult_20\",\"new-adult_20\",\"food-and-drink_33\",\"crime_51\",\"default_15\",\"historical-fiction_4\",\"fantasy_19\",\"default_15\",\"nonfiction_13\",\"default_15\",\"food-and-drink_33\",\"default_15\",\"nonfiction_13\",\"default_15\",\"autobiography_27\",\"business_35\",\"romance_8\",\"romance_8\",\"science-fiction_16\",\"nonfiction_13\",\"business_35\",\"add-a-comment_18\",\"default_15\",\"young-adult_21\",\"default_15\",\"christian-fiction_34\",\"default_15\",\"poetry_23\",\"young-adult_21\",\"poetry_23\",\"historical-fiction_4\",\"add-a-comment_18\",\"default_15\",\"biography_36\",\"childrens_11\",\"young-adult_21\",\"default_15\",\"womens-fiction_9\",\"fantasy_19\",\"default_15\",\"travel_2\",\"young-adult_21\",\"horror_31\",\"default_15\",\"fiction_10\",\"sequential-art_5\",\"default_15\",\"default_15\",\"default_15\",\"romance_8\",\"food-and-drink_33\",\"erotica_50\",\"nonfiction_13\",\"christian-fiction_34\",\"spirituality_39\",\"nonfiction_13\",\"nonfiction_13\",\"default_15\",\"sequential-art_5\",\"sequential-art_5\",\"default_15\",\"default_15\",\"default_15\",\"cultural_49\",\"default_15\",\"nonfiction_13\",\"history_32\",\"thriller_37\",\"sequential-art_5\",\"young-adult_21\",\"politics_48\",\"nonfiction_13\",\"nonfiction_13\",\"sequential-art_5\",\"childrens_11\",\"default_15\",\"young-adult_21\",\"default_15\",\"childrens_11\",\"sequential-art_5\",\"young-adult_21\",\"nonfiction_13\",\"default_15\",\"add-a-comment_18\",\"romance_8\",\"fiction_10\",\"fiction_10\",\"fantasy_19\",\"default_15\",\"add-a-comment_18\",\"default_15\",\"default_15\",\"historical-fiction_4\",\"psychology_26\",\"humor_30\",\"horror_31\",\"nonfiction_13\",\"mystery_3\",\"add-a-comment_18\",\"fantasy_19\",\"food-and-drink_33\",\"thriller_37\",\"fiction_10\",\"add-a-comment_18\",\"young-adult_21\",\"fantasy_19\",\"nonfiction_13\",\"thriller_37\",\"mystery_3\",\"mystery_3\",\"fiction_10\",\"nonfiction_13\",\"sequential-art_5\",\"fiction_10\",\"default_15\",\"science_22\",\"contemporary_38\",\"sequential-art_5\",\"fiction_10\",\"travel_2\",\"poetry_23\",\"sequential-art_5\",\"sequential-art_5\",\"childrens_11\",\"poetry_23\",\"horror_31\",\"self-help_41\",\"childrens_11\",\"humor_30\",\"nonfiction_13\",\"sequential-art_5\",\"fiction_10\",\"fiction_10\",\"young-adult_21\",\"fiction_10\",\"add-a-comment_18\",\"business_35\",\"childrens_11\",\"default_15\",\"sequential-art_5\",\"music_14\",\"nonfiction_13\",\"default_15\",\"nonfiction_13\",\"default_15\",\"food-and-drink_33\",\"fantasy_19\",\"humor_30\",\"fiction_10\",\"humor_30\",\"default_15\",\"romance_8\",\"nonfiction_13\",\"default_15\",\"religion_12\",\"historical-fiction_4\",\"art_25\",\"nonfiction_13\",\"default_15\",\"fiction_10\",\"sequential-art_5\",\"fiction_10\",\"nonfiction_13\",\"health_47\",\"young-adult_21\",\"horror_31\",\"fantasy_19\",\"fiction_10\",\"default_15\",\"christian_43\",\"fiction_10\",\"add-a-comment_18\",\"default_15\",\"fantasy_19\",\"default_15\",\"default_15\",\"default_15\",\"add-a-comment_18\",\"young-adult_21\",\"default_15\",\"default_15\",\"nonfiction_13\",\"nonfiction_13\",\"sequential-art_5\",\"food-and-drink_33\",\"food-and-drink_33\",\"fiction_10\",\"sequential-art_5\",\"young-adult_21\",\"add-a-comment_18\",\"default_15\",\"historical_42\",\"sequential-art_5\",\"nonfiction_13\",\"mystery_3\",\"mystery_3\",\"add-a-comment_18\",\"add-a-comment_18\",\"fiction_10\",\"history_32\",\"add-a-comment_18\",\"history_32\",\"default_15\",\"fantasy_19\",\"add-a-comment_18\",\"food-and-drink_33\",\"nonfiction_13\",\"womens-fiction_9\",\"science_22\",\"fantasy_19\",\"fiction_10\",\"add-a-comment_18\",\"nonfiction_13\",\"add-a-comment_18\",\"psychology_26\",\"young-adult_21\",\"fiction_10\",\"nonfiction_13\",\"add-a-comment_18\",\"young-adult_21\",\"nonfiction_13\",\"default_15\",\"business_35\",\"horror_31\",\"mystery_3\",\"add-a-comment_18\",\"young-adult_21\",\"mystery_3\",\"mystery_3\",\"historical-fiction_4\",\"default_15\",\"mystery_3\",\"nonfiction_13\",\"food-and-drink_33\",\"politics_48\",\"default_15\",\"romance_8\",\"horror_31\",\"mystery_3\",\"historical-fiction_4\",\"food-and-drink_33\",\"default_15\",\"mystery_3\",\"nonfiction_13\",\"fiction_10\",\"business_35\",\"romance_8\",\"science-fiction_16\",\"biography_36\",\"mystery_3\",\"romance_8\",\"fiction_10\",\"nonfiction_13\",\"autobiography_27\",\"historical-fiction_4\",\"fiction_10\",\"autobiography_27\",\"womens-fiction_9\",\"psychology_26\",\"womens-fiction_9\",\"young-adult_21\",\"fiction_10\",\"food-and-drink_33\",\"business_35\",\"science-fiction_16\",\"default_15\",\"nonfiction_13\",\"romance_8\",\"fiction_10\",\"nonfiction_13\",\"health_47\",\"add-a-comment_18\",\"add-a-comment_18\",\"default_15\",\"default_15\",\"fiction_10\",\"default_15\",\"food-and-drink_33\",\"default_15\",\"science_22\",\"religion_12\",\"health_47\",\"young-adult_21\",\"novels_46\",\"childrens_11\",\"default_15\",\"default_15\",\"spirituality_39\",\"sequential-art_5\",\"humor_30\",\"young-adult_21\",\"nonfiction_13\",\"art_25\",\"fantasy_19\",\"add-a-comment_18\",\"add-a-comment_18\",\"nonfiction_13\",\"nonfiction_13\",\"nonfiction_13\",\"travel_2\",\"default_15\",\"art_25\",\"nonfiction_13\",\"default_15\",\"fiction_10\",\"short-stories_45\",\"business_35\",\"young-adult_21\",\"nonfiction_13\",\"suspense_44\",\"christian-fiction_34\",\"sequential-art_5\",\"nonfiction_13\",\"philosophy_7\",\"music_14\",\"poetry_23\",\"young-adult_21\",\"fiction_10\",\"nonfiction_13\",\"nonfiction_13\",\"nonfiction_13\",\"poetry_23\",\"default_15\",\"music_14\",\"philosophy_7\",\"default_15\",\"default_15\",\"nonfiction_13\",\"fiction_10\",\"poetry_23\",\"art_25\",\"default_15\",\"young-adult_21\",\"default_15\",\"science_22\",\"default_15\",\"history_32\",\"nonfiction_13\",\"nonfiction_13\",\"nonfiction_13\",\"nonfiction_13\",\"food-and-drink_33\",\"history_32\",\"self-help_41\",\"default_15\",\"mystery_3\",\"spirituality_39\",\"travel_2\",\"humor_30\",\"default_15\",\"childrens_11\",\"art_25\",\"science_22\",\"default_15\",\"default_15\",\"add-a-comment_18\",\"biography_36\",\"add-a-comment_18\",\"historical-fiction_4\",\"fiction_10\",\"mystery_3\",\"art_25\",\"default_15\",\"add-a-comment_18\",\"default_15\",\"romance_8\",\"fiction_10\",\"childrens_11\",\"business_35\",\"childrens_11\",\"childrens_11\",\"young-adult_21\",\"food-and-drink_33\",\"womens-fiction_9\",\"fiction_10\",\"christian-fiction_34\",\"default_15\",\"poetry_23\",\"fantasy_19\",\"add-a-comment_18\",\"food-and-drink_33\",\"food-and-drink_33\",\"add-a-comment_18\",\"sequential-art_5\",\"nonfiction_13\",\"nonfiction_13\",\"fantasy_19\",\"mystery_3\",\"christian-fiction_34\",\"music_14\",\"christian_43\",\"biography_36\",\"philosophy_7\",\"travel_2\",\"history_32\",\"fantasy_19\",\"default_15\",\"history_32\",\"default_15\",\"mystery_3\",\"nonfiction_13\",\"default_15\",\"add-a-comment_18\",\"historical-fiction_4\",\"default_15\",\"travel_2\",\"add-a-comment_18\",\"add-a-comment_18\",\"historical_42\",\"default_15\",\"poetry_23\",\"food-and-drink_33\",\"young-adult_21\",\"default_15\",\"add-a-comment_18\",\"default_15\",\"add-a-comment_18\",\"fiction_10\",\"mystery_3\",\"nonfiction_13\",\"self-help_41\",\"thriller_37\",\"nonfiction_13\",\"add-a-comment_18\",\"sequential-art_5\",\"fiction_10\",\"sequential-art_5\",\"history_32\",\"food-and-drink_33\",\"psychology_26\",\"travel_2\",\"historical-fiction_4\",\"young-adult_21\",\"nonfiction_13\",\"young-adult_21\",\"default_15\",\"young-adult_21\",\"music_14\",\"classics_6\",\"add-a-comment_18\",\"fantasy_19\",\"food-and-drink_33\",\"classics_6\",\"history_32\",\"fiction_10\",\"history_32\",\"science_22\",\"fiction_10\",\"default_15\",\"fantasy_19\",\"fiction_10\",\"default_15\",\"young-adult_21\",\"poetry_23\",\"default_15\",\"fantasy_19\",\"young-adult_21\",\"nonfiction_13\",\"fiction_10\",\"default_15\",\"default_15\",\"horror_31\",\"science_22\",\"nonfiction_13\",\"food-and-drink_33\",\"childrens_11\",\"young-adult_21\",\"academic_40\",\"fiction_10\",\"thriller_37\",\"young-adult_21\",\"young-adult_21\",\"default_15\",\"default_15\",\"default_15\",\"sequential-art_5\",\"science-fiction_16\",\"default_15\",\"add-a-comment_18\",\"add-a-comment_18\",\"default_15\",\"horror_31\",\"fiction_10\",\"sequential-art_5\",\"nonfiction_13\",\"philosophy_7\",\"poetry_23\",\"default_15\",\"autobiography_27\",\"young-adult_21\",\"history_32\",\"default_15\",\"romance_8\",\"add-a-comment_18\",\"fantasy_19\",\"add-a-comment_18\",\"default_15\",\"default_15\",\"classics_6\",\"romance_8\",\"historical-fiction_4\",\"nonfiction_13\",\"default_15\",\"classics_6\",\"nonfiction_13\",\"nonfiction_13\",\"fantasy_19\",\"sequential-art_5\",\"thriller_37\",\"fantasy_19\",\"womens-fiction_9\",\"womens-fiction_9\",\"fantasy_19\",\"default_15\",\"music_14\",\"music_14\",\"horror_31\",\"horror_31\",\"default_15\",\"horror_31\",\"classics_6\",\"horror_31\",\"default_15\",\"young-adult_21\",\"fantasy_19\",\"fantasy_19\",\"fantasy_19\",\"classics_6\",\"nonfiction_13\",\"historical-fiction_4\",\"sequential-art_5\",\"thriller_37\",\"romance_8\",\"default_15\",\"romance_8\",\"classics_6\",\"womens-fiction_9\",\"fiction_10\",\"classics_6\",\"romance_8\",\"spirituality_39\",\"religion_12\",\"horror_31\",\"default_15\",\"classics_6\",\"default_15\",\"default_15\",\"default_15\",\"humor_30\",\"nonfiction_13\",\"contemporary_38\",\"young-adult_21\",\"historical-fiction_4\",\"nonfiction_13\",\"food-and-drink_33\",\"nonfiction_13\",\"nonfiction_13\",\"young-adult_21\",\"default_15\",\"womens-fiction_9\",\"nonfiction_13\",\"fiction_10\",\"psychology_26\",\"childrens_11\",\"sequential-art_5\",\"womens-fiction_9\",\"thriller_37\",\"add-a-comment_18\",\"childrens_11\",\"horror_31\",\"food-and-drink_33\",\"mystery_3\",\"sequential-art_5\",\"fantasy_19\",\"travel_2\",\"biography_36\",\"science-fiction_16\",\"add-a-comment_18\",\"historical-fiction_4\",\"add-a-comment_18\",\"romance_8\",\"classics_6\",\"default_15\",\"romance_8\",\"fiction_10\",\"young-adult_21\",\"womens-fiction_9\",\"nonfiction_13\",\"default_15\",\"default_15\",\"childrens_11\",\"business_35\",\"historical-fiction_4\",\"young-adult_21\",\"fiction_10\",\"fiction_10\",\"add-a-comment_18\",\"history_32\",\"historical-fiction_4\",\"default_15\",\"default_15\",\"horror_31\",\"default_15\",\"add-a-comment_18\",\"mystery_3\",\"add-a-comment_18\",\"science_22\",\"science_22\",\"womens-fiction_9\",\"default_15\",\"childrens_11\",\"fiction_10\",\"mystery_3\",\"classics_6\",\"add-a-comment_18\",\"add-a-comment_18\",\"childrens_11\",\"add-a-comment_18\",\"default_15\",\"sports-and-games_17\",\"add-a-comment_18\",\"default_15\",\"food-and-drink_33\",\"fiction_10\",\"science_22\",\"nonfiction_13\",\"nonfiction_13\",\"womens-fiction_9\",\"womens-fiction_9\",\"fantasy_19\",\"default_15\",\"add-a-comment_18\",\"science_22\",\"young-adult_21\",\"add-a-comment_18\",\"sequential-art_5\",\"autobiography_27\",\"add-a-comment_18\",\"nonfiction_13\",\"business_35\",\"romance_8\",\"childrens_11\",\"science-fiction_16\",\"default_15\",\"sequential-art_5\",\"sequential-art_5\",\"default_15\",\"nonfiction_13\",\"sequential-art_5\",\"default_15\",\"default_15\",\"nonfiction_13\",\"nonfiction_13\",\"travel_2\",\"humor_30\",\"default_15\",\"nonfiction_13\",\"fantasy_19\",\"autobiography_27\",\"add-a-comment_18\",\"autobiography_27\",\"fiction_10\",\"science-fiction_16\",\"autobiography_27\",\"default_15\",\"nonfiction_13\",\"nonfiction_13\",\"young-adult_21\",\"default_15\",\"humor_30\",\"young-adult_21\",\"fiction_10\",\"nonfiction_13\",\"default_15\",\"nonfiction_13\",\"fiction_10\",\"nonfiction_13\",\"christian-fiction_34\",\"womens-fiction_9\",\"nonfiction_13\",\"food-and-drink_33\",\"history_32\",\"horror_31\",\"childrens_11\",\"humor_30\",\"fantasy_19\",\"childrens_11\",\"sequential-art_5\",\"nonfiction_13\",\"default_15\",\"young-adult_21\",\"historical-fiction_4\",\"sequential-art_5\",\"sports-and-games_17\",\"add-a-comment_18\",\"adult-fiction_29\",\"default_15\",\"mystery_3\",\"fantasy_19\",\"default_15\",\"science-fiction_16\",\"default_15\",\"science-fiction_16\",\"nonfiction_13\",\"default_15\",\"default_15\",\"fantasy_19\",\"default_15\",\"fiction_10\",\"childrens_11\",\"add-a-comment_18\",\"psychology_26\",\"young-adult_21\",\"parenting_28\",\"mystery_3\",\"default_15\",\"nonfiction_13\",\"young-adult_21\",\"nonfiction_13\",\"nonfiction_13\",\"nonfiction_13\",\"sequential-art_5\",\"fiction_10\",\"historical-fiction_4\",\"romance_8\",\"classics_6\",\"default_15\",\"sequential-art_5\",\"fantasy_19\",\"childrens_11\",\"nonfiction_13\",\"young-adult_21\",\"classics_6\",\"nonfiction_13\",\"default_15\",\"fantasy_19\",\"autobiography_27\",\"psychology_26\",\"add-a-comment_18\",\"nonfiction_13\",\"add-a-comment_18\",\"sequential-art_5\",\"fiction_10\",\"sports-and-games_17\",\"sequential-art_5\",\"philosophy_7\",\"young-adult_21\",\"music_14\",\"nonfiction_13\",\"nonfiction_13\",\"young-adult_21\",\"sequential-art_5\",\"childrens_11\",\"sequential-art_5\",\"historical-fiction_4\",\"romance_8\",\"fiction_10\",\"art_25\",\"paranormal_24\",\"fantasy_19\",\"poetry_23\",\"nonfiction_13\",\"science-fiction_16\",\"romance_8\",\"default_15\",\"sequential-art_5\",\"nonfiction_13\",\"classics_6\",\"fiction_10\",\"fantasy_19\",\"science_22\",\"historical-fiction_4\",\"sequential-art_5\",\"add-a-comment_18\",\"add-a-comment_18\",\"mystery_3\",\"philosophy_7\",\"default_15\",\"fantasy_19\",\"classics_6\",\"add-a-comment_18\",\"science-fiction_16\",\"add-a-comment_18\",\"new-adult_20\",\"young-adult_21\",\"mystery_3\",\"mystery_3\",\"nonfiction_13\",\"womens-fiction_9\",\"sequential-art_5\",\"add-a-comment_18\",\"religion_12\",\"fiction_10\",\"young-adult_21\",\"default_15\",\"historical-fiction_4\",\"sequential-art_5\",\"fantasy_19\",\"default_15\",\"new-adult_20\",\"fantasy_19\",\"sports-and-games_17\",\"classics_6\",\"sequential-art_5\",\"romance_8\",\"sequential-art_5\",\"default_15\",\"sequential-art_5\",\"sequential-art_5\",\"fantasy_19\",\"fantasy_19\",\"default_15\",\"music_14\",\"new-adult_20\",\"classics_6\",\"fantasy_19\",\"romance_8\",\"sequential-art_5\",\"philosophy_7\",\"childrens_11\",\"historical-fiction_4\",\"add-a-comment_18\",\"romance_8\",\"fiction_10\",\"default_15\",\"romance_8\",\"sports-and-games_17\",\"sequential-art_5\",\"science-fiction_16\",\"sequential-art_5\",\"sequential-art_5\",\"default_15\",\"music_14\",\"romance_8\",\"classics_6\",\"nonfiction_13\",\"romance_8\",\"religion_12\",\"childrens_11\",\"romance_8\",\"fiction_10\",\"womens-fiction_9\",\"romance_8\",\"mystery_3\",\"sequential-art_5\",\"philosophy_7\",\"classics_6\",\"sequential-art_5\",\"historical-fiction_4\",\"mystery_3\",\"travel_2\"],\"legendgroup\":\"\",\"name\":\"\",\"showlegend\":true,\"type\":\"pie\",\"textinfo\":\"percent+label\",\"textposition\":\"inside\"}],                        {\"template\":{\"data\":{\"bar\":[{\"error_x\":{\"color\":\"#2a3f5f\"},\"error_y\":{\"color\":\"#2a3f5f\"},\"marker\":{\"line\":{\"color\":\"#E5ECF6\",\"width\":0.5},\"pattern\":{\"fillmode\":\"overlay\",\"size\":10,\"solidity\":0.2}},\"type\":\"bar\"}],\"barpolar\":[{\"marker\":{\"line\":{\"color\":\"#E5ECF6\",\"width\":0.5},\"pattern\":{\"fillmode\":\"overlay\",\"size\":10,\"solidity\":0.2}},\"type\":\"barpolar\"}],\"carpet\":[{\"aaxis\":{\"endlinecolor\":\"#2a3f5f\",\"gridcolor\":\"white\",\"linecolor\":\"white\",\"minorgridcolor\":\"white\",\"startlinecolor\":\"#2a3f5f\"},\"baxis\":{\"endlinecolor\":\"#2a3f5f\",\"gridcolor\":\"white\",\"linecolor\":\"white\",\"minorgridcolor\":\"white\",\"startlinecolor\":\"#2a3f5f\"},\"type\":\"carpet\"}],\"choropleth\":[{\"colorbar\":{\"outlinewidth\":0,\"ticks\":\"\"},\"type\":\"choropleth\"}],\"contour\":[{\"colorbar\":{\"outlinewidth\":0,\"ticks\":\"\"},\"colorscale\":[[0.0,\"#0d0887\"],[0.1111111111111111,\"#46039f\"],[0.2222222222222222,\"#7201a8\"],[0.3333333333333333,\"#9c179e\"],[0.4444444444444444,\"#bd3786\"],[0.5555555555555556,\"#d8576b\"],[0.6666666666666666,\"#ed7953\"],[0.7777777777777778,\"#fb9f3a\"],[0.8888888888888888,\"#fdca26\"],[1.0,\"#f0f921\"]],\"type\":\"contour\"}],\"contourcarpet\":[{\"colorbar\":{\"outlinewidth\":0,\"ticks\":\"\"},\"type\":\"contourcarpet\"}],\"heatmap\":[{\"colorbar\":{\"outlinewidth\":0,\"ticks\":\"\"},\"colorscale\":[[0.0,\"#0d0887\"],[0.1111111111111111,\"#46039f\"],[0.2222222222222222,\"#7201a8\"],[0.3333333333333333,\"#9c179e\"],[0.4444444444444444,\"#bd3786\"],[0.5555555555555556,\"#d8576b\"],[0.6666666666666666,\"#ed7953\"],[0.7777777777777778,\"#fb9f3a\"],[0.8888888888888888,\"#fdca26\"],[1.0,\"#f0f921\"]],\"type\":\"heatmap\"}],\"heatmapgl\":[{\"colorbar\":{\"outlinewidth\":0,\"ticks\":\"\"},\"colorscale\":[[0.0,\"#0d0887\"],[0.1111111111111111,\"#46039f\"],[0.2222222222222222,\"#7201a8\"],[0.3333333333333333,\"#9c179e\"],[0.4444444444444444,\"#bd3786\"],[0.5555555555555556,\"#d8576b\"],[0.6666666666666666,\"#ed7953\"],[0.7777777777777778,\"#fb9f3a\"],[0.8888888888888888,\"#fdca26\"],[1.0,\"#f0f921\"]],\"type\":\"heatmapgl\"}],\"histogram\":[{\"marker\":{\"pattern\":{\"fillmode\":\"overlay\",\"size\":10,\"solidity\":0.2}},\"type\":\"histogram\"}],\"histogram2d\":[{\"colorbar\":{\"outlinewidth\":0,\"ticks\":\"\"},\"colorscale\":[[0.0,\"#0d0887\"],[0.1111111111111111,\"#46039f\"],[0.2222222222222222,\"#7201a8\"],[0.3333333333333333,\"#9c179e\"],[0.4444444444444444,\"#bd3786\"],[0.5555555555555556,\"#d8576b\"],[0.6666666666666666,\"#ed7953\"],[0.7777777777777778,\"#fb9f3a\"],[0.8888888888888888,\"#fdca26\"],[1.0,\"#f0f921\"]],\"type\":\"histogram2d\"}],\"histogram2dcontour\":[{\"colorbar\":{\"outlinewidth\":0,\"ticks\":\"\"},\"colorscale\":[[0.0,\"#0d0887\"],[0.1111111111111111,\"#46039f\"],[0.2222222222222222,\"#7201a8\"],[0.3333333333333333,\"#9c179e\"],[0.4444444444444444,\"#bd3786\"],[0.5555555555555556,\"#d8576b\"],[0.6666666666666666,\"#ed7953\"],[0.7777777777777778,\"#fb9f3a\"],[0.8888888888888888,\"#fdca26\"],[1.0,\"#f0f921\"]],\"type\":\"histogram2dcontour\"}],\"mesh3d\":[{\"colorbar\":{\"outlinewidth\":0,\"ticks\":\"\"},\"type\":\"mesh3d\"}],\"parcoords\":[{\"line\":{\"colorbar\":{\"outlinewidth\":0,\"ticks\":\"\"}},\"type\":\"parcoords\"}],\"pie\":[{\"automargin\":true,\"type\":\"pie\"}],\"scatter\":[{\"marker\":{\"colorbar\":{\"outlinewidth\":0,\"ticks\":\"\"}},\"type\":\"scatter\"}],\"scatter3d\":[{\"line\":{\"colorbar\":{\"outlinewidth\":0,\"ticks\":\"\"}},\"marker\":{\"colorbar\":{\"outlinewidth\":0,\"ticks\":\"\"}},\"type\":\"scatter3d\"}],\"scattercarpet\":[{\"marker\":{\"colorbar\":{\"outlinewidth\":0,\"ticks\":\"\"}},\"type\":\"scattercarpet\"}],\"scattergeo\":[{\"marker\":{\"colorbar\":{\"outlinewidth\":0,\"ticks\":\"\"}},\"type\":\"scattergeo\"}],\"scattergl\":[{\"marker\":{\"colorbar\":{\"outlinewidth\":0,\"ticks\":\"\"}},\"type\":\"scattergl\"}],\"scattermapbox\":[{\"marker\":{\"colorbar\":{\"outlinewidth\":0,\"ticks\":\"\"}},\"type\":\"scattermapbox\"}],\"scatterpolar\":[{\"marker\":{\"colorbar\":{\"outlinewidth\":0,\"ticks\":\"\"}},\"type\":\"scatterpolar\"}],\"scatterpolargl\":[{\"marker\":{\"colorbar\":{\"outlinewidth\":0,\"ticks\":\"\"}},\"type\":\"scatterpolargl\"}],\"scatterternary\":[{\"marker\":{\"colorbar\":{\"outlinewidth\":0,\"ticks\":\"\"}},\"type\":\"scatterternary\"}],\"surface\":[{\"colorbar\":{\"outlinewidth\":0,\"ticks\":\"\"},\"colorscale\":[[0.0,\"#0d0887\"],[0.1111111111111111,\"#46039f\"],[0.2222222222222222,\"#7201a8\"],[0.3333333333333333,\"#9c179e\"],[0.4444444444444444,\"#bd3786\"],[0.5555555555555556,\"#d8576b\"],[0.6666666666666666,\"#ed7953\"],[0.7777777777777778,\"#fb9f3a\"],[0.8888888888888888,\"#fdca26\"],[1.0,\"#f0f921\"]],\"type\":\"surface\"}],\"table\":[{\"cells\":{\"fill\":{\"color\":\"#EBF0F8\"},\"line\":{\"color\":\"white\"}},\"header\":{\"fill\":{\"color\":\"#C8D4E3\"},\"line\":{\"color\":\"white\"}},\"type\":\"table\"}]},\"layout\":{\"annotationdefaults\":{\"arrowcolor\":\"#2a3f5f\",\"arrowhead\":0,\"arrowwidth\":1},\"autotypenumbers\":\"strict\",\"coloraxis\":{\"colorbar\":{\"outlinewidth\":0,\"ticks\":\"\"}},\"colorscale\":{\"diverging\":[[0,\"#8e0152\"],[0.1,\"#c51b7d\"],[0.2,\"#de77ae\"],[0.3,\"#f1b6da\"],[0.4,\"#fde0ef\"],[0.5,\"#f7f7f7\"],[0.6,\"#e6f5d0\"],[0.7,\"#b8e186\"],[0.8,\"#7fbc41\"],[0.9,\"#4d9221\"],[1,\"#276419\"]],\"sequential\":[[0.0,\"#0d0887\"],[0.1111111111111111,\"#46039f\"],[0.2222222222222222,\"#7201a8\"],[0.3333333333333333,\"#9c179e\"],[0.4444444444444444,\"#bd3786\"],[0.5555555555555556,\"#d8576b\"],[0.6666666666666666,\"#ed7953\"],[0.7777777777777778,\"#fb9f3a\"],[0.8888888888888888,\"#fdca26\"],[1.0,\"#f0f921\"]],\"sequentialminus\":[[0.0,\"#0d0887\"],[0.1111111111111111,\"#46039f\"],[0.2222222222222222,\"#7201a8\"],[0.3333333333333333,\"#9c179e\"],[0.4444444444444444,\"#bd3786\"],[0.5555555555555556,\"#d8576b\"],[0.6666666666666666,\"#ed7953\"],[0.7777777777777778,\"#fb9f3a\"],[0.8888888888888888,\"#fdca26\"],[1.0,\"#f0f921\"]]},\"colorway\":[\"#636efa\",\"#EF553B\",\"#00cc96\",\"#ab63fa\",\"#FFA15A\",\"#19d3f3\",\"#FF6692\",\"#B6E880\",\"#FF97FF\",\"#FECB52\"],\"font\":{\"color\":\"#2a3f5f\"},\"geo\":{\"bgcolor\":\"white\",\"lakecolor\":\"white\",\"landcolor\":\"#E5ECF6\",\"showlakes\":true,\"showland\":true,\"subunitcolor\":\"white\"},\"hoverlabel\":{\"align\":\"left\"},\"hovermode\":\"closest\",\"mapbox\":{\"style\":\"light\"},\"paper_bgcolor\":\"white\",\"plot_bgcolor\":\"#E5ECF6\",\"polar\":{\"angularaxis\":{\"gridcolor\":\"white\",\"linecolor\":\"white\",\"ticks\":\"\"},\"bgcolor\":\"#E5ECF6\",\"radialaxis\":{\"gridcolor\":\"white\",\"linecolor\":\"white\",\"ticks\":\"\"}},\"scene\":{\"xaxis\":{\"backgroundcolor\":\"#E5ECF6\",\"gridcolor\":\"white\",\"gridwidth\":2,\"linecolor\":\"white\",\"showbackground\":true,\"ticks\":\"\",\"zerolinecolor\":\"white\"},\"yaxis\":{\"backgroundcolor\":\"#E5ECF6\",\"gridcolor\":\"white\",\"gridwidth\":2,\"linecolor\":\"white\",\"showbackground\":true,\"ticks\":\"\",\"zerolinecolor\":\"white\"},\"zaxis\":{\"backgroundcolor\":\"#E5ECF6\",\"gridcolor\":\"white\",\"gridwidth\":2,\"linecolor\":\"white\",\"showbackground\":true,\"ticks\":\"\",\"zerolinecolor\":\"white\"}},\"shapedefaults\":{\"line\":{\"color\":\"#2a3f5f\"}},\"ternary\":{\"aaxis\":{\"gridcolor\":\"white\",\"linecolor\":\"white\",\"ticks\":\"\"},\"baxis\":{\"gridcolor\":\"white\",\"linecolor\":\"white\",\"ticks\":\"\"},\"bgcolor\":\"#E5ECF6\",\"caxis\":{\"gridcolor\":\"white\",\"linecolor\":\"white\",\"ticks\":\"\"}},\"title\":{\"x\":0.05},\"xaxis\":{\"automargin\":true,\"gridcolor\":\"white\",\"linecolor\":\"white\",\"ticks\":\"\",\"title\":{\"standoff\":15},\"zerolinecolor\":\"white\",\"zerolinewidth\":2},\"yaxis\":{\"automargin\":true,\"gridcolor\":\"white\",\"linecolor\":\"white\",\"ticks\":\"\",\"title\":{\"standoff\":15},\"zerolinecolor\":\"white\",\"zerolinewidth\":2}}},\"legend\":{\"tracegroupgap\":0},\"title\":{\"text\":\"Proportion Of Different Categories in the Dataset\"}},                        {\"responsive\": true}                    ).then(function(){\n",
       "                            \n",
       "var gd = document.getElementById('f2275a02-ea2d-487f-99be-78b28177ee1b');\n",
       "var x = new MutationObserver(function (mutations, observer) {{\n",
       "        var display = window.getComputedStyle(gd).display;\n",
       "        if (!display || display === 'none') {{\n",
       "            console.log([gd, 'removed!']);\n",
       "            Plotly.purge(gd);\n",
       "            observer.disconnect();\n",
       "        }}\n",
       "}});\n",
       "\n",
       "// Listen for the removal of the full notebook cells\n",
       "var notebookContainer = gd.closest('#notebook-container');\n",
       "if (notebookContainer) {{\n",
       "    x.observe(notebookContainer, {childList: true});\n",
       "}}\n",
       "\n",
       "// Listen for the clearing of the current output cell\n",
       "var outputEl = gd.closest('.output');\n",
       "if (outputEl) {{\n",
       "    x.observe(outputEl, {childList: true});\n",
       "}}\n",
       "\n",
       "                        })                };                });            </script>        </div>"
      ]
     },
     "metadata": {},
     "output_type": "display_data"
    }
   ],
   "source": [
    "#We may check Proportion Of Different Categories\n",
    "fig = ex.pie(data,names='product_category',title='Proportion Of Different Categories in the Dataset',hover_data=['product_category'])\n",
    "fig.update_traces(textposition='inside', textinfo='percent+label')\n",
    "fig.show()"
   ]
  },
  {
   "cell_type": "code",
   "execution_count": 39,
   "metadata": {
    "scrolled": true
   },
   "outputs": [
    {
     "data": {
      "application/vnd.plotly.v1+json": {
       "config": {
        "plotlyServerURL": "https://plot.ly"
       },
       "data": [
        {
         "alignmentgroup": "True",
         "bingroup": "x",
         "hovertemplate": "price=%{x}<br>count=%{y}<extra></extra>",
         "legendgroup": "",
         "marker": {
          "color": "#636efa",
          "pattern": {
           "shape": ""
          }
         },
         "name": "",
         "offsetgroup": "",
         "orientation": "v",
         "showlegend": false,
         "type": "histogram",
         "x": [
          51.77,
          53.74,
          50.1,
          47.82,
          54.23,
          22.65,
          33.34,
          17.93,
          22.6,
          52.15,
          13.99,
          20.66,
          17.46,
          52.29,
          35.02,
          57.25,
          23.88,
          37.59,
          51.33,
          45.17,
          12.84,
          37.32,
          30.52,
          25.27,
          34.53,
          54.64,
          22.5,
          53.13,
          40.3,
          44.18,
          17.66,
          31.05,
          23.82,
          36.89,
          15.94,
          33.29,
          18.02,
          19.63,
          52.22,
          33.63,
          57.31,
          26.41,
          47.61,
          23.11,
          45.07,
          31.77,
          50.27,
          14.27,
          44.18,
          18.78,
          25.52,
          16.28,
          31.12,
          19.49,
          17.27,
          19.09,
          56.13,
          56.41,
          56.5,
          45.22,
          38.16,
          54.11,
          42.96,
          23.89,
          16.77,
          20.59,
          37.13,
          56.06,
          58.11,
          49.05,
          40.76,
          19.73,
          32.24,
          41.83,
          39.58,
          39.25,
          25.02,
          51.04,
          19.83,
          50.4,
          13.61,
          13.34,
          18.97,
          36.28,
          10.16,
          15.44,
          48.41,
          46.35,
          14.07,
          14.86,
          33.37,
          56.4,
          14.02,
          46.91,
          45.61,
          19.92,
          40.11,
          53.9,
          35.67,
          22,
          57.36,
          29.17,
          54.63,
          46.03,
          33.97,
          22.11,
          29.69,
          15.97,
          21.96,
          54.35,
          37.97,
          51.99,
          43.29,
          36.72,
          17.08,
          29.14,
          28.81,
          49.46,
          37.92,
          28.09,
          30.81,
          42.95,
          56.76,
          16.64,
          55.53,
          28.13,
          52.37,
          54,
          21.87,
          43.3,
          21.04,
          41.6,
          35.07,
          59.64,
          52.72,
          58.08,
          24.12,
          42.15,
          12.61,
          17.44,
          33.14,
          27.37,
          51.36,
          36,
          10.65,
          43.54,
          38.21,
          37.34,
          44.1,
          43.29,
          55.85,
          37.6,
          10.97,
          41.82,
          36.95,
          44.28,
          55.02,
          17.24,
          23.15,
          41.25,
          32,
          38.49,
          33.34,
          10.93,
          27.55,
          55.99,
          16.24,
          26.12,
          12.23,
          23.99,
          29.06,
          20.27,
          43.55,
          36.94,
          20.47,
          41.06,
          14.19,
          38.28,
          41.05,
          30.25,
          28.26,
          10.76,
          16.85,
          13.47,
          48.56,
          19.15,
          57.36,
          42.98,
          22.16,
          49.43,
          29.99,
          21.36,
          29,
          53.53,
          41.62,
          54.59,
          34.95,
          37.72,
          35.61,
          42.16,
          19.19,
          19.43,
          49.46,
          37.8,
          30.8,
          27.43,
          11.11,
          36.5,
          15.38,
          15.48,
          46.82,
          18.46,
          36.58,
          50.54,
          12.51,
          24.7,
          43.61,
          37.34,
          14.36,
          52.65,
          38.2,
          19.6,
          53.9,
          12.96,
          37.1,
          46.31,
          45.95,
          22.08,
          25.38,
          27.12,
          43.04,
          56.8,
          25.91,
          32.61,
          27.88,
          52.67,
          46.02,
          44.48,
          37.4,
          54.04,
          16.88,
          28.08,
          10.4,
          44.07,
          23.4,
          17.43,
          54.21,
          40.67,
          52.26,
          28.77,
          13.82,
          25.85,
          48.78,
          35.35,
          44.73,
          15.77,
          39.24,
          13.92,
          10.69,
          45.21,
          45.58,
          11.89,
          26.41,
          39.5,
          44.74,
          52.79,
          35.43,
          55.84,
          48.87,
          46.78,
          47.82,
          25.48,
          23.57,
          50.89,
          10.56,
          52.15,
          18.28,
          11.83,
          21.95,
          38.39,
          41.56,
          24.48,
          40.36,
          28.9,
          37.61,
          38.85,
          53.95,
          49.83,
          51.51,
          18.03,
          29.14,
          46.91,
          26.79,
          16.28,
          19.55,
          29.65,
          25.98,
          10.6,
          14.75,
          47.02,
          28.82,
          58.79,
          10.23,
          30.03,
          45.84,
          49.05,
          15.06,
          46.47,
          27.09,
          57.62,
          14.39,
          51.75,
          54.07,
          55.35,
          40.12,
          37.51,
          11.21,
          36.58,
          47.72,
          25.01,
          22.13,
          44.14,
          56.02,
          11.23,
          43.28,
          47.27,
          20.29,
          50.83,
          31.85,
          46.23,
          37.8,
          49.32,
          32.01,
          28.01,
          50.62,
          17.03,
          48.8,
          58.14,
          34.2,
          51.48,
          29.87,
          10.9,
          56.37,
          48.35,
          16.73,
          56.48,
          40.79,
          39.72,
          14.58,
          55.51,
          21.8,
          13.33,
          38.73,
          37.86,
          11.53,
          27.06,
          13.86,
          37.55,
          32.3,
          46.29,
          26.2,
          33.26,
          59.15,
          39.43,
          14.44,
          56.54,
          59.9,
          11.88,
          48.05,
          21.21,
          49.67,
          43.14,
          36.97,
          26.8,
          15.71,
          54.65,
          54.36,
          35.28,
          20.55,
          58.32,
          11.84,
          41.46,
          20.1,
          56.86,
          56.51,
          40.83,
          48.64,
          59.48,
          39.01,
          38.77,
          48.39,
          27.26,
          11.68,
          59.45,
          21,
          53.98,
          48.74,
          21.15,
          13.71,
          47.67,
          13.34,
          16.89,
          27.18,
          17.28,
          45.14,
          40.85,
          20.46,
          56.27,
          48.49,
          51.34,
          16.34,
          20.5,
          21.59,
          21.36,
          20.88,
          19.53,
          14.75,
          48.48,
          24.57,
          49.71,
          48.27,
          58.05,
          58.87,
          11.82,
          28.03,
          44.05,
          12.34,
          16.68,
          55.91,
          24.57,
          52.98,
          54.4,
          54.81,
          25.08,
          10.41,
          47.44,
          20.91,
          33.95,
          43.68,
          33.23,
          35.92,
          48.63,
          56.63,
          50.49,
          35.79,
          34.06,
          17.76,
          39.36,
          36.94,
          43.62,
          43.02,
          28.45,
          41.39,
          51.15,
          35.88,
          36.91,
          28.93,
          38.89,
          58.33,
          39.67,
          14.1,
          21.82,
          54.21,
          31.19,
          53.64,
          36.39,
          58.54,
          29.48,
          25.06,
          12.55,
          29.04,
          40.72,
          45.05,
          47.13,
          20.22,
          56.48,
          44.21,
          21.96,
          40.45,
          10.29,
          52.86,
          55.65,
          43.64,
          28.41,
          37.51,
          11.45,
          19.22,
          56.91,
          55.06,
          13.2,
          53.63,
          44.48,
          12.08,
          22.14,
          25.37,
          46.33,
          37.33,
          25.55,
          34.72,
          35.96,
          41.14,
          10.01,
          36.05,
          49.03,
          16.24,
          39.55,
          35.67,
          16.62,
          42.78,
          52.3,
          32.34,
          33.17,
          20.12,
          20.9,
          20.9,
          40.2,
          52.87,
          51.74,
          34.41,
          32.38,
          50.35,
          11.38,
          43.58,
          49.67,
          28.77,
          13.22,
          51.17,
          39.61,
          57.43,
          46.01,
          28.25,
          37.05,
          19.57,
          45.13,
          46.64,
          12.16,
          20.89,
          17.97,
          52.6,
          25.77,
          48.19,
          29.93,
          44.34,
          52.4,
          44.81,
          57.84,
          39.67,
          55.02,
          24.8,
          59.45,
          31.58,
          43.27,
          37.34,
          17.8,
          30.54,
          18.77,
          46.85,
          15.79,
          10.27,
          15.42,
          59.92,
          50.96,
          30.6,
          19.27,
          46.58,
          48.51,
          19.02,
          38.38,
          49.98,
          46.49,
          18.32,
          42.14,
          56.59,
          20.96,
          40.32,
          36.39,
          58.55,
          39.61,
          21.3,
          56.88,
          32.97,
          47.31,
          48.67,
          41.73,
          53.68,
          14.64,
          38.4,
          15.08,
          30.57,
          57.74,
          11.05,
          28.58,
          42.91,
          24.73,
          55.91,
          13.76,
          45.56,
          47.22,
          56,
          44.58,
          34.5,
          11.33,
          38.77,
          11.83,
          45.51,
          41.81,
          25.15,
          34.22,
          16.23,
          11.48,
          23.37,
          16.28,
          31.63,
          24.91,
          22.54,
          23.63,
          13.12,
          59.98,
          31.49,
          15.52,
          48.13,
          38.13,
          36.55,
          23.32,
          16.33,
          32.42,
          16.96,
          22.37,
          42.27,
          38.7,
          35.63,
          58,
          52.41,
          32.35,
          20.75,
          17.49,
          34.13,
          58.81,
          10,
          51.22,
          58.59,
          31.3,
          46.42,
          17.21,
          10.79,
          52.35,
          27.88,
          50.26,
          59.99,
          28.32,
          38.71,
          29.85,
          14.82,
          16.81,
          28.23,
          52.11,
          27.88,
          59.71,
          46.08,
          13.73,
          48.39,
          49.45,
          19.67,
          12.36,
          20.02,
          12.75,
          47.51,
          20.44,
          34.79,
          28.07,
          25.01,
          13.9,
          24.17,
          31.63,
          48.75,
          14.74,
          32.49,
          27.8,
          26.77,
          50.44,
          34.93,
          12.87,
          48.94,
          13.38,
          58.63,
          21.94,
          26.58,
          57.22,
          56.43,
          55.65,
          27.62,
          49.56,
          34.77,
          17.73,
          21.8,
          46.02,
          18.13,
          30.89,
          31.95,
          24.04,
          32.36,
          21.07,
          50.66,
          13.66,
          58.09,
          30,
          32.74,
          41.93,
          42.8,
          53.51,
          23.21,
          21.14,
          56.07,
          14.41,
          45.75,
          15.77,
          10.02,
          48.77,
          57.86,
          23.59,
          23.05,
          55.55,
          58.64,
          23.21,
          42.57,
          10.92,
          34.77,
          35.66,
          37.19,
          12.25,
          29.7,
          36.8,
          45.43,
          26.26,
          44.92,
          52.53,
          37.25,
          20.93,
          58.09,
          43.59,
          33.92,
          55.55,
          29.64,
          27.41,
          52.51,
          47.8,
          14.54,
          49.53,
          43.58,
          12.3,
          49.47,
          22.14,
          57.48,
          43.45,
          22.13,
          13.03,
          57.35,
          44.29,
          52.25,
          26.33,
          22.96,
          19.21,
          26.78,
          41.32,
          24.55,
          16.26,
          47.84,
          53.49,
          44.84,
          53.71,
          23.43,
          34.32,
          22.1,
          25.83,
          36.74,
          49.51,
          48.96,
          54.62,
          24.72,
          46.45,
          52.33,
          30.6,
          14.57,
          46.29,
          21.57,
          12.91,
          50.11,
          41.67,
          44.88,
          11.1,
          28.54,
          19.07,
          43.55,
          43.63,
          39.13,
          56.68,
          14.16,
          31.45,
          24.61,
          32.87,
          40.17,
          13.51,
          38.95,
          31.69,
          29.4,
          57.83,
          55.46,
          57.6,
          34.98,
          11.87,
          12.47,
          33.26,
          59.04,
          26.13,
          22.2,
          45.11,
          43.69,
          25.02,
          55.5,
          53.04,
          44.97,
          42.38,
          20.11,
          56.7,
          41,
          28.85,
          49.97,
          19.69,
          28.88,
          33.14,
          43.7,
          54.89,
          37.52,
          51.07,
          44.07,
          10.79,
          42.72,
          26.66,
          37.6,
          42.21,
          46.83,
          45.17,
          51.22,
          21.28,
          15.36,
          38.62,
          25.4,
          43.87,
          18.74,
          54.86,
          52.62,
          51.48,
          15.28,
          39.24,
          17.81,
          56.02,
          23.9,
          49.13,
          10.62,
          36.17,
          59.95,
          26.09,
          37.35,
          24.72,
          35.28,
          51.32,
          21.12,
          27.35,
          21.74,
          40.87,
          49.31,
          22.11,
          20.79,
          27.41,
          38.35,
          21.55,
          38.02,
          22.06,
          10.66,
          56.58,
          36.83,
          35.01,
          30.48,
          14.08,
          31.22,
          54.29,
          31.04,
          50.96,
          11.89,
          31.38,
          54.81,
          16.78,
          24.42,
          11.75,
          20.02,
          12.86,
          31.58,
          34,
          57.42,
          53.47,
          11.64,
          52.88,
          18.51,
          41.32,
          39.77,
          51.96,
          39.51,
          15.4,
          53.82,
          30.95,
          57.82,
          44.18,
          48.71,
          19.69,
          36.52,
          41.56,
          43.19,
          12.34,
          36.25,
          29.45,
          34.56,
          54.12,
          33.78,
          29.64,
          57.7,
          36.34,
          50.59,
          29.38,
          45.42,
          54.43,
          36.26,
          16.16,
          36.29,
          27.89,
          12.29,
          15.85,
          14.4,
          19.18,
          10.64,
          14.76,
          57.49,
          30.66,
          40.83,
          18.88,
          25.83,
          42.12,
          13.33,
          42.4,
          58.35,
          21.72,
          44.91,
          37.46,
          28.48,
          28.34,
          46.96,
          24.96,
          21.71,
          29.87,
          28.99,
          52.94,
          32.36,
          55.66,
          39.45,
          47.11,
          58.75,
          38.92,
          39.39,
          25.89,
          28.34,
          27.7,
          24.89,
          58.99,
          57.2,
          38.43,
          34.74,
          40.44,
          45.24,
          34.96,
          56.76,
          40.28,
          38,
          28.8,
          39.24,
          32.93,
          51.32,
          47.09,
          28.42,
          22.85,
          41.24,
          39.07,
          29.82,
          37.26,
          20.3,
          34.65,
          43.38,
          55.53,
          57.06,
          16.97,
          53.98,
          26.08
         ],
         "xaxis": "x",
         "yaxis": "y"
        },
        {
         "alignmentgroup": "True",
         "customdata": [
          [
           "A Light in the Attic"
          ],
          [
           "Tipping the Velvet"
          ],
          [
           "Soumission"
          ],
          [
           "Sharp Objects"
          ],
          [
           "Sapiens: A Brief History of Humankind"
          ],
          [
           "The Requiem Red"
          ],
          [
           "The Dirty Little Secrets of Getting Your Dream Job"
          ],
          [
           "The Coming Woman: A Novel Based on the Life of the Infamous Feminist, Victoria Woodhull"
          ],
          [
           "The Boys in the Boat: Nine Americans and Their Epic Quest for Gold at the 1936 Berlin Olympics"
          ],
          [
           "The Black Maria"
          ],
          [
           "Starving Hearts (Triangular Trade Trilogy, #1)"
          ],
          [
           "Shakespeare's Sonnets"
          ],
          [
           "Set Me Free"
          ],
          [
           "Scott Pilgrim's Precious Little Life (Scott Pilgrim #1)"
          ],
          [
           "Rip it Up and Start Again"
          ],
          [
           "Our Band Could Be Your Life: Scenes from the American Indie Underground, 1981-1991"
          ],
          [
           "Olio"
          ],
          [
           "Mesaerion: The Best Science Fiction Stories 1800-1849"
          ],
          [
           "Libertarianism for Beginners"
          ],
          [
           "It's Only the Himalayas"
          ],
          [
           "In Her Wake"
          ],
          [
           "How Music Works"
          ],
          [
           "Foolproof Preserving: A Guide to Small Batch Jams, Jellies, Pickles, Condiments, and More: A Foolproof Guide to Making Small Batch Jams, Jellies, Pickles, Condiments, and More"
          ],
          [
           "Chase Me (Paris Nights #2)"
          ],
          [
           "Black Dust"
          ],
          [
           "Birdsong: A Story in Pictures"
          ],
          [
           "America's Cradle of Quarterbacks: Western Pennsylvania's Football Factory from Johnny Unitas to Joe Montana"
          ],
          [
           "Aladdin and His Wonderful Lamp"
          ],
          [
           "Worlds Elsewhere: Journeys Around Shakespeareâs Globe"
          ],
          [
           "Wall and Piece"
          ],
          [
           "The Four Agreements: A Practical Guide to Personal Freedom"
          ],
          [
           "The Five Love Languages: How to Express Heartfelt Commitment to Your Mate"
          ],
          [
           "The Elephant Tree"
          ],
          [
           "The Bear and the Piano"
          ],
          [
           "Sophie's World"
          ],
          [
           "Penny Maybe"
          ],
          [
           "Maude (1883-1993):She Grew Up with the country"
          ],
          [
           "In a Dark, Dark Wood"
          ],
          [
           "Behind Closed Doors"
          ],
          [
           "You can't bury them all: Poems"
          ],
          [
           "Slow States of Collapse: Poems"
          ],
          [
           "Reasons to Stay Alive"
          ],
          [
           "Private Paris (Private #10)"
          ],
          [
           "#HigherSelfie: Wake Up Your Life. Free Your Soul. Find Your Tribe."
          ],
          [
           "Without Borders (Wanderlove #1)"
          ],
          [
           "When We Collided"
          ],
          [
           "We Love You, Charlie Freeman"
          ],
          [
           "Untitled Collection: Sabbath Poems 2014"
          ],
          [
           "Unseen City: The Majesty of Pigeons, the Discreet Charm of Snails & Other Wonders of the Urban Wilderness"
          ],
          [
           "Unicorn Tracks"
          ],
          [
           "Unbound: How Eight Technologies Made Us Human, Transformed Society, and Brought Our World to the Brink"
          ],
          [
           "Tsubasa: WoRLD CHRoNiCLE 2 (Tsubasa WoRLD CHRoNiCLE #2)"
          ],
          [
           "Throwing Rocks at the Google Bus: How Growth Became the Enemy of Prosperity"
          ],
          [
           "This One Summer"
          ],
          [
           "Thirst"
          ],
          [
           "The Torch Is Passed: A Harding Family Story"
          ],
          [
           "The Secret of Dreadwillow Carse"
          ],
          [
           "The Pioneer Woman Cooks: Dinnertime: Comfort Classics, Freezer Food, 16-Minute Meals, and Other Delicious Ways to Solve Supper!"
          ],
          [
           "The Past Never Ends"
          ],
          [
           "The Natural History of Us (The Fine Art of Pretending #2)"
          ],
          [
           "The Nameless City (The Nameless City #1)"
          ],
          [
           "The Murder That Never Was (Forensic Instincts #5)"
          ],
          [
           "The Most Perfect Thing: Inside (and Outside) a Bird's Egg"
          ],
          [
           "The Mindfulness and Acceptance Workbook for Anxiety: A Guide to Breaking Free from Anxiety, Phobias, and Worry Using Acceptance and Commitment Therapy"
          ],
          [
           "The Life-Changing Magic of Tidying Up: The Japanese Art of Decluttering and Organizing"
          ],
          [
           "The Inefficiency Assassin: Time Management Tactics for Working Smarter, Not Longer"
          ],
          [
           "The Gutsy Girl: Escapades for Your Life of Epic Adventure"
          ],
          [
           "The Electric Pencil: Drawings from Inside State Hospital No. 3"
          ],
          [
           "The Death of Humanity: and the Case for Life"
          ],
          [
           "The Bulletproof Diet: Lose up to a Pound a Day, Reclaim Energy and Focus, Upgrade Your Life"
          ],
          [
           "The Art Forger"
          ],
          [
           "The Age of Genius: The Seventeenth Century and the Birth of the Modern Mind"
          ],
          [
           "The Activist's Tao Te Ching: Ancient Advice for a Modern Revolution"
          ],
          [
           "Spark Joy: An Illustrated Master Class on the Art of Organizing and Tidying Up"
          ],
          [
           "Soul Reader"
          ],
          [
           "Security"
          ],
          [
           "Saga, Volume 6 (Saga (Collected Editions) #6)"
          ],
          [
           "Saga, Volume 5 (Saga (Collected Editions) #5)"
          ],
          [
           "Reskilling America: Learning to Labor in the Twenty-First Century"
          ],
          [
           "Rat Queens, Vol. 3: Demons (Rat Queens (Collected Editions) #11-15)"
          ],
          [
           "Princess Jellyfish 2-in-1 Omnibus, Vol. 01 (Princess Jellyfish 2-in-1 Omnibus #1)"
          ],
          [
           "Princess Between Worlds (Wide-Awake Princess #5)"
          ],
          [
           "Pop Gun War, Volume 1: Gift"
          ],
          [
           "Political Suicide: Missteps, Peccadilloes, Bad Calls, Backroom Hijinx, Sordid Pasts, Rotten Breaks, and Just Plain Dumb Mistakes in the Annals of American Politics"
          ],
          [
           "Patience"
          ],
          [
           "Outcast, Vol. 1: A Darkness Surrounds Him (Outcast #1)"
          ],
          [
           "orange: The Complete Collection 1 (orange: The Complete Collection #1)"
          ],
          [
           "Online Marketing for Busy Authors: A Step-By-Step Guide"
          ],
          [
           "On a Midnight Clear"
          ],
          [
           "Obsidian (Lux #1)"
          ],
          [
           "My Paris Kitchen: Recipes and Stories"
          ],
          [
           "Masks and Shadows"
          ],
          [
           "Mama Tried: Traditional Italian Cooking for the Screwed, Crude, Vegan, and Tattooed"
          ],
          [
           "Lumberjanes, Vol. 2: Friendship to the Max (Lumberjanes #5-8)"
          ],
          [
           "Lumberjanes, Vol. 1: Beware the Kitten Holy (Lumberjanes #1-4)"
          ],
          [
           "Lumberjanes Vol. 3: A Terrible Plan (Lumberjanes #9-12)"
          ],
          [
           "Layered: Baking, Building, and Styling Spectacular Cakes"
          ],
          [
           "Judo: Seven Steps to Black Belt (an Introductory Guide for Beginners)"
          ],
          [
           "Join"
          ],
          [
           "In the Country We Love: My Family Divided"
          ],
          [
           "Immunity: How Elie Metchnikoff Changed the Course of Modern Medicine"
          ],
          [
           "I Hate Fairyland, Vol. 1: Madly Ever After (I Hate Fairyland (Compilations) #1-5)"
          ],
          [
           "I am a Hero Omnibus Volume 1"
          ],
          [
           "How to Be Miserable: 40 Strategies You Already Use"
          ],
          [
           "Her Backup Boyfriend (The Sorensen Family #1)"
          ],
          [
           "Giant Days, Vol. 2 (Giant Days #5-8)"
          ],
          [
           "Forever and Forever: The Courtship of Henry Longfellow and Fanny Appleton"
          ],
          [
           "First and First (Five Boroughs #3)"
          ],
          [
           "Fifty Shades Darker (Fifty Shades #2)"
          ],
          [
           "Everydata: The Misinformation Hidden in the Little Data You Consume Every Day"
          ],
          [
           "Don't Be a Jerk: And Other Practical Advice from Dogen, Japan's Greatest Zen Master"
          ],
          [
           "Danganronpa Volume 1"
          ],
          [
           "Crown of Midnight (Throne of Glass #2)"
          ],
          [
           "Codename Baboushka, Volume 1: The Conclave of Death"
          ],
          [
           "Camp Midnight"
          ],
          [
           "Call the Nurse: True Stories of a Country Nurse on a Scottish Isle"
          ],
          [
           "Burning"
          ],
          [
           "Bossypants"
          ],
          [
           "Bitch Planet, Vol. 1: Extraordinary Machine (Bitch Planet (Collected Editions))"
          ],
          [
           "Avatar: The Last Airbender: Smoke and Shadow, Part 3 (Smoke and Shadow #3)"
          ],
          [
           "Algorithms to Live By: The Computer Science of Human Decisions"
          ],
          [
           "A World of Flavor: Your Gluten Free Passport"
          ],
          [
           "A Piece of Sky, a Grain of Rice: A Memoir in Four Meditations"
          ],
          [
           "A Murder in Time"
          ],
          [
           "A Flight of Arrows (The Pathfinders #2)"
          ],
          [
           "A Fierce and Subtle Poison"
          ],
          [
           "A Court of Thorns and Roses (A Court of Thorns and Roses #1)"
          ],
          [
           "(Un)Qualified: How God Uses Broken People to Do Big Things"
          ],
          [
           "You Are What You Love: The Spiritual Power of Habit"
          ],
          [
           "William Shakespeare's Star Wars: Verily, A New Hope (William Shakespeare's Star Wars #4)"
          ],
          [
           "Tuesday Nights in 1980"
          ],
          [
           "Tracing Numbers on a Train"
          ],
          [
           "Throne of Glass (Throne of Glass #1)"
          ],
          [
           "Thomas Jefferson and the Tripoli Pirates: The Forgotten War That Changed American History"
          ],
          [
           "Thirteen Reasons Why"
          ],
          [
           "The White Cat and the Monk: A Retelling of the Poem âPangur BÃ¡nâ"
          ],
          [
           "The Wedding Dress"
          ],
          [
           "The Vacationers"
          ],
          [
           "The Third Wave: An Entrepreneurâs Vision of the Future"
          ],
          [
           "The Stranger"
          ],
          [
           "The Shadow Hero (The Shadow Hero)"
          ],
          [
           "The Secret (The Secret #1)"
          ],
          [
           "The Regional Office Is Under Attack!"
          ],
          [
           "The Psychopath Test: A Journey Through the Madness Industry"
          ],
          [
           "The Project"
          ],
          [
           "The Power of Now: A Guide to Spiritual Enlightenment"
          ],
          [
           "The Omnivore's Dilemma: A Natural History of Four Meals"
          ],
          [
           "The Nerdy Nummies Cookbook: Sweet Treats for the Geek in All of Us"
          ],
          [
           "The Murder of Roger Ackroyd (Hercule Poirot #4)"
          ],
          [
           "The Mistake (Off-Campus #2)"
          ],
          [
           "The Matchmaker's Playbook (Wingmen Inc. #1)"
          ],
          [
           "The Love and Lemons Cookbook: An Apple-to-Zucchini Celebration of Impromptu Cooking"
          ],
          [
           "The Long Shadow of Small Ghosts: Murder and Memory in an American City"
          ],
          [
           "The Kite Runner"
          ],
          [
           "The House by the Lake"
          ],
          [
           "The Glittering Court (The Glittering Court #1)"
          ],
          [
           "The Girl on the Train"
          ],
          [
           "The Genius of Birds"
          ],
          [
           "The Emerald Mystery"
          ],
          [
           "The Cookies & Cups Cookbook: 125+ sweet & savory recipes reminding you to Always Eat Dessert First"
          ],
          [
           "The Bridge to Consciousness: I'm Writing the Bridge Between Science and Our Old and New Beliefs."
          ],
          [
           "The Artist's Way: A Spiritual Path to Higher Creativity"
          ],
          [
           "The Art of War"
          ],
          [
           "The Argonauts"
          ],
          [
           "The 10% Entrepreneur: Live Your Startup Dream Without Quitting Your Day Job"
          ],
          [
           "Suddenly in Love (Lake Haven #1)"
          ],
          [
           "Something More Than This"
          ],
          [
           "Soft Apocalypse"
          ],
          [
           "So You've Been Publicly Shamed"
          ],
          [
           "Shoe Dog: A Memoir by the Creator of NIKE"
          ],
          [
           "Shobu Samurai, Project Aryoku (#3)"
          ],
          [
           "Secrets and Lace (Fatal Hearts #1)"
          ],
          [
           "Scarlett Epstein Hates It Here"
          ],
          [
           "Romero and Juliet: A Tragic Tale of Love and Zombies"
          ],
          [
           "Redeeming Love"
          ],
          [
           "Poses for Artists Volume 1 - Dynamic and Sitting Poses: An Essential Reference for Figure Drawing and the Human Form"
          ],
          [
           "Poems That Make Grown Women Cry"
          ],
          [
           "Nightingale, Sing"
          ],
          [
           "Night Sky with Exit Wounds"
          ],
          [
           "Mrs. Houdini"
          ],
          [
           "Modern Romance"
          ],
          [
           "Miss Peregrineâs Home for Peculiar Children (Miss Peregrineâs Peculiar Children #1)"
          ],
          [
           "Louisa: The Extraordinary Life of Mrs. Adams"
          ],
          [
           "Little Red"
          ],
          [
           "Library of Souls (Miss Peregrineâs Peculiar Children #3)"
          ],
          [
           "Large Print Heart of the Pride"
          ],
          [
           "I Had a Nice Time And Other Lies...: How to find love & sh*t like that"
          ],
          [
           "Hollow City (Miss Peregrineâs Peculiar Children #2)"
          ],
          [
           "Grumbles"
          ],
          [
           "Full Moon over Noahâs Ark: An Odyssey to Mount Ararat and Beyond"
          ],
          [
           "Frostbite (Vampire Academy #2)"
          ],
          [
           "Follow You Home"
          ],
          [
           "First Steps for New Christians (Print Edition)"
          ],
          [
           "Finders Keepers (Bill Hodges Trilogy #2)"
          ],
          [
           "Fables, Vol. 1: Legends in Exile (Fables #1)"
          ],
          [
           "Eureka Trivia 6.0"
          ],
          [
           "Drive: The Surprising Truth About What Motivates Us"
          ],
          [
           "Done Rubbed Out (Reightman & Bailey #1)"
          ],
          [
           "Doing It Over (Most Likely To #1)"
          ],
          [
           "Deliciously Ella Every Day: Quick and Easy Recipes for Gluten-Free Snacks, Packed Lunches, and Simple Meals"
          ],
          [
           "Dark Notes"
          ],
          [
           "Daring Greatly: How the Courage to Be Vulnerable Transforms the Way We Live, Love, Parent, and Lead"
          ],
          [
           "Close to You"
          ],
          [
           "Chasing Heaven: What Dying Taught Me About Living"
          ],
          [
           "Big Magic: Creative Living Beyond Fear"
          ],
          [
           "Becoming Wise: An Inquiry into the Mystery and Art of Living"
          ],
          [
           "Beauty Restored (Riley Family Legacy Novellas #3)"
          ],
          [
           "Batman: The Long Halloween (Batman)"
          ],
          [
           "Batman: The Dark Knight Returns (Batman)"
          ],
          [
           "Ayumi's Violin"
          ],
          [
           "Anonymous"
          ],
          [
           "Amy Meets the Saints and Sages"
          ],
          [
           "Amid the Chaos"
          ],
          [
           "Amatus"
          ],
          [
           "Agnostic: A Spirited Manifesto"
          ],
          [
           "Zealot: The Life and Times of Jesus of Nazareth"
          ],
          [
           "You (You #1)"
          ],
          [
           "Wonder Woman: Earth One, Volume One (Wonder Woman: Earth One #1)"
          ],
          [
           "Wild Swans"
          ],
          [
           "Why the Right Went Wrong: Conservatism--From Goldwater to the Tea Party and Beyond"
          ],
          [
           "Whole Lotta Creativity Going On: 60 Fun and Unusual Exercises to Awaken and Strengthen Your Creativity"
          ],
          [
           "What's It Like in Space?: Stories from Astronauts Who've Been There"
          ],
          [
           "We Are Robin, Vol. 1: The Vigilante Business (We Are Robin #1)"
          ],
          [
           "Walt Disney's Alice in Wonderland"
          ],
          [
           "V for Vendetta (V for Vendetta Complete)"
          ],
          [
           "Until Friday Night (The Field Party #1)"
          ],
          [
           "Unbroken: A World War II Story of Survival, Resilience, and Redemption"
          ],
          [
           "Twenty Yawns"
          ],
          [
           "Through the Woods"
          ],
          [
           "This Is Where It Ends"
          ],
          [
           "The Year of Magical Thinking"
          ],
          [
           "The Wright Brothers"
          ],
          [
           "The White Queen (The Cousins' War #1)"
          ],
          [
           "The Wedding Pact (The O'Malleys #2)"
          ],
          [
           "The Time Keeper"
          ],
          [
           "The Testament of Mary"
          ],
          [
           "The Star-Touched Queen"
          ],
          [
           "The Songs of the Gods"
          ],
          [
           "The Song of Achilles"
          ],
          [
           "The Rosie Project (Don Tillman #1)"
          ],
          [
           "The Power of Habit: Why We Do What We Do in Life and Business"
          ],
          [
           "The Marriage of Opposites"
          ],
          [
           "The Lucifer Effect: Understanding How Good People Turn Evil"
          ],
          [
           "The Long Haul (Diary of a Wimpy Kid #9)"
          ],
          [
           "The Loney"
          ],
          [
           "The Literature Book (Big Ideas Simply Explained)"
          ],
          [
           "The Last Mile (Amos Decker #2)"
          ],
          [
           "The Immortal Life of Henrietta Lacks"
          ],
          [
           "The Hidden Oracle (The Trials of Apollo #1)"
          ],
          [
           "The Help Yourself Cookbook for Kids: 60 Easy Plant-Based Recipes Kids Can Make to Stay Healthy and Save the Earth"
          ],
          [
           "The Guilty (Will Robie #4)"
          ],
          [
           "The First Hostage (J.B. Collins #2)"
          ],
          [
           "The Dovekeepers"
          ],
          [
           "The Darkest Lie"
          ],
          [
           "The Bane Chronicles (The Bane Chronicles #1-11)"
          ],
          [
           "The Bad-Ass Librarians of Timbuktu: And Their Race to Save the Worldâs Most Precious Manuscripts"
          ],
          [
           "The 14th Colony (Cotton Malone #11)"
          ],
          [
           "That Darkness (Gardiner and Renner #1)"
          ],
          [
           "Tastes Like Fear (DI Marnie Rome #3)"
          ],
          [
           "Take Me with You"
          ],
          [
           "Swell: A Year of Waves"
          ],
          [
           "Superman Vol. 1: Before Truth (Superman by Gene Luen Yang #1)"
          ],
          [
           "Still Life with Bread Crumbs"
          ],
          [
           "Steve Jobs"
          ],
          [
           "Sorting the Beef from the Bull: The Science of Food Fraud Forensics"
          ],
          [
           "Someone Like You (The Harrisons #2)"
          ],
          [
           "So Cute It Hurts!!, Vol. 6 (So Cute It Hurts!! #6)"
          ],
          [
           "Shtum"
          ],
          [
           "See America: A Celebration of Our National Parks & Treasured Sites"
          ],
          [
           "salt."
          ],
          [
           "Robin War"
          ],
          [
           "Red Hood/Arsenal, Vol. 1: Open for Business (Red Hood/Arsenal #1)"
          ],
          [
           "Rain Fish"
          ],
          [
           "Quarter Life Poetry: Poems for the Young, Broke and Hangry"
          ],
          [
           "Pet Sematary"
          ],
          [
           "Overload: How to Unplug, Unwind, and Unleash Yourself from the Pressure of Stress"
          ],
          [
           "Once Was a Time"
          ],
          [
           "Old School (Diary of a Wimpy Kid #10)"
          ],
          [
           "No Dream Is Too High: Life Lessons From a Man Who Walked on the Moon"
          ],
          [
           "Naruto (3-in-1 Edition), Vol. 14: Includes Vols. 40, 41 & 42 (Naruto: Omnibus #14)"
          ],
          [
           "My Name Is Lucy Barton"
          ],
          [
           "My Mrs. Brown"
          ],
          [
           "My Kind of Crazy"
          ],
          [
           "Mr. Mercedes (Bill Hodges Trilogy #1)"
          ],
          [
           "More Than Music (Chasing the Dream #1)"
          ],
          [
           "Made to Stick: Why Some Ideas Survive and Others Die"
          ],
          [
           "Luis Paints the World"
          ],
          [
           "Luckiest Girl Alive"
          ],
          [
           "Lowriders to the Center of the Earth (Lowriders in Space #2)"
          ],
          [
           "Love Is a Mix Tape (Music #1)"
          ],
          [
           "Looking for Lovely: Collecting the Moments that Matter"
          ],
          [
           "Living Leadership by Insight: A Good Leader Achieves, a Great Leader Builds Monuments"
          ],
          [
           "Let It Out: A Journey Through Journaling"
          ],
          [
           "Lady Midnight (The Dark Artifices #1)"
          ],
          [
           "It's All Easy: Healthy, Delicious Weeknight Meals in under 30 Minutes"
          ],
          [
           "Island of Dragons (Unwanteds #7)"
          ],
          [
           "I Know What I'm Doing -- and Other Lies I Tell Myself: Dispatches from a Life Under Construction"
          ],
          [
           "I Am Pilgrim (Pilgrim #1)"
          ],
          [
           "Hyperbole and a Half: Unfortunate Situations, Flawed Coping Mechanisms, Mayhem, and Other Things That Happened"
          ],
          [
           "Hush, Hush (Hush, Hush #1)"
          ],
          [
           "Hold Your Breath (Search and Rescue #1)"
          ],
          [
           "Hamilton: The Revolution"
          ],
          [
           "Greek Mythic History"
          ],
          [
           "God: The Most Unpleasant Character in All Fiction"
          ],
          [
           "Glory over Everything: Beyond The Kitchen House"
          ],
          [
           "Feathers: Displays of Brilliant Plumage"
          ],
          [
           "Far & Away: Places on the Brink of Change: Seven Continents, Twenty-Five Years"
          ],
          [
           "Every Last Word"
          ],
          [
           "Eligible (The Austen Project #4)"
          ],
          [
           "El Deafo"
          ],
          [
           "Eight Hundred Grapes"
          ],
          [
           "Eaternity: More than 150 Deliciously Easy Vegan Recipes for a Long, Healthy, Satisfied, Joyful Life"
          ],
          [
           "Eat Fat, Get Thin"
          ],
          [
           "Don't Get Caught"
          ],
          [
           "Doctor Sleep (The Shining #2)"
          ],
          [
           "Demigods & Magicians: Percy and Annabeth Meet the Kanes (Percy Jackson & Kane Chronicles Crossover #1-3)"
          ],
          [
           "Dear Mr. Knightley"
          ],
          [
           "Daily Fantasy Sports"
          ],
          [
           "Crazy Love: Overwhelmed by a Relentless God"
          ],
          [
           "Cometh the Hour (The Clifton Chronicles #6)"
          ],
          [
           "Code Name Verity (Code Name Verity #1)"
          ],
          [
           "Clockwork Angel (The Infernal Devices #1)"
          ],
          [
           "City of Glass (The Mortal Instruments #3)"
          ],
          [
           "City of Fallen Angels (The Mortal Instruments #4)"
          ],
          [
           "City of Bones (The Mortal Instruments #1)"
          ],
          [
           "City of Ashes (The Mortal Instruments #2)"
          ],
          [
           "Cell"
          ],
          [
           "Catching Jordan (Hundred Oaks)"
          ],
          [
           "Carry On, Warrior: Thoughts on Life Unarmed"
          ],
          [
           "Carrie"
          ],
          [
           "Buying In: The Secret Dialogue Between What We Buy and Who We Are"
          ],
          [
           "Brain on Fire: My Month of Madness"
          ],
          [
           "Batman: Europa"
          ],
          [
           "Barefoot Contessa Back to Basics"
          ],
          [
           "Barefoot Contessa at Home: Everyday Recipes You'll Make Over and Over Again"
          ],
          [
           "Balloon Animals"
          ],
          [
           "Art Ops Vol. 1"
          ],
          [
           "Aristotle and Dante Discover the Secrets of the Universe (Aristotle and Dante Discover the Secrets of the Universe #1)"
          ],
          [
           "Angels Walking (Angels Walking #1)"
          ],
          [
           "Angels & Demons (Robert Langdon #1)"
          ],
          [
           "All the Light We Cannot See"
          ],
          [
           "Adulthood Is a Myth: A \"Sarah's Scribbles\" Collection"
          ],
          [
           "Abstract City"
          ],
          [
           "A Time of Torment (Charlie Parker #14)"
          ],
          [
           "A Study in Scarlet (Sherlock Holmes #1)"
          ],
          [
           "A Series of Catastrophes and Miracles: A True Story of Love, Science, and Cancer"
          ],
          [
           "A People's History of the United States"
          ],
          [
           "A Man Called Ove"
          ],
          [
           "A Distant Mirror: The Calamitous 14th Century"
          ],
          [
           "A Brush of Wings (Angels Walking #3)"
          ],
          [
           "1491: New Revelations of the Americas Before Columbus"
          ],
          [
           "The Three Searches, Meaning, and the Story"
          ],
          [
           "Searching for Meaning in Gailana"
          ],
          [
           "Rook"
          ],
          [
           "My Kitchen Year: 136 Recipes That Saved My Life"
          ],
          [
           "13 Hours: The Inside Account of What Really Happened In Benghazi"
          ],
          [
           "Will You Won't You Want Me?"
          ],
          [
           "Tipping Point for Planet Earth: How Close Are We to the Edge?"
          ],
          [
           "The Star-Touched Queen"
          ],
          [
           "The Silent Sister (Riley MacPherson #1)"
          ],
          [
           "The Midnight Watch: A Novel of the Titanic and the Californian"
          ],
          [
           "The Lonely City: Adventures in the Art of Being Alone"
          ],
          [
           "The Gray Rhino: How to Recognize and Act on the Obvious Dangers We Ignore"
          ],
          [
           "The Golden Condom: And Other Essays on Love Lost and Found"
          ],
          [
           "The Epidemic (The Program 0.6)"
          ],
          [
           "The Dinner Party"
          ],
          [
           "The Diary of a Young Girl"
          ],
          [
           "The Children"
          ],
          [
           "Stars Above (The Lunar Chronicles #4.5)"
          ],
          [
           "Snatched: How A Drug Queen Went Undercover for the DEA and Was Kidnapped By Colombian Guerillas"
          ],
          [
           "Raspberry Pi Electronics Projects for the Evil Genius"
          ],
          [
           "Quench Your Own Thirst: Business Lessons Learned Over a Beer or Two"
          ],
          [
           "Psycho: Sanitarium (Psycho #1.5)"
          ],
          [
           "Poisonous (Max Revere Novels #3)"
          ],
          [
           "One with You (Crossfire #5)"
          ],
          [
           "No Love Allowed (Dodge Cove #1)"
          ],
          [
           "Murder at the 42nd Street Library (Raymond Ambler #1)"
          ],
          [
           "Most Wanted"
          ],
          [
           "Love, Lies and Spies"
          ],
          [
           "How to Speak Golf: An Illustrated Guide to Links Lingo"
          ],
          [
           "Hide Away (Eve Duncan #20)"
          ],
          [
           "Furiously Happy: A Funny Book About Horrible Things"
          ],
          [
           "Everyday Italian: 125 Simple and Delicious Recipes"
          ],
          [
           "Equal Is Unfair: America's Misguided Fight Against Income Inequality"
          ],
          [
           "Eleanor & Park"
          ],
          [
           "Dirty (Dive Bar #1)"
          ],
          [
           "Can You Keep a Secret? (Fear Street Relaunch #4)"
          ],
          [
           "Boar Island (Anna Pigeon #19)"
          ],
          [
           "A Paris Apartment"
          ],
          [
           "A la Mode: 120 Recipes in 60 Pairings: Pies, Tarts, Cakes, Crisps, and More Topped with Ice Cream, Gelato, Frozen Custard, and More"
          ],
          [
           "Troublemaker: Surviving Hollywood and Scientology"
          ],
          [
           "The Widow"
          ],
          [
           "The Sleep Revolution: Transforming Your Life, One Night at a Time"
          ],
          [
           "The Improbability of Love"
          ],
          [
           "The Art of Startup Fundraising"
          ],
          [
           "Take Me Home Tonight (Rock Star Romance #3)"
          ],
          [
           "Sleeping Giants (Themis Files #1)"
          ],
          [
           "Setting the World on Fire: The Brief, Astonishing Life of St. Catherine of Siena"
          ],
          [
           "Playing with Fire"
          ],
          [
           "Off the Hook (Fishing for Trouble #1)"
          ],
          [
           "Mothering Sunday"
          ],
          [
           "Mother, Can You Not?"
          ],
          [
           "M Train"
          ],
          [
           "Lilac Girls"
          ],
          [
           "Lies and Other Acts of Love"
          ],
          [
           "Lab Girl"
          ],
          [
           "Keep Me Posted"
          ],
          [
           "It Didn't Start with You: How Inherited Family Trauma Shapes Who We Are and How to End the Cycle"
          ],
          [
           "Grey (Fifty Shades #4)"
          ],
          [
           "Exit, Pursued by a Bear"
          ],
          [
           "Daredevils"
          ],
          [
           "Cravings: Recipes for What You Want to Eat"
          ],
          [
           "Born for This: How to Find the Work You Were Meant to Do"
          ],
          [
           "Arena"
          ],
          [
           "Adultery"
          ],
          [
           "A Mother's Reckoning: Living in the Aftermath of Tragedy"
          ],
          [
           "A Gentleman's Position (Society of Gentlemen #3)"
          ],
          [
           "11/22/63"
          ],
          [
           "10% Happier: How I Tamed the Voice in My Head, Reduced Stress Without Losing My Edge, and Found Self-Help That Actually Works"
          ],
          [
           "10-Day Green Smoothie Cleanse: Lose Up to 15 Pounds in 10 Days!"
          ],
          [
           "Without Shame"
          ],
          [
           "Watchmen"
          ],
          [
           "Unlimited Intuition Now"
          ],
          [
           "Underlying Notes"
          ],
          [
           "The Shack"
          ],
          [
           "The New Brand You: Your New Image Makes the Sale for You"
          ],
          [
           "The Moosewood Cookbook: Recipes from Moosewood Restaurant, Ithaca, New York"
          ],
          [
           "The Flowers Lied"
          ],
          [
           "The Fabric of the Cosmos: Space, Time, and the Texture of Reality"
          ],
          [
           "The Book of Mormon"
          ],
          [
           "The Art and Science of Low Carbohydrate Living"
          ],
          [
           "The Alien Club"
          ],
          [
           "Suzie Snowflake: One beautiful flake (a self-esteem story)"
          ],
          [
           "Nap-a-Roo"
          ],
          [
           "NaNo What Now? Finding your editing process, revising your NaNoWriMo book and building a writing career through publishing and beyond"
          ],
          [
           "Modern Day Fables"
          ],
          [
           "If I Gave You God's Phone Number....: Searching for Spirituality in America"
          ],
          [
           "Fruits Basket, Vol. 9 (Fruits Basket #9)"
          ],
          [
           "Dress Your Family in Corduroy and Denim"
          ],
          [
           "Don't Forget Steven"
          ],
          [
           "Chernobyl 01:23:40: The Incredible True Story of the World's Worst Nuclear Disaster"
          ],
          [
           "Art and Fear: Observations on the Perils (and Rewards) of Artmaking"
          ],
          [
           "A Shard of Ice (The Black Symphony Saga #1)"
          ],
          [
           "A Hero's Curse (The Unseen Chronicles #1)"
          ],
          [
           "23 Degrees South: A Tropical Tale of Changing Whether..."
          ],
          [
           "Zero to One: Notes on Startups, or How to Build the Future"
          ],
          [
           "Why Not Me?"
          ],
          [
           "When Breath Becomes Air"
          ],
          [
           "Vagabonding: An Uncommon Guide to the Art of Long-Term World Travel"
          ],
          [
           "The Unlikely Pilgrimage of Harold Fry (Harold Fry #1)"
          ],
          [
           "The New Drawing on the Right Side of the Brain"
          ],
          [
           "The Midnight Assassin: Panic, Scandal, and the Hunt for America's First Serial Killer"
          ],
          [
           "The Martian (The Martian #1)"
          ],
          [
           "The High Mountains of Portugal"
          ],
          [
           "The Grownup"
          ],
          [
           "The E-Myth Revisited: Why Most Small Businesses Don't Work and What to Do About It"
          ],
          [
           "South of Sunshine"
          ],
          [
           "Smarter Faster Better: The Secrets of Being Productive in Life and Business"
          ],
          [
           "Silence in the Dark (Logan Point #4)"
          ],
          [
           "Shadows of the Past (Logan Point #1)"
          ],
          [
           "Roller Girl"
          ],
          [
           "Rising Strong"
          ],
          [
           "Proofs of God: Classical Arguments from Tertullian to Barth"
          ],
          [
           "Please Kill Me: The Uncensored Oral History of Punk"
          ],
          [
           "Out of Print: City Lights Spotlight No. 14"
          ],
          [
           "My Life Next Door (My Life Next Door )"
          ],
          [
           "Miller's Valley"
          ],
          [
           "Man's Search for Meaning"
          ],
          [
           "Love That Boy: What Two Presidents, Eight Road Trips, and My Son Taught Me About a Parent's Expectations"
          ],
          [
           "Living Forward: A Proven Plan to Stop Drifting and Get the Life You Want"
          ],
          [
           "Les Fleurs du Mal"
          ],
          [
           "Left Behind (Left Behind #1)"
          ],
          [
           "Kill 'Em and Leave: Searching for James Brown and the American Soul"
          ],
          [
           "Kierkegaard: A Christian Missionary to Christians"
          ],
          [
           "John Vassos: Industrial Design for Modern Life"
          ],
          [
           "I'll Give You the Sun"
          ],
          [
           "I Will Find You"
          ],
          [
           "Hystopia: A Novel"
          ],
          [
           "Howl and Other Poems"
          ],
          [
           "History of Beauty"
          ],
          [
           "Heaven is for Real: A Little Boy's Astounding Story of His Trip to Heaven and Back"
          ],
          [
           "Future Shock (Future Shock #1)"
          ],
          [
           "Ender's Game (The Ender Quintet #1)"
          ],
          [
           "Diary of a Citizen Scientist: Chasing Tiger Beetles and Other New Ways of Engaging the World"
          ],
          [
           "Death by Leisure: A Cautionary Tale"
          ],
          [
           "Brilliant Beacons: A History of the American Lighthouse"
          ],
          [
           "Brazen: The Courage to Find the You That's Been Hiding"
          ],
          [
           "Between the World and Me"
          ],
          [
           "Being Mortal: Medicine and What Matters in the End"
          ],
          [
           "A Murder Over a Girl: Justice, Gender, Junior High"
          ],
          [
           "32 Yolks"
          ],
          [
           "\"Most Blessed of the Patriarchs\": Thomas Jefferson and the Empire of the Imagination"
          ],
          [
           "You Are a Badass: How to Stop Doubting Your Greatness and Start Living an Awesome Life"
          ],
          [
           "Wildlife of New York: A Five-Borough Coloring Book"
          ],
          [
           "What Happened on Beale Street (Secrets of the South Mysteries #2)"
          ],
          [
           "Unreasonable Hope: Finding Faith in the God Who Brings Purpose to Your Pain"
          ],
          [
           "Under the Tuscan Sun"
          ],
          [
           "Toddlers Are A**holes: It's Not Your Fault"
          ],
          [
           "The Year of Living Biblically: One Man's Humble Quest to Follow the Bible as Literally as Possible"
          ],
          [
           "The Whale"
          ],
          [
           "The Story of Art"
          ],
          [
           "The Origin of Species"
          ],
          [
           "The Great Gatsby"
          ],
          [
           "The Good Girl"
          ],
          [
           "The Glass Castle"
          ],
          [
           "The Faith of Christopher Hitchens: The Restless Soul of the World's Most Notorious Atheist"
          ],
          [
           "The Drowning Girls"
          ],
          [
           "The Constant Princess (The Tudor Court #1)"
          ],
          [
           "The Bourne Identity (Jason Bourne #1)"
          ],
          [
           "The Bachelor Girl's Guide to Murder (Herringford and Watts Mysteries #1)"
          ],
          [
           "The Art Book"
          ],
          [
           "The 7 Habits of Highly Effective People: Powerful Lessons in Personal Change"
          ],
          [
           "Team of Rivals: The Political Genius of Abraham Lincoln"
          ],
          [
           "Steal Like an Artist: 10 Things Nobody Told You About Being Creative"
          ],
          [
           "Sit, Stay, Love"
          ],
          [
           "Sister Dear"
          ],
          [
           "Shrunken Treasures: Literary Classics, Short, Sweet, and Silly"
          ],
          [
           "Rich Dad, Poor Dad"
          ],
          [
           "Raymie Nightingale"
          ],
          [
           "Playing from the Heart"
          ],
          [
           "Nightstruck: A Novel"
          ],
          [
           "Naturally Lean: 125 Nourishing Gluten-Free, Plant-Based Recipes--All Under 300 Calories"
          ],
          [
           "Meternity"
          ],
          [
           "Memoirs of a Geisha"
          ],
          [
           "Like Never Before (Walker Family #2)"
          ],
          [
           "Life of Pi"
          ],
          [
           "Leave This Song Behind: Teen Poetry at Its Best"
          ],
          [
           "King's Folly (The Kinsman Chronicles #1)"
          ],
          [
           "John Adams"
          ],
          [
           "How to Cook Everything Vegetarian: Simple Meatless Recipes for Great Food (How to Cook Everything)"
          ],
          [
           "How to Be a Domestic Goddess: Baking and the Art of Comfort Cooking"
          ],
          [
           "Good in Bed (Cannie Shapiro #1)"
          ],
          [
           "Fruits Basket, Vol. 7 (Fruits Basket #7)"
          ],
          [
           "For the Love: Fighting for Grace in a World of Impossible Standards"
          ],
          [
           "Finding God in the Ruins: How God Redeems Pain"
          ],
          [
           "Every Heart a Doorway (Every Heart A Doorway #1)"
          ],
          [
           "Delivering the Truth (Quaker Midwife Mystery #1)"
          ],
          [
           "Counted With the Stars (Out from Egypt #1)"
          ],
          [
           "Chronicles, Vol. 1"
          ],
          [
           "Blue Like Jazz: Nonreligious Thoughts on Christian Spirituality"
          ],
          [
           "Benjamin Franklin: An American Life"
          ],
          [
           "At The Existentialist CafÃ©: Freedom, Being, and apricot cocktails with: Jean-Paul Sartre, Simone de Beauvoir, Albert Camus, Martin Heidegger, Edmund Husserl, Karl Jaspers, Maurice Merleau-Ponty and others"
          ],
          [
           "A Summer In Europe"
          ],
          [
           "A Short History of Nearly Everything"
          ],
          [
           "A Gathering of Shadows (Shades of Magic #2)"
          ],
          [
           "The Sound Of Love"
          ],
          [
           "The Rise and Fall of the Third Reich: A History of Nazi Germany"
          ],
          [
           "The Perks of Being a Wallflower"
          ],
          [
           "The Mysterious Affair at Styles (Hercule Poirot #1)"
          ],
          [
           "The Man Who Mistook His Wife for a Hat and Other Clinical Tales"
          ],
          [
           "The Makings of a Fatherless Child"
          ],
          [
           "The Joy of Cooking"
          ],
          [
           "The Invention of Wings"
          ],
          [
           "The Hobbit (Middle-Earth Universe)"
          ],
          [
           "The Great Railway Bazaar"
          ],
          [
           "The Golden Compass (His Dark Materials #1)"
          ],
          [
           "The God Delusion"
          ],
          [
           "The Girl You Left Behind (The Girl You Left Behind #1)"
          ],
          [
           "The Fellowship of the Ring (The Lord of the Rings #1)"
          ],
          [
           "The Collected Poems of W.B. Yeats (The Collected Works of W.B. Yeats #1)"
          ],
          [
           "The Barefoot Contessa Cookbook"
          ],
          [
           "Tell the Wolves I'm Home"
          ],
          [
           "Ship Leaves Harbor: Essays on Travel by a Recovering Journeyman"
          ],
          [
           "Pride and Prejudice"
          ],
          [
           "Musicophilia: Tales of Music and the Brain"
          ],
          [
           "Mere Christianity"
          ],
          [
           "Me Before You (Me Before You #1)"
          ],
          [
           "In the Woods (Dublin Murder Squad #1)"
          ],
          [
           "In Cold Blood"
          ],
          [
           "How to Stop Worrying and Start Living"
          ],
          [
           "Give It Back"
          ],
          [
           "Girl, Interrupted"
          ],
          [
           "Fun Home: A Family Tragicomic"
          ],
          [
           "Fruits Basket, Vol. 6 (Fruits Basket #6)"
          ],
          [
           "Deception Point"
          ],
          [
           "Death Note, Vol. 6: Give-and-Take (Death Note #6)"
          ],
          [
           "Catherine the Great: Portrait of a Woman"
          ],
          [
           "Better Homes and Gardens New Cook Book"
          ],
          [
           "An Unquiet Mind: A Memoir of Moods and Madness"
          ],
          [
           "A Year in Provence (Provence #1)"
          ],
          [
           "World Without End (The Pillars of the Earth #2)"
          ],
          [
           "Will Grayson, Will Grayson (Will Grayson, Will Grayson)"
          ],
          [
           "Why Save the Bankers?: And Other Essays on Our Economic and Political Crisis"
          ],
          [
           "Where She Went (If I Stay #2)"
          ],
          [
           "What If?: Serious Scientific Answers to Absurd Hypothetical Questions"
          ],
          [
           "Two Summers"
          ],
          [
           "This Is Your Brain on Music: The Science of a Human Obsession"
          ],
          [
           "The Secret Garden"
          ],
          [
           "The Raven King (The Raven Cycle #4)"
          ],
          [
           "The Raven Boys (The Raven Cycle #1)"
          ],
          [
           "The Power Greens Cookbook: 140 Delicious Superfood Recipes"
          ],
          [
           "The Metamorphosis"
          ],
          [
           "The Mathews Men: Seven Brothers and the War Against Hitler's U-boats"
          ],
          [
           "The Little Paris Bookshop"
          ],
          [
           "The Hiding Place"
          ],
          [
           "The Grand Design"
          ],
          [
           "The Firm"
          ],
          [
           "The Fault in Our Stars"
          ],
          [
           "The False Prince (The Ascendance Trilogy #1)"
          ],
          [
           "The Expatriates"
          ],
          [
           "The Dream Thieves (The Raven Cycle #2)"
          ],
          [
           "The Darkest Corners"
          ],
          [
           "The Crossover"
          ],
          [
           "The 5th Wave (The 5th Wave #1)"
          ],
          [
           "Tell the Wind and Fire"
          ],
          [
           "Tell Me Three Things"
          ],
          [
           "Talking to Girls About Duran Duran: One Young Man's Quest for True Love and a Cooler Haircut"
          ],
          [
           "Siddhartha"
          ],
          [
           "Shiver (The Wolves of Mercy Falls #1)"
          ],
          [
           "Remember Me?"
          ],
          [
           "Red Dragon (Hannibal Lecter #1)"
          ],
          [
           "Peak: Secrets from the New Science of Expertise"
          ],
          [
           "My Mother Was Nuts"
          ],
          [
           "Mexican Today: New and Rediscovered Recipes for Contemporary Kitchens"
          ],
          [
           "Maybe Something Beautiful: How Art Transformed a Neighborhood"
          ],
          [
           "Lola and the Boy Next Door (Anna and the French Kiss #2)"
          ],
          [
           "Logan Kade (Fallen Crest High #5.5)"
          ],
          [
           "Last One Home (New Beginnings #1)"
          ],
          [
           "Killing Floor (Jack Reacher #1)"
          ],
          [
           "Kill the Boy Band"
          ],
          [
           "Isla and the Happily Ever After (Anna and the French Kiss #3)"
          ],
          [
           "If I Stay (If I Stay #1)"
          ],
          [
           "I Know Why the Caged Bird Sings (Maya Angelou's Autobiography #1)"
          ],
          [
           "Harry Potter and the Deathly Hallows (Harry Potter #7)"
          ],
          [
           "Fruits Basket, Vol. 5 (Fruits Basket #5)"
          ],
          [
           "Foundation (Foundation (Publication Order) #1)"
          ],
          [
           "Fool Me Once"
          ],
          [
           "Find Her (Detective D.D. Warren #8)"
          ],
          [
           "Evicted: Poverty and Profit in the American City"
          ],
          [
           "Drama"
          ],
          [
           "Dracula the Un-Dead"
          ],
          [
           "Digital Fortress"
          ],
          [
           "Death Note, Vol. 5: Whiteout (Death Note #5)"
          ],
          [
           "Data, A Love Story: How I Gamed Online Dating to Meet My Match"
          ],
          [
           "Critique of Pure Reason"
          ],
          [
           "Booked"
          ],
          [
           "Blue Lily, Lily Blue (The Raven Cycle #3)"
          ],
          [
           "Approval Junkie: Adventures in Caring Too Much"
          ],
          [
           "An Abundance of Katherines"
          ],
          [
           "America's War for the Greater Middle East: A Military History"
          ],
          [
           "Alight (The Generations Trilogy #2)"
          ],
          [
           "A Girl's Guide to Moving On (New Beginnings #2)"
          ],
          [
           "A Game of Thrones (A Song of Ice and Fire #1)"
          ],
          [
           "A Feast for Crows (A Song of Ice and Fire #4)"
          ],
          [
           "A Clash of Kings (A Song of Ice and Fire #2)"
          ],
          [
           "Vogue Colors A to Z: A Fashion Coloring Book"
          ],
          [
           "The Shining (The Shining #1)"
          ],
          [
           "The Pilgrim's Progress"
          ],
          [
           "The Perfect Play (Play by Play #1)"
          ],
          [
           "The Passion of Dolssa"
          ],
          [
           "The Jazz of Physics: The Secret Link Between Music and the Structure of the Universe"
          ],
          [
           "The Hunger Games (The Hunger Games #1)"
          ],
          [
           "The Hound of the Baskervilles (Sherlock Holmes #5)"
          ],
          [
           "The Gunning of America: Business and the Making of American Gun Culture"
          ],
          [
           "The Geography of Bliss: One Grump's Search for the Happiest Places in the World"
          ],
          [
           "The Demonists (Demonist #1)"
          ],
          [
           "The Demon Prince of Momochi House, Vol. 4 (The Demon Prince of Momochi House #4)"
          ],
          [
           "The Bone Hunters (Lexy Vaughan & Steven Macaulay #2)"
          ],
          [
           "The Beast (Black Dagger Brotherhood #14)"
          ],
          [
           "Some Women"
          ],
          [
           "Shopaholic Ties the Knot (Shopaholic #3)"
          ],
          [
           "Paper and Fire (The Great Library #2)"
          ],
          [
           "Outlander (Outlander #1)"
          ],
          [
           "Orchestra of Exiles: The Story of Bronislaw Huberman, the Israel Philharmonic, and the One Thousand Jews He Saved from Nazi Horrors"
          ],
          [
           "No One Here Gets Out Alive"
          ],
          [
           "Night Shift (Night Shift #1-20)"
          ],
          [
           "Needful Things"
          ],
          [
           "Mockingjay (The Hunger Games #3)"
          ],
          [
           "Misery"
          ],
          [
           "Little Women (Little Women #1)"
          ],
          [
           "It"
          ],
          [
           "Harry Potter and the Sorcerer's Stone (Harry Potter #1)"
          ],
          [
           "Harry Potter and the Prisoner of Azkaban (Harry Potter #3)"
          ],
          [
           "Harry Potter and the Order of the Phoenix (Harry Potter #5)"
          ],
          [
           "Harry Potter and the Half-Blood Prince (Harry Potter #6)"
          ],
          [
           "Harry Potter and the Chamber of Secrets (Harry Potter #2)"
          ],
          [
           "Gone with the Wind"
          ],
          [
           "God Is Not Great: How Religion Poisons Everything"
          ],
          [
           "Girl With a Pearl Earring"
          ],
          [
           "Fruits Basket, Vol. 4 (Fruits Basket #4)"
          ],
          [
           "Far From True (Promise Falls Trilogy #2)"
          ],
          [
           "Dark Lover (Black Dagger Brotherhood #1)"
          ],
          [
           "Confessions of a Shopaholic (Shopaholic #1)"
          ],
          [
           "Changing the Game (Play by Play #2)"
          ],
          [
           "Candide"
          ],
          [
           "Can You Keep a Secret?"
          ],
          [
           "Atlas Shrugged"
          ],
          [
           "Animal Farm"
          ],
          [
           "A Walk to Remember"
          ],
          [
           "A New Earth: Awakening to Your Life's Purpose"
          ],
          [
           "A History of God: The 4,000-Year Quest of Judaism, Christianity, and Islam"
          ],
          [
           "'Salem's Lot"
          ],
          [
           "Zero History (Blue Ant #3)"
          ],
          [
           "Wuthering Heights"
          ],
          [
           "World War Z: An Oral History of the Zombie War"
          ],
          [
           "Wild: From Lost to Found on the Pacific Crest Trail"
          ],
          [
           "Where'd You Go, Bernadette"
          ],
          [
           "When You Are Engulfed in Flames"
          ],
          [
           "We the People: The Modern-Day Figures Who Have Reshaped and Affirmed the Founding Fathers' Vision of America"
          ],
          [
           "We Are All Completely Beside Ourselves"
          ],
          [
           "Walk the Edge (Thunder Road #2)"
          ],
          [
           "Voyager (Outlander #3)"
          ],
          [
           "Very Good Lives: The Fringe Benefits of Failure and the Importance of Imagination"
          ],
          [
           "Vegan Vegetarian Omnivore: Dinner for Everyone at the Table"
          ],
          [
           "Unstuffed: Decluttering Your Home, Mind, and Soul"
          ],
          [
           "Under the Banner of Heaven: A Story of Violent Faith"
          ],
          [
           "Two Boys Kissing"
          ],
          [
           "Twilight (Twilight #1)"
          ],
          [
           "Twenties Girl"
          ],
          [
           "Trespassing Across America: One Man's Epic, Never-Done-Before (and Sort of Illegal) Hike Across the Heartland"
          ],
          [
           "Three-Martini Lunch"
          ],
          [
           "Thinking, Fast and Slow"
          ],
          [
           "The Wild Robot"
          ],
          [
           "The Wicked + The Divine, Vol. 3: Commercial Suicide (The Wicked + The Divine)"
          ],
          [
           "The Undomestic Goddess"
          ],
          [
           "The Travelers"
          ],
          [
           "The Tipping Point: How Little Things Can Make a Big Difference"
          ],
          [
           "The Thing About Jellyfish"
          ],
          [
           "The Stand"
          ],
          [
           "The Smitten Kitchen Cookbook"
          ],
          [
           "The Silkworm (Cormoran Strike #2)"
          ],
          [
           "The Sandman, Vol. 3: Dream Country (The Sandman (volumes) #3)"
          ],
          [
           "The Rose & the Dagger (The Wrath and the Dawn #2)"
          ],
          [
           "The Road to Little Dribbling: Adventures of an American in Britain (Notes From a Small Island #2)"
          ],
          [
           "The Rise of Theodore Roosevelt (Theodore Roosevelt #1)"
          ],
          [
           "The Restaurant at the End of the Universe (Hitchhiker's Guide to the Galaxy #2)"
          ],
          [
           "The Rest Is Noise: Listening to the Twentieth Century"
          ],
          [
           "The Red Tent"
          ],
          [
           "The Purpose Driven Life: What on Earth Am I Here for?"
          ],
          [
           "The Purest Hook (Second Circle Tattoos #3)"
          ],
          [
           "The Picture of Dorian Gray"
          ],
          [
           "The Paris Wife"
          ],
          [
           "The Obsession"
          ],
          [
           "The Nightingale"
          ],
          [
           "The New Guy (and Other Senior Year Distractions)"
          ],
          [
           "The Nanny Diaries (Nanny #1)"
          ],
          [
           "The Name of God is Mercy"
          ],
          [
           "The Maze Runner (The Maze Runner #1)"
          ],
          [
           "The Lover's Dictionary"
          ],
          [
           "The Lonely Ones"
          ],
          [
           "The Lean Startup: How Today's Entrepreneurs Use Continuous Innovation to Create Radically Successful Businesses"
          ],
          [
           "The Last Painting of Sara de Vos"
          ],
          [
           "The Land of 10,000 Madonnas"
          ],
          [
           "The Infinities"
          ],
          [
           "The Husband's Secret"
          ],
          [
           "The Hitchhiker's Guide to the Galaxy (Hitchhiker's Guide to the Galaxy #1)"
          ],
          [
           "The Guns of August"
          ],
          [
           "The Guernsey Literary and Potato Peel Pie Society"
          ],
          [
           "The Goldfinch"
          ],
          [
           "The Giver (The Giver Quartet #1)"
          ],
          [
           "The Girl with All the Gifts"
          ],
          [
           "The Girl Who Played with Fire (Millennium Trilogy #2)"
          ],
          [
           "The Girl Who Kicked the Hornet's Nest (Millennium Trilogy #3)"
          ],
          [
           "The Exiled"
          ],
          [
           "The End of Faith: Religion, Terror, and the Future of Reason"
          ],
          [
           "The Elegant Universe: Superstrings, Hidden Dimensions, and the Quest for the Ultimate Theory"
          ],
          [
           "The Disappearing Spoon: And Other True Tales of Madness, Love, and the History of the World from the Periodic Table of the Elements"
          ],
          [
           "The Devil Wears Prada (The Devil Wears Prada #1)"
          ],
          [
           "The Demon-Haunted World: Science as a Candle in the Dark"
          ],
          [
           "The Day the Crayons Came Home (Crayons)"
          ],
          [
           "The Da Vinci Code (Robert Langdon #2)"
          ],
          [
           "The Cuckoo's Calling (Cormoran Strike #1)"
          ],
          [
           "The Complete Stories and Poems (The Works of Edgar Allan Poe [Cameo Edition])"
          ],
          [
           "The Complete Poems"
          ],
          [
           "The Catcher in the Rye"
          ],
          [
           "The Cat in the Hat (Beginner Books B-1)"
          ],
          [
           "The Case for Christ (Cases for Christianity)"
          ],
          [
           "The Book Thief"
          ],
          [
           "The Book of Basketball: The NBA According to The Sports Guy"
          ],
          [
           "The Blind Side: Evolution of a Game"
          ],
          [
           "The Autobiography of Malcolm X"
          ],
          [
           "The Art of Simple Food: Notes, Lessons, and Recipes from a Delicious Revolution"
          ],
          [
           "The Art of Fielding"
          ],
          [
           "Surely You're Joking, Mr. Feynman!: Adventures of a Curious Character"
          ],
          [
           "Stiff: The Curious Lives of Human Cadavers"
          ],
          [
           "Spilled Milk: Based on a True Story"
          ],
          [
           "Something Borrowed (Darcy & Rachel #1)"
          ],
          [
           "Something Blue (Darcy & Rachel #2)"
          ],
          [
           "Soldier (Talon #3)"
          ],
          [
           "Shopaholic & Baby (Shopaholic #5)"
          ],
          [
           "Seven Days in the Art World"
          ],
          [
           "Seven Brief Lessons on Physics"
          ],
          [
           "Scarlet (The Lunar Chronicles #2)"
          ],
          [
           "Sarah's Key"
          ],
          [
           "Saga, Volume 3 (Saga (Collected Editions) #3)"
          ],
          [
           "Running with Scissors"
          ],
          [
           "Rogue Lawyer (Rogue Lawyer #1)"
          ],
          [
           "Rise of the Rocket Girls: The Women Who Propelled Us, from Missiles to the Moon to Mars"
          ],
          [
           "Rework"
          ],
          [
           "Reservations for Two"
          ],
          [
           "Red: The True Story of Red Riding Hood"
          ],
          [
           "Ready Player One"
          ],
          [
           "Quiet: The Power of Introverts in a World That Can't Stop Talking"
          ],
          [
           "Prodigy: The Graphic Novel (Legend: The Graphic Novel #2)"
          ],
          [
           "Persepolis: The Story of a Childhood (Persepolis #1-2)"
          ],
          [
           "Packing for Mars: The Curious Science of Life in the Void"
          ],
          [
           "Outliers: The Story of Success"
          ],
          [
           "Original Fake"
          ],
          [
           "Orange Is the New Black"
          ],
          [
           "One for the Money (Stephanie Plum #1)"
          ],
          [
           "Notes from a Small Island (Notes From a Small Island #1)"
          ],
          [
           "Night (The Night Trilogy #1)"
          ],
          [
           "Neither Here nor There: Travels in Europe"
          ],
          [
           "Naked"
          ],
          [
           "Morning Star (Red Rising #3)"
          ],
          [
           "Miracles from Heaven: A Little Girl, Her Journey to Heaven, and Her Amazing Story of Healing"
          ],
          [
           "Midnight Riot (Peter Grant/ Rivers of London - books #1)"
          ],
          [
           "Me Talk Pretty One Day"
          ],
          [
           "Manuscript Found in Accra"
          ],
          [
           "Lust & Wonder"
          ],
          [
           "Lila (Gilead #3)"
          ],
          [
           "Life, the Universe and Everything (Hitchhiker's Guide to the Galaxy #3)"
          ],
          [
           "Life Without a Recipe"
          ],
          [
           "Life After Life"
          ],
          [
           "Letter to a Christian Nation"
          ],
          [
           "Let's Pretend This Never Happened: A Mostly True Memoir"
          ],
          [
           "Legend (Legend #1)"
          ],
          [
           "Lean In: Women, Work, and the Will to Lead"
          ],
          [
           "Lamb: The Gospel According to Biff, Christ's Childhood Pal"
          ],
          [
           "Lady Renegades (Rebel Belle #3)"
          ],
          [
           "Jurassic Park (Jurassic Park #1)"
          ],
          [
           "It's Never Too Late to Begin Again: Discovering Creativity and Meaning at Midlife and Beyond"
          ],
          [
           "Is Everyone Hanging Out Without Me? (And Other Concerns)"
          ],
          [
           "Into the Wild"
          ],
          [
           "Inferno (Robert Langdon #4)"
          ],
          [
           "In the Garden of Beasts: Love, Terror, and an American Family in Hitler's Berlin"
          ],
          [
           "If I Run (If I Run #1)"
          ],
          [
           "I've Got Your Number"
          ],
          [
           "I Am Malala: The Girl Who Stood Up for Education and Was Shot by the Taliban"
          ],
          [
           "Hungry Girl Clean & Hungry: Easy All-Natural Recipes for Healthy Eating in the Real World"
          ],
          [
           "House of Lost Worlds: Dinosaurs, Dynasties, and the Story of Life on Earth"
          ],
          [
           "House of Leaves"
          ],
          [
           "Horrible Bear!"
          ],
          [
           "Holidays on Ice"
          ],
          [
           "Heir to the Sky"
          ],
          [
           "Green Eggs and Ham (Beginner Books B-16)"
          ],
          [
           "Grayson, Vol 3: Nemesis (Grayson #3)"
          ],
          [
           "Gratitude"
          ],
          [
           "Gone Girl"
          ],
          [
           "Golden (Heart of Dread #3)"
          ],
          [
           "Girl in the Blue Coat"
          ],
          [
           "Fruits Basket, Vol. 3 (Fruits Basket #3)"
          ],
          [
           "Friday Night Lights: A Town, a Team, and a Dream"
          ],
          [
           "Fire Bound (Sea Haven/Sisters of the Heart #5)"
          ],
          [
           "Fifty Shades Freed (Fifty Shades #3)"
          ],
          [
           "Fellside"
          ],
          [
           "Extreme Prey (Lucas Davenport #26)"
          ],
          [
           "Eragon (The Inheritance Cycle #1)"
          ],
          [
           "Eclipse (Twilight #3)"
          ],
          [
           "Dune (Dune #1)"
          ],
          [
           "Dracula"
          ],
          [
           "Do Androids Dream of Electric Sheep? (Blade Runner #1)"
          ],
          [
           "Disrupted: My Misadventure in the Start-Up Bubble"
          ],
          [
           "Dead Wake: The Last Crossing of the Lusitania"
          ],
          [
           "David and Goliath: Underdogs, Misfits, and the Art of Battling Giants"
          ],
          [
           "Darkfever (Fever #1)"
          ],
          [
           "Dark Places"
          ],
          [
           "Crazy Rich Asians (Crazy Rich Asians #1)"
          ],
          [
           "Counting Thyme"
          ],
          [
           "Cosmos"
          ],
          [
           "Civilization and Its Discontents"
          ],
          [
           "Cinder (The Lunar Chronicles #1)"
          ],
          [
           "Catastrophic Happiness: Finding Joy in Childhood's Messy Years"
          ],
          [
           "Career of Evil (Cormoran Strike #3)"
          ],
          [
           "Breaking Dawn (Twilight #4)"
          ],
          [
           "Brave Enough"
          ],
          [
           "Boy Meets Boy"
          ],
          [
           "Born to Run: A Hidden Tribe, Superathletes, and the Greatest Race the World Has Never Seen"
          ],
          [
           "Blink: The Power of Thinking Without Thinking"
          ],
          [
           "Black Flags: The Rise of ISIS"
          ],
          [
           "Black Butler, Vol. 1 (Black Butler #1)"
          ],
          [
           "Big Little Lies"
          ],
          [
           "Between Shades of Gray"
          ],
          [
           "Best of My Love (Fool's Gold #20)"
          ],
          [
           "Beowulf"
          ],
          [
           "Beautiful Creatures (Caster Chronicles #1)"
          ],
          [
           "Awkward"
          ],
          [
           "Ash"
          ],
          [
           "Are We There Yet?"
          ],
          [
           "Are We Smart Enough to Know How Smart Animals Are?"
          ],
          [
           "Annie on My Mind"
          ],
          [
           "And Then There Were None"
          ],
          [
           "A Walk in the Woods: Rediscovering America on the Appalachian Trail"
          ],
          [
           "A Visit from the Goon Squad"
          ],
          [
           "A Storm of Swords (A Song of Ice and Fire #3)"
          ],
          [
           "A Heartbreaking Work of Staggering Genius"
          ],
          [
           "8 Keys to Mental Health Through Exercise"
          ],
          [
           "#GIRLBOSS"
          ],
          [
           "The Suffragettes (Little Black Classics, #96)"
          ],
          [
           "The Sense of an Ending"
          ],
          [
           "The Sandman, Vol. 2: The Doll's House (The Sandman (volumes) #2)"
          ],
          [
           "The Course of Love"
          ],
          [
           "Sugar Rush (Offensive Line #2)"
          ],
          [
           "Saga, Volume 2 (Saga (Collected Editions) #2)"
          ],
          [
           "Run, Spot, Run: The Ethics of Keeping Pets"
          ],
          [
           "New Moon (Twilight #2)"
          ],
          [
           "Life"
          ],
          [
           "Kindle Paperwhite User's Guide"
          ],
          [
           "H is for Hawk"
          ],
          [
           "Girl Online On Tour (Girl Online #2)"
          ],
          [
           "Fruits Basket, Vol. 2 (Fruits Basket #2)"
          ],
          [
           "Diary of a Minecraft Zombie Book 1: A Scare of a Dare (An Unofficial Minecraft Book)"
          ],
          [
           "Y: The Last Man, Vol. 1: Unmanned (Y: The Last Man #1)"
          ],
          [
           "While You Were Mine"
          ],
          [
           "Where Lightning Strikes (Bleeding Stars #3)"
          ],
          [
           "When I'm Gone"
          ],
          [
           "Ways of Seeing"
          ],
          [
           "Vampire Knight, Vol. 1 (Vampire Knight #1)"
          ],
          [
           "Vampire Girl (Vampire Girl #1)"
          ],
          [
           "Twenty Love Poems and a Song of Despair"
          ],
          [
           "Travels with Charley: In Search of America"
          ],
          [
           "Three Wishes (River of Time: California #1)"
          ],
          [
           "This One Moment (Pushing Limits #1)"
          ],
          [
           "The Zombie Room"
          ],
          [
           "The Wicked + The Divine, Vol. 1: The Faust Act (The Wicked + The Divine)"
          ],
          [
           "The Tumor"
          ],
          [
           "The Story of Hong Gildong"
          ],
          [
           "The Silent Wife"
          ],
          [
           "The Silent Twin (Detective Jennifer Knight #3)"
          ],
          [
           "The Selfish Gene"
          ],
          [
           "The Secret Healer"
          ],
          [
           "The Sandman, Vol. 1: Preludes and Nocturnes (The Sandman (volumes) #1)"
          ],
          [
           "The Republic"
          ],
          [
           "The Odyssey"
          ],
          [
           "The No. 1 Ladies' Detective Agency (No. 1 Ladies' Detective Agency #1)"
          ],
          [
           "The Nicomachean Ethics"
          ],
          [
           "The Name of the Wind (The Kingkiller Chronicle #1)"
          ],
          [
           "The Mirror & the Maze (The Wrath and the Dawn #1.5)"
          ],
          [
           "The Little Prince"
          ],
          [
           "The Light of the Fireflies"
          ],
          [
           "The Last Girl (The Dominion Trilogy #1)"
          ],
          [
           "The Iliad"
          ],
          [
           "The Hook Up (Game On #1)"
          ],
          [
           "The Haters"
          ],
          [
           "The Girl You Lost"
          ],
          [
           "The Girl In The Ice (DCI Erika Foster #1)"
          ],
          [
           "The End of the Jesus Era (An Investigation #1)"
          ],
          [
           "The Edge of Reason (Bridget Jones #2)"
          ],
          [
           "The Complete Maus (Maus #1-2)"
          ],
          [
           "The Communist Manifesto"
          ],
          [
           "The Bhagavad Gita"
          ],
          [
           "The Bette Davis Club"
          ],
          [
           "The Art of Not Breathing"
          ],
          [
           "Taking Shots (Assassins #1)"
          ],
          [
           "Starlark"
          ],
          [
           "Skip Beat!, Vol. 01 (Skip Beat! #1)"
          ],
          [
           "Sister Sable (The Mad Queen #1)"
          ],
          [
           "Shatter Me (Shatter Me #1)"
          ],
          [
           "Shameless"
          ],
          [
           "Shadow Rites (Jane Yellowrock #10)"
          ],
          [
           "Settling the Score (The Summer Games #1)"
          ],
          [
           "Sense and Sensibility"
          ],
          [
           "Saga, Volume 1 (Saga (Collected Editions) #1)"
          ],
          [
           "Rhythm, Chord & Malykhin"
          ],
          [
           "Rat Queens, Vol. 1: Sass & Sorcery (Rat Queens (Collected Editions) #1-5)"
          ],
          [
           "Paradise Lost (Paradise #1)"
          ],
          [
           "Paper Girls, Vol. 1 (Paper Girls #1-5)"
          ],
          [
           "Ouran High School Host Club, Vol. 1 (Ouran High School Host Club #1)"
          ],
          [
           "Origins (Alphas 0.5)"
          ],
          [
           "One Second (Seven #7)"
          ],
          [
           "On the Road (Duluoz Legend)"
          ],
          [
           "Old Records Never Die: One Man's Quest for His Vinyl and His Past"
          ],
          [
           "Off Sides (Off #1)"
          ],
          [
           "Of Mice and Men"
          ],
          [
           "Myriad (Prentor #1)"
          ],
          [
           "My Perfect Mistake (Over the Top #1)"
          ],
          [
           "Ms. Marvel, Vol. 1: No Normal (Ms. Marvel (2014-2015) #1)"
          ],
          [
           "Meditations"
          ],
          [
           "Matilda"
          ],
          [
           "Lost Among the Living"
          ],
          [
           "Lord of the Flies"
          ],
          [
           "Listen to Me (Fusion #1)"
          ],
          [
           "Kitchens of the Great Midwest"
          ],
          [
           "Jane Eyre"
          ],
          [
           "Imperfect Harmony"
          ],
          [
           "Icing (Aces Hockey #2)"
          ],
          [
           "Hawkeye, Vol. 1: My Life as a Weapon (Hawkeye #1)"
          ],
          [
           "Having the Barbarian's Baby (Ice Planet Barbarians #7.5)"
          ],
          [
           "Giant Days, Vol. 1 (Giant Days #1-4)"
          ],
          [
           "Fruits Basket, Vol. 1 (Fruits Basket #1)"
          ],
          [
           "Frankenstein"
          ],
          [
           "Forever Rockers (The Rocker #12)"
          ],
          [
           "Fighting Fate (Fighting #6)"
          ],
          [
           "Emma"
          ],
          [
           "Eat, Pray, Love"
          ],
          [
           "Deep Under (Walker Security #1)"
          ],
          [
           "Choosing Our Religion: The Spiritual Lives of America's Nones"
          ],
          [
           "Charlie and the Chocolate Factory (Charlie Bucket #1)"
          ],
          [
           "Charity's Cross (Charles Towne Belles #4)"
          ],
          [
           "Bright Lines"
          ],
          [
           "Bridget Jones's Diary (Bridget Jones #1)"
          ],
          [
           "Bounty (Colorado Mountain #7)"
          ],
          [
           "Blood Defense (Samantha Brinkman #1)"
          ],
          [
           "Bleach, Vol. 1: Strawberry and the Soul Reapers (Bleach #1)"
          ],
          [
           "Beyond Good and Evil"
          ],
          [
           "Alice in Wonderland (Alice's Adventures in Wonderland #1)"
          ],
          [
           "Ajin: Demi-Human, Volume 1 (Ajin: Demi-Human #1)"
          ],
          [
           "A Spy's Devotion (The Regency Spies of London #1)"
          ],
          [
           "1st to Die (Women's Murder Club #1)"
          ],
          [
           "1,000 Places to See Before You Die"
          ]
         ],
         "hovertemplate": "price=%{x}<br>name=%{customdata[0]}<extra></extra>",
         "legendgroup": "",
         "marker": {
          "color": "#636efa"
         },
         "name": "",
         "notched": true,
         "offsetgroup": "",
         "showlegend": false,
         "type": "box",
         "x": [
          51.77,
          53.74,
          50.1,
          47.82,
          54.23,
          22.65,
          33.34,
          17.93,
          22.6,
          52.15,
          13.99,
          20.66,
          17.46,
          52.29,
          35.02,
          57.25,
          23.88,
          37.59,
          51.33,
          45.17,
          12.84,
          37.32,
          30.52,
          25.27,
          34.53,
          54.64,
          22.5,
          53.13,
          40.3,
          44.18,
          17.66,
          31.05,
          23.82,
          36.89,
          15.94,
          33.29,
          18.02,
          19.63,
          52.22,
          33.63,
          57.31,
          26.41,
          47.61,
          23.11,
          45.07,
          31.77,
          50.27,
          14.27,
          44.18,
          18.78,
          25.52,
          16.28,
          31.12,
          19.49,
          17.27,
          19.09,
          56.13,
          56.41,
          56.5,
          45.22,
          38.16,
          54.11,
          42.96,
          23.89,
          16.77,
          20.59,
          37.13,
          56.06,
          58.11,
          49.05,
          40.76,
          19.73,
          32.24,
          41.83,
          39.58,
          39.25,
          25.02,
          51.04,
          19.83,
          50.4,
          13.61,
          13.34,
          18.97,
          36.28,
          10.16,
          15.44,
          48.41,
          46.35,
          14.07,
          14.86,
          33.37,
          56.4,
          14.02,
          46.91,
          45.61,
          19.92,
          40.11,
          53.9,
          35.67,
          22,
          57.36,
          29.17,
          54.63,
          46.03,
          33.97,
          22.11,
          29.69,
          15.97,
          21.96,
          54.35,
          37.97,
          51.99,
          43.29,
          36.72,
          17.08,
          29.14,
          28.81,
          49.46,
          37.92,
          28.09,
          30.81,
          42.95,
          56.76,
          16.64,
          55.53,
          28.13,
          52.37,
          54,
          21.87,
          43.3,
          21.04,
          41.6,
          35.07,
          59.64,
          52.72,
          58.08,
          24.12,
          42.15,
          12.61,
          17.44,
          33.14,
          27.37,
          51.36,
          36,
          10.65,
          43.54,
          38.21,
          37.34,
          44.1,
          43.29,
          55.85,
          37.6,
          10.97,
          41.82,
          36.95,
          44.28,
          55.02,
          17.24,
          23.15,
          41.25,
          32,
          38.49,
          33.34,
          10.93,
          27.55,
          55.99,
          16.24,
          26.12,
          12.23,
          23.99,
          29.06,
          20.27,
          43.55,
          36.94,
          20.47,
          41.06,
          14.19,
          38.28,
          41.05,
          30.25,
          28.26,
          10.76,
          16.85,
          13.47,
          48.56,
          19.15,
          57.36,
          42.98,
          22.16,
          49.43,
          29.99,
          21.36,
          29,
          53.53,
          41.62,
          54.59,
          34.95,
          37.72,
          35.61,
          42.16,
          19.19,
          19.43,
          49.46,
          37.8,
          30.8,
          27.43,
          11.11,
          36.5,
          15.38,
          15.48,
          46.82,
          18.46,
          36.58,
          50.54,
          12.51,
          24.7,
          43.61,
          37.34,
          14.36,
          52.65,
          38.2,
          19.6,
          53.9,
          12.96,
          37.1,
          46.31,
          45.95,
          22.08,
          25.38,
          27.12,
          43.04,
          56.8,
          25.91,
          32.61,
          27.88,
          52.67,
          46.02,
          44.48,
          37.4,
          54.04,
          16.88,
          28.08,
          10.4,
          44.07,
          23.4,
          17.43,
          54.21,
          40.67,
          52.26,
          28.77,
          13.82,
          25.85,
          48.78,
          35.35,
          44.73,
          15.77,
          39.24,
          13.92,
          10.69,
          45.21,
          45.58,
          11.89,
          26.41,
          39.5,
          44.74,
          52.79,
          35.43,
          55.84,
          48.87,
          46.78,
          47.82,
          25.48,
          23.57,
          50.89,
          10.56,
          52.15,
          18.28,
          11.83,
          21.95,
          38.39,
          41.56,
          24.48,
          40.36,
          28.9,
          37.61,
          38.85,
          53.95,
          49.83,
          51.51,
          18.03,
          29.14,
          46.91,
          26.79,
          16.28,
          19.55,
          29.65,
          25.98,
          10.6,
          14.75,
          47.02,
          28.82,
          58.79,
          10.23,
          30.03,
          45.84,
          49.05,
          15.06,
          46.47,
          27.09,
          57.62,
          14.39,
          51.75,
          54.07,
          55.35,
          40.12,
          37.51,
          11.21,
          36.58,
          47.72,
          25.01,
          22.13,
          44.14,
          56.02,
          11.23,
          43.28,
          47.27,
          20.29,
          50.83,
          31.85,
          46.23,
          37.8,
          49.32,
          32.01,
          28.01,
          50.62,
          17.03,
          48.8,
          58.14,
          34.2,
          51.48,
          29.87,
          10.9,
          56.37,
          48.35,
          16.73,
          56.48,
          40.79,
          39.72,
          14.58,
          55.51,
          21.8,
          13.33,
          38.73,
          37.86,
          11.53,
          27.06,
          13.86,
          37.55,
          32.3,
          46.29,
          26.2,
          33.26,
          59.15,
          39.43,
          14.44,
          56.54,
          59.9,
          11.88,
          48.05,
          21.21,
          49.67,
          43.14,
          36.97,
          26.8,
          15.71,
          54.65,
          54.36,
          35.28,
          20.55,
          58.32,
          11.84,
          41.46,
          20.1,
          56.86,
          56.51,
          40.83,
          48.64,
          59.48,
          39.01,
          38.77,
          48.39,
          27.26,
          11.68,
          59.45,
          21,
          53.98,
          48.74,
          21.15,
          13.71,
          47.67,
          13.34,
          16.89,
          27.18,
          17.28,
          45.14,
          40.85,
          20.46,
          56.27,
          48.49,
          51.34,
          16.34,
          20.5,
          21.59,
          21.36,
          20.88,
          19.53,
          14.75,
          48.48,
          24.57,
          49.71,
          48.27,
          58.05,
          58.87,
          11.82,
          28.03,
          44.05,
          12.34,
          16.68,
          55.91,
          24.57,
          52.98,
          54.4,
          54.81,
          25.08,
          10.41,
          47.44,
          20.91,
          33.95,
          43.68,
          33.23,
          35.92,
          48.63,
          56.63,
          50.49,
          35.79,
          34.06,
          17.76,
          39.36,
          36.94,
          43.62,
          43.02,
          28.45,
          41.39,
          51.15,
          35.88,
          36.91,
          28.93,
          38.89,
          58.33,
          39.67,
          14.1,
          21.82,
          54.21,
          31.19,
          53.64,
          36.39,
          58.54,
          29.48,
          25.06,
          12.55,
          29.04,
          40.72,
          45.05,
          47.13,
          20.22,
          56.48,
          44.21,
          21.96,
          40.45,
          10.29,
          52.86,
          55.65,
          43.64,
          28.41,
          37.51,
          11.45,
          19.22,
          56.91,
          55.06,
          13.2,
          53.63,
          44.48,
          12.08,
          22.14,
          25.37,
          46.33,
          37.33,
          25.55,
          34.72,
          35.96,
          41.14,
          10.01,
          36.05,
          49.03,
          16.24,
          39.55,
          35.67,
          16.62,
          42.78,
          52.3,
          32.34,
          33.17,
          20.12,
          20.9,
          20.9,
          40.2,
          52.87,
          51.74,
          34.41,
          32.38,
          50.35,
          11.38,
          43.58,
          49.67,
          28.77,
          13.22,
          51.17,
          39.61,
          57.43,
          46.01,
          28.25,
          37.05,
          19.57,
          45.13,
          46.64,
          12.16,
          20.89,
          17.97,
          52.6,
          25.77,
          48.19,
          29.93,
          44.34,
          52.4,
          44.81,
          57.84,
          39.67,
          55.02,
          24.8,
          59.45,
          31.58,
          43.27,
          37.34,
          17.8,
          30.54,
          18.77,
          46.85,
          15.79,
          10.27,
          15.42,
          59.92,
          50.96,
          30.6,
          19.27,
          46.58,
          48.51,
          19.02,
          38.38,
          49.98,
          46.49,
          18.32,
          42.14,
          56.59,
          20.96,
          40.32,
          36.39,
          58.55,
          39.61,
          21.3,
          56.88,
          32.97,
          47.31,
          48.67,
          41.73,
          53.68,
          14.64,
          38.4,
          15.08,
          30.57,
          57.74,
          11.05,
          28.58,
          42.91,
          24.73,
          55.91,
          13.76,
          45.56,
          47.22,
          56,
          44.58,
          34.5,
          11.33,
          38.77,
          11.83,
          45.51,
          41.81,
          25.15,
          34.22,
          16.23,
          11.48,
          23.37,
          16.28,
          31.63,
          24.91,
          22.54,
          23.63,
          13.12,
          59.98,
          31.49,
          15.52,
          48.13,
          38.13,
          36.55,
          23.32,
          16.33,
          32.42,
          16.96,
          22.37,
          42.27,
          38.7,
          35.63,
          58,
          52.41,
          32.35,
          20.75,
          17.49,
          34.13,
          58.81,
          10,
          51.22,
          58.59,
          31.3,
          46.42,
          17.21,
          10.79,
          52.35,
          27.88,
          50.26,
          59.99,
          28.32,
          38.71,
          29.85,
          14.82,
          16.81,
          28.23,
          52.11,
          27.88,
          59.71,
          46.08,
          13.73,
          48.39,
          49.45,
          19.67,
          12.36,
          20.02,
          12.75,
          47.51,
          20.44,
          34.79,
          28.07,
          25.01,
          13.9,
          24.17,
          31.63,
          48.75,
          14.74,
          32.49,
          27.8,
          26.77,
          50.44,
          34.93,
          12.87,
          48.94,
          13.38,
          58.63,
          21.94,
          26.58,
          57.22,
          56.43,
          55.65,
          27.62,
          49.56,
          34.77,
          17.73,
          21.8,
          46.02,
          18.13,
          30.89,
          31.95,
          24.04,
          32.36,
          21.07,
          50.66,
          13.66,
          58.09,
          30,
          32.74,
          41.93,
          42.8,
          53.51,
          23.21,
          21.14,
          56.07,
          14.41,
          45.75,
          15.77,
          10.02,
          48.77,
          57.86,
          23.59,
          23.05,
          55.55,
          58.64,
          23.21,
          42.57,
          10.92,
          34.77,
          35.66,
          37.19,
          12.25,
          29.7,
          36.8,
          45.43,
          26.26,
          44.92,
          52.53,
          37.25,
          20.93,
          58.09,
          43.59,
          33.92,
          55.55,
          29.64,
          27.41,
          52.51,
          47.8,
          14.54,
          49.53,
          43.58,
          12.3,
          49.47,
          22.14,
          57.48,
          43.45,
          22.13,
          13.03,
          57.35,
          44.29,
          52.25,
          26.33,
          22.96,
          19.21,
          26.78,
          41.32,
          24.55,
          16.26,
          47.84,
          53.49,
          44.84,
          53.71,
          23.43,
          34.32,
          22.1,
          25.83,
          36.74,
          49.51,
          48.96,
          54.62,
          24.72,
          46.45,
          52.33,
          30.6,
          14.57,
          46.29,
          21.57,
          12.91,
          50.11,
          41.67,
          44.88,
          11.1,
          28.54,
          19.07,
          43.55,
          43.63,
          39.13,
          56.68,
          14.16,
          31.45,
          24.61,
          32.87,
          40.17,
          13.51,
          38.95,
          31.69,
          29.4,
          57.83,
          55.46,
          57.6,
          34.98,
          11.87,
          12.47,
          33.26,
          59.04,
          26.13,
          22.2,
          45.11,
          43.69,
          25.02,
          55.5,
          53.04,
          44.97,
          42.38,
          20.11,
          56.7,
          41,
          28.85,
          49.97,
          19.69,
          28.88,
          33.14,
          43.7,
          54.89,
          37.52,
          51.07,
          44.07,
          10.79,
          42.72,
          26.66,
          37.6,
          42.21,
          46.83,
          45.17,
          51.22,
          21.28,
          15.36,
          38.62,
          25.4,
          43.87,
          18.74,
          54.86,
          52.62,
          51.48,
          15.28,
          39.24,
          17.81,
          56.02,
          23.9,
          49.13,
          10.62,
          36.17,
          59.95,
          26.09,
          37.35,
          24.72,
          35.28,
          51.32,
          21.12,
          27.35,
          21.74,
          40.87,
          49.31,
          22.11,
          20.79,
          27.41,
          38.35,
          21.55,
          38.02,
          22.06,
          10.66,
          56.58,
          36.83,
          35.01,
          30.48,
          14.08,
          31.22,
          54.29,
          31.04,
          50.96,
          11.89,
          31.38,
          54.81,
          16.78,
          24.42,
          11.75,
          20.02,
          12.86,
          31.58,
          34,
          57.42,
          53.47,
          11.64,
          52.88,
          18.51,
          41.32,
          39.77,
          51.96,
          39.51,
          15.4,
          53.82,
          30.95,
          57.82,
          44.18,
          48.71,
          19.69,
          36.52,
          41.56,
          43.19,
          12.34,
          36.25,
          29.45,
          34.56,
          54.12,
          33.78,
          29.64,
          57.7,
          36.34,
          50.59,
          29.38,
          45.42,
          54.43,
          36.26,
          16.16,
          36.29,
          27.89,
          12.29,
          15.85,
          14.4,
          19.18,
          10.64,
          14.76,
          57.49,
          30.66,
          40.83,
          18.88,
          25.83,
          42.12,
          13.33,
          42.4,
          58.35,
          21.72,
          44.91,
          37.46,
          28.48,
          28.34,
          46.96,
          24.96,
          21.71,
          29.87,
          28.99,
          52.94,
          32.36,
          55.66,
          39.45,
          47.11,
          58.75,
          38.92,
          39.39,
          25.89,
          28.34,
          27.7,
          24.89,
          58.99,
          57.2,
          38.43,
          34.74,
          40.44,
          45.24,
          34.96,
          56.76,
          40.28,
          38,
          28.8,
          39.24,
          32.93,
          51.32,
          47.09,
          28.42,
          22.85,
          41.24,
          39.07,
          29.82,
          37.26,
          20.3,
          34.65,
          43.38,
          55.53,
          57.06,
          16.97,
          53.98,
          26.08
         ],
         "xaxis": "x2",
         "yaxis": "y2"
        }
       ],
       "layout": {
        "barmode": "relative",
        "legend": {
         "tracegroupgap": 0
        },
        "template": {
         "data": {
          "bar": [
           {
            "error_x": {
             "color": "#2a3f5f"
            },
            "error_y": {
             "color": "#2a3f5f"
            },
            "marker": {
             "line": {
              "color": "#E5ECF6",
              "width": 0.5
             },
             "pattern": {
              "fillmode": "overlay",
              "size": 10,
              "solidity": 0.2
             }
            },
            "type": "bar"
           }
          ],
          "barpolar": [
           {
            "marker": {
             "line": {
              "color": "#E5ECF6",
              "width": 0.5
             },
             "pattern": {
              "fillmode": "overlay",
              "size": 10,
              "solidity": 0.2
             }
            },
            "type": "barpolar"
           }
          ],
          "carpet": [
           {
            "aaxis": {
             "endlinecolor": "#2a3f5f",
             "gridcolor": "white",
             "linecolor": "white",
             "minorgridcolor": "white",
             "startlinecolor": "#2a3f5f"
            },
            "baxis": {
             "endlinecolor": "#2a3f5f",
             "gridcolor": "white",
             "linecolor": "white",
             "minorgridcolor": "white",
             "startlinecolor": "#2a3f5f"
            },
            "type": "carpet"
           }
          ],
          "choropleth": [
           {
            "colorbar": {
             "outlinewidth": 0,
             "ticks": ""
            },
            "type": "choropleth"
           }
          ],
          "contour": [
           {
            "colorbar": {
             "outlinewidth": 0,
             "ticks": ""
            },
            "colorscale": [
             [
              0,
              "#0d0887"
             ],
             [
              0.1111111111111111,
              "#46039f"
             ],
             [
              0.2222222222222222,
              "#7201a8"
             ],
             [
              0.3333333333333333,
              "#9c179e"
             ],
             [
              0.4444444444444444,
              "#bd3786"
             ],
             [
              0.5555555555555556,
              "#d8576b"
             ],
             [
              0.6666666666666666,
              "#ed7953"
             ],
             [
              0.7777777777777778,
              "#fb9f3a"
             ],
             [
              0.8888888888888888,
              "#fdca26"
             ],
             [
              1,
              "#f0f921"
             ]
            ],
            "type": "contour"
           }
          ],
          "contourcarpet": [
           {
            "colorbar": {
             "outlinewidth": 0,
             "ticks": ""
            },
            "type": "contourcarpet"
           }
          ],
          "heatmap": [
           {
            "colorbar": {
             "outlinewidth": 0,
             "ticks": ""
            },
            "colorscale": [
             [
              0,
              "#0d0887"
             ],
             [
              0.1111111111111111,
              "#46039f"
             ],
             [
              0.2222222222222222,
              "#7201a8"
             ],
             [
              0.3333333333333333,
              "#9c179e"
             ],
             [
              0.4444444444444444,
              "#bd3786"
             ],
             [
              0.5555555555555556,
              "#d8576b"
             ],
             [
              0.6666666666666666,
              "#ed7953"
             ],
             [
              0.7777777777777778,
              "#fb9f3a"
             ],
             [
              0.8888888888888888,
              "#fdca26"
             ],
             [
              1,
              "#f0f921"
             ]
            ],
            "type": "heatmap"
           }
          ],
          "heatmapgl": [
           {
            "colorbar": {
             "outlinewidth": 0,
             "ticks": ""
            },
            "colorscale": [
             [
              0,
              "#0d0887"
             ],
             [
              0.1111111111111111,
              "#46039f"
             ],
             [
              0.2222222222222222,
              "#7201a8"
             ],
             [
              0.3333333333333333,
              "#9c179e"
             ],
             [
              0.4444444444444444,
              "#bd3786"
             ],
             [
              0.5555555555555556,
              "#d8576b"
             ],
             [
              0.6666666666666666,
              "#ed7953"
             ],
             [
              0.7777777777777778,
              "#fb9f3a"
             ],
             [
              0.8888888888888888,
              "#fdca26"
             ],
             [
              1,
              "#f0f921"
             ]
            ],
            "type": "heatmapgl"
           }
          ],
          "histogram": [
           {
            "marker": {
             "pattern": {
              "fillmode": "overlay",
              "size": 10,
              "solidity": 0.2
             }
            },
            "type": "histogram"
           }
          ],
          "histogram2d": [
           {
            "colorbar": {
             "outlinewidth": 0,
             "ticks": ""
            },
            "colorscale": [
             [
              0,
              "#0d0887"
             ],
             [
              0.1111111111111111,
              "#46039f"
             ],
             [
              0.2222222222222222,
              "#7201a8"
             ],
             [
              0.3333333333333333,
              "#9c179e"
             ],
             [
              0.4444444444444444,
              "#bd3786"
             ],
             [
              0.5555555555555556,
              "#d8576b"
             ],
             [
              0.6666666666666666,
              "#ed7953"
             ],
             [
              0.7777777777777778,
              "#fb9f3a"
             ],
             [
              0.8888888888888888,
              "#fdca26"
             ],
             [
              1,
              "#f0f921"
             ]
            ],
            "type": "histogram2d"
           }
          ],
          "histogram2dcontour": [
           {
            "colorbar": {
             "outlinewidth": 0,
             "ticks": ""
            },
            "colorscale": [
             [
              0,
              "#0d0887"
             ],
             [
              0.1111111111111111,
              "#46039f"
             ],
             [
              0.2222222222222222,
              "#7201a8"
             ],
             [
              0.3333333333333333,
              "#9c179e"
             ],
             [
              0.4444444444444444,
              "#bd3786"
             ],
             [
              0.5555555555555556,
              "#d8576b"
             ],
             [
              0.6666666666666666,
              "#ed7953"
             ],
             [
              0.7777777777777778,
              "#fb9f3a"
             ],
             [
              0.8888888888888888,
              "#fdca26"
             ],
             [
              1,
              "#f0f921"
             ]
            ],
            "type": "histogram2dcontour"
           }
          ],
          "mesh3d": [
           {
            "colorbar": {
             "outlinewidth": 0,
             "ticks": ""
            },
            "type": "mesh3d"
           }
          ],
          "parcoords": [
           {
            "line": {
             "colorbar": {
              "outlinewidth": 0,
              "ticks": ""
             }
            },
            "type": "parcoords"
           }
          ],
          "pie": [
           {
            "automargin": true,
            "type": "pie"
           }
          ],
          "scatter": [
           {
            "marker": {
             "colorbar": {
              "outlinewidth": 0,
              "ticks": ""
             }
            },
            "type": "scatter"
           }
          ],
          "scatter3d": [
           {
            "line": {
             "colorbar": {
              "outlinewidth": 0,
              "ticks": ""
             }
            },
            "marker": {
             "colorbar": {
              "outlinewidth": 0,
              "ticks": ""
             }
            },
            "type": "scatter3d"
           }
          ],
          "scattercarpet": [
           {
            "marker": {
             "colorbar": {
              "outlinewidth": 0,
              "ticks": ""
             }
            },
            "type": "scattercarpet"
           }
          ],
          "scattergeo": [
           {
            "marker": {
             "colorbar": {
              "outlinewidth": 0,
              "ticks": ""
             }
            },
            "type": "scattergeo"
           }
          ],
          "scattergl": [
           {
            "marker": {
             "colorbar": {
              "outlinewidth": 0,
              "ticks": ""
             }
            },
            "type": "scattergl"
           }
          ],
          "scattermapbox": [
           {
            "marker": {
             "colorbar": {
              "outlinewidth": 0,
              "ticks": ""
             }
            },
            "type": "scattermapbox"
           }
          ],
          "scatterpolar": [
           {
            "marker": {
             "colorbar": {
              "outlinewidth": 0,
              "ticks": ""
             }
            },
            "type": "scatterpolar"
           }
          ],
          "scatterpolargl": [
           {
            "marker": {
             "colorbar": {
              "outlinewidth": 0,
              "ticks": ""
             }
            },
            "type": "scatterpolargl"
           }
          ],
          "scatterternary": [
           {
            "marker": {
             "colorbar": {
              "outlinewidth": 0,
              "ticks": ""
             }
            },
            "type": "scatterternary"
           }
          ],
          "surface": [
           {
            "colorbar": {
             "outlinewidth": 0,
             "ticks": ""
            },
            "colorscale": [
             [
              0,
              "#0d0887"
             ],
             [
              0.1111111111111111,
              "#46039f"
             ],
             [
              0.2222222222222222,
              "#7201a8"
             ],
             [
              0.3333333333333333,
              "#9c179e"
             ],
             [
              0.4444444444444444,
              "#bd3786"
             ],
             [
              0.5555555555555556,
              "#d8576b"
             ],
             [
              0.6666666666666666,
              "#ed7953"
             ],
             [
              0.7777777777777778,
              "#fb9f3a"
             ],
             [
              0.8888888888888888,
              "#fdca26"
             ],
             [
              1,
              "#f0f921"
             ]
            ],
            "type": "surface"
           }
          ],
          "table": [
           {
            "cells": {
             "fill": {
              "color": "#EBF0F8"
             },
             "line": {
              "color": "white"
             }
            },
            "header": {
             "fill": {
              "color": "#C8D4E3"
             },
             "line": {
              "color": "white"
             }
            },
            "type": "table"
           }
          ]
         },
         "layout": {
          "annotationdefaults": {
           "arrowcolor": "#2a3f5f",
           "arrowhead": 0,
           "arrowwidth": 1
          },
          "autotypenumbers": "strict",
          "coloraxis": {
           "colorbar": {
            "outlinewidth": 0,
            "ticks": ""
           }
          },
          "colorscale": {
           "diverging": [
            [
             0,
             "#8e0152"
            ],
            [
             0.1,
             "#c51b7d"
            ],
            [
             0.2,
             "#de77ae"
            ],
            [
             0.3,
             "#f1b6da"
            ],
            [
             0.4,
             "#fde0ef"
            ],
            [
             0.5,
             "#f7f7f7"
            ],
            [
             0.6,
             "#e6f5d0"
            ],
            [
             0.7,
             "#b8e186"
            ],
            [
             0.8,
             "#7fbc41"
            ],
            [
             0.9,
             "#4d9221"
            ],
            [
             1,
             "#276419"
            ]
           ],
           "sequential": [
            [
             0,
             "#0d0887"
            ],
            [
             0.1111111111111111,
             "#46039f"
            ],
            [
             0.2222222222222222,
             "#7201a8"
            ],
            [
             0.3333333333333333,
             "#9c179e"
            ],
            [
             0.4444444444444444,
             "#bd3786"
            ],
            [
             0.5555555555555556,
             "#d8576b"
            ],
            [
             0.6666666666666666,
             "#ed7953"
            ],
            [
             0.7777777777777778,
             "#fb9f3a"
            ],
            [
             0.8888888888888888,
             "#fdca26"
            ],
            [
             1,
             "#f0f921"
            ]
           ],
           "sequentialminus": [
            [
             0,
             "#0d0887"
            ],
            [
             0.1111111111111111,
             "#46039f"
            ],
            [
             0.2222222222222222,
             "#7201a8"
            ],
            [
             0.3333333333333333,
             "#9c179e"
            ],
            [
             0.4444444444444444,
             "#bd3786"
            ],
            [
             0.5555555555555556,
             "#d8576b"
            ],
            [
             0.6666666666666666,
             "#ed7953"
            ],
            [
             0.7777777777777778,
             "#fb9f3a"
            ],
            [
             0.8888888888888888,
             "#fdca26"
            ],
            [
             1,
             "#f0f921"
            ]
           ]
          },
          "colorway": [
           "#636efa",
           "#EF553B",
           "#00cc96",
           "#ab63fa",
           "#FFA15A",
           "#19d3f3",
           "#FF6692",
           "#B6E880",
           "#FF97FF",
           "#FECB52"
          ],
          "font": {
           "color": "#2a3f5f"
          },
          "geo": {
           "bgcolor": "white",
           "lakecolor": "white",
           "landcolor": "#E5ECF6",
           "showlakes": true,
           "showland": true,
           "subunitcolor": "white"
          },
          "hoverlabel": {
           "align": "left"
          },
          "hovermode": "closest",
          "mapbox": {
           "style": "light"
          },
          "paper_bgcolor": "white",
          "plot_bgcolor": "#E5ECF6",
          "polar": {
           "angularaxis": {
            "gridcolor": "white",
            "linecolor": "white",
            "ticks": ""
           },
           "bgcolor": "#E5ECF6",
           "radialaxis": {
            "gridcolor": "white",
            "linecolor": "white",
            "ticks": ""
           }
          },
          "scene": {
           "xaxis": {
            "backgroundcolor": "#E5ECF6",
            "gridcolor": "white",
            "gridwidth": 2,
            "linecolor": "white",
            "showbackground": true,
            "ticks": "",
            "zerolinecolor": "white"
           },
           "yaxis": {
            "backgroundcolor": "#E5ECF6",
            "gridcolor": "white",
            "gridwidth": 2,
            "linecolor": "white",
            "showbackground": true,
            "ticks": "",
            "zerolinecolor": "white"
           },
           "zaxis": {
            "backgroundcolor": "#E5ECF6",
            "gridcolor": "white",
            "gridwidth": 2,
            "linecolor": "white",
            "showbackground": true,
            "ticks": "",
            "zerolinecolor": "white"
           }
          },
          "shapedefaults": {
           "line": {
            "color": "#2a3f5f"
           }
          },
          "ternary": {
           "aaxis": {
            "gridcolor": "white",
            "linecolor": "white",
            "ticks": ""
           },
           "baxis": {
            "gridcolor": "white",
            "linecolor": "white",
            "ticks": ""
           },
           "bgcolor": "#E5ECF6",
           "caxis": {
            "gridcolor": "white",
            "linecolor": "white",
            "ticks": ""
           }
          },
          "title": {
           "x": 0.05
          },
          "xaxis": {
           "automargin": true,
           "gridcolor": "white",
           "linecolor": "white",
           "ticks": "",
           "title": {
            "standoff": 15
           },
           "zerolinecolor": "white",
           "zerolinewidth": 2
          },
          "yaxis": {
           "automargin": true,
           "gridcolor": "white",
           "linecolor": "white",
           "ticks": "",
           "title": {
            "standoff": 15
           },
           "zerolinecolor": "white",
           "zerolinewidth": 2
          }
         }
        },
        "title": {
         "text": "Price"
        },
        "xaxis": {
         "anchor": "y",
         "domain": [
          0,
          1
         ],
         "title": {
          "text": "price"
         }
        },
        "xaxis2": {
         "anchor": "y2",
         "domain": [
          0,
          1
         ],
         "matches": "x",
         "showgrid": true,
         "showticklabels": false
        },
        "yaxis": {
         "anchor": "x",
         "domain": [
          0,
          0.8316
         ],
         "title": {
          "text": "count"
         }
        },
        "yaxis2": {
         "anchor": "x2",
         "domain": [
          0.8416,
          1
         ],
         "matches": "y2",
         "showgrid": false,
         "showline": false,
         "showticklabels": false,
         "ticks": ""
        }
       }
      },
      "text/html": [
       "<div>                            <div id=\"e766d968-b096-4cc6-9f3f-f2705f1e9426\" class=\"plotly-graph-div\" style=\"height:525px; width:100%;\"></div>            <script type=\"text/javascript\">                require([\"plotly\"], function(Plotly) {                    window.PLOTLYENV=window.PLOTLYENV || {};                                    if (document.getElementById(\"e766d968-b096-4cc6-9f3f-f2705f1e9426\")) {                    Plotly.newPlot(                        \"e766d968-b096-4cc6-9f3f-f2705f1e9426\",                        [{\"alignmentgroup\":\"True\",\"bingroup\":\"x\",\"hovertemplate\":\"price=%{x}<br>count=%{y}<extra></extra>\",\"legendgroup\":\"\",\"marker\":{\"color\":\"#636efa\",\"pattern\":{\"shape\":\"\"}},\"name\":\"\",\"offsetgroup\":\"\",\"orientation\":\"v\",\"showlegend\":false,\"x\":[51.77,53.74,50.1,47.82,54.23,22.65,33.34,17.93,22.6,52.15,13.99,20.66,17.46,52.29,35.02,57.25,23.88,37.59,51.33,45.17,12.84,37.32,30.52,25.27,34.53,54.64,22.5,53.13,40.3,44.18,17.66,31.05,23.82,36.89,15.94,33.29,18.02,19.63,52.22,33.63,57.31,26.41,47.61,23.11,45.07,31.77,50.27,14.27,44.18,18.78,25.52,16.28,31.12,19.49,17.27,19.09,56.13,56.41,56.5,45.22,38.16,54.11,42.96,23.89,16.77,20.59,37.13,56.06,58.11,49.05,40.76,19.73,32.24,41.83,39.58,39.25,25.02,51.04,19.83,50.4,13.61,13.34,18.97,36.28,10.16,15.44,48.41,46.35,14.07,14.86,33.37,56.4,14.02,46.91,45.61,19.92,40.11,53.9,35.67,22.0,57.36,29.17,54.63,46.03,33.97,22.11,29.69,15.97,21.96,54.35,37.97,51.99,43.29,36.72,17.08,29.14,28.81,49.46,37.92,28.09,30.81,42.95,56.76,16.64,55.53,28.13,52.37,54.0,21.87,43.3,21.04,41.6,35.07,59.64,52.72,58.08,24.12,42.15,12.61,17.44,33.14,27.37,51.36,36.0,10.65,43.54,38.21,37.34,44.1,43.29,55.85,37.6,10.97,41.82,36.95,44.28,55.02,17.24,23.15,41.25,32.0,38.49,33.34,10.93,27.55,55.99,16.24,26.12,12.23,23.99,29.06,20.27,43.55,36.94,20.47,41.06,14.19,38.28,41.05,30.25,28.26,10.76,16.85,13.47,48.56,19.15,57.36,42.98,22.16,49.43,29.99,21.36,29.0,53.53,41.62,54.59,34.95,37.72,35.61,42.16,19.19,19.43,49.46,37.8,30.8,27.43,11.11,36.5,15.38,15.48,46.82,18.46,36.58,50.54,12.51,24.7,43.61,37.34,14.36,52.65,38.2,19.6,53.9,12.96,37.1,46.31,45.95,22.08,25.38,27.12,43.04,56.8,25.91,32.61,27.88,52.67,46.02,44.48,37.4,54.04,16.88,28.08,10.4,44.07,23.4,17.43,54.21,40.67,52.26,28.77,13.82,25.85,48.78,35.35,44.73,15.77,39.24,13.92,10.69,45.21,45.58,11.89,26.41,39.5,44.74,52.79,35.43,55.84,48.87,46.78,47.82,25.48,23.57,50.89,10.56,52.15,18.28,11.83,21.95,38.39,41.56,24.48,40.36,28.9,37.61,38.85,53.95,49.83,51.51,18.03,29.14,46.91,26.79,16.28,19.55,29.65,25.98,10.6,14.75,47.02,28.82,58.79,10.23,30.03,45.84,49.05,15.06,46.47,27.09,57.62,14.39,51.75,54.07,55.35,40.12,37.51,11.21,36.58,47.72,25.01,22.13,44.14,56.02,11.23,43.28,47.27,20.29,50.83,31.85,46.23,37.8,49.32,32.01,28.01,50.62,17.03,48.8,58.14,34.2,51.48,29.87,10.9,56.37,48.35,16.73,56.48,40.79,39.72,14.58,55.51,21.8,13.33,38.73,37.86,11.53,27.06,13.86,37.55,32.3,46.29,26.2,33.26,59.15,39.43,14.44,56.54,59.9,11.88,48.05,21.21,49.67,43.14,36.97,26.8,15.71,54.65,54.36,35.28,20.55,58.32,11.84,41.46,20.1,56.86,56.51,40.83,48.64,59.48,39.01,38.77,48.39,27.26,11.68,59.45,21.0,53.98,48.74,21.15,13.71,47.67,13.34,16.89,27.18,17.28,45.14,40.85,20.46,56.27,48.49,51.34,16.34,20.5,21.59,21.36,20.88,19.53,14.75,48.48,24.57,49.71,48.27,58.05,58.87,11.82,28.03,44.05,12.34,16.68,55.91,24.57,52.98,54.4,54.81,25.08,10.41,47.44,20.91,33.95,43.68,33.23,35.92,48.63,56.63,50.49,35.79,34.06,17.76,39.36,36.94,43.62,43.02,28.45,41.39,51.15,35.88,36.91,28.93,38.89,58.33,39.67,14.1,21.82,54.21,31.19,53.64,36.39,58.54,29.48,25.06,12.55,29.04,40.72,45.05,47.13,20.22,56.48,44.21,21.96,40.45,10.29,52.86,55.65,43.64,28.41,37.51,11.45,19.22,56.91,55.06,13.2,53.63,44.48,12.08,22.14,25.37,46.33,37.33,25.55,34.72,35.96,41.14,10.01,36.05,49.03,16.24,39.55,35.67,16.62,42.78,52.3,32.34,33.17,20.12,20.9,20.9,40.2,52.87,51.74,34.41,32.38,50.35,11.38,43.58,49.67,28.77,13.22,51.17,39.61,57.43,46.01,28.25,37.05,19.57,45.13,46.64,12.16,20.89,17.97,52.6,25.77,48.19,29.93,44.34,52.4,44.81,57.84,39.67,55.02,24.8,59.45,31.58,43.27,37.34,17.8,30.54,18.77,46.85,15.79,10.27,15.42,59.92,50.96,30.6,19.27,46.58,48.51,19.02,38.38,49.98,46.49,18.32,42.14,56.59,20.96,40.32,36.39,58.55,39.61,21.3,56.88,32.97,47.31,48.67,41.73,53.68,14.64,38.4,15.08,30.57,57.74,11.05,28.58,42.91,24.73,55.91,13.76,45.56,47.22,56.0,44.58,34.5,11.33,38.77,11.83,45.51,41.81,25.15,34.22,16.23,11.48,23.37,16.28,31.63,24.91,22.54,23.63,13.12,59.98,31.49,15.52,48.13,38.13,36.55,23.32,16.33,32.42,16.96,22.37,42.27,38.7,35.63,58.0,52.41,32.35,20.75,17.49,34.13,58.81,10.0,51.22,58.59,31.3,46.42,17.21,10.79,52.35,27.88,50.26,59.99,28.32,38.71,29.85,14.82,16.81,28.23,52.11,27.88,59.71,46.08,13.73,48.39,49.45,19.67,12.36,20.02,12.75,47.51,20.44,34.79,28.07,25.01,13.9,24.17,31.63,48.75,14.74,32.49,27.8,26.77,50.44,34.93,12.87,48.94,13.38,58.63,21.94,26.58,57.22,56.43,55.65,27.62,49.56,34.77,17.73,21.8,46.02,18.13,30.89,31.95,24.04,32.36,21.07,50.66,13.66,58.09,30.0,32.74,41.93,42.8,53.51,23.21,21.14,56.07,14.41,45.75,15.77,10.02,48.77,57.86,23.59,23.05,55.55,58.64,23.21,42.57,10.92,34.77,35.66,37.19,12.25,29.7,36.8,45.43,26.26,44.92,52.53,37.25,20.93,58.09,43.59,33.92,55.55,29.64,27.41,52.51,47.8,14.54,49.53,43.58,12.3,49.47,22.14,57.48,43.45,22.13,13.03,57.35,44.29,52.25,26.33,22.96,19.21,26.78,41.32,24.55,16.26,47.84,53.49,44.84,53.71,23.43,34.32,22.1,25.83,36.74,49.51,48.96,54.62,24.72,46.45,52.33,30.6,14.57,46.29,21.57,12.91,50.11,41.67,44.88,11.1,28.54,19.07,43.55,43.63,39.13,56.68,14.16,31.45,24.61,32.87,40.17,13.51,38.95,31.69,29.4,57.83,55.46,57.6,34.98,11.87,12.47,33.26,59.04,26.13,22.2,45.11,43.69,25.02,55.5,53.04,44.97,42.38,20.11,56.7,41.0,28.85,49.97,19.69,28.88,33.14,43.7,54.89,37.52,51.07,44.07,10.79,42.72,26.66,37.6,42.21,46.83,45.17,51.22,21.28,15.36,38.62,25.4,43.87,18.74,54.86,52.62,51.48,15.28,39.24,17.81,56.02,23.9,49.13,10.62,36.17,59.95,26.09,37.35,24.72,35.28,51.32,21.12,27.35,21.74,40.87,49.31,22.11,20.79,27.41,38.35,21.55,38.02,22.06,10.66,56.58,36.83,35.01,30.48,14.08,31.22,54.29,31.04,50.96,11.89,31.38,54.81,16.78,24.42,11.75,20.02,12.86,31.58,34.0,57.42,53.47,11.64,52.88,18.51,41.32,39.77,51.96,39.51,15.4,53.82,30.95,57.82,44.18,48.71,19.69,36.52,41.56,43.19,12.34,36.25,29.45,34.56,54.12,33.78,29.64,57.7,36.34,50.59,29.38,45.42,54.43,36.26,16.16,36.29,27.89,12.29,15.85,14.4,19.18,10.64,14.76,57.49,30.66,40.83,18.88,25.83,42.12,13.33,42.4,58.35,21.72,44.91,37.46,28.48,28.34,46.96,24.96,21.71,29.87,28.99,52.94,32.36,55.66,39.45,47.11,58.75,38.92,39.39,25.89,28.34,27.7,24.89,58.99,57.2,38.43,34.74,40.44,45.24,34.96,56.76,40.28,38.0,28.8,39.24,32.93,51.32,47.09,28.42,22.85,41.24,39.07,29.82,37.26,20.3,34.65,43.38,55.53,57.06,16.97,53.98,26.08],\"xaxis\":\"x\",\"yaxis\":\"y\",\"type\":\"histogram\"},{\"alignmentgroup\":\"True\",\"customdata\":[[\"A Light in the Attic\"],[\"Tipping the Velvet\"],[\"Soumission\"],[\"Sharp Objects\"],[\"Sapiens: A Brief History of Humankind\"],[\"The Requiem Red\"],[\"The Dirty Little Secrets of Getting Your Dream Job\"],[\"The Coming Woman: A Novel Based on the Life of the Infamous Feminist, Victoria Woodhull\"],[\"The Boys in the Boat: Nine Americans and Their Epic Quest for Gold at the 1936 Berlin Olympics\"],[\"The Black Maria\"],[\"Starving Hearts (Triangular Trade Trilogy, #1)\"],[\"Shakespeare's Sonnets\"],[\"Set Me Free\"],[\"Scott Pilgrim's Precious Little Life (Scott Pilgrim #1)\"],[\"Rip it Up and Start Again\"],[\"Our Band Could Be Your Life: Scenes from the American Indie Underground, 1981-1991\"],[\"Olio\"],[\"Mesaerion: The Best Science Fiction Stories 1800-1849\"],[\"Libertarianism for Beginners\"],[\"It's Only the Himalayas\"],[\"In Her Wake\"],[\"How Music Works\"],[\"Foolproof Preserving: A Guide to Small Batch Jams, Jellies, Pickles, Condiments, and More: A Foolproof Guide to Making Small Batch Jams, Jellies, Pickles, Condiments, and More\"],[\"Chase Me (Paris Nights #2)\"],[\"Black Dust\"],[\"Birdsong: A Story in Pictures\"],[\"America's Cradle of Quarterbacks: Western Pennsylvania's Football Factory from Johnny Unitas to Joe Montana\"],[\"Aladdin and His Wonderful Lamp\"],[\"Worlds Elsewhere: Journeys Around Shakespeare\\u00e2\\u0080\\u0099s Globe\"],[\"Wall and Piece\"],[\"The Four Agreements: A Practical Guide to Personal Freedom\"],[\"The Five Love Languages: How to Express Heartfelt Commitment to Your Mate\"],[\"The Elephant Tree\"],[\"The Bear and the Piano\"],[\"Sophie's World\"],[\"Penny Maybe\"],[\"Maude (1883-1993):She Grew Up with the country\"],[\"In a Dark, Dark Wood\"],[\"Behind Closed Doors\"],[\"You can't bury them all: Poems\"],[\"Slow States of Collapse: Poems\"],[\"Reasons to Stay Alive\"],[\"Private Paris (Private #10)\"],[\"#HigherSelfie: Wake Up Your Life. Free Your Soul. Find Your Tribe.\"],[\"Without Borders (Wanderlove #1)\"],[\"When We Collided\"],[\"We Love You, Charlie Freeman\"],[\"Untitled Collection: Sabbath Poems 2014\"],[\"Unseen City: The Majesty of Pigeons, the Discreet Charm of Snails & Other Wonders of the Urban Wilderness\"],[\"Unicorn Tracks\"],[\"Unbound: How Eight Technologies Made Us Human, Transformed Society, and Brought Our World to the Brink\"],[\"Tsubasa: WoRLD CHRoNiCLE 2 (Tsubasa WoRLD CHRoNiCLE #2)\"],[\"Throwing Rocks at the Google Bus: How Growth Became the Enemy of Prosperity\"],[\"This One Summer\"],[\"Thirst\"],[\"The Torch Is Passed: A Harding Family Story\"],[\"The Secret of Dreadwillow Carse\"],[\"The Pioneer Woman Cooks: Dinnertime: Comfort Classics, Freezer Food, 16-Minute Meals, and Other Delicious Ways to Solve Supper!\"],[\"The Past Never Ends\"],[\"The Natural History of Us (The Fine Art of Pretending #2)\"],[\"The Nameless City (The Nameless City #1)\"],[\"The Murder That Never Was (Forensic Instincts #5)\"],[\"The Most Perfect Thing: Inside (and Outside) a Bird's Egg\"],[\"The Mindfulness and Acceptance Workbook for Anxiety: A Guide to Breaking Free from Anxiety, Phobias, and Worry Using Acceptance and Commitment Therapy\"],[\"The Life-Changing Magic of Tidying Up: The Japanese Art of Decluttering and Organizing\"],[\"The Inefficiency Assassin: Time Management Tactics for Working Smarter, Not Longer\"],[\"The Gutsy Girl: Escapades for Your Life of Epic Adventure\"],[\"The Electric Pencil: Drawings from Inside State Hospital No. 3\"],[\"The Death of Humanity: and the Case for Life\"],[\"The Bulletproof Diet: Lose up to a Pound a Day, Reclaim Energy and Focus, Upgrade Your Life\"],[\"The Art Forger\"],[\"The Age of Genius: The Seventeenth Century and the Birth of the Modern Mind\"],[\"The Activist's Tao Te Ching: Ancient Advice for a Modern Revolution\"],[\"Spark Joy: An Illustrated Master Class on the Art of Organizing and Tidying Up\"],[\"Soul Reader\"],[\"Security\"],[\"Saga, Volume 6 (Saga (Collected Editions) #6)\"],[\"Saga, Volume 5 (Saga (Collected Editions) #5)\"],[\"Reskilling America: Learning to Labor in the Twenty-First Century\"],[\"Rat Queens, Vol. 3: Demons (Rat Queens (Collected Editions) #11-15)\"],[\"Princess Jellyfish 2-in-1 Omnibus, Vol. 01 (Princess Jellyfish 2-in-1 Omnibus #1)\"],[\"Princess Between Worlds (Wide-Awake Princess #5)\"],[\"Pop Gun War, Volume 1: Gift\"],[\"Political Suicide: Missteps, Peccadilloes, Bad Calls, Backroom Hijinx, Sordid Pasts, Rotten Breaks, and Just Plain Dumb Mistakes in the Annals of American Politics\"],[\"Patience\"],[\"Outcast, Vol. 1: A Darkness Surrounds Him (Outcast #1)\"],[\"orange: The Complete Collection 1 (orange: The Complete Collection #1)\"],[\"Online Marketing for Busy Authors: A Step-By-Step Guide\"],[\"On a Midnight Clear\"],[\"Obsidian (Lux #1)\"],[\"My Paris Kitchen: Recipes and Stories\"],[\"Masks and Shadows\"],[\"Mama Tried: Traditional Italian Cooking for the Screwed, Crude, Vegan, and Tattooed\"],[\"Lumberjanes, Vol. 2: Friendship to the Max (Lumberjanes #5-8)\"],[\"Lumberjanes, Vol. 1: Beware the Kitten Holy (Lumberjanes #1-4)\"],[\"Lumberjanes Vol. 3: A Terrible Plan (Lumberjanes #9-12)\"],[\"Layered: Baking, Building, and Styling Spectacular Cakes\"],[\"Judo: Seven Steps to Black Belt (an Introductory Guide for Beginners)\"],[\"Join\"],[\"In the Country We Love: My Family Divided\"],[\"Immunity: How Elie Metchnikoff Changed the Course of Modern Medicine\"],[\"I Hate Fairyland, Vol. 1: Madly Ever After (I Hate Fairyland (Compilations) #1-5)\"],[\"I am a Hero Omnibus Volume 1\"],[\"How to Be Miserable: 40 Strategies You Already Use\"],[\"Her Backup Boyfriend (The Sorensen Family #1)\"],[\"Giant Days, Vol. 2 (Giant Days #5-8)\"],[\"Forever and Forever: The Courtship of Henry Longfellow and Fanny Appleton\"],[\"First and First (Five Boroughs #3)\"],[\"Fifty Shades Darker (Fifty Shades #2)\"],[\"Everydata: The Misinformation Hidden in the Little Data You Consume Every Day\"],[\"Don't Be a Jerk: And Other Practical Advice from Dogen, Japan's Greatest Zen Master\"],[\"Danganronpa Volume 1\"],[\"Crown of Midnight (Throne of Glass #2)\"],[\"Codename Baboushka, Volume 1: The Conclave of Death\"],[\"Camp Midnight\"],[\"Call the Nurse: True Stories of a Country Nurse on a Scottish Isle\"],[\"Burning\"],[\"Bossypants\"],[\"Bitch Planet, Vol. 1: Extraordinary Machine (Bitch Planet (Collected Editions))\"],[\"Avatar: The Last Airbender: Smoke and Shadow, Part 3 (Smoke and Shadow #3)\"],[\"Algorithms to Live By: The Computer Science of Human Decisions\"],[\"A World of Flavor: Your Gluten Free Passport\"],[\"A Piece of Sky, a Grain of Rice: A Memoir in Four Meditations\"],[\"A Murder in Time\"],[\"A Flight of Arrows (The Pathfinders #2)\"],[\"A Fierce and Subtle Poison\"],[\"A Court of Thorns and Roses (A Court of Thorns and Roses #1)\"],[\"(Un)Qualified: How God Uses Broken People to Do Big Things\"],[\"You Are What You Love: The Spiritual Power of Habit\"],[\"William Shakespeare's Star Wars: Verily, A New Hope (William Shakespeare's Star Wars #4)\"],[\"Tuesday Nights in 1980\"],[\"Tracing Numbers on a Train\"],[\"Throne of Glass (Throne of Glass #1)\"],[\"Thomas Jefferson and the Tripoli Pirates: The Forgotten War That Changed American History\"],[\"Thirteen Reasons Why\"],[\"The White Cat and the Monk: A Retelling of the Poem \\u00e2\\u0080\\u009cPangur B\\u00c3\\u00a1n\\u00e2\\u0080\\u009d\"],[\"The Wedding Dress\"],[\"The Vacationers\"],[\"The Third Wave: An Entrepreneur\\u00e2\\u0080\\u0099s Vision of the Future\"],[\"The Stranger\"],[\"The Shadow Hero (The Shadow Hero)\"],[\"The Secret (The Secret #1)\"],[\"The Regional Office Is Under Attack!\"],[\"The Psychopath Test: A Journey Through the Madness Industry\"],[\"The Project\"],[\"The Power of Now: A Guide to Spiritual Enlightenment\"],[\"The Omnivore's Dilemma: A Natural History of Four Meals\"],[\"The Nerdy Nummies Cookbook: Sweet Treats for the Geek in All of Us\"],[\"The Murder of Roger Ackroyd (Hercule Poirot #4)\"],[\"The Mistake (Off-Campus #2)\"],[\"The Matchmaker's Playbook (Wingmen Inc. #1)\"],[\"The Love and Lemons Cookbook: An Apple-to-Zucchini Celebration of Impromptu Cooking\"],[\"The Long Shadow of Small Ghosts: Murder and Memory in an American City\"],[\"The Kite Runner\"],[\"The House by the Lake\"],[\"The Glittering Court (The Glittering Court #1)\"],[\"The Girl on the Train\"],[\"The Genius of Birds\"],[\"The Emerald Mystery\"],[\"The Cookies & Cups Cookbook: 125+ sweet & savory recipes reminding you to Always Eat Dessert First\"],[\"The Bridge to Consciousness: I'm Writing the Bridge Between Science and Our Old and New Beliefs.\"],[\"The Artist's Way: A Spiritual Path to Higher Creativity\"],[\"The Art of War\"],[\"The Argonauts\"],[\"The 10% Entrepreneur: Live Your Startup Dream Without Quitting Your Day Job\"],[\"Suddenly in Love (Lake Haven #1)\"],[\"Something More Than This\"],[\"Soft Apocalypse\"],[\"So You've Been Publicly Shamed\"],[\"Shoe Dog: A Memoir by the Creator of NIKE\"],[\"Shobu Samurai, Project Aryoku (#3)\"],[\"Secrets and Lace (Fatal Hearts #1)\"],[\"Scarlett Epstein Hates It Here\"],[\"Romero and Juliet: A Tragic Tale of Love and Zombies\"],[\"Redeeming Love\"],[\"Poses for Artists Volume 1 - Dynamic and Sitting Poses: An Essential Reference for Figure Drawing and the Human Form\"],[\"Poems That Make Grown Women Cry\"],[\"Nightingale, Sing\"],[\"Night Sky with Exit Wounds\"],[\"Mrs. Houdini\"],[\"Modern Romance\"],[\"Miss Peregrine\\u00e2\\u0080\\u0099s Home for Peculiar Children (Miss Peregrine\\u00e2\\u0080\\u0099s Peculiar Children #1)\"],[\"Louisa: The Extraordinary Life of Mrs. Adams\"],[\"Little Red\"],[\"Library of Souls (Miss Peregrine\\u00e2\\u0080\\u0099s Peculiar Children #3)\"],[\"Large Print Heart of the Pride\"],[\"I Had a Nice Time And Other Lies...: How to find love & sh*t like that\"],[\"Hollow City (Miss Peregrine\\u00e2\\u0080\\u0099s Peculiar Children #2)\"],[\"Grumbles\"],[\"Full Moon over Noah\\u00e2\\u0080\\u0099s Ark: An Odyssey to Mount Ararat and Beyond\"],[\"Frostbite (Vampire Academy #2)\"],[\"Follow You Home\"],[\"First Steps for New Christians (Print Edition)\"],[\"Finders Keepers (Bill Hodges Trilogy #2)\"],[\"Fables, Vol. 1: Legends in Exile (Fables #1)\"],[\"Eureka Trivia 6.0\"],[\"Drive: The Surprising Truth About What Motivates Us\"],[\"Done Rubbed Out (Reightman & Bailey #1)\"],[\"Doing It Over (Most Likely To #1)\"],[\"Deliciously Ella Every Day: Quick and Easy Recipes for Gluten-Free Snacks, Packed Lunches, and Simple Meals\"],[\"Dark Notes\"],[\"Daring Greatly: How the Courage to Be Vulnerable Transforms the Way We Live, Love, Parent, and Lead\"],[\"Close to You\"],[\"Chasing Heaven: What Dying Taught Me About Living\"],[\"Big Magic: Creative Living Beyond Fear\"],[\"Becoming Wise: An Inquiry into the Mystery and Art of Living\"],[\"Beauty Restored (Riley Family Legacy Novellas #3)\"],[\"Batman: The Long Halloween (Batman)\"],[\"Batman: The Dark Knight Returns (Batman)\"],[\"Ayumi's Violin\"],[\"Anonymous\"],[\"Amy Meets the Saints and Sages\"],[\"Amid the Chaos\"],[\"Amatus\"],[\"Agnostic: A Spirited Manifesto\"],[\"Zealot: The Life and Times of Jesus of Nazareth\"],[\"You (You #1)\"],[\"Wonder Woman: Earth One, Volume One (Wonder Woman: Earth One #1)\"],[\"Wild Swans\"],[\"Why the Right Went Wrong: Conservatism--From Goldwater to the Tea Party and Beyond\"],[\"Whole Lotta Creativity Going On: 60 Fun and Unusual Exercises to Awaken and Strengthen Your Creativity\"],[\"What's It Like in Space?: Stories from Astronauts Who've Been There\"],[\"We Are Robin, Vol. 1: The Vigilante Business (We Are Robin #1)\"],[\"Walt Disney's Alice in Wonderland\"],[\"V for Vendetta (V for Vendetta Complete)\"],[\"Until Friday Night (The Field Party #1)\"],[\"Unbroken: A World War II Story of Survival, Resilience, and Redemption\"],[\"Twenty Yawns\"],[\"Through the Woods\"],[\"This Is Where It Ends\"],[\"The Year of Magical Thinking\"],[\"The Wright Brothers\"],[\"The White Queen (The Cousins' War #1)\"],[\"The Wedding Pact (The O'Malleys #2)\"],[\"The Time Keeper\"],[\"The Testament of Mary\"],[\"The Star-Touched Queen\"],[\"The Songs of the Gods\"],[\"The Song of Achilles\"],[\"The Rosie Project (Don Tillman #1)\"],[\"The Power of Habit: Why We Do What We Do in Life and Business\"],[\"The Marriage of Opposites\"],[\"The Lucifer Effect: Understanding How Good People Turn Evil\"],[\"The Long Haul (Diary of a Wimpy Kid #9)\"],[\"The Loney\"],[\"The Literature Book (Big Ideas Simply Explained)\"],[\"The Last Mile (Amos Decker #2)\"],[\"The Immortal Life of Henrietta Lacks\"],[\"The Hidden Oracle (The Trials of Apollo #1)\"],[\"The Help Yourself Cookbook for Kids: 60 Easy Plant-Based Recipes Kids Can Make to Stay Healthy and Save the Earth\"],[\"The Guilty (Will Robie #4)\"],[\"The First Hostage (J.B. Collins #2)\"],[\"The Dovekeepers\"],[\"The Darkest Lie\"],[\"The Bane Chronicles (The Bane Chronicles #1-11)\"],[\"The Bad-Ass Librarians of Timbuktu: And Their Race to Save the World\\u00e2\\u0080\\u0099s Most Precious Manuscripts\"],[\"The 14th Colony (Cotton Malone #11)\"],[\"That Darkness (Gardiner and Renner #1)\"],[\"Tastes Like Fear (DI Marnie Rome #3)\"],[\"Take Me with You\"],[\"Swell: A Year of Waves\"],[\"Superman Vol. 1: Before Truth (Superman by Gene Luen Yang #1)\"],[\"Still Life with Bread Crumbs\"],[\"Steve Jobs\"],[\"Sorting the Beef from the Bull: The Science of Food Fraud Forensics\"],[\"Someone Like You (The Harrisons #2)\"],[\"So Cute It Hurts!!, Vol. 6 (So Cute It Hurts!! #6)\"],[\"Shtum\"],[\"See America: A Celebration of Our National Parks & Treasured Sites\"],[\"salt.\"],[\"Robin War\"],[\"Red Hood/Arsenal, Vol. 1: Open for Business (Red Hood/Arsenal #1)\"],[\"Rain Fish\"],[\"Quarter Life Poetry: Poems for the Young, Broke and Hangry\"],[\"Pet Sematary\"],[\"Overload: How to Unplug, Unwind, and Unleash Yourself from the Pressure of Stress\"],[\"Once Was a Time\"],[\"Old School (Diary of a Wimpy Kid #10)\"],[\"No Dream Is Too High: Life Lessons From a Man Who Walked on the Moon\"],[\"Naruto (3-in-1 Edition), Vol. 14: Includes Vols. 40, 41 & 42 (Naruto: Omnibus #14)\"],[\"My Name Is Lucy Barton\"],[\"My Mrs. Brown\"],[\"My Kind of Crazy\"],[\"Mr. Mercedes (Bill Hodges Trilogy #1)\"],[\"More Than Music (Chasing the Dream #1)\"],[\"Made to Stick: Why Some Ideas Survive and Others Die\"],[\"Luis Paints the World\"],[\"Luckiest Girl Alive\"],[\"Lowriders to the Center of the Earth (Lowriders in Space #2)\"],[\"Love Is a Mix Tape (Music #1)\"],[\"Looking for Lovely: Collecting the Moments that Matter\"],[\"Living Leadership by Insight: A Good Leader Achieves, a Great Leader Builds Monuments\"],[\"Let It Out: A Journey Through Journaling\"],[\"Lady Midnight (The Dark Artifices #1)\"],[\"It's All Easy: Healthy, Delicious Weeknight Meals in under 30 Minutes\"],[\"Island of Dragons (Unwanteds #7)\"],[\"I Know What I'm Doing -- and Other Lies I Tell Myself: Dispatches from a Life Under Construction\"],[\"I Am Pilgrim (Pilgrim #1)\"],[\"Hyperbole and a Half: Unfortunate Situations, Flawed Coping Mechanisms, Mayhem, and Other Things That Happened\"],[\"Hush, Hush (Hush, Hush #1)\"],[\"Hold Your Breath (Search and Rescue #1)\"],[\"Hamilton: The Revolution\"],[\"Greek Mythic History\"],[\"God: The Most Unpleasant Character in All Fiction\"],[\"Glory over Everything: Beyond The Kitchen House\"],[\"Feathers: Displays of Brilliant Plumage\"],[\"Far & Away: Places on the Brink of Change: Seven Continents, Twenty-Five Years\"],[\"Every Last Word\"],[\"Eligible (The Austen Project #4)\"],[\"El Deafo\"],[\"Eight Hundred Grapes\"],[\"Eaternity: More than 150 Deliciously Easy Vegan Recipes for a Long, Healthy, Satisfied, Joyful Life\"],[\"Eat Fat, Get Thin\"],[\"Don't Get Caught\"],[\"Doctor Sleep (The Shining #2)\"],[\"Demigods & Magicians: Percy and Annabeth Meet the Kanes (Percy Jackson & Kane Chronicles Crossover #1-3)\"],[\"Dear Mr. Knightley\"],[\"Daily Fantasy Sports\"],[\"Crazy Love: Overwhelmed by a Relentless God\"],[\"Cometh the Hour (The Clifton Chronicles #6)\"],[\"Code Name Verity (Code Name Verity #1)\"],[\"Clockwork Angel (The Infernal Devices #1)\"],[\"City of Glass (The Mortal Instruments #3)\"],[\"City of Fallen Angels (The Mortal Instruments #4)\"],[\"City of Bones (The Mortal Instruments #1)\"],[\"City of Ashes (The Mortal Instruments #2)\"],[\"Cell\"],[\"Catching Jordan (Hundred Oaks)\"],[\"Carry On, Warrior: Thoughts on Life Unarmed\"],[\"Carrie\"],[\"Buying In: The Secret Dialogue Between What We Buy and Who We Are\"],[\"Brain on Fire: My Month of Madness\"],[\"Batman: Europa\"],[\"Barefoot Contessa Back to Basics\"],[\"Barefoot Contessa at Home: Everyday Recipes You'll Make Over and Over Again\"],[\"Balloon Animals\"],[\"Art Ops Vol. 1\"],[\"Aristotle and Dante Discover the Secrets of the Universe (Aristotle and Dante Discover the Secrets of the Universe #1)\"],[\"Angels Walking (Angels Walking #1)\"],[\"Angels & Demons (Robert Langdon #1)\"],[\"All the Light We Cannot See\"],[\"Adulthood Is a Myth: A \\\"Sarah's Scribbles\\\" Collection\"],[\"Abstract City\"],[\"A Time of Torment (Charlie Parker #14)\"],[\"A Study in Scarlet (Sherlock Holmes #1)\"],[\"A Series of Catastrophes and Miracles: A True Story of Love, Science, and Cancer\"],[\"A People's History of the United States\"],[\"A Man Called Ove\"],[\"A Distant Mirror: The Calamitous 14th Century\"],[\"A Brush of Wings (Angels Walking #3)\"],[\"1491: New Revelations of the Americas Before Columbus\"],[\"The Three Searches, Meaning, and the Story\"],[\"Searching for Meaning in Gailana\"],[\"Rook\"],[\"My Kitchen Year: 136 Recipes That Saved My Life\"],[\"13 Hours: The Inside Account of What Really Happened In Benghazi\"],[\"Will You Won't You Want Me?\"],[\"Tipping Point for Planet Earth: How Close Are We to the Edge?\"],[\"The Star-Touched Queen\"],[\"The Silent Sister (Riley MacPherson #1)\"],[\"The Midnight Watch: A Novel of the Titanic and the Californian\"],[\"The Lonely City: Adventures in the Art of Being Alone\"],[\"The Gray Rhino: How to Recognize and Act on the Obvious Dangers We Ignore\"],[\"The Golden Condom: And Other Essays on Love Lost and Found\"],[\"The Epidemic (The Program 0.6)\"],[\"The Dinner Party\"],[\"The Diary of a Young Girl\"],[\"The Children\"],[\"Stars Above (The Lunar Chronicles #4.5)\"],[\"Snatched: How A Drug Queen Went Undercover for the DEA and Was Kidnapped By Colombian Guerillas\"],[\"Raspberry Pi Electronics Projects for the Evil Genius\"],[\"Quench Your Own Thirst: Business Lessons Learned Over a Beer or Two\"],[\"Psycho: Sanitarium (Psycho #1.5)\"],[\"Poisonous (Max Revere Novels #3)\"],[\"One with You (Crossfire #5)\"],[\"No Love Allowed (Dodge Cove #1)\"],[\"Murder at the 42nd Street Library (Raymond Ambler #1)\"],[\"Most Wanted\"],[\"Love, Lies and Spies\"],[\"How to Speak Golf: An Illustrated Guide to Links Lingo\"],[\"Hide Away (Eve Duncan #20)\"],[\"Furiously Happy: A Funny Book About Horrible Things\"],[\"Everyday Italian: 125 Simple and Delicious Recipes\"],[\"Equal Is Unfair: America's Misguided Fight Against Income Inequality\"],[\"Eleanor & Park\"],[\"Dirty (Dive Bar #1)\"],[\"Can You Keep a Secret? (Fear Street Relaunch #4)\"],[\"Boar Island (Anna Pigeon #19)\"],[\"A Paris Apartment\"],[\"A la Mode: 120 Recipes in 60 Pairings: Pies, Tarts, Cakes, Crisps, and More Topped with Ice Cream, Gelato, Frozen Custard, and More\"],[\"Troublemaker: Surviving Hollywood and Scientology\"],[\"The Widow\"],[\"The Sleep Revolution: Transforming Your Life, One Night at a Time\"],[\"The Improbability of Love\"],[\"The Art of Startup Fundraising\"],[\"Take Me Home Tonight (Rock Star Romance #3)\"],[\"Sleeping Giants (Themis Files #1)\"],[\"Setting the World on Fire: The Brief, Astonishing Life of St. Catherine of Siena\"],[\"Playing with Fire\"],[\"Off the Hook (Fishing for Trouble #1)\"],[\"Mothering Sunday\"],[\"Mother, Can You Not?\"],[\"M Train\"],[\"Lilac Girls\"],[\"Lies and Other Acts of Love\"],[\"Lab Girl\"],[\"Keep Me Posted\"],[\"It Didn't Start with You: How Inherited Family Trauma Shapes Who We Are and How to End the Cycle\"],[\"Grey (Fifty Shades #4)\"],[\"Exit, Pursued by a Bear\"],[\"Daredevils\"],[\"Cravings: Recipes for What You Want to Eat\"],[\"Born for This: How to Find the Work You Were Meant to Do\"],[\"Arena\"],[\"Adultery\"],[\"A Mother's Reckoning: Living in the Aftermath of Tragedy\"],[\"A Gentleman's Position (Society of Gentlemen #3)\"],[\"11/22/63\"],[\"10% Happier: How I Tamed the Voice in My Head, Reduced Stress Without Losing My Edge, and Found Self-Help That Actually Works\"],[\"10-Day Green Smoothie Cleanse: Lose Up to 15 Pounds in 10 Days!\"],[\"Without Shame\"],[\"Watchmen\"],[\"Unlimited Intuition Now\"],[\"Underlying Notes\"],[\"The Shack\"],[\"The New Brand You: Your New Image Makes the Sale for You\"],[\"The Moosewood Cookbook: Recipes from Moosewood Restaurant, Ithaca, New York\"],[\"The Flowers Lied\"],[\"The Fabric of the Cosmos: Space, Time, and the Texture of Reality\"],[\"The Book of Mormon\"],[\"The Art and Science of Low Carbohydrate Living\"],[\"The Alien Club\"],[\"Suzie Snowflake: One beautiful flake (a self-esteem story)\"],[\"Nap-a-Roo\"],[\"NaNo What Now? Finding your editing process, revising your NaNoWriMo book and building a writing career through publishing and beyond\"],[\"Modern Day Fables\"],[\"If I Gave You God's Phone Number....: Searching for Spirituality in America\"],[\"Fruits Basket, Vol. 9 (Fruits Basket #9)\"],[\"Dress Your Family in Corduroy and Denim\"],[\"Don't Forget Steven\"],[\"Chernobyl 01:23:40: The Incredible True Story of the World's Worst Nuclear Disaster\"],[\"Art and Fear: Observations on the Perils (and Rewards) of Artmaking\"],[\"A Shard of Ice (The Black Symphony Saga #1)\"],[\"A Hero's Curse (The Unseen Chronicles #1)\"],[\"23 Degrees South: A Tropical Tale of Changing Whether...\"],[\"Zero to One: Notes on Startups, or How to Build the Future\"],[\"Why Not Me?\"],[\"When Breath Becomes Air\"],[\"Vagabonding: An Uncommon Guide to the Art of Long-Term World Travel\"],[\"The Unlikely Pilgrimage of Harold Fry (Harold Fry #1)\"],[\"The New Drawing on the Right Side of the Brain\"],[\"The Midnight Assassin: Panic, Scandal, and the Hunt for America's First Serial Killer\"],[\"The Martian (The Martian #1)\"],[\"The High Mountains of Portugal\"],[\"The Grownup\"],[\"The E-Myth Revisited: Why Most Small Businesses Don't Work and What to Do About It\"],[\"South of Sunshine\"],[\"Smarter Faster Better: The Secrets of Being Productive in Life and Business\"],[\"Silence in the Dark (Logan Point #4)\"],[\"Shadows of the Past (Logan Point #1)\"],[\"Roller Girl\"],[\"Rising Strong\"],[\"Proofs of God: Classical Arguments from Tertullian to Barth\"],[\"Please Kill Me: The Uncensored Oral History of Punk\"],[\"Out of Print: City Lights Spotlight No. 14\"],[\"My Life Next Door (My Life Next Door )\"],[\"Miller's Valley\"],[\"Man's Search for Meaning\"],[\"Love That Boy: What Two Presidents, Eight Road Trips, and My Son Taught Me About a Parent's Expectations\"],[\"Living Forward: A Proven Plan to Stop Drifting and Get the Life You Want\"],[\"Les Fleurs du Mal\"],[\"Left Behind (Left Behind #1)\"],[\"Kill 'Em and Leave: Searching for James Brown and the American Soul\"],[\"Kierkegaard: A Christian Missionary to Christians\"],[\"John Vassos: Industrial Design for Modern Life\"],[\"I'll Give You the Sun\"],[\"I Will Find You\"],[\"Hystopia: A Novel\"],[\"Howl and Other Poems\"],[\"History of Beauty\"],[\"Heaven is for Real: A Little Boy's Astounding Story of His Trip to Heaven and Back\"],[\"Future Shock (Future Shock #1)\"],[\"Ender's Game (The Ender Quintet #1)\"],[\"Diary of a Citizen Scientist: Chasing Tiger Beetles and Other New Ways of Engaging the World\"],[\"Death by Leisure: A Cautionary Tale\"],[\"Brilliant Beacons: A History of the American Lighthouse\"],[\"Brazen: The Courage to Find the You That's Been Hiding\"],[\"Between the World and Me\"],[\"Being Mortal: Medicine and What Matters in the End\"],[\"A Murder Over a Girl: Justice, Gender, Junior High\"],[\"32 Yolks\"],[\"\\\"Most Blessed of the Patriarchs\\\": Thomas Jefferson and the Empire of the Imagination\"],[\"You Are a Badass: How to Stop Doubting Your Greatness and Start Living an Awesome Life\"],[\"Wildlife of New York: A Five-Borough Coloring Book\"],[\"What Happened on Beale Street (Secrets of the South Mysteries #2)\"],[\"Unreasonable Hope: Finding Faith in the God Who Brings Purpose to Your Pain\"],[\"Under the Tuscan Sun\"],[\"Toddlers Are A**holes: It's Not Your Fault\"],[\"The Year of Living Biblically: One Man's Humble Quest to Follow the Bible as Literally as Possible\"],[\"The Whale\"],[\"The Story of Art\"],[\"The Origin of Species\"],[\"The Great Gatsby\"],[\"The Good Girl\"],[\"The Glass Castle\"],[\"The Faith of Christopher Hitchens: The Restless Soul of the World's Most Notorious Atheist\"],[\"The Drowning Girls\"],[\"The Constant Princess (The Tudor Court #1)\"],[\"The Bourne Identity (Jason Bourne #1)\"],[\"The Bachelor Girl's Guide to Murder (Herringford and Watts Mysteries #1)\"],[\"The Art Book\"],[\"The 7 Habits of Highly Effective People: Powerful Lessons in Personal Change\"],[\"Team of Rivals: The Political Genius of Abraham Lincoln\"],[\"Steal Like an Artist: 10 Things Nobody Told You About Being Creative\"],[\"Sit, Stay, Love\"],[\"Sister Dear\"],[\"Shrunken Treasures: Literary Classics, Short, Sweet, and Silly\"],[\"Rich Dad, Poor Dad\"],[\"Raymie Nightingale\"],[\"Playing from the Heart\"],[\"Nightstruck: A Novel\"],[\"Naturally Lean: 125 Nourishing Gluten-Free, Plant-Based Recipes--All Under 300 Calories\"],[\"Meternity\"],[\"Memoirs of a Geisha\"],[\"Like Never Before (Walker Family #2)\"],[\"Life of Pi\"],[\"Leave This Song Behind: Teen Poetry at Its Best\"],[\"King's Folly (The Kinsman Chronicles #1)\"],[\"John Adams\"],[\"How to Cook Everything Vegetarian: Simple Meatless Recipes for Great Food (How to Cook Everything)\"],[\"How to Be a Domestic Goddess: Baking and the Art of Comfort Cooking\"],[\"Good in Bed (Cannie Shapiro #1)\"],[\"Fruits Basket, Vol. 7 (Fruits Basket #7)\"],[\"For the Love: Fighting for Grace in a World of Impossible Standards\"],[\"Finding God in the Ruins: How God Redeems Pain\"],[\"Every Heart a Doorway (Every Heart A Doorway #1)\"],[\"Delivering the Truth (Quaker Midwife Mystery #1)\"],[\"Counted With the Stars (Out from Egypt #1)\"],[\"Chronicles, Vol. 1\"],[\"Blue Like Jazz: Nonreligious Thoughts on Christian Spirituality\"],[\"Benjamin Franklin: An American Life\"],[\"At The Existentialist Caf\\u00c3\\u00a9: Freedom, Being, and apricot cocktails with: Jean-Paul Sartre, Simone de Beauvoir, Albert Camus, Martin Heidegger, Edmund Husserl, Karl Jaspers, Maurice Merleau-Ponty and others\"],[\"A Summer In Europe\"],[\"A Short History of Nearly Everything\"],[\"A Gathering of Shadows (Shades of Magic #2)\"],[\"The Sound Of Love\"],[\"The Rise and Fall of the Third Reich: A History of Nazi Germany\"],[\"The Perks of Being a Wallflower\"],[\"The Mysterious Affair at Styles (Hercule Poirot #1)\"],[\"The Man Who Mistook His Wife for a Hat and Other Clinical Tales\"],[\"The Makings of a Fatherless Child\"],[\"The Joy of Cooking\"],[\"The Invention of Wings\"],[\"The Hobbit (Middle-Earth Universe)\"],[\"The Great Railway Bazaar\"],[\"The Golden Compass (His Dark Materials #1)\"],[\"The God Delusion\"],[\"The Girl You Left Behind (The Girl You Left Behind #1)\"],[\"The Fellowship of the Ring (The Lord of the Rings #1)\"],[\"The Collected Poems of W.B. Yeats (The Collected Works of W.B. Yeats #1)\"],[\"The Barefoot Contessa Cookbook\"],[\"Tell the Wolves I'm Home\"],[\"Ship Leaves Harbor: Essays on Travel by a Recovering Journeyman\"],[\"Pride and Prejudice\"],[\"Musicophilia: Tales of Music and the Brain\"],[\"Mere Christianity\"],[\"Me Before You (Me Before You #1)\"],[\"In the Woods (Dublin Murder Squad #1)\"],[\"In Cold Blood\"],[\"How to Stop Worrying and Start Living\"],[\"Give It Back\"],[\"Girl, Interrupted\"],[\"Fun Home: A Family Tragicomic\"],[\"Fruits Basket, Vol. 6 (Fruits Basket #6)\"],[\"Deception Point\"],[\"Death Note, Vol. 6: Give-and-Take (Death Note #6)\"],[\"Catherine the Great: Portrait of a Woman\"],[\"Better Homes and Gardens New Cook Book\"],[\"An Unquiet Mind: A Memoir of Moods and Madness\"],[\"A Year in Provence (Provence #1)\"],[\"World Without End (The Pillars of the Earth #2)\"],[\"Will Grayson, Will Grayson (Will Grayson, Will Grayson)\"],[\"Why Save the Bankers?: And Other Essays on Our Economic and Political Crisis\"],[\"Where She Went (If I Stay #2)\"],[\"What If?: Serious Scientific Answers to Absurd Hypothetical Questions\"],[\"Two Summers\"],[\"This Is Your Brain on Music: The Science of a Human Obsession\"],[\"The Secret Garden\"],[\"The Raven King (The Raven Cycle #4)\"],[\"The Raven Boys (The Raven Cycle #1)\"],[\"The Power Greens Cookbook: 140 Delicious Superfood Recipes\"],[\"The Metamorphosis\"],[\"The Mathews Men: Seven Brothers and the War Against Hitler's U-boats\"],[\"The Little Paris Bookshop\"],[\"The Hiding Place\"],[\"The Grand Design\"],[\"The Firm\"],[\"The Fault in Our Stars\"],[\"The False Prince (The Ascendance Trilogy #1)\"],[\"The Expatriates\"],[\"The Dream Thieves (The Raven Cycle #2)\"],[\"The Darkest Corners\"],[\"The Crossover\"],[\"The 5th Wave (The 5th Wave #1)\"],[\"Tell the Wind and Fire\"],[\"Tell Me Three Things\"],[\"Talking to Girls About Duran Duran: One Young Man's Quest for True Love and a Cooler Haircut\"],[\"Siddhartha\"],[\"Shiver (The Wolves of Mercy Falls #1)\"],[\"Remember Me?\"],[\"Red Dragon (Hannibal Lecter #1)\"],[\"Peak: Secrets from the New Science of Expertise\"],[\"My Mother Was Nuts\"],[\"Mexican Today: New and Rediscovered Recipes for Contemporary Kitchens\"],[\"Maybe Something Beautiful: How Art Transformed a Neighborhood\"],[\"Lola and the Boy Next Door (Anna and the French Kiss #2)\"],[\"Logan Kade (Fallen Crest High #5.5)\"],[\"Last One Home (New Beginnings #1)\"],[\"Killing Floor (Jack Reacher #1)\"],[\"Kill the Boy Band\"],[\"Isla and the Happily Ever After (Anna and the French Kiss #3)\"],[\"If I Stay (If I Stay #1)\"],[\"I Know Why the Caged Bird Sings (Maya Angelou's Autobiography #1)\"],[\"Harry Potter and the Deathly Hallows (Harry Potter #7)\"],[\"Fruits Basket, Vol. 5 (Fruits Basket #5)\"],[\"Foundation (Foundation (Publication Order) #1)\"],[\"Fool Me Once\"],[\"Find Her (Detective D.D. Warren #8)\"],[\"Evicted: Poverty and Profit in the American City\"],[\"Drama\"],[\"Dracula the Un-Dead\"],[\"Digital Fortress\"],[\"Death Note, Vol. 5: Whiteout (Death Note #5)\"],[\"Data, A Love Story: How I Gamed Online Dating to Meet My Match\"],[\"Critique of Pure Reason\"],[\"Booked\"],[\"Blue Lily, Lily Blue (The Raven Cycle #3)\"],[\"Approval Junkie: Adventures in Caring Too Much\"],[\"An Abundance of Katherines\"],[\"America's War for the Greater Middle East: A Military History\"],[\"Alight (The Generations Trilogy #2)\"],[\"A Girl's Guide to Moving On (New Beginnings #2)\"],[\"A Game of Thrones (A Song of Ice and Fire #1)\"],[\"A Feast for Crows (A Song of Ice and Fire #4)\"],[\"A Clash of Kings (A Song of Ice and Fire #2)\"],[\"Vogue Colors A to Z: A Fashion Coloring Book\"],[\"The Shining (The Shining #1)\"],[\"The Pilgrim's Progress\"],[\"The Perfect Play (Play by Play #1)\"],[\"The Passion of Dolssa\"],[\"The Jazz of Physics: The Secret Link Between Music and the Structure of the Universe\"],[\"The Hunger Games (The Hunger Games #1)\"],[\"The Hound of the Baskervilles (Sherlock Holmes #5)\"],[\"The Gunning of America: Business and the Making of American Gun Culture\"],[\"The Geography of Bliss: One Grump's Search for the Happiest Places in the World\"],[\"The Demonists (Demonist #1)\"],[\"The Demon Prince of Momochi House, Vol. 4 (The Demon Prince of Momochi House #4)\"],[\"The Bone Hunters (Lexy Vaughan & Steven Macaulay #2)\"],[\"The Beast (Black Dagger Brotherhood #14)\"],[\"Some Women\"],[\"Shopaholic Ties the Knot (Shopaholic #3)\"],[\"Paper and Fire (The Great Library #2)\"],[\"Outlander (Outlander #1)\"],[\"Orchestra of Exiles: The Story of Bronislaw Huberman, the Israel Philharmonic, and the One Thousand Jews He Saved from Nazi Horrors\"],[\"No One Here Gets Out Alive\"],[\"Night Shift (Night Shift #1-20)\"],[\"Needful Things\"],[\"Mockingjay (The Hunger Games #3)\"],[\"Misery\"],[\"Little Women (Little Women #1)\"],[\"It\"],[\"Harry Potter and the Sorcerer's Stone (Harry Potter #1)\"],[\"Harry Potter and the Prisoner of Azkaban (Harry Potter #3)\"],[\"Harry Potter and the Order of the Phoenix (Harry Potter #5)\"],[\"Harry Potter and the Half-Blood Prince (Harry Potter #6)\"],[\"Harry Potter and the Chamber of Secrets (Harry Potter #2)\"],[\"Gone with the Wind\"],[\"God Is Not Great: How Religion Poisons Everything\"],[\"Girl With a Pearl Earring\"],[\"Fruits Basket, Vol. 4 (Fruits Basket #4)\"],[\"Far From True (Promise Falls Trilogy #2)\"],[\"Dark Lover (Black Dagger Brotherhood #1)\"],[\"Confessions of a Shopaholic (Shopaholic #1)\"],[\"Changing the Game (Play by Play #2)\"],[\"Candide\"],[\"Can You Keep a Secret?\"],[\"Atlas Shrugged\"],[\"Animal Farm\"],[\"A Walk to Remember\"],[\"A New Earth: Awakening to Your Life's Purpose\"],[\"A History of God: The 4,000-Year Quest of Judaism, Christianity, and Islam\"],[\"'Salem's Lot\"],[\"Zero History (Blue Ant #3)\"],[\"Wuthering Heights\"],[\"World War Z: An Oral History of the Zombie War\"],[\"Wild: From Lost to Found on the Pacific Crest Trail\"],[\"Where'd You Go, Bernadette\"],[\"When You Are Engulfed in Flames\"],[\"We the People: The Modern-Day Figures Who Have Reshaped and Affirmed the Founding Fathers' Vision of America\"],[\"We Are All Completely Beside Ourselves\"],[\"Walk the Edge (Thunder Road #2)\"],[\"Voyager (Outlander #3)\"],[\"Very Good Lives: The Fringe Benefits of Failure and the Importance of Imagination\"],[\"Vegan Vegetarian Omnivore: Dinner for Everyone at the Table\"],[\"Unstuffed: Decluttering Your Home, Mind, and Soul\"],[\"Under the Banner of Heaven: A Story of Violent Faith\"],[\"Two Boys Kissing\"],[\"Twilight (Twilight #1)\"],[\"Twenties Girl\"],[\"Trespassing Across America: One Man's Epic, Never-Done-Before (and Sort of Illegal) Hike Across the Heartland\"],[\"Three-Martini Lunch\"],[\"Thinking, Fast and Slow\"],[\"The Wild Robot\"],[\"The Wicked + The Divine, Vol. 3: Commercial Suicide (The Wicked + The Divine)\"],[\"The Undomestic Goddess\"],[\"The Travelers\"],[\"The Tipping Point: How Little Things Can Make a Big Difference\"],[\"The Thing About Jellyfish\"],[\"The Stand\"],[\"The Smitten Kitchen Cookbook\"],[\"The Silkworm (Cormoran Strike #2)\"],[\"The Sandman, Vol. 3: Dream Country (The Sandman (volumes) #3)\"],[\"The Rose & the Dagger (The Wrath and the Dawn #2)\"],[\"The Road to Little Dribbling: Adventures of an American in Britain (Notes From a Small Island #2)\"],[\"The Rise of Theodore Roosevelt (Theodore Roosevelt #1)\"],[\"The Restaurant at the End of the Universe (Hitchhiker's Guide to the Galaxy #2)\"],[\"The Rest Is Noise: Listening to the Twentieth Century\"],[\"The Red Tent\"],[\"The Purpose Driven Life: What on Earth Am I Here for?\"],[\"The Purest Hook (Second Circle Tattoos #3)\"],[\"The Picture of Dorian Gray\"],[\"The Paris Wife\"],[\"The Obsession\"],[\"The Nightingale\"],[\"The New Guy (and Other Senior Year Distractions)\"],[\"The Nanny Diaries (Nanny #1)\"],[\"The Name of God is Mercy\"],[\"The Maze Runner (The Maze Runner #1)\"],[\"The Lover's Dictionary\"],[\"The Lonely Ones\"],[\"The Lean Startup: How Today's Entrepreneurs Use Continuous Innovation to Create Radically Successful Businesses\"],[\"The Last Painting of Sara de Vos\"],[\"The Land of 10,000 Madonnas\"],[\"The Infinities\"],[\"The Husband's Secret\"],[\"The Hitchhiker's Guide to the Galaxy (Hitchhiker's Guide to the Galaxy #1)\"],[\"The Guns of August\"],[\"The Guernsey Literary and Potato Peel Pie Society\"],[\"The Goldfinch\"],[\"The Giver (The Giver Quartet #1)\"],[\"The Girl with All the Gifts\"],[\"The Girl Who Played with Fire (Millennium Trilogy #2)\"],[\"The Girl Who Kicked the Hornet's Nest (Millennium Trilogy #3)\"],[\"The Exiled\"],[\"The End of Faith: Religion, Terror, and the Future of Reason\"],[\"The Elegant Universe: Superstrings, Hidden Dimensions, and the Quest for the Ultimate Theory\"],[\"The Disappearing Spoon: And Other True Tales of Madness, Love, and the History of the World from the Periodic Table of the Elements\"],[\"The Devil Wears Prada (The Devil Wears Prada #1)\"],[\"The Demon-Haunted World: Science as a Candle in the Dark\"],[\"The Day the Crayons Came Home (Crayons)\"],[\"The Da Vinci Code (Robert Langdon #2)\"],[\"The Cuckoo's Calling (Cormoran Strike #1)\"],[\"The Complete Stories and Poems (The Works of Edgar Allan Poe [Cameo Edition])\"],[\"The Complete Poems\"],[\"The Catcher in the Rye\"],[\"The Cat in the Hat (Beginner Books B-1)\"],[\"The Case for Christ (Cases for Christianity)\"],[\"The Book Thief\"],[\"The Book of Basketball: The NBA According to The Sports Guy\"],[\"The Blind Side: Evolution of a Game\"],[\"The Autobiography of Malcolm X\"],[\"The Art of Simple Food: Notes, Lessons, and Recipes from a Delicious Revolution\"],[\"The Art of Fielding\"],[\"Surely You're Joking, Mr. Feynman!: Adventures of a Curious Character\"],[\"Stiff: The Curious Lives of Human Cadavers\"],[\"Spilled Milk: Based on a True Story\"],[\"Something Borrowed (Darcy & Rachel #1)\"],[\"Something Blue (Darcy & Rachel #2)\"],[\"Soldier (Talon #3)\"],[\"Shopaholic & Baby (Shopaholic #5)\"],[\"Seven Days in the Art World\"],[\"Seven Brief Lessons on Physics\"],[\"Scarlet (The Lunar Chronicles #2)\"],[\"Sarah's Key\"],[\"Saga, Volume 3 (Saga (Collected Editions) #3)\"],[\"Running with Scissors\"],[\"Rogue Lawyer (Rogue Lawyer #1)\"],[\"Rise of the Rocket Girls: The Women Who Propelled Us, from Missiles to the Moon to Mars\"],[\"Rework\"],[\"Reservations for Two\"],[\"Red: The True Story of Red Riding Hood\"],[\"Ready Player One\"],[\"Quiet: The Power of Introverts in a World That Can't Stop Talking\"],[\"Prodigy: The Graphic Novel (Legend: The Graphic Novel #2)\"],[\"Persepolis: The Story of a Childhood (Persepolis #1-2)\"],[\"Packing for Mars: The Curious Science of Life in the Void\"],[\"Outliers: The Story of Success\"],[\"Original Fake\"],[\"Orange Is the New Black\"],[\"One for the Money (Stephanie Plum #1)\"],[\"Notes from a Small Island (Notes From a Small Island #1)\"],[\"Night (The Night Trilogy #1)\"],[\"Neither Here nor There: Travels in Europe\"],[\"Naked\"],[\"Morning Star (Red Rising #3)\"],[\"Miracles from Heaven: A Little Girl, Her Journey to Heaven, and Her Amazing Story of Healing\"],[\"Midnight Riot (Peter Grant/ Rivers of London - books #1)\"],[\"Me Talk Pretty One Day\"],[\"Manuscript Found in Accra\"],[\"Lust & Wonder\"],[\"Lila (Gilead #3)\"],[\"Life, the Universe and Everything (Hitchhiker's Guide to the Galaxy #3)\"],[\"Life Without a Recipe\"],[\"Life After Life\"],[\"Letter to a Christian Nation\"],[\"Let's Pretend This Never Happened: A Mostly True Memoir\"],[\"Legend (Legend #1)\"],[\"Lean In: Women, Work, and the Will to Lead\"],[\"Lamb: The Gospel According to Biff, Christ's Childhood Pal\"],[\"Lady Renegades (Rebel Belle #3)\"],[\"Jurassic Park (Jurassic Park #1)\"],[\"It's Never Too Late to Begin Again: Discovering Creativity and Meaning at Midlife and Beyond\"],[\"Is Everyone Hanging Out Without Me? (And Other Concerns)\"],[\"Into the Wild\"],[\"Inferno (Robert Langdon #4)\"],[\"In the Garden of Beasts: Love, Terror, and an American Family in Hitler's Berlin\"],[\"If I Run (If I Run #1)\"],[\"I've Got Your Number\"],[\"I Am Malala: The Girl Who Stood Up for Education and Was Shot by the Taliban\"],[\"Hungry Girl Clean & Hungry: Easy All-Natural Recipes for Healthy Eating in the Real World\"],[\"House of Lost Worlds: Dinosaurs, Dynasties, and the Story of Life on Earth\"],[\"House of Leaves\"],[\"Horrible Bear!\"],[\"Holidays on Ice\"],[\"Heir to the Sky\"],[\"Green Eggs and Ham (Beginner Books B-16)\"],[\"Grayson, Vol 3: Nemesis (Grayson #3)\"],[\"Gratitude\"],[\"Gone Girl\"],[\"Golden (Heart of Dread #3)\"],[\"Girl in the Blue Coat\"],[\"Fruits Basket, Vol. 3 (Fruits Basket #3)\"],[\"Friday Night Lights: A Town, a Team, and a Dream\"],[\"Fire Bound (Sea Haven/Sisters of the Heart #5)\"],[\"Fifty Shades Freed (Fifty Shades #3)\"],[\"Fellside\"],[\"Extreme Prey (Lucas Davenport #26)\"],[\"Eragon (The Inheritance Cycle #1)\"],[\"Eclipse (Twilight #3)\"],[\"Dune (Dune #1)\"],[\"Dracula\"],[\"Do Androids Dream of Electric Sheep? (Blade Runner #1)\"],[\"Disrupted: My Misadventure in the Start-Up Bubble\"],[\"Dead Wake: The Last Crossing of the Lusitania\"],[\"David and Goliath: Underdogs, Misfits, and the Art of Battling Giants\"],[\"Darkfever (Fever #1)\"],[\"Dark Places\"],[\"Crazy Rich Asians (Crazy Rich Asians #1)\"],[\"Counting Thyme\"],[\"Cosmos\"],[\"Civilization and Its Discontents\"],[\"Cinder (The Lunar Chronicles #1)\"],[\"Catastrophic Happiness: Finding Joy in Childhood's Messy Years\"],[\"Career of Evil (Cormoran Strike #3)\"],[\"Breaking Dawn (Twilight #4)\"],[\"Brave Enough\"],[\"Boy Meets Boy\"],[\"Born to Run: A Hidden Tribe, Superathletes, and the Greatest Race the World Has Never Seen\"],[\"Blink: The Power of Thinking Without Thinking\"],[\"Black Flags: The Rise of ISIS\"],[\"Black Butler, Vol. 1 (Black Butler #1)\"],[\"Big Little Lies\"],[\"Between Shades of Gray\"],[\"Best of My Love (Fool's Gold #20)\"],[\"Beowulf\"],[\"Beautiful Creatures (Caster Chronicles #1)\"],[\"Awkward\"],[\"Ash\"],[\"Are We There Yet?\"],[\"Are We Smart Enough to Know How Smart Animals Are?\"],[\"Annie on My Mind\"],[\"And Then There Were None\"],[\"A Walk in the Woods: Rediscovering America on the Appalachian Trail\"],[\"A Visit from the Goon Squad\"],[\"A Storm of Swords (A Song of Ice and Fire #3)\"],[\"A Heartbreaking Work of Staggering Genius\"],[\"8 Keys to Mental Health Through Exercise\"],[\"#GIRLBOSS\"],[\"The Suffragettes (Little Black Classics, #96)\"],[\"The Sense of an Ending\"],[\"The Sandman, Vol. 2: The Doll's House (The Sandman (volumes) #2)\"],[\"The Course of Love\"],[\"Sugar Rush (Offensive Line #2)\"],[\"Saga, Volume 2 (Saga (Collected Editions) #2)\"],[\"Run, Spot, Run: The Ethics of Keeping Pets\"],[\"New Moon (Twilight #2)\"],[\"Life\"],[\"Kindle Paperwhite User's Guide\"],[\"H is for Hawk\"],[\"Girl Online On Tour (Girl Online #2)\"],[\"Fruits Basket, Vol. 2 (Fruits Basket #2)\"],[\"Diary of a Minecraft Zombie Book 1: A Scare of a Dare (An Unofficial Minecraft Book)\"],[\"Y: The Last Man, Vol. 1: Unmanned (Y: The Last Man #1)\"],[\"While You Were Mine\"],[\"Where Lightning Strikes (Bleeding Stars #3)\"],[\"When I'm Gone\"],[\"Ways of Seeing\"],[\"Vampire Knight, Vol. 1 (Vampire Knight #1)\"],[\"Vampire Girl (Vampire Girl #1)\"],[\"Twenty Love Poems and a Song of Despair\"],[\"Travels with Charley: In Search of America\"],[\"Three Wishes (River of Time: California #1)\"],[\"This One Moment (Pushing Limits #1)\"],[\"The Zombie Room\"],[\"The Wicked + The Divine, Vol. 1: The Faust Act (The Wicked + The Divine)\"],[\"The Tumor\"],[\"The Story of Hong Gildong\"],[\"The Silent Wife\"],[\"The Silent Twin (Detective Jennifer Knight #3)\"],[\"The Selfish Gene\"],[\"The Secret Healer\"],[\"The Sandman, Vol. 1: Preludes and Nocturnes (The Sandman (volumes) #1)\"],[\"The Republic\"],[\"The Odyssey\"],[\"The No. 1 Ladies' Detective Agency (No. 1 Ladies' Detective Agency #1)\"],[\"The Nicomachean Ethics\"],[\"The Name of the Wind (The Kingkiller Chronicle #1)\"],[\"The Mirror & the Maze (The Wrath and the Dawn #1.5)\"],[\"The Little Prince\"],[\"The Light of the Fireflies\"],[\"The Last Girl (The Dominion Trilogy #1)\"],[\"The Iliad\"],[\"The Hook Up (Game On #1)\"],[\"The Haters\"],[\"The Girl You Lost\"],[\"The Girl In The Ice (DCI Erika Foster #1)\"],[\"The End of the Jesus Era (An Investigation #1)\"],[\"The Edge of Reason (Bridget Jones #2)\"],[\"The Complete Maus (Maus #1-2)\"],[\"The Communist Manifesto\"],[\"The Bhagavad Gita\"],[\"The Bette Davis Club\"],[\"The Art of Not Breathing\"],[\"Taking Shots (Assassins #1)\"],[\"Starlark\"],[\"Skip Beat!, Vol. 01 (Skip Beat! #1)\"],[\"Sister Sable (The Mad Queen #1)\"],[\"Shatter Me (Shatter Me #1)\"],[\"Shameless\"],[\"Shadow Rites (Jane Yellowrock #10)\"],[\"Settling the Score (The Summer Games #1)\"],[\"Sense and Sensibility\"],[\"Saga, Volume 1 (Saga (Collected Editions) #1)\"],[\"Rhythm, Chord & Malykhin\"],[\"Rat Queens, Vol. 1: Sass & Sorcery (Rat Queens (Collected Editions) #1-5)\"],[\"Paradise Lost (Paradise #1)\"],[\"Paper Girls, Vol. 1 (Paper Girls #1-5)\"],[\"Ouran High School Host Club, Vol. 1 (Ouran High School Host Club #1)\"],[\"Origins (Alphas 0.5)\"],[\"One Second (Seven #7)\"],[\"On the Road (Duluoz Legend)\"],[\"Old Records Never Die: One Man's Quest for His Vinyl and His Past\"],[\"Off Sides (Off #1)\"],[\"Of Mice and Men\"],[\"Myriad (Prentor #1)\"],[\"My Perfect Mistake (Over the Top #1)\"],[\"Ms. Marvel, Vol. 1: No Normal (Ms. Marvel (2014-2015) #1)\"],[\"Meditations\"],[\"Matilda\"],[\"Lost Among the Living\"],[\"Lord of the Flies\"],[\"Listen to Me (Fusion #1)\"],[\"Kitchens of the Great Midwest\"],[\"Jane Eyre\"],[\"Imperfect Harmony\"],[\"Icing (Aces Hockey #2)\"],[\"Hawkeye, Vol. 1: My Life as a Weapon (Hawkeye #1)\"],[\"Having the Barbarian's Baby (Ice Planet Barbarians #7.5)\"],[\"Giant Days, Vol. 1 (Giant Days #1-4)\"],[\"Fruits Basket, Vol. 1 (Fruits Basket #1)\"],[\"Frankenstein\"],[\"Forever Rockers (The Rocker #12)\"],[\"Fighting Fate (Fighting #6)\"],[\"Emma\"],[\"Eat, Pray, Love\"],[\"Deep Under (Walker Security #1)\"],[\"Choosing Our Religion: The Spiritual Lives of America's Nones\"],[\"Charlie and the Chocolate Factory (Charlie Bucket #1)\"],[\"Charity's Cross (Charles Towne Belles #4)\"],[\"Bright Lines\"],[\"Bridget Jones's Diary (Bridget Jones #1)\"],[\"Bounty (Colorado Mountain #7)\"],[\"Blood Defense (Samantha Brinkman #1)\"],[\"Bleach, Vol. 1: Strawberry and the Soul Reapers (Bleach #1)\"],[\"Beyond Good and Evil\"],[\"Alice in Wonderland (Alice's Adventures in Wonderland #1)\"],[\"Ajin: Demi-Human, Volume 1 (Ajin: Demi-Human #1)\"],[\"A Spy's Devotion (The Regency Spies of London #1)\"],[\"1st to Die (Women's Murder Club #1)\"],[\"1,000 Places to See Before You Die\"]],\"hovertemplate\":\"price=%{x}<br>name=%{customdata[0]}<extra></extra>\",\"legendgroup\":\"\",\"marker\":{\"color\":\"#636efa\"},\"name\":\"\",\"notched\":true,\"offsetgroup\":\"\",\"showlegend\":false,\"x\":[51.77,53.74,50.1,47.82,54.23,22.65,33.34,17.93,22.6,52.15,13.99,20.66,17.46,52.29,35.02,57.25,23.88,37.59,51.33,45.17,12.84,37.32,30.52,25.27,34.53,54.64,22.5,53.13,40.3,44.18,17.66,31.05,23.82,36.89,15.94,33.29,18.02,19.63,52.22,33.63,57.31,26.41,47.61,23.11,45.07,31.77,50.27,14.27,44.18,18.78,25.52,16.28,31.12,19.49,17.27,19.09,56.13,56.41,56.5,45.22,38.16,54.11,42.96,23.89,16.77,20.59,37.13,56.06,58.11,49.05,40.76,19.73,32.24,41.83,39.58,39.25,25.02,51.04,19.83,50.4,13.61,13.34,18.97,36.28,10.16,15.44,48.41,46.35,14.07,14.86,33.37,56.4,14.02,46.91,45.61,19.92,40.11,53.9,35.67,22.0,57.36,29.17,54.63,46.03,33.97,22.11,29.69,15.97,21.96,54.35,37.97,51.99,43.29,36.72,17.08,29.14,28.81,49.46,37.92,28.09,30.81,42.95,56.76,16.64,55.53,28.13,52.37,54.0,21.87,43.3,21.04,41.6,35.07,59.64,52.72,58.08,24.12,42.15,12.61,17.44,33.14,27.37,51.36,36.0,10.65,43.54,38.21,37.34,44.1,43.29,55.85,37.6,10.97,41.82,36.95,44.28,55.02,17.24,23.15,41.25,32.0,38.49,33.34,10.93,27.55,55.99,16.24,26.12,12.23,23.99,29.06,20.27,43.55,36.94,20.47,41.06,14.19,38.28,41.05,30.25,28.26,10.76,16.85,13.47,48.56,19.15,57.36,42.98,22.16,49.43,29.99,21.36,29.0,53.53,41.62,54.59,34.95,37.72,35.61,42.16,19.19,19.43,49.46,37.8,30.8,27.43,11.11,36.5,15.38,15.48,46.82,18.46,36.58,50.54,12.51,24.7,43.61,37.34,14.36,52.65,38.2,19.6,53.9,12.96,37.1,46.31,45.95,22.08,25.38,27.12,43.04,56.8,25.91,32.61,27.88,52.67,46.02,44.48,37.4,54.04,16.88,28.08,10.4,44.07,23.4,17.43,54.21,40.67,52.26,28.77,13.82,25.85,48.78,35.35,44.73,15.77,39.24,13.92,10.69,45.21,45.58,11.89,26.41,39.5,44.74,52.79,35.43,55.84,48.87,46.78,47.82,25.48,23.57,50.89,10.56,52.15,18.28,11.83,21.95,38.39,41.56,24.48,40.36,28.9,37.61,38.85,53.95,49.83,51.51,18.03,29.14,46.91,26.79,16.28,19.55,29.65,25.98,10.6,14.75,47.02,28.82,58.79,10.23,30.03,45.84,49.05,15.06,46.47,27.09,57.62,14.39,51.75,54.07,55.35,40.12,37.51,11.21,36.58,47.72,25.01,22.13,44.14,56.02,11.23,43.28,47.27,20.29,50.83,31.85,46.23,37.8,49.32,32.01,28.01,50.62,17.03,48.8,58.14,34.2,51.48,29.87,10.9,56.37,48.35,16.73,56.48,40.79,39.72,14.58,55.51,21.8,13.33,38.73,37.86,11.53,27.06,13.86,37.55,32.3,46.29,26.2,33.26,59.15,39.43,14.44,56.54,59.9,11.88,48.05,21.21,49.67,43.14,36.97,26.8,15.71,54.65,54.36,35.28,20.55,58.32,11.84,41.46,20.1,56.86,56.51,40.83,48.64,59.48,39.01,38.77,48.39,27.26,11.68,59.45,21.0,53.98,48.74,21.15,13.71,47.67,13.34,16.89,27.18,17.28,45.14,40.85,20.46,56.27,48.49,51.34,16.34,20.5,21.59,21.36,20.88,19.53,14.75,48.48,24.57,49.71,48.27,58.05,58.87,11.82,28.03,44.05,12.34,16.68,55.91,24.57,52.98,54.4,54.81,25.08,10.41,47.44,20.91,33.95,43.68,33.23,35.92,48.63,56.63,50.49,35.79,34.06,17.76,39.36,36.94,43.62,43.02,28.45,41.39,51.15,35.88,36.91,28.93,38.89,58.33,39.67,14.1,21.82,54.21,31.19,53.64,36.39,58.54,29.48,25.06,12.55,29.04,40.72,45.05,47.13,20.22,56.48,44.21,21.96,40.45,10.29,52.86,55.65,43.64,28.41,37.51,11.45,19.22,56.91,55.06,13.2,53.63,44.48,12.08,22.14,25.37,46.33,37.33,25.55,34.72,35.96,41.14,10.01,36.05,49.03,16.24,39.55,35.67,16.62,42.78,52.3,32.34,33.17,20.12,20.9,20.9,40.2,52.87,51.74,34.41,32.38,50.35,11.38,43.58,49.67,28.77,13.22,51.17,39.61,57.43,46.01,28.25,37.05,19.57,45.13,46.64,12.16,20.89,17.97,52.6,25.77,48.19,29.93,44.34,52.4,44.81,57.84,39.67,55.02,24.8,59.45,31.58,43.27,37.34,17.8,30.54,18.77,46.85,15.79,10.27,15.42,59.92,50.96,30.6,19.27,46.58,48.51,19.02,38.38,49.98,46.49,18.32,42.14,56.59,20.96,40.32,36.39,58.55,39.61,21.3,56.88,32.97,47.31,48.67,41.73,53.68,14.64,38.4,15.08,30.57,57.74,11.05,28.58,42.91,24.73,55.91,13.76,45.56,47.22,56.0,44.58,34.5,11.33,38.77,11.83,45.51,41.81,25.15,34.22,16.23,11.48,23.37,16.28,31.63,24.91,22.54,23.63,13.12,59.98,31.49,15.52,48.13,38.13,36.55,23.32,16.33,32.42,16.96,22.37,42.27,38.7,35.63,58.0,52.41,32.35,20.75,17.49,34.13,58.81,10.0,51.22,58.59,31.3,46.42,17.21,10.79,52.35,27.88,50.26,59.99,28.32,38.71,29.85,14.82,16.81,28.23,52.11,27.88,59.71,46.08,13.73,48.39,49.45,19.67,12.36,20.02,12.75,47.51,20.44,34.79,28.07,25.01,13.9,24.17,31.63,48.75,14.74,32.49,27.8,26.77,50.44,34.93,12.87,48.94,13.38,58.63,21.94,26.58,57.22,56.43,55.65,27.62,49.56,34.77,17.73,21.8,46.02,18.13,30.89,31.95,24.04,32.36,21.07,50.66,13.66,58.09,30.0,32.74,41.93,42.8,53.51,23.21,21.14,56.07,14.41,45.75,15.77,10.02,48.77,57.86,23.59,23.05,55.55,58.64,23.21,42.57,10.92,34.77,35.66,37.19,12.25,29.7,36.8,45.43,26.26,44.92,52.53,37.25,20.93,58.09,43.59,33.92,55.55,29.64,27.41,52.51,47.8,14.54,49.53,43.58,12.3,49.47,22.14,57.48,43.45,22.13,13.03,57.35,44.29,52.25,26.33,22.96,19.21,26.78,41.32,24.55,16.26,47.84,53.49,44.84,53.71,23.43,34.32,22.1,25.83,36.74,49.51,48.96,54.62,24.72,46.45,52.33,30.6,14.57,46.29,21.57,12.91,50.11,41.67,44.88,11.1,28.54,19.07,43.55,43.63,39.13,56.68,14.16,31.45,24.61,32.87,40.17,13.51,38.95,31.69,29.4,57.83,55.46,57.6,34.98,11.87,12.47,33.26,59.04,26.13,22.2,45.11,43.69,25.02,55.5,53.04,44.97,42.38,20.11,56.7,41.0,28.85,49.97,19.69,28.88,33.14,43.7,54.89,37.52,51.07,44.07,10.79,42.72,26.66,37.6,42.21,46.83,45.17,51.22,21.28,15.36,38.62,25.4,43.87,18.74,54.86,52.62,51.48,15.28,39.24,17.81,56.02,23.9,49.13,10.62,36.17,59.95,26.09,37.35,24.72,35.28,51.32,21.12,27.35,21.74,40.87,49.31,22.11,20.79,27.41,38.35,21.55,38.02,22.06,10.66,56.58,36.83,35.01,30.48,14.08,31.22,54.29,31.04,50.96,11.89,31.38,54.81,16.78,24.42,11.75,20.02,12.86,31.58,34.0,57.42,53.47,11.64,52.88,18.51,41.32,39.77,51.96,39.51,15.4,53.82,30.95,57.82,44.18,48.71,19.69,36.52,41.56,43.19,12.34,36.25,29.45,34.56,54.12,33.78,29.64,57.7,36.34,50.59,29.38,45.42,54.43,36.26,16.16,36.29,27.89,12.29,15.85,14.4,19.18,10.64,14.76,57.49,30.66,40.83,18.88,25.83,42.12,13.33,42.4,58.35,21.72,44.91,37.46,28.48,28.34,46.96,24.96,21.71,29.87,28.99,52.94,32.36,55.66,39.45,47.11,58.75,38.92,39.39,25.89,28.34,27.7,24.89,58.99,57.2,38.43,34.74,40.44,45.24,34.96,56.76,40.28,38.0,28.8,39.24,32.93,51.32,47.09,28.42,22.85,41.24,39.07,29.82,37.26,20.3,34.65,43.38,55.53,57.06,16.97,53.98,26.08],\"xaxis\":\"x2\",\"yaxis\":\"y2\",\"type\":\"box\"}],                        {\"template\":{\"data\":{\"bar\":[{\"error_x\":{\"color\":\"#2a3f5f\"},\"error_y\":{\"color\":\"#2a3f5f\"},\"marker\":{\"line\":{\"color\":\"#E5ECF6\",\"width\":0.5},\"pattern\":{\"fillmode\":\"overlay\",\"size\":10,\"solidity\":0.2}},\"type\":\"bar\"}],\"barpolar\":[{\"marker\":{\"line\":{\"color\":\"#E5ECF6\",\"width\":0.5},\"pattern\":{\"fillmode\":\"overlay\",\"size\":10,\"solidity\":0.2}},\"type\":\"barpolar\"}],\"carpet\":[{\"aaxis\":{\"endlinecolor\":\"#2a3f5f\",\"gridcolor\":\"white\",\"linecolor\":\"white\",\"minorgridcolor\":\"white\",\"startlinecolor\":\"#2a3f5f\"},\"baxis\":{\"endlinecolor\":\"#2a3f5f\",\"gridcolor\":\"white\",\"linecolor\":\"white\",\"minorgridcolor\":\"white\",\"startlinecolor\":\"#2a3f5f\"},\"type\":\"carpet\"}],\"choropleth\":[{\"colorbar\":{\"outlinewidth\":0,\"ticks\":\"\"},\"type\":\"choropleth\"}],\"contour\":[{\"colorbar\":{\"outlinewidth\":0,\"ticks\":\"\"},\"colorscale\":[[0.0,\"#0d0887\"],[0.1111111111111111,\"#46039f\"],[0.2222222222222222,\"#7201a8\"],[0.3333333333333333,\"#9c179e\"],[0.4444444444444444,\"#bd3786\"],[0.5555555555555556,\"#d8576b\"],[0.6666666666666666,\"#ed7953\"],[0.7777777777777778,\"#fb9f3a\"],[0.8888888888888888,\"#fdca26\"],[1.0,\"#f0f921\"]],\"type\":\"contour\"}],\"contourcarpet\":[{\"colorbar\":{\"outlinewidth\":0,\"ticks\":\"\"},\"type\":\"contourcarpet\"}],\"heatmap\":[{\"colorbar\":{\"outlinewidth\":0,\"ticks\":\"\"},\"colorscale\":[[0.0,\"#0d0887\"],[0.1111111111111111,\"#46039f\"],[0.2222222222222222,\"#7201a8\"],[0.3333333333333333,\"#9c179e\"],[0.4444444444444444,\"#bd3786\"],[0.5555555555555556,\"#d8576b\"],[0.6666666666666666,\"#ed7953\"],[0.7777777777777778,\"#fb9f3a\"],[0.8888888888888888,\"#fdca26\"],[1.0,\"#f0f921\"]],\"type\":\"heatmap\"}],\"heatmapgl\":[{\"colorbar\":{\"outlinewidth\":0,\"ticks\":\"\"},\"colorscale\":[[0.0,\"#0d0887\"],[0.1111111111111111,\"#46039f\"],[0.2222222222222222,\"#7201a8\"],[0.3333333333333333,\"#9c179e\"],[0.4444444444444444,\"#bd3786\"],[0.5555555555555556,\"#d8576b\"],[0.6666666666666666,\"#ed7953\"],[0.7777777777777778,\"#fb9f3a\"],[0.8888888888888888,\"#fdca26\"],[1.0,\"#f0f921\"]],\"type\":\"heatmapgl\"}],\"histogram\":[{\"marker\":{\"pattern\":{\"fillmode\":\"overlay\",\"size\":10,\"solidity\":0.2}},\"type\":\"histogram\"}],\"histogram2d\":[{\"colorbar\":{\"outlinewidth\":0,\"ticks\":\"\"},\"colorscale\":[[0.0,\"#0d0887\"],[0.1111111111111111,\"#46039f\"],[0.2222222222222222,\"#7201a8\"],[0.3333333333333333,\"#9c179e\"],[0.4444444444444444,\"#bd3786\"],[0.5555555555555556,\"#d8576b\"],[0.6666666666666666,\"#ed7953\"],[0.7777777777777778,\"#fb9f3a\"],[0.8888888888888888,\"#fdca26\"],[1.0,\"#f0f921\"]],\"type\":\"histogram2d\"}],\"histogram2dcontour\":[{\"colorbar\":{\"outlinewidth\":0,\"ticks\":\"\"},\"colorscale\":[[0.0,\"#0d0887\"],[0.1111111111111111,\"#46039f\"],[0.2222222222222222,\"#7201a8\"],[0.3333333333333333,\"#9c179e\"],[0.4444444444444444,\"#bd3786\"],[0.5555555555555556,\"#d8576b\"],[0.6666666666666666,\"#ed7953\"],[0.7777777777777778,\"#fb9f3a\"],[0.8888888888888888,\"#fdca26\"],[1.0,\"#f0f921\"]],\"type\":\"histogram2dcontour\"}],\"mesh3d\":[{\"colorbar\":{\"outlinewidth\":0,\"ticks\":\"\"},\"type\":\"mesh3d\"}],\"parcoords\":[{\"line\":{\"colorbar\":{\"outlinewidth\":0,\"ticks\":\"\"}},\"type\":\"parcoords\"}],\"pie\":[{\"automargin\":true,\"type\":\"pie\"}],\"scatter\":[{\"marker\":{\"colorbar\":{\"outlinewidth\":0,\"ticks\":\"\"}},\"type\":\"scatter\"}],\"scatter3d\":[{\"line\":{\"colorbar\":{\"outlinewidth\":0,\"ticks\":\"\"}},\"marker\":{\"colorbar\":{\"outlinewidth\":0,\"ticks\":\"\"}},\"type\":\"scatter3d\"}],\"scattercarpet\":[{\"marker\":{\"colorbar\":{\"outlinewidth\":0,\"ticks\":\"\"}},\"type\":\"scattercarpet\"}],\"scattergeo\":[{\"marker\":{\"colorbar\":{\"outlinewidth\":0,\"ticks\":\"\"}},\"type\":\"scattergeo\"}],\"scattergl\":[{\"marker\":{\"colorbar\":{\"outlinewidth\":0,\"ticks\":\"\"}},\"type\":\"scattergl\"}],\"scattermapbox\":[{\"marker\":{\"colorbar\":{\"outlinewidth\":0,\"ticks\":\"\"}},\"type\":\"scattermapbox\"}],\"scatterpolar\":[{\"marker\":{\"colorbar\":{\"outlinewidth\":0,\"ticks\":\"\"}},\"type\":\"scatterpolar\"}],\"scatterpolargl\":[{\"marker\":{\"colorbar\":{\"outlinewidth\":0,\"ticks\":\"\"}},\"type\":\"scatterpolargl\"}],\"scatterternary\":[{\"marker\":{\"colorbar\":{\"outlinewidth\":0,\"ticks\":\"\"}},\"type\":\"scatterternary\"}],\"surface\":[{\"colorbar\":{\"outlinewidth\":0,\"ticks\":\"\"},\"colorscale\":[[0.0,\"#0d0887\"],[0.1111111111111111,\"#46039f\"],[0.2222222222222222,\"#7201a8\"],[0.3333333333333333,\"#9c179e\"],[0.4444444444444444,\"#bd3786\"],[0.5555555555555556,\"#d8576b\"],[0.6666666666666666,\"#ed7953\"],[0.7777777777777778,\"#fb9f3a\"],[0.8888888888888888,\"#fdca26\"],[1.0,\"#f0f921\"]],\"type\":\"surface\"}],\"table\":[{\"cells\":{\"fill\":{\"color\":\"#EBF0F8\"},\"line\":{\"color\":\"white\"}},\"header\":{\"fill\":{\"color\":\"#C8D4E3\"},\"line\":{\"color\":\"white\"}},\"type\":\"table\"}]},\"layout\":{\"annotationdefaults\":{\"arrowcolor\":\"#2a3f5f\",\"arrowhead\":0,\"arrowwidth\":1},\"autotypenumbers\":\"strict\",\"coloraxis\":{\"colorbar\":{\"outlinewidth\":0,\"ticks\":\"\"}},\"colorscale\":{\"diverging\":[[0,\"#8e0152\"],[0.1,\"#c51b7d\"],[0.2,\"#de77ae\"],[0.3,\"#f1b6da\"],[0.4,\"#fde0ef\"],[0.5,\"#f7f7f7\"],[0.6,\"#e6f5d0\"],[0.7,\"#b8e186\"],[0.8,\"#7fbc41\"],[0.9,\"#4d9221\"],[1,\"#276419\"]],\"sequential\":[[0.0,\"#0d0887\"],[0.1111111111111111,\"#46039f\"],[0.2222222222222222,\"#7201a8\"],[0.3333333333333333,\"#9c179e\"],[0.4444444444444444,\"#bd3786\"],[0.5555555555555556,\"#d8576b\"],[0.6666666666666666,\"#ed7953\"],[0.7777777777777778,\"#fb9f3a\"],[0.8888888888888888,\"#fdca26\"],[1.0,\"#f0f921\"]],\"sequentialminus\":[[0.0,\"#0d0887\"],[0.1111111111111111,\"#46039f\"],[0.2222222222222222,\"#7201a8\"],[0.3333333333333333,\"#9c179e\"],[0.4444444444444444,\"#bd3786\"],[0.5555555555555556,\"#d8576b\"],[0.6666666666666666,\"#ed7953\"],[0.7777777777777778,\"#fb9f3a\"],[0.8888888888888888,\"#fdca26\"],[1.0,\"#f0f921\"]]},\"colorway\":[\"#636efa\",\"#EF553B\",\"#00cc96\",\"#ab63fa\",\"#FFA15A\",\"#19d3f3\",\"#FF6692\",\"#B6E880\",\"#FF97FF\",\"#FECB52\"],\"font\":{\"color\":\"#2a3f5f\"},\"geo\":{\"bgcolor\":\"white\",\"lakecolor\":\"white\",\"landcolor\":\"#E5ECF6\",\"showlakes\":true,\"showland\":true,\"subunitcolor\":\"white\"},\"hoverlabel\":{\"align\":\"left\"},\"hovermode\":\"closest\",\"mapbox\":{\"style\":\"light\"},\"paper_bgcolor\":\"white\",\"plot_bgcolor\":\"#E5ECF6\",\"polar\":{\"angularaxis\":{\"gridcolor\":\"white\",\"linecolor\":\"white\",\"ticks\":\"\"},\"bgcolor\":\"#E5ECF6\",\"radialaxis\":{\"gridcolor\":\"white\",\"linecolor\":\"white\",\"ticks\":\"\"}},\"scene\":{\"xaxis\":{\"backgroundcolor\":\"#E5ECF6\",\"gridcolor\":\"white\",\"gridwidth\":2,\"linecolor\":\"white\",\"showbackground\":true,\"ticks\":\"\",\"zerolinecolor\":\"white\"},\"yaxis\":{\"backgroundcolor\":\"#E5ECF6\",\"gridcolor\":\"white\",\"gridwidth\":2,\"linecolor\":\"white\",\"showbackground\":true,\"ticks\":\"\",\"zerolinecolor\":\"white\"},\"zaxis\":{\"backgroundcolor\":\"#E5ECF6\",\"gridcolor\":\"white\",\"gridwidth\":2,\"linecolor\":\"white\",\"showbackground\":true,\"ticks\":\"\",\"zerolinecolor\":\"white\"}},\"shapedefaults\":{\"line\":{\"color\":\"#2a3f5f\"}},\"ternary\":{\"aaxis\":{\"gridcolor\":\"white\",\"linecolor\":\"white\",\"ticks\":\"\"},\"baxis\":{\"gridcolor\":\"white\",\"linecolor\":\"white\",\"ticks\":\"\"},\"bgcolor\":\"#E5ECF6\",\"caxis\":{\"gridcolor\":\"white\",\"linecolor\":\"white\",\"ticks\":\"\"}},\"title\":{\"x\":0.05},\"xaxis\":{\"automargin\":true,\"gridcolor\":\"white\",\"linecolor\":\"white\",\"ticks\":\"\",\"title\":{\"standoff\":15},\"zerolinecolor\":\"white\",\"zerolinewidth\":2},\"yaxis\":{\"automargin\":true,\"gridcolor\":\"white\",\"linecolor\":\"white\",\"ticks\":\"\",\"title\":{\"standoff\":15},\"zerolinecolor\":\"white\",\"zerolinewidth\":2}}},\"xaxis\":{\"anchor\":\"y\",\"domain\":[0.0,1.0],\"title\":{\"text\":\"price\"}},\"yaxis\":{\"anchor\":\"x\",\"domain\":[0.0,0.8316],\"title\":{\"text\":\"count\"}},\"xaxis2\":{\"anchor\":\"y2\",\"domain\":[0.0,1.0],\"matches\":\"x\",\"showticklabels\":false,\"showgrid\":true},\"yaxis2\":{\"anchor\":\"x2\",\"domain\":[0.8416,1.0],\"matches\":\"y2\",\"showticklabels\":false,\"showline\":false,\"ticks\":\"\",\"showgrid\":false},\"legend\":{\"tracegroupgap\":0},\"title\":{\"text\":\"Price\"},\"barmode\":\"relative\"},                        {\"responsive\": true}                    ).then(function(){\n",
       "                            \n",
       "var gd = document.getElementById('e766d968-b096-4cc6-9f3f-f2705f1e9426');\n",
       "var x = new MutationObserver(function (mutations, observer) {{\n",
       "        var display = window.getComputedStyle(gd).display;\n",
       "        if (!display || display === 'none') {{\n",
       "            console.log([gd, 'removed!']);\n",
       "            Plotly.purge(gd);\n",
       "            observer.disconnect();\n",
       "        }}\n",
       "}});\n",
       "\n",
       "// Listen for the removal of the full notebook cells\n",
       "var notebookContainer = gd.closest('#notebook-container');\n",
       "if (notebookContainer) {{\n",
       "    x.observe(notebookContainer, {childList: true});\n",
       "}}\n",
       "\n",
       "// Listen for the clearing of the current output cell\n",
       "var outputEl = gd.closest('.output');\n",
       "if (outputEl) {{\n",
       "    x.observe(outputEl, {childList: true});\n",
       "}}\n",
       "\n",
       "                        })                };                });            </script>        </div>"
      ]
     },
     "metadata": {},
     "output_type": "display_data"
    }
   ],
   "source": [
    "#Another price distribution analysis\n",
    "fig = px.histogram(data, x= 'price', title='Price', marginal=\"box\", hover_data = data[['name']])\n",
    "fig.show()"
   ]
  },
  {
   "cell_type": "markdown",
   "metadata": {},
   "source": [
    "As we see median price is 35.98, q1-q3=22.105-47.475"
   ]
  },
  {
   "cell_type": "code",
   "execution_count": 40,
   "metadata": {},
   "outputs": [
    {
     "data": {
      "application/vnd.plotly.v1+json": {
       "config": {
        "plotlyServerURL": "https://plot.ly"
       },
       "data": [
        {
         "branchvalues": "total",
         "domain": {
          "x": [
           0,
           1
          ],
          "y": [
           0,
           1
          ]
         },
         "hovertemplate": "labels=%{label}<br>count=%{value}<br>parent=%{parent}<br>id=%{id}<extra></extra>",
         "ids": [
          "add-a-comment_18",
          "default_15",
          "fantasy_19",
          "fiction_10",
          "nonfiction_13",
          "sequential-art_5",
          "young-adult_21"
         ],
         "labels": [
          "add-a-comment_18",
          "default_15",
          "fantasy_19",
          "fiction_10",
          "nonfiction_13",
          "sequential-art_5",
          "young-adult_21"
         ],
         "name": "",
         "parents": [
          "",
          "",
          "",
          "",
          "",
          "",
          ""
         ],
         "type": "treemap",
         "values": [
          67,
          152,
          48,
          65,
          110,
          75,
          54
         ]
        }
       ],
       "layout": {
        "legend": {
         "tracegroupgap": 0
        },
        "template": {
         "data": {
          "bar": [
           {
            "error_x": {
             "color": "#2a3f5f"
            },
            "error_y": {
             "color": "#2a3f5f"
            },
            "marker": {
             "line": {
              "color": "#E5ECF6",
              "width": 0.5
             },
             "pattern": {
              "fillmode": "overlay",
              "size": 10,
              "solidity": 0.2
             }
            },
            "type": "bar"
           }
          ],
          "barpolar": [
           {
            "marker": {
             "line": {
              "color": "#E5ECF6",
              "width": 0.5
             },
             "pattern": {
              "fillmode": "overlay",
              "size": 10,
              "solidity": 0.2
             }
            },
            "type": "barpolar"
           }
          ],
          "carpet": [
           {
            "aaxis": {
             "endlinecolor": "#2a3f5f",
             "gridcolor": "white",
             "linecolor": "white",
             "minorgridcolor": "white",
             "startlinecolor": "#2a3f5f"
            },
            "baxis": {
             "endlinecolor": "#2a3f5f",
             "gridcolor": "white",
             "linecolor": "white",
             "minorgridcolor": "white",
             "startlinecolor": "#2a3f5f"
            },
            "type": "carpet"
           }
          ],
          "choropleth": [
           {
            "colorbar": {
             "outlinewidth": 0,
             "ticks": ""
            },
            "type": "choropleth"
           }
          ],
          "contour": [
           {
            "colorbar": {
             "outlinewidth": 0,
             "ticks": ""
            },
            "colorscale": [
             [
              0,
              "#0d0887"
             ],
             [
              0.1111111111111111,
              "#46039f"
             ],
             [
              0.2222222222222222,
              "#7201a8"
             ],
             [
              0.3333333333333333,
              "#9c179e"
             ],
             [
              0.4444444444444444,
              "#bd3786"
             ],
             [
              0.5555555555555556,
              "#d8576b"
             ],
             [
              0.6666666666666666,
              "#ed7953"
             ],
             [
              0.7777777777777778,
              "#fb9f3a"
             ],
             [
              0.8888888888888888,
              "#fdca26"
             ],
             [
              1,
              "#f0f921"
             ]
            ],
            "type": "contour"
           }
          ],
          "contourcarpet": [
           {
            "colorbar": {
             "outlinewidth": 0,
             "ticks": ""
            },
            "type": "contourcarpet"
           }
          ],
          "heatmap": [
           {
            "colorbar": {
             "outlinewidth": 0,
             "ticks": ""
            },
            "colorscale": [
             [
              0,
              "#0d0887"
             ],
             [
              0.1111111111111111,
              "#46039f"
             ],
             [
              0.2222222222222222,
              "#7201a8"
             ],
             [
              0.3333333333333333,
              "#9c179e"
             ],
             [
              0.4444444444444444,
              "#bd3786"
             ],
             [
              0.5555555555555556,
              "#d8576b"
             ],
             [
              0.6666666666666666,
              "#ed7953"
             ],
             [
              0.7777777777777778,
              "#fb9f3a"
             ],
             [
              0.8888888888888888,
              "#fdca26"
             ],
             [
              1,
              "#f0f921"
             ]
            ],
            "type": "heatmap"
           }
          ],
          "heatmapgl": [
           {
            "colorbar": {
             "outlinewidth": 0,
             "ticks": ""
            },
            "colorscale": [
             [
              0,
              "#0d0887"
             ],
             [
              0.1111111111111111,
              "#46039f"
             ],
             [
              0.2222222222222222,
              "#7201a8"
             ],
             [
              0.3333333333333333,
              "#9c179e"
             ],
             [
              0.4444444444444444,
              "#bd3786"
             ],
             [
              0.5555555555555556,
              "#d8576b"
             ],
             [
              0.6666666666666666,
              "#ed7953"
             ],
             [
              0.7777777777777778,
              "#fb9f3a"
             ],
             [
              0.8888888888888888,
              "#fdca26"
             ],
             [
              1,
              "#f0f921"
             ]
            ],
            "type": "heatmapgl"
           }
          ],
          "histogram": [
           {
            "marker": {
             "pattern": {
              "fillmode": "overlay",
              "size": 10,
              "solidity": 0.2
             }
            },
            "type": "histogram"
           }
          ],
          "histogram2d": [
           {
            "colorbar": {
             "outlinewidth": 0,
             "ticks": ""
            },
            "colorscale": [
             [
              0,
              "#0d0887"
             ],
             [
              0.1111111111111111,
              "#46039f"
             ],
             [
              0.2222222222222222,
              "#7201a8"
             ],
             [
              0.3333333333333333,
              "#9c179e"
             ],
             [
              0.4444444444444444,
              "#bd3786"
             ],
             [
              0.5555555555555556,
              "#d8576b"
             ],
             [
              0.6666666666666666,
              "#ed7953"
             ],
             [
              0.7777777777777778,
              "#fb9f3a"
             ],
             [
              0.8888888888888888,
              "#fdca26"
             ],
             [
              1,
              "#f0f921"
             ]
            ],
            "type": "histogram2d"
           }
          ],
          "histogram2dcontour": [
           {
            "colorbar": {
             "outlinewidth": 0,
             "ticks": ""
            },
            "colorscale": [
             [
              0,
              "#0d0887"
             ],
             [
              0.1111111111111111,
              "#46039f"
             ],
             [
              0.2222222222222222,
              "#7201a8"
             ],
             [
              0.3333333333333333,
              "#9c179e"
             ],
             [
              0.4444444444444444,
              "#bd3786"
             ],
             [
              0.5555555555555556,
              "#d8576b"
             ],
             [
              0.6666666666666666,
              "#ed7953"
             ],
             [
              0.7777777777777778,
              "#fb9f3a"
             ],
             [
              0.8888888888888888,
              "#fdca26"
             ],
             [
              1,
              "#f0f921"
             ]
            ],
            "type": "histogram2dcontour"
           }
          ],
          "mesh3d": [
           {
            "colorbar": {
             "outlinewidth": 0,
             "ticks": ""
            },
            "type": "mesh3d"
           }
          ],
          "parcoords": [
           {
            "line": {
             "colorbar": {
              "outlinewidth": 0,
              "ticks": ""
             }
            },
            "type": "parcoords"
           }
          ],
          "pie": [
           {
            "automargin": true,
            "type": "pie"
           }
          ],
          "scatter": [
           {
            "marker": {
             "colorbar": {
              "outlinewidth": 0,
              "ticks": ""
             }
            },
            "type": "scatter"
           }
          ],
          "scatter3d": [
           {
            "line": {
             "colorbar": {
              "outlinewidth": 0,
              "ticks": ""
             }
            },
            "marker": {
             "colorbar": {
              "outlinewidth": 0,
              "ticks": ""
             }
            },
            "type": "scatter3d"
           }
          ],
          "scattercarpet": [
           {
            "marker": {
             "colorbar": {
              "outlinewidth": 0,
              "ticks": ""
             }
            },
            "type": "scattercarpet"
           }
          ],
          "scattergeo": [
           {
            "marker": {
             "colorbar": {
              "outlinewidth": 0,
              "ticks": ""
             }
            },
            "type": "scattergeo"
           }
          ],
          "scattergl": [
           {
            "marker": {
             "colorbar": {
              "outlinewidth": 0,
              "ticks": ""
             }
            },
            "type": "scattergl"
           }
          ],
          "scattermapbox": [
           {
            "marker": {
             "colorbar": {
              "outlinewidth": 0,
              "ticks": ""
             }
            },
            "type": "scattermapbox"
           }
          ],
          "scatterpolar": [
           {
            "marker": {
             "colorbar": {
              "outlinewidth": 0,
              "ticks": ""
             }
            },
            "type": "scatterpolar"
           }
          ],
          "scatterpolargl": [
           {
            "marker": {
             "colorbar": {
              "outlinewidth": 0,
              "ticks": ""
             }
            },
            "type": "scatterpolargl"
           }
          ],
          "scatterternary": [
           {
            "marker": {
             "colorbar": {
              "outlinewidth": 0,
              "ticks": ""
             }
            },
            "type": "scatterternary"
           }
          ],
          "surface": [
           {
            "colorbar": {
             "outlinewidth": 0,
             "ticks": ""
            },
            "colorscale": [
             [
              0,
              "#0d0887"
             ],
             [
              0.1111111111111111,
              "#46039f"
             ],
             [
              0.2222222222222222,
              "#7201a8"
             ],
             [
              0.3333333333333333,
              "#9c179e"
             ],
             [
              0.4444444444444444,
              "#bd3786"
             ],
             [
              0.5555555555555556,
              "#d8576b"
             ],
             [
              0.6666666666666666,
              "#ed7953"
             ],
             [
              0.7777777777777778,
              "#fb9f3a"
             ],
             [
              0.8888888888888888,
              "#fdca26"
             ],
             [
              1,
              "#f0f921"
             ]
            ],
            "type": "surface"
           }
          ],
          "table": [
           {
            "cells": {
             "fill": {
              "color": "#EBF0F8"
             },
             "line": {
              "color": "white"
             }
            },
            "header": {
             "fill": {
              "color": "#C8D4E3"
             },
             "line": {
              "color": "white"
             }
            },
            "type": "table"
           }
          ]
         },
         "layout": {
          "annotationdefaults": {
           "arrowcolor": "#2a3f5f",
           "arrowhead": 0,
           "arrowwidth": 1
          },
          "autotypenumbers": "strict",
          "coloraxis": {
           "colorbar": {
            "outlinewidth": 0,
            "ticks": ""
           }
          },
          "colorscale": {
           "diverging": [
            [
             0,
             "#8e0152"
            ],
            [
             0.1,
             "#c51b7d"
            ],
            [
             0.2,
             "#de77ae"
            ],
            [
             0.3,
             "#f1b6da"
            ],
            [
             0.4,
             "#fde0ef"
            ],
            [
             0.5,
             "#f7f7f7"
            ],
            [
             0.6,
             "#e6f5d0"
            ],
            [
             0.7,
             "#b8e186"
            ],
            [
             0.8,
             "#7fbc41"
            ],
            [
             0.9,
             "#4d9221"
            ],
            [
             1,
             "#276419"
            ]
           ],
           "sequential": [
            [
             0,
             "#0d0887"
            ],
            [
             0.1111111111111111,
             "#46039f"
            ],
            [
             0.2222222222222222,
             "#7201a8"
            ],
            [
             0.3333333333333333,
             "#9c179e"
            ],
            [
             0.4444444444444444,
             "#bd3786"
            ],
            [
             0.5555555555555556,
             "#d8576b"
            ],
            [
             0.6666666666666666,
             "#ed7953"
            ],
            [
             0.7777777777777778,
             "#fb9f3a"
            ],
            [
             0.8888888888888888,
             "#fdca26"
            ],
            [
             1,
             "#f0f921"
            ]
           ],
           "sequentialminus": [
            [
             0,
             "#0d0887"
            ],
            [
             0.1111111111111111,
             "#46039f"
            ],
            [
             0.2222222222222222,
             "#7201a8"
            ],
            [
             0.3333333333333333,
             "#9c179e"
            ],
            [
             0.4444444444444444,
             "#bd3786"
            ],
            [
             0.5555555555555556,
             "#d8576b"
            ],
            [
             0.6666666666666666,
             "#ed7953"
            ],
            [
             0.7777777777777778,
             "#fb9f3a"
            ],
            [
             0.8888888888888888,
             "#fdca26"
            ],
            [
             1,
             "#f0f921"
            ]
           ]
          },
          "colorway": [
           "#636efa",
           "#EF553B",
           "#00cc96",
           "#ab63fa",
           "#FFA15A",
           "#19d3f3",
           "#FF6692",
           "#B6E880",
           "#FF97FF",
           "#FECB52"
          ],
          "font": {
           "color": "#2a3f5f"
          },
          "geo": {
           "bgcolor": "white",
           "lakecolor": "white",
           "landcolor": "#E5ECF6",
           "showlakes": true,
           "showland": true,
           "subunitcolor": "white"
          },
          "hoverlabel": {
           "align": "left"
          },
          "hovermode": "closest",
          "mapbox": {
           "style": "light"
          },
          "paper_bgcolor": "white",
          "plot_bgcolor": "#E5ECF6",
          "polar": {
           "angularaxis": {
            "gridcolor": "white",
            "linecolor": "white",
            "ticks": ""
           },
           "bgcolor": "#E5ECF6",
           "radialaxis": {
            "gridcolor": "white",
            "linecolor": "white",
            "ticks": ""
           }
          },
          "scene": {
           "xaxis": {
            "backgroundcolor": "#E5ECF6",
            "gridcolor": "white",
            "gridwidth": 2,
            "linecolor": "white",
            "showbackground": true,
            "ticks": "",
            "zerolinecolor": "white"
           },
           "yaxis": {
            "backgroundcolor": "#E5ECF6",
            "gridcolor": "white",
            "gridwidth": 2,
            "linecolor": "white",
            "showbackground": true,
            "ticks": "",
            "zerolinecolor": "white"
           },
           "zaxis": {
            "backgroundcolor": "#E5ECF6",
            "gridcolor": "white",
            "gridwidth": 2,
            "linecolor": "white",
            "showbackground": true,
            "ticks": "",
            "zerolinecolor": "white"
           }
          },
          "shapedefaults": {
           "line": {
            "color": "#2a3f5f"
           }
          },
          "ternary": {
           "aaxis": {
            "gridcolor": "white",
            "linecolor": "white",
            "ticks": ""
           },
           "baxis": {
            "gridcolor": "white",
            "linecolor": "white",
            "ticks": ""
           },
           "bgcolor": "#E5ECF6",
           "caxis": {
            "gridcolor": "white",
            "linecolor": "white",
            "ticks": ""
           }
          },
          "title": {
           "x": 0.05
          },
          "xaxis": {
           "automargin": true,
           "gridcolor": "white",
           "linecolor": "white",
           "ticks": "",
           "title": {
            "standoff": 15
           },
           "zerolinecolor": "white",
           "zerolinewidth": 2
          },
          "yaxis": {
           "automargin": true,
           "gridcolor": "white",
           "linecolor": "white",
           "ticks": "",
           "title": {
            "standoff": 15
           },
           "zerolinecolor": "white",
           "zerolinewidth": 2
          }
         }
        },
        "title": {
         "text": "TOP 7 CATEGORIES"
        }
       }
      },
      "text/html": [
       "<div>                            <div id=\"0f612f8c-06e8-45c1-aeba-1575041dc963\" class=\"plotly-graph-div\" style=\"height:525px; width:100%;\"></div>            <script type=\"text/javascript\">                require([\"plotly\"], function(Plotly) {                    window.PLOTLYENV=window.PLOTLYENV || {};                                    if (document.getElementById(\"0f612f8c-06e8-45c1-aeba-1575041dc963\")) {                    Plotly.newPlot(                        \"0f612f8c-06e8-45c1-aeba-1575041dc963\",                        [{\"branchvalues\":\"total\",\"domain\":{\"x\":[0.0,1.0],\"y\":[0.0,1.0]},\"hovertemplate\":\"labels=%{label}<br>count=%{value}<br>parent=%{parent}<br>id=%{id}<extra></extra>\",\"ids\":[\"add-a-comment_18\",\"default_15\",\"fantasy_19\",\"fiction_10\",\"nonfiction_13\",\"sequential-art_5\",\"young-adult_21\"],\"labels\":[\"add-a-comment_18\",\"default_15\",\"fantasy_19\",\"fiction_10\",\"nonfiction_13\",\"sequential-art_5\",\"young-adult_21\"],\"name\":\"\",\"parents\":[\"\",\"\",\"\",\"\",\"\",\"\",\"\"],\"values\":[67,152,48,65,110,75,54],\"type\":\"treemap\"}],                        {\"template\":{\"data\":{\"bar\":[{\"error_x\":{\"color\":\"#2a3f5f\"},\"error_y\":{\"color\":\"#2a3f5f\"},\"marker\":{\"line\":{\"color\":\"#E5ECF6\",\"width\":0.5},\"pattern\":{\"fillmode\":\"overlay\",\"size\":10,\"solidity\":0.2}},\"type\":\"bar\"}],\"barpolar\":[{\"marker\":{\"line\":{\"color\":\"#E5ECF6\",\"width\":0.5},\"pattern\":{\"fillmode\":\"overlay\",\"size\":10,\"solidity\":0.2}},\"type\":\"barpolar\"}],\"carpet\":[{\"aaxis\":{\"endlinecolor\":\"#2a3f5f\",\"gridcolor\":\"white\",\"linecolor\":\"white\",\"minorgridcolor\":\"white\",\"startlinecolor\":\"#2a3f5f\"},\"baxis\":{\"endlinecolor\":\"#2a3f5f\",\"gridcolor\":\"white\",\"linecolor\":\"white\",\"minorgridcolor\":\"white\",\"startlinecolor\":\"#2a3f5f\"},\"type\":\"carpet\"}],\"choropleth\":[{\"colorbar\":{\"outlinewidth\":0,\"ticks\":\"\"},\"type\":\"choropleth\"}],\"contour\":[{\"colorbar\":{\"outlinewidth\":0,\"ticks\":\"\"},\"colorscale\":[[0.0,\"#0d0887\"],[0.1111111111111111,\"#46039f\"],[0.2222222222222222,\"#7201a8\"],[0.3333333333333333,\"#9c179e\"],[0.4444444444444444,\"#bd3786\"],[0.5555555555555556,\"#d8576b\"],[0.6666666666666666,\"#ed7953\"],[0.7777777777777778,\"#fb9f3a\"],[0.8888888888888888,\"#fdca26\"],[1.0,\"#f0f921\"]],\"type\":\"contour\"}],\"contourcarpet\":[{\"colorbar\":{\"outlinewidth\":0,\"ticks\":\"\"},\"type\":\"contourcarpet\"}],\"heatmap\":[{\"colorbar\":{\"outlinewidth\":0,\"ticks\":\"\"},\"colorscale\":[[0.0,\"#0d0887\"],[0.1111111111111111,\"#46039f\"],[0.2222222222222222,\"#7201a8\"],[0.3333333333333333,\"#9c179e\"],[0.4444444444444444,\"#bd3786\"],[0.5555555555555556,\"#d8576b\"],[0.6666666666666666,\"#ed7953\"],[0.7777777777777778,\"#fb9f3a\"],[0.8888888888888888,\"#fdca26\"],[1.0,\"#f0f921\"]],\"type\":\"heatmap\"}],\"heatmapgl\":[{\"colorbar\":{\"outlinewidth\":0,\"ticks\":\"\"},\"colorscale\":[[0.0,\"#0d0887\"],[0.1111111111111111,\"#46039f\"],[0.2222222222222222,\"#7201a8\"],[0.3333333333333333,\"#9c179e\"],[0.4444444444444444,\"#bd3786\"],[0.5555555555555556,\"#d8576b\"],[0.6666666666666666,\"#ed7953\"],[0.7777777777777778,\"#fb9f3a\"],[0.8888888888888888,\"#fdca26\"],[1.0,\"#f0f921\"]],\"type\":\"heatmapgl\"}],\"histogram\":[{\"marker\":{\"pattern\":{\"fillmode\":\"overlay\",\"size\":10,\"solidity\":0.2}},\"type\":\"histogram\"}],\"histogram2d\":[{\"colorbar\":{\"outlinewidth\":0,\"ticks\":\"\"},\"colorscale\":[[0.0,\"#0d0887\"],[0.1111111111111111,\"#46039f\"],[0.2222222222222222,\"#7201a8\"],[0.3333333333333333,\"#9c179e\"],[0.4444444444444444,\"#bd3786\"],[0.5555555555555556,\"#d8576b\"],[0.6666666666666666,\"#ed7953\"],[0.7777777777777778,\"#fb9f3a\"],[0.8888888888888888,\"#fdca26\"],[1.0,\"#f0f921\"]],\"type\":\"histogram2d\"}],\"histogram2dcontour\":[{\"colorbar\":{\"outlinewidth\":0,\"ticks\":\"\"},\"colorscale\":[[0.0,\"#0d0887\"],[0.1111111111111111,\"#46039f\"],[0.2222222222222222,\"#7201a8\"],[0.3333333333333333,\"#9c179e\"],[0.4444444444444444,\"#bd3786\"],[0.5555555555555556,\"#d8576b\"],[0.6666666666666666,\"#ed7953\"],[0.7777777777777778,\"#fb9f3a\"],[0.8888888888888888,\"#fdca26\"],[1.0,\"#f0f921\"]],\"type\":\"histogram2dcontour\"}],\"mesh3d\":[{\"colorbar\":{\"outlinewidth\":0,\"ticks\":\"\"},\"type\":\"mesh3d\"}],\"parcoords\":[{\"line\":{\"colorbar\":{\"outlinewidth\":0,\"ticks\":\"\"}},\"type\":\"parcoords\"}],\"pie\":[{\"automargin\":true,\"type\":\"pie\"}],\"scatter\":[{\"marker\":{\"colorbar\":{\"outlinewidth\":0,\"ticks\":\"\"}},\"type\":\"scatter\"}],\"scatter3d\":[{\"line\":{\"colorbar\":{\"outlinewidth\":0,\"ticks\":\"\"}},\"marker\":{\"colorbar\":{\"outlinewidth\":0,\"ticks\":\"\"}},\"type\":\"scatter3d\"}],\"scattercarpet\":[{\"marker\":{\"colorbar\":{\"outlinewidth\":0,\"ticks\":\"\"}},\"type\":\"scattercarpet\"}],\"scattergeo\":[{\"marker\":{\"colorbar\":{\"outlinewidth\":0,\"ticks\":\"\"}},\"type\":\"scattergeo\"}],\"scattergl\":[{\"marker\":{\"colorbar\":{\"outlinewidth\":0,\"ticks\":\"\"}},\"type\":\"scattergl\"}],\"scattermapbox\":[{\"marker\":{\"colorbar\":{\"outlinewidth\":0,\"ticks\":\"\"}},\"type\":\"scattermapbox\"}],\"scatterpolar\":[{\"marker\":{\"colorbar\":{\"outlinewidth\":0,\"ticks\":\"\"}},\"type\":\"scatterpolar\"}],\"scatterpolargl\":[{\"marker\":{\"colorbar\":{\"outlinewidth\":0,\"ticks\":\"\"}},\"type\":\"scatterpolargl\"}],\"scatterternary\":[{\"marker\":{\"colorbar\":{\"outlinewidth\":0,\"ticks\":\"\"}},\"type\":\"scatterternary\"}],\"surface\":[{\"colorbar\":{\"outlinewidth\":0,\"ticks\":\"\"},\"colorscale\":[[0.0,\"#0d0887\"],[0.1111111111111111,\"#46039f\"],[0.2222222222222222,\"#7201a8\"],[0.3333333333333333,\"#9c179e\"],[0.4444444444444444,\"#bd3786\"],[0.5555555555555556,\"#d8576b\"],[0.6666666666666666,\"#ed7953\"],[0.7777777777777778,\"#fb9f3a\"],[0.8888888888888888,\"#fdca26\"],[1.0,\"#f0f921\"]],\"type\":\"surface\"}],\"table\":[{\"cells\":{\"fill\":{\"color\":\"#EBF0F8\"},\"line\":{\"color\":\"white\"}},\"header\":{\"fill\":{\"color\":\"#C8D4E3\"},\"line\":{\"color\":\"white\"}},\"type\":\"table\"}]},\"layout\":{\"annotationdefaults\":{\"arrowcolor\":\"#2a3f5f\",\"arrowhead\":0,\"arrowwidth\":1},\"autotypenumbers\":\"strict\",\"coloraxis\":{\"colorbar\":{\"outlinewidth\":0,\"ticks\":\"\"}},\"colorscale\":{\"diverging\":[[0,\"#8e0152\"],[0.1,\"#c51b7d\"],[0.2,\"#de77ae\"],[0.3,\"#f1b6da\"],[0.4,\"#fde0ef\"],[0.5,\"#f7f7f7\"],[0.6,\"#e6f5d0\"],[0.7,\"#b8e186\"],[0.8,\"#7fbc41\"],[0.9,\"#4d9221\"],[1,\"#276419\"]],\"sequential\":[[0.0,\"#0d0887\"],[0.1111111111111111,\"#46039f\"],[0.2222222222222222,\"#7201a8\"],[0.3333333333333333,\"#9c179e\"],[0.4444444444444444,\"#bd3786\"],[0.5555555555555556,\"#d8576b\"],[0.6666666666666666,\"#ed7953\"],[0.7777777777777778,\"#fb9f3a\"],[0.8888888888888888,\"#fdca26\"],[1.0,\"#f0f921\"]],\"sequentialminus\":[[0.0,\"#0d0887\"],[0.1111111111111111,\"#46039f\"],[0.2222222222222222,\"#7201a8\"],[0.3333333333333333,\"#9c179e\"],[0.4444444444444444,\"#bd3786\"],[0.5555555555555556,\"#d8576b\"],[0.6666666666666666,\"#ed7953\"],[0.7777777777777778,\"#fb9f3a\"],[0.8888888888888888,\"#fdca26\"],[1.0,\"#f0f921\"]]},\"colorway\":[\"#636efa\",\"#EF553B\",\"#00cc96\",\"#ab63fa\",\"#FFA15A\",\"#19d3f3\",\"#FF6692\",\"#B6E880\",\"#FF97FF\",\"#FECB52\"],\"font\":{\"color\":\"#2a3f5f\"},\"geo\":{\"bgcolor\":\"white\",\"lakecolor\":\"white\",\"landcolor\":\"#E5ECF6\",\"showlakes\":true,\"showland\":true,\"subunitcolor\":\"white\"},\"hoverlabel\":{\"align\":\"left\"},\"hovermode\":\"closest\",\"mapbox\":{\"style\":\"light\"},\"paper_bgcolor\":\"white\",\"plot_bgcolor\":\"#E5ECF6\",\"polar\":{\"angularaxis\":{\"gridcolor\":\"white\",\"linecolor\":\"white\",\"ticks\":\"\"},\"bgcolor\":\"#E5ECF6\",\"radialaxis\":{\"gridcolor\":\"white\",\"linecolor\":\"white\",\"ticks\":\"\"}},\"scene\":{\"xaxis\":{\"backgroundcolor\":\"#E5ECF6\",\"gridcolor\":\"white\",\"gridwidth\":2,\"linecolor\":\"white\",\"showbackground\":true,\"ticks\":\"\",\"zerolinecolor\":\"white\"},\"yaxis\":{\"backgroundcolor\":\"#E5ECF6\",\"gridcolor\":\"white\",\"gridwidth\":2,\"linecolor\":\"white\",\"showbackground\":true,\"ticks\":\"\",\"zerolinecolor\":\"white\"},\"zaxis\":{\"backgroundcolor\":\"#E5ECF6\",\"gridcolor\":\"white\",\"gridwidth\":2,\"linecolor\":\"white\",\"showbackground\":true,\"ticks\":\"\",\"zerolinecolor\":\"white\"}},\"shapedefaults\":{\"line\":{\"color\":\"#2a3f5f\"}},\"ternary\":{\"aaxis\":{\"gridcolor\":\"white\",\"linecolor\":\"white\",\"ticks\":\"\"},\"baxis\":{\"gridcolor\":\"white\",\"linecolor\":\"white\",\"ticks\":\"\"},\"bgcolor\":\"#E5ECF6\",\"caxis\":{\"gridcolor\":\"white\",\"linecolor\":\"white\",\"ticks\":\"\"}},\"title\":{\"x\":0.05},\"xaxis\":{\"automargin\":true,\"gridcolor\":\"white\",\"linecolor\":\"white\",\"ticks\":\"\",\"title\":{\"standoff\":15},\"zerolinecolor\":\"white\",\"zerolinewidth\":2},\"yaxis\":{\"automargin\":true,\"gridcolor\":\"white\",\"linecolor\":\"white\",\"ticks\":\"\",\"title\":{\"standoff\":15},\"zerolinecolor\":\"white\",\"zerolinewidth\":2}}},\"legend\":{\"tracegroupgap\":0},\"title\":{\"text\":\"TOP 7 CATEGORIES\"}},                        {\"responsive\": true}                    ).then(function(){\n",
       "                            \n",
       "var gd = document.getElementById('0f612f8c-06e8-45c1-aeba-1575041dc963');\n",
       "var x = new MutationObserver(function (mutations, observer) {{\n",
       "        var display = window.getComputedStyle(gd).display;\n",
       "        if (!display || display === 'none') {{\n",
       "            console.log([gd, 'removed!']);\n",
       "            Plotly.purge(gd);\n",
       "            observer.disconnect();\n",
       "        }}\n",
       "}});\n",
       "\n",
       "// Listen for the removal of the full notebook cells\n",
       "var notebookContainer = gd.closest('#notebook-container');\n",
       "if (notebookContainer) {{\n",
       "    x.observe(notebookContainer, {childList: true});\n",
       "}}\n",
       "\n",
       "// Listen for the clearing of the current output cell\n",
       "var outputEl = gd.closest('.output');\n",
       "if (outputEl) {{\n",
       "    x.observe(outputEl, {childList: true});\n",
       "}}\n",
       "\n",
       "                        })                };                });            </script>        </div>"
      ]
     },
     "metadata": {},
     "output_type": "display_data"
    }
   ],
   "source": [
    "#Let's find the most popular categories\n",
    "common_books=data['product_category'].value_counts()[:7].rename_axis('Common Books').reset_index(name='count')\n",
    "fig = px.treemap(common_books, path=['Common Books'], values='count',title='TOP 7 CATEGORIES')\n",
    "\n",
    "fig.show()"
   ]
  },
  {
   "cell_type": "code",
   "execution_count": 41,
   "metadata": {
    "scrolled": true
   },
   "outputs": [
    {
     "data": {
      "application/vnd.plotly.v1+json": {
       "config": {
        "plotlyServerURL": "https://plot.ly"
       },
       "data": [
        {
         "marker": {
          "color": "rgb(28,6,64)",
          "line": {
           "color": "rgb(62,173,172)",
           "width": 1.9
          }
         },
         "type": "bar",
         "x": [
          "The Perfect Play (Play by Play #1)",
          "Last One Home (New Beginnings #1)",
          "Civilization and Its Discontents",
          "The Barefoot Contessa Cookbook",
          "The Diary of a Young Girl",
          "The Bone Hunters (Lexy Vaughan & Steven Macaulay #2)",
          "Thomas Jefferson and the Tripoli Pirates: The Forgotten War That Changed American History",
          "Boar Island (Anna Pigeon #19)",
          "The Man Who Mistook His Wife for a Hat and Other Clinical Tales",
          "The Improbability of Love"
         ],
         "y": [
          59.99,
          59.98,
          59.95,
          59.92,
          59.9,
          59.71,
          59.64,
          59.48,
          59.45,
          59.45
         ]
        }
       ],
       "layout": {
        "template": {
         "data": {
          "bar": [
           {
            "error_x": {
             "color": "#2a3f5f"
            },
            "error_y": {
             "color": "#2a3f5f"
            },
            "marker": {
             "line": {
              "color": "white",
              "width": 0.5
             },
             "pattern": {
              "fillmode": "overlay",
              "size": 10,
              "solidity": 0.2
             }
            },
            "type": "bar"
           }
          ],
          "barpolar": [
           {
            "marker": {
             "line": {
              "color": "white",
              "width": 0.5
             },
             "pattern": {
              "fillmode": "overlay",
              "size": 10,
              "solidity": 0.2
             }
            },
            "type": "barpolar"
           }
          ],
          "carpet": [
           {
            "aaxis": {
             "endlinecolor": "#2a3f5f",
             "gridcolor": "#C8D4E3",
             "linecolor": "#C8D4E3",
             "minorgridcolor": "#C8D4E3",
             "startlinecolor": "#2a3f5f"
            },
            "baxis": {
             "endlinecolor": "#2a3f5f",
             "gridcolor": "#C8D4E3",
             "linecolor": "#C8D4E3",
             "minorgridcolor": "#C8D4E3",
             "startlinecolor": "#2a3f5f"
            },
            "type": "carpet"
           }
          ],
          "choropleth": [
           {
            "colorbar": {
             "outlinewidth": 0,
             "ticks": ""
            },
            "type": "choropleth"
           }
          ],
          "contour": [
           {
            "colorbar": {
             "outlinewidth": 0,
             "ticks": ""
            },
            "colorscale": [
             [
              0,
              "#0d0887"
             ],
             [
              0.1111111111111111,
              "#46039f"
             ],
             [
              0.2222222222222222,
              "#7201a8"
             ],
             [
              0.3333333333333333,
              "#9c179e"
             ],
             [
              0.4444444444444444,
              "#bd3786"
             ],
             [
              0.5555555555555556,
              "#d8576b"
             ],
             [
              0.6666666666666666,
              "#ed7953"
             ],
             [
              0.7777777777777778,
              "#fb9f3a"
             ],
             [
              0.8888888888888888,
              "#fdca26"
             ],
             [
              1,
              "#f0f921"
             ]
            ],
            "type": "contour"
           }
          ],
          "contourcarpet": [
           {
            "colorbar": {
             "outlinewidth": 0,
             "ticks": ""
            },
            "type": "contourcarpet"
           }
          ],
          "heatmap": [
           {
            "colorbar": {
             "outlinewidth": 0,
             "ticks": ""
            },
            "colorscale": [
             [
              0,
              "#0d0887"
             ],
             [
              0.1111111111111111,
              "#46039f"
             ],
             [
              0.2222222222222222,
              "#7201a8"
             ],
             [
              0.3333333333333333,
              "#9c179e"
             ],
             [
              0.4444444444444444,
              "#bd3786"
             ],
             [
              0.5555555555555556,
              "#d8576b"
             ],
             [
              0.6666666666666666,
              "#ed7953"
             ],
             [
              0.7777777777777778,
              "#fb9f3a"
             ],
             [
              0.8888888888888888,
              "#fdca26"
             ],
             [
              1,
              "#f0f921"
             ]
            ],
            "type": "heatmap"
           }
          ],
          "heatmapgl": [
           {
            "colorbar": {
             "outlinewidth": 0,
             "ticks": ""
            },
            "colorscale": [
             [
              0,
              "#0d0887"
             ],
             [
              0.1111111111111111,
              "#46039f"
             ],
             [
              0.2222222222222222,
              "#7201a8"
             ],
             [
              0.3333333333333333,
              "#9c179e"
             ],
             [
              0.4444444444444444,
              "#bd3786"
             ],
             [
              0.5555555555555556,
              "#d8576b"
             ],
             [
              0.6666666666666666,
              "#ed7953"
             ],
             [
              0.7777777777777778,
              "#fb9f3a"
             ],
             [
              0.8888888888888888,
              "#fdca26"
             ],
             [
              1,
              "#f0f921"
             ]
            ],
            "type": "heatmapgl"
           }
          ],
          "histogram": [
           {
            "marker": {
             "pattern": {
              "fillmode": "overlay",
              "size": 10,
              "solidity": 0.2
             }
            },
            "type": "histogram"
           }
          ],
          "histogram2d": [
           {
            "colorbar": {
             "outlinewidth": 0,
             "ticks": ""
            },
            "colorscale": [
             [
              0,
              "#0d0887"
             ],
             [
              0.1111111111111111,
              "#46039f"
             ],
             [
              0.2222222222222222,
              "#7201a8"
             ],
             [
              0.3333333333333333,
              "#9c179e"
             ],
             [
              0.4444444444444444,
              "#bd3786"
             ],
             [
              0.5555555555555556,
              "#d8576b"
             ],
             [
              0.6666666666666666,
              "#ed7953"
             ],
             [
              0.7777777777777778,
              "#fb9f3a"
             ],
             [
              0.8888888888888888,
              "#fdca26"
             ],
             [
              1,
              "#f0f921"
             ]
            ],
            "type": "histogram2d"
           }
          ],
          "histogram2dcontour": [
           {
            "colorbar": {
             "outlinewidth": 0,
             "ticks": ""
            },
            "colorscale": [
             [
              0,
              "#0d0887"
             ],
             [
              0.1111111111111111,
              "#46039f"
             ],
             [
              0.2222222222222222,
              "#7201a8"
             ],
             [
              0.3333333333333333,
              "#9c179e"
             ],
             [
              0.4444444444444444,
              "#bd3786"
             ],
             [
              0.5555555555555556,
              "#d8576b"
             ],
             [
              0.6666666666666666,
              "#ed7953"
             ],
             [
              0.7777777777777778,
              "#fb9f3a"
             ],
             [
              0.8888888888888888,
              "#fdca26"
             ],
             [
              1,
              "#f0f921"
             ]
            ],
            "type": "histogram2dcontour"
           }
          ],
          "mesh3d": [
           {
            "colorbar": {
             "outlinewidth": 0,
             "ticks": ""
            },
            "type": "mesh3d"
           }
          ],
          "parcoords": [
           {
            "line": {
             "colorbar": {
              "outlinewidth": 0,
              "ticks": ""
             }
            },
            "type": "parcoords"
           }
          ],
          "pie": [
           {
            "automargin": true,
            "type": "pie"
           }
          ],
          "scatter": [
           {
            "marker": {
             "colorbar": {
              "outlinewidth": 0,
              "ticks": ""
             }
            },
            "type": "scatter"
           }
          ],
          "scatter3d": [
           {
            "line": {
             "colorbar": {
              "outlinewidth": 0,
              "ticks": ""
             }
            },
            "marker": {
             "colorbar": {
              "outlinewidth": 0,
              "ticks": ""
             }
            },
            "type": "scatter3d"
           }
          ],
          "scattercarpet": [
           {
            "marker": {
             "colorbar": {
              "outlinewidth": 0,
              "ticks": ""
             }
            },
            "type": "scattercarpet"
           }
          ],
          "scattergeo": [
           {
            "marker": {
             "colorbar": {
              "outlinewidth": 0,
              "ticks": ""
             }
            },
            "type": "scattergeo"
           }
          ],
          "scattergl": [
           {
            "marker": {
             "colorbar": {
              "outlinewidth": 0,
              "ticks": ""
             }
            },
            "type": "scattergl"
           }
          ],
          "scattermapbox": [
           {
            "marker": {
             "colorbar": {
              "outlinewidth": 0,
              "ticks": ""
             }
            },
            "type": "scattermapbox"
           }
          ],
          "scatterpolar": [
           {
            "marker": {
             "colorbar": {
              "outlinewidth": 0,
              "ticks": ""
             }
            },
            "type": "scatterpolar"
           }
          ],
          "scatterpolargl": [
           {
            "marker": {
             "colorbar": {
              "outlinewidth": 0,
              "ticks": ""
             }
            },
            "type": "scatterpolargl"
           }
          ],
          "scatterternary": [
           {
            "marker": {
             "colorbar": {
              "outlinewidth": 0,
              "ticks": ""
             }
            },
            "type": "scatterternary"
           }
          ],
          "surface": [
           {
            "colorbar": {
             "outlinewidth": 0,
             "ticks": ""
            },
            "colorscale": [
             [
              0,
              "#0d0887"
             ],
             [
              0.1111111111111111,
              "#46039f"
             ],
             [
              0.2222222222222222,
              "#7201a8"
             ],
             [
              0.3333333333333333,
              "#9c179e"
             ],
             [
              0.4444444444444444,
              "#bd3786"
             ],
             [
              0.5555555555555556,
              "#d8576b"
             ],
             [
              0.6666666666666666,
              "#ed7953"
             ],
             [
              0.7777777777777778,
              "#fb9f3a"
             ],
             [
              0.8888888888888888,
              "#fdca26"
             ],
             [
              1,
              "#f0f921"
             ]
            ],
            "type": "surface"
           }
          ],
          "table": [
           {
            "cells": {
             "fill": {
              "color": "#EBF0F8"
             },
             "line": {
              "color": "white"
             }
            },
            "header": {
             "fill": {
              "color": "#C8D4E3"
             },
             "line": {
              "color": "white"
             }
            },
            "type": "table"
           }
          ]
         },
         "layout": {
          "annotationdefaults": {
           "arrowcolor": "#2a3f5f",
           "arrowhead": 0,
           "arrowwidth": 1
          },
          "autotypenumbers": "strict",
          "coloraxis": {
           "colorbar": {
            "outlinewidth": 0,
            "ticks": ""
           }
          },
          "colorscale": {
           "diverging": [
            [
             0,
             "#8e0152"
            ],
            [
             0.1,
             "#c51b7d"
            ],
            [
             0.2,
             "#de77ae"
            ],
            [
             0.3,
             "#f1b6da"
            ],
            [
             0.4,
             "#fde0ef"
            ],
            [
             0.5,
             "#f7f7f7"
            ],
            [
             0.6,
             "#e6f5d0"
            ],
            [
             0.7,
             "#b8e186"
            ],
            [
             0.8,
             "#7fbc41"
            ],
            [
             0.9,
             "#4d9221"
            ],
            [
             1,
             "#276419"
            ]
           ],
           "sequential": [
            [
             0,
             "#0d0887"
            ],
            [
             0.1111111111111111,
             "#46039f"
            ],
            [
             0.2222222222222222,
             "#7201a8"
            ],
            [
             0.3333333333333333,
             "#9c179e"
            ],
            [
             0.4444444444444444,
             "#bd3786"
            ],
            [
             0.5555555555555556,
             "#d8576b"
            ],
            [
             0.6666666666666666,
             "#ed7953"
            ],
            [
             0.7777777777777778,
             "#fb9f3a"
            ],
            [
             0.8888888888888888,
             "#fdca26"
            ],
            [
             1,
             "#f0f921"
            ]
           ],
           "sequentialminus": [
            [
             0,
             "#0d0887"
            ],
            [
             0.1111111111111111,
             "#46039f"
            ],
            [
             0.2222222222222222,
             "#7201a8"
            ],
            [
             0.3333333333333333,
             "#9c179e"
            ],
            [
             0.4444444444444444,
             "#bd3786"
            ],
            [
             0.5555555555555556,
             "#d8576b"
            ],
            [
             0.6666666666666666,
             "#ed7953"
            ],
            [
             0.7777777777777778,
             "#fb9f3a"
            ],
            [
             0.8888888888888888,
             "#fdca26"
            ],
            [
             1,
             "#f0f921"
            ]
           ]
          },
          "colorway": [
           "#636efa",
           "#EF553B",
           "#00cc96",
           "#ab63fa",
           "#FFA15A",
           "#19d3f3",
           "#FF6692",
           "#B6E880",
           "#FF97FF",
           "#FECB52"
          ],
          "font": {
           "color": "#2a3f5f"
          },
          "geo": {
           "bgcolor": "white",
           "lakecolor": "white",
           "landcolor": "white",
           "showlakes": true,
           "showland": true,
           "subunitcolor": "#C8D4E3"
          },
          "hoverlabel": {
           "align": "left"
          },
          "hovermode": "closest",
          "mapbox": {
           "style": "light"
          },
          "paper_bgcolor": "white",
          "plot_bgcolor": "white",
          "polar": {
           "angularaxis": {
            "gridcolor": "#EBF0F8",
            "linecolor": "#EBF0F8",
            "ticks": ""
           },
           "bgcolor": "white",
           "radialaxis": {
            "gridcolor": "#EBF0F8",
            "linecolor": "#EBF0F8",
            "ticks": ""
           }
          },
          "scene": {
           "xaxis": {
            "backgroundcolor": "white",
            "gridcolor": "#DFE8F3",
            "gridwidth": 2,
            "linecolor": "#EBF0F8",
            "showbackground": true,
            "ticks": "",
            "zerolinecolor": "#EBF0F8"
           },
           "yaxis": {
            "backgroundcolor": "white",
            "gridcolor": "#DFE8F3",
            "gridwidth": 2,
            "linecolor": "#EBF0F8",
            "showbackground": true,
            "ticks": "",
            "zerolinecolor": "#EBF0F8"
           },
           "zaxis": {
            "backgroundcolor": "white",
            "gridcolor": "#DFE8F3",
            "gridwidth": 2,
            "linecolor": "#EBF0F8",
            "showbackground": true,
            "ticks": "",
            "zerolinecolor": "#EBF0F8"
           }
          },
          "shapedefaults": {
           "line": {
            "color": "#2a3f5f"
           }
          },
          "ternary": {
           "aaxis": {
            "gridcolor": "#DFE8F3",
            "linecolor": "#A2B1C6",
            "ticks": ""
           },
           "baxis": {
            "gridcolor": "#DFE8F3",
            "linecolor": "#A2B1C6",
            "ticks": ""
           },
           "bgcolor": "white",
           "caxis": {
            "gridcolor": "#DFE8F3",
            "linecolor": "#A2B1C6",
            "ticks": ""
           }
          },
          "title": {
           "x": 0.05
          },
          "xaxis": {
           "automargin": true,
           "gridcolor": "#EBF0F8",
           "linecolor": "#EBF0F8",
           "ticks": "",
           "title": {
            "standoff": 15
           },
           "zerolinecolor": "#EBF0F8",
           "zerolinewidth": 2
          },
          "yaxis": {
           "automargin": true,
           "gridcolor": "#EBF0F8",
           "linecolor": "#EBF0F8",
           "ticks": "",
           "title": {
            "standoff": 15
           },
           "zerolinecolor": "#EBF0F8",
           "zerolinewidth": 2
          }
         }
        },
        "title": {
         "text": "TOP 10 BOOKS WITH HIGHEST PRICES"
        },
        "xaxis": {
         "title": {
          "text": "Name"
         }
        },
        "yaxis": {
         "title": {
          "text": "Price"
         }
        }
       }
      },
      "text/html": [
       "<div>                            <div id=\"21578c49-f8fc-4527-ada2-89c636e4c308\" class=\"plotly-graph-div\" style=\"height:525px; width:100%;\"></div>            <script type=\"text/javascript\">                require([\"plotly\"], function(Plotly) {                    window.PLOTLYENV=window.PLOTLYENV || {};                                    if (document.getElementById(\"21578c49-f8fc-4527-ada2-89c636e4c308\")) {                    Plotly.newPlot(                        \"21578c49-f8fc-4527-ada2-89c636e4c308\",                        [{\"marker\":{\"color\":\"rgb(28,6,64)\",\"line\":{\"color\":\"rgb(62,173,172)\",\"width\":1.9}},\"x\":[\"The Perfect Play (Play by Play #1)\",\"Last One Home (New Beginnings #1)\",\"Civilization and Its Discontents\",\"The Barefoot Contessa Cookbook\",\"The Diary of a Young Girl\",\"The Bone Hunters (Lexy Vaughan & Steven Macaulay #2)\",\"Thomas Jefferson and the Tripoli Pirates: The Forgotten War That Changed American History\",\"Boar Island (Anna Pigeon #19)\",\"The Man Who Mistook His Wife for a Hat and Other Clinical Tales\",\"The Improbability of Love\"],\"y\":[59.99,59.98,59.95,59.92,59.9,59.71,59.64,59.48,59.45,59.45],\"type\":\"bar\"}],                        {\"template\":{\"data\":{\"barpolar\":[{\"marker\":{\"line\":{\"color\":\"white\",\"width\":0.5},\"pattern\":{\"fillmode\":\"overlay\",\"size\":10,\"solidity\":0.2}},\"type\":\"barpolar\"}],\"bar\":[{\"error_x\":{\"color\":\"#2a3f5f\"},\"error_y\":{\"color\":\"#2a3f5f\"},\"marker\":{\"line\":{\"color\":\"white\",\"width\":0.5},\"pattern\":{\"fillmode\":\"overlay\",\"size\":10,\"solidity\":0.2}},\"type\":\"bar\"}],\"carpet\":[{\"aaxis\":{\"endlinecolor\":\"#2a3f5f\",\"gridcolor\":\"#C8D4E3\",\"linecolor\":\"#C8D4E3\",\"minorgridcolor\":\"#C8D4E3\",\"startlinecolor\":\"#2a3f5f\"},\"baxis\":{\"endlinecolor\":\"#2a3f5f\",\"gridcolor\":\"#C8D4E3\",\"linecolor\":\"#C8D4E3\",\"minorgridcolor\":\"#C8D4E3\",\"startlinecolor\":\"#2a3f5f\"},\"type\":\"carpet\"}],\"choropleth\":[{\"colorbar\":{\"outlinewidth\":0,\"ticks\":\"\"},\"type\":\"choropleth\"}],\"contourcarpet\":[{\"colorbar\":{\"outlinewidth\":0,\"ticks\":\"\"},\"type\":\"contourcarpet\"}],\"contour\":[{\"colorbar\":{\"outlinewidth\":0,\"ticks\":\"\"},\"colorscale\":[[0.0,\"#0d0887\"],[0.1111111111111111,\"#46039f\"],[0.2222222222222222,\"#7201a8\"],[0.3333333333333333,\"#9c179e\"],[0.4444444444444444,\"#bd3786\"],[0.5555555555555556,\"#d8576b\"],[0.6666666666666666,\"#ed7953\"],[0.7777777777777778,\"#fb9f3a\"],[0.8888888888888888,\"#fdca26\"],[1.0,\"#f0f921\"]],\"type\":\"contour\"}],\"heatmapgl\":[{\"colorbar\":{\"outlinewidth\":0,\"ticks\":\"\"},\"colorscale\":[[0.0,\"#0d0887\"],[0.1111111111111111,\"#46039f\"],[0.2222222222222222,\"#7201a8\"],[0.3333333333333333,\"#9c179e\"],[0.4444444444444444,\"#bd3786\"],[0.5555555555555556,\"#d8576b\"],[0.6666666666666666,\"#ed7953\"],[0.7777777777777778,\"#fb9f3a\"],[0.8888888888888888,\"#fdca26\"],[1.0,\"#f0f921\"]],\"type\":\"heatmapgl\"}],\"heatmap\":[{\"colorbar\":{\"outlinewidth\":0,\"ticks\":\"\"},\"colorscale\":[[0.0,\"#0d0887\"],[0.1111111111111111,\"#46039f\"],[0.2222222222222222,\"#7201a8\"],[0.3333333333333333,\"#9c179e\"],[0.4444444444444444,\"#bd3786\"],[0.5555555555555556,\"#d8576b\"],[0.6666666666666666,\"#ed7953\"],[0.7777777777777778,\"#fb9f3a\"],[0.8888888888888888,\"#fdca26\"],[1.0,\"#f0f921\"]],\"type\":\"heatmap\"}],\"histogram2dcontour\":[{\"colorbar\":{\"outlinewidth\":0,\"ticks\":\"\"},\"colorscale\":[[0.0,\"#0d0887\"],[0.1111111111111111,\"#46039f\"],[0.2222222222222222,\"#7201a8\"],[0.3333333333333333,\"#9c179e\"],[0.4444444444444444,\"#bd3786\"],[0.5555555555555556,\"#d8576b\"],[0.6666666666666666,\"#ed7953\"],[0.7777777777777778,\"#fb9f3a\"],[0.8888888888888888,\"#fdca26\"],[1.0,\"#f0f921\"]],\"type\":\"histogram2dcontour\"}],\"histogram2d\":[{\"colorbar\":{\"outlinewidth\":0,\"ticks\":\"\"},\"colorscale\":[[0.0,\"#0d0887\"],[0.1111111111111111,\"#46039f\"],[0.2222222222222222,\"#7201a8\"],[0.3333333333333333,\"#9c179e\"],[0.4444444444444444,\"#bd3786\"],[0.5555555555555556,\"#d8576b\"],[0.6666666666666666,\"#ed7953\"],[0.7777777777777778,\"#fb9f3a\"],[0.8888888888888888,\"#fdca26\"],[1.0,\"#f0f921\"]],\"type\":\"histogram2d\"}],\"histogram\":[{\"marker\":{\"pattern\":{\"fillmode\":\"overlay\",\"size\":10,\"solidity\":0.2}},\"type\":\"histogram\"}],\"mesh3d\":[{\"colorbar\":{\"outlinewidth\":0,\"ticks\":\"\"},\"type\":\"mesh3d\"}],\"parcoords\":[{\"line\":{\"colorbar\":{\"outlinewidth\":0,\"ticks\":\"\"}},\"type\":\"parcoords\"}],\"pie\":[{\"automargin\":true,\"type\":\"pie\"}],\"scatter3d\":[{\"line\":{\"colorbar\":{\"outlinewidth\":0,\"ticks\":\"\"}},\"marker\":{\"colorbar\":{\"outlinewidth\":0,\"ticks\":\"\"}},\"type\":\"scatter3d\"}],\"scattercarpet\":[{\"marker\":{\"colorbar\":{\"outlinewidth\":0,\"ticks\":\"\"}},\"type\":\"scattercarpet\"}],\"scattergeo\":[{\"marker\":{\"colorbar\":{\"outlinewidth\":0,\"ticks\":\"\"}},\"type\":\"scattergeo\"}],\"scattergl\":[{\"marker\":{\"colorbar\":{\"outlinewidth\":0,\"ticks\":\"\"}},\"type\":\"scattergl\"}],\"scattermapbox\":[{\"marker\":{\"colorbar\":{\"outlinewidth\":0,\"ticks\":\"\"}},\"type\":\"scattermapbox\"}],\"scatterpolargl\":[{\"marker\":{\"colorbar\":{\"outlinewidth\":0,\"ticks\":\"\"}},\"type\":\"scatterpolargl\"}],\"scatterpolar\":[{\"marker\":{\"colorbar\":{\"outlinewidth\":0,\"ticks\":\"\"}},\"type\":\"scatterpolar\"}],\"scatter\":[{\"marker\":{\"colorbar\":{\"outlinewidth\":0,\"ticks\":\"\"}},\"type\":\"scatter\"}],\"scatterternary\":[{\"marker\":{\"colorbar\":{\"outlinewidth\":0,\"ticks\":\"\"}},\"type\":\"scatterternary\"}],\"surface\":[{\"colorbar\":{\"outlinewidth\":0,\"ticks\":\"\"},\"colorscale\":[[0.0,\"#0d0887\"],[0.1111111111111111,\"#46039f\"],[0.2222222222222222,\"#7201a8\"],[0.3333333333333333,\"#9c179e\"],[0.4444444444444444,\"#bd3786\"],[0.5555555555555556,\"#d8576b\"],[0.6666666666666666,\"#ed7953\"],[0.7777777777777778,\"#fb9f3a\"],[0.8888888888888888,\"#fdca26\"],[1.0,\"#f0f921\"]],\"type\":\"surface\"}],\"table\":[{\"cells\":{\"fill\":{\"color\":\"#EBF0F8\"},\"line\":{\"color\":\"white\"}},\"header\":{\"fill\":{\"color\":\"#C8D4E3\"},\"line\":{\"color\":\"white\"}},\"type\":\"table\"}]},\"layout\":{\"annotationdefaults\":{\"arrowcolor\":\"#2a3f5f\",\"arrowhead\":0,\"arrowwidth\":1},\"autotypenumbers\":\"strict\",\"coloraxis\":{\"colorbar\":{\"outlinewidth\":0,\"ticks\":\"\"}},\"colorscale\":{\"diverging\":[[0,\"#8e0152\"],[0.1,\"#c51b7d\"],[0.2,\"#de77ae\"],[0.3,\"#f1b6da\"],[0.4,\"#fde0ef\"],[0.5,\"#f7f7f7\"],[0.6,\"#e6f5d0\"],[0.7,\"#b8e186\"],[0.8,\"#7fbc41\"],[0.9,\"#4d9221\"],[1,\"#276419\"]],\"sequential\":[[0.0,\"#0d0887\"],[0.1111111111111111,\"#46039f\"],[0.2222222222222222,\"#7201a8\"],[0.3333333333333333,\"#9c179e\"],[0.4444444444444444,\"#bd3786\"],[0.5555555555555556,\"#d8576b\"],[0.6666666666666666,\"#ed7953\"],[0.7777777777777778,\"#fb9f3a\"],[0.8888888888888888,\"#fdca26\"],[1.0,\"#f0f921\"]],\"sequentialminus\":[[0.0,\"#0d0887\"],[0.1111111111111111,\"#46039f\"],[0.2222222222222222,\"#7201a8\"],[0.3333333333333333,\"#9c179e\"],[0.4444444444444444,\"#bd3786\"],[0.5555555555555556,\"#d8576b\"],[0.6666666666666666,\"#ed7953\"],[0.7777777777777778,\"#fb9f3a\"],[0.8888888888888888,\"#fdca26\"],[1.0,\"#f0f921\"]]},\"colorway\":[\"#636efa\",\"#EF553B\",\"#00cc96\",\"#ab63fa\",\"#FFA15A\",\"#19d3f3\",\"#FF6692\",\"#B6E880\",\"#FF97FF\",\"#FECB52\"],\"font\":{\"color\":\"#2a3f5f\"},\"geo\":{\"bgcolor\":\"white\",\"lakecolor\":\"white\",\"landcolor\":\"white\",\"showlakes\":true,\"showland\":true,\"subunitcolor\":\"#C8D4E3\"},\"hoverlabel\":{\"align\":\"left\"},\"hovermode\":\"closest\",\"mapbox\":{\"style\":\"light\"},\"paper_bgcolor\":\"white\",\"plot_bgcolor\":\"white\",\"polar\":{\"angularaxis\":{\"gridcolor\":\"#EBF0F8\",\"linecolor\":\"#EBF0F8\",\"ticks\":\"\"},\"bgcolor\":\"white\",\"radialaxis\":{\"gridcolor\":\"#EBF0F8\",\"linecolor\":\"#EBF0F8\",\"ticks\":\"\"}},\"scene\":{\"xaxis\":{\"backgroundcolor\":\"white\",\"gridcolor\":\"#DFE8F3\",\"gridwidth\":2,\"linecolor\":\"#EBF0F8\",\"showbackground\":true,\"ticks\":\"\",\"zerolinecolor\":\"#EBF0F8\"},\"yaxis\":{\"backgroundcolor\":\"white\",\"gridcolor\":\"#DFE8F3\",\"gridwidth\":2,\"linecolor\":\"#EBF0F8\",\"showbackground\":true,\"ticks\":\"\",\"zerolinecolor\":\"#EBF0F8\"},\"zaxis\":{\"backgroundcolor\":\"white\",\"gridcolor\":\"#DFE8F3\",\"gridwidth\":2,\"linecolor\":\"#EBF0F8\",\"showbackground\":true,\"ticks\":\"\",\"zerolinecolor\":\"#EBF0F8\"}},\"shapedefaults\":{\"line\":{\"color\":\"#2a3f5f\"}},\"ternary\":{\"aaxis\":{\"gridcolor\":\"#DFE8F3\",\"linecolor\":\"#A2B1C6\",\"ticks\":\"\"},\"baxis\":{\"gridcolor\":\"#DFE8F3\",\"linecolor\":\"#A2B1C6\",\"ticks\":\"\"},\"bgcolor\":\"white\",\"caxis\":{\"gridcolor\":\"#DFE8F3\",\"linecolor\":\"#A2B1C6\",\"ticks\":\"\"}},\"title\":{\"x\":0.05},\"xaxis\":{\"automargin\":true,\"gridcolor\":\"#EBF0F8\",\"linecolor\":\"#EBF0F8\",\"ticks\":\"\",\"title\":{\"standoff\":15},\"zerolinecolor\":\"#EBF0F8\",\"zerolinewidth\":2},\"yaxis\":{\"automargin\":true,\"gridcolor\":\"#EBF0F8\",\"linecolor\":\"#EBF0F8\",\"ticks\":\"\",\"title\":{\"standoff\":15},\"zerolinecolor\":\"#EBF0F8\",\"zerolinewidth\":2}}},\"title\":{\"text\":\"TOP 10 BOOKS WITH HIGHEST PRICES\"},\"xaxis\":{\"title\":{\"text\":\"Name\"}},\"yaxis\":{\"title\":{\"text\":\"Price\"}}},                        {\"responsive\": true}                    ).then(function(){\n",
       "                            \n",
       "var gd = document.getElementById('21578c49-f8fc-4527-ada2-89c636e4c308');\n",
       "var x = new MutationObserver(function (mutations, observer) {{\n",
       "        var display = window.getComputedStyle(gd).display;\n",
       "        if (!display || display === 'none') {{\n",
       "            console.log([gd, 'removed!']);\n",
       "            Plotly.purge(gd);\n",
       "            observer.disconnect();\n",
       "        }}\n",
       "}});\n",
       "\n",
       "// Listen for the removal of the full notebook cells\n",
       "var notebookContainer = gd.closest('#notebook-container');\n",
       "if (notebookContainer) {{\n",
       "    x.observe(notebookContainer, {childList: true});\n",
       "}}\n",
       "\n",
       "// Listen for the clearing of the current output cell\n",
       "var outputEl = gd.closest('.output');\n",
       "if (outputEl) {{\n",
       "    x.observe(outputEl, {childList: true});\n",
       "}}\n",
       "\n",
       "                        })                };                });            </script>        </div>"
      ]
     },
     "metadata": {},
     "output_type": "display_data"
    }
   ],
   "source": [
    "#TOP 10 books with highest prices\n",
    "temp_df1 = data.groupby('name').mean().reset_index().sort_values('price',ascending=False).head(10)\n",
    "trace1 = go.Bar(\n",
    "                x = temp_df1['name'],\n",
    "                y = temp_df1['price'],\n",
    "                marker = dict(color = 'rgb(28,6,64)',\n",
    "                             line=dict(color='rgb(62,173,172)',width=1.9)))\n",
    "layout = go.Layout(template= \"plotly_white\",title = 'TOP 10 BOOKS WITH HIGHEST PRICES' , xaxis = dict(title = 'Name'), yaxis = dict(title = 'Price'))\n",
    "fig = go.Figure(data = [trace1], layout = layout)\n",
    "fig.show()"
   ]
  },
  {
   "cell_type": "markdown",
   "metadata": {},
   "source": [
    "Despite the fact it was a small fictional dataset we got some useful information!   "
   ]
  },
  {
   "cell_type": "markdown",
   "metadata": {},
   "source": []
  }
 ],
 "metadata": {
  "kernelspec": {
   "display_name": "Python 3",
   "language": "python",
   "name": "python3"
  },
  "language_info": {
   "codemirror_mode": {
    "name": "ipython",
    "version": 3
   },
   "file_extension": ".py",
   "mimetype": "text/x-python",
   "name": "python",
   "nbconvert_exporter": "python",
   "pygments_lexer": "ipython3",
   "version": "3.8.5"
  }
 },
 "nbformat": 4,
 "nbformat_minor": 4
}
